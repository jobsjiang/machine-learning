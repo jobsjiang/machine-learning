{
 "cells": [
  {
   "cell_type": "markdown",
   "metadata": {},
   "source": [
    "https://mp.weixin.qq.com/s/V3HzYBlOsMo3C_Hf4r2OqA"
   ]
  },
  {
   "cell_type": "code",
   "execution_count": 1,
   "metadata": {},
   "outputs": [],
   "source": [
    "from skopt import BayesSearchCV\n",
    "import warnings\n",
    "warnings.filterwarnings(\"ignore\")\n",
    "from skopt.space import Real,Categorical,Integer"
   ]
  },
  {
   "cell_type": "code",
   "execution_count": 2,
   "metadata": {},
   "outputs": [],
   "source": [
    "from sklearn.neighbors import KNeighborsClassifier"
   ]
  },
  {
   "cell_type": "code",
   "execution_count": null,
   "metadata": {},
   "outputs": [],
   "source": [
    "knn = KNeighborsClassifier()\n",
    "#defining hyper-parameter grid\n",
    "grid_param = { 'n_neighbors' : list(range(2,11)) , \n",
    "              'algorithm' : ['auto','ball_tree','kd_tree','brute'] }\n",
    "#initializing Bayesian Search\n",
    "Bayes = BayesSearchCV(knn,grid_param,n_iter=30,random_state=14)\n",
    "Bayes.fit(X_train,y_train)\n",
    "#best parameter combination\n",
    "Bayes.best_params_\n",
    "\n",
    "#score achieved with best parameter combination\n",
    "Bayes.best_score_\n",
    "\n",
    "#all combinations of hyperparameters\n",
    "Bayes.cv_results_['params']\n",
    "\n",
    "#average scores of cross-validation\n",
    "Bayes.cv_results_['mean_test_score']"
   ]
  }
 ],
 "metadata": {
  "kernelspec": {
   "display_name": "Python [conda env:root]",
   "language": "python",
   "name": "conda-root-py"
  },
  "language_info": {
   "codemirror_mode": {
    "name": "ipython",
    "version": 3
   },
   "file_extension": ".py",
   "mimetype": "text/x-python",
   "name": "python",
   "nbconvert_exporter": "python",
   "pygments_lexer": "ipython3",
   "version": "3.6.5"
  }
 },
 "nbformat": 4,
 "nbformat_minor": 4
}
