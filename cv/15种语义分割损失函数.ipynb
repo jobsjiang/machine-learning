{
 "cells": [
  {
   "cell_type": "markdown",
   "metadata": {},
   "source": [
    "https://mp.weixin.qq.com/s?__biz=MzUxNjcxMjQxNg==&mid=2247502162&idx=3&sn=e618cc4b5a968df0877745d69f35726a&chksm=f9a1bbddced632cb3babf155e1fd37d841fd5c33511993b7e2694c1b7847974024f30ff735de&mpshare=1&scene=1&srcid=&sharer_sharetime=1593688300639&sharer_shareid=76c7256f518be042b2c9b85c1b1ad471&key=b39bfbb25d1baf814ae024f853298559198c566771dace32df8534314a8d04a580c37d67e79da44fa378d90be0c14d7fab3caeede5f85a6f009247d486cac952ec6808157c7b470056803d037615e3f1&ascene=1&uin=MjA1MjAyODkxNg%3D%3D&devicetype=Windows+10+x64&version=6209051a&lang=zh_CN&exportkey=AaTFhxj3p4ZGcnT3QmosKt0%3D&pass_ticket=TTbfflTude6XHy0P68%2Fx35vP%2Fnt7hPuBsvpukmQN97jygfZCqOotQywB77daKGb8"
   ]
  },
  {
   "cell_type": "code",
   "execution_count": null,
   "metadata": {},
   "outputs": [],
   "source": []
  }
 ],
 "metadata": {
  "kernelspec": {
   "display_name": "Python [conda env:root]",
   "language": "python",
   "name": "conda-root-py"
  },
  "language_info": {
   "codemirror_mode": {
    "name": "ipython",
    "version": 3
   },
   "file_extension": ".py",
   "mimetype": "text/x-python",
   "name": "python",
   "nbconvert_exporter": "python",
   "pygments_lexer": "ipython3",
   "version": "3.6.5"
  }
 },
 "nbformat": 4,
 "nbformat_minor": 4
}
