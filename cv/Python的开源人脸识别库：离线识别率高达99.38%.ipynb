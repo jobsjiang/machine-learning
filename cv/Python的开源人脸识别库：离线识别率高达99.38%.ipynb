{
 "cells": [
  {
   "cell_type": "markdown",
   "metadata": {},
   "source": [
    "https://mp.weixin.qq.com/s?__biz=MzAwOTcyNDQ0OQ==&mid=2247486439&idx=3&sn=b1c21841de45a248fbdaea3ac21f0e14&chksm=9b5a7ca9ac2df5bf83884023d0e61a98cd9a493310ff15dedf792602fbca124484564bae9893&scene=0&xtrack=1&key=3ada782e38aca4285bda25c28f5e880763aeea65ec4db9a6b11baf334fe9aeb5f72eea9e389ff7dc1b263cdc08e75dd25f2456176861b098062582c3bf7f3f8697e7b219a99109d6f682796f85ee2fd6&ascene=1&uin=MjA1MjAyODkxNg%3D%3D&devicetype=Windows+10&version=62070158&lang=zh_CN&exportkey=AWrfgrlcZH1XMhrITcXWaPs%3D&pass_ticket=CkiAGs5WZVJWocVC8n9dAjGLM1nnwRTYQUYd7SDzfMLQ%2F%2Br4YI44vK3bA%2F6PR%2Fkl"
   ]
  },
  {
   "cell_type": "code",
   "execution_count": null,
   "metadata": {},
   "outputs": [],
   "source": []
  }
 ],
 "metadata": {
  "kernelspec": {
   "display_name": "Python [conda env:root] *",
   "language": "python",
   "name": "conda-root-py"
  },
  "language_info": {
   "codemirror_mode": {
    "name": "ipython",
    "version": 3
   },
   "file_extension": ".py",
   "mimetype": "text/x-python",
   "name": "python",
   "nbconvert_exporter": "python",
   "pygments_lexer": "ipython3",
   "version": "3.6.5"
  }
 },
 "nbformat": 4,
 "nbformat_minor": 4
}
