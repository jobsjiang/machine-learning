{
 "cells": [
  {
   "cell_type": "markdown",
   "metadata": {},
   "source": [
    "https://mp.weixin.qq.com/s?__biz=MzA4Nzk3MTE5OQ==&mid=2247484030&idx=1&sn=5a4562cbd26a96b918b2736c31b99143&chksm=9030066ea7478f78d19aeac5b11fd07b98e478032535cbb82143fdf51f5ef65d5fb2371fbda4&mpshare=1&scene=1&srcid=&sharer_sharetime=1571740887074&sharer_shareid=ed896514c26e281178439496c30544dd&key=f9d17ab3d743a978389a10ce87be466a1806f94d3f5e574350ccc326a8537153799880461815f4fd3c2a06e94ae8c366c38c903ef651863a913be8c57117da2c3d1e9438835b5713ae6aa81d7ffacf3a&ascene=1&uin=MjA1MjAyODkxNg%3D%3D&devicetype=Windows+10&version=62070141&lang=zh_CN&pass_ticket=1rnvTxXhxJWLjmB6lVT%2Bev3ln90YTzpc80Tk03B7usD6bMI7%2FQC%2F9aZuH8%2F3JFn%2F"
   ]
  },
  {
   "cell_type": "code",
   "execution_count": 1,
   "metadata": {},
   "outputs": [],
   "source": [
    "import numpy as np\n",
    "import glob\n",
    "import os\n",
    "import cv2\n",
    "from keras.preprocessing.image import ImageDataGenerator,load_img,img_to_array,array_to_img"
   ]
  },
  {
   "cell_type": "code",
   "execution_count": null,
   "metadata": {},
   "outputs": [],
   "source": [
    "class Augmentation(object):\n",
    "    def __init__(self, img_type=\"png\"):\n",
    "\n",
    "        self.datagen=ImageDataGenerator(\n",
    "            #rotation_range=1.2,\n",
    "            #width_shift_range=0.05,\n",
    "            height_shift_range=0.05,\n",
    "            # shear_range=0.05,\n",
    "            # zoom_range=0.05,\n",
    "            # horizontal_flip=True,\n",
    "            fill_mode='nearest')\n",
    "\n",
    "    def augmentation(self):\n",
    "        # 读入3通道的train和label, 分别转换成矩阵, 然后将label的第一个通道放在train的第2个通处, 做数据增强\n",
    "        print(\"运行 Augmentation\")\n",
    "\n",
    "        # Start augmentation.....\n",
    "\n",
    "        img_t = load_img(\"../one/img/0.png\")  # 读入train\n",
    "        img_l = load_img(\"../one/label/0.png\")  # 读入label\n",
    "\n",
    "        x_t = img_to_array(img_t)  # 转换成矩阵\n",
    "        x_l = img_to_array(img_l)\n",
    "        x_t[:, :, 2] = x_l[:, :, 0]  # 把label当做train的第三个通道\n",
    "        #x_t = x_t[..., [2,0,1]]\n",
    "        img_tmp = array_to_img(x_t)\n",
    "\n",
    "        img_tmp.save(\"../one/merge/0.png\")  # 保存合并后的图像\n",
    "        img = x_t\n",
    "        img = img.reshape((1,) + img.shape)  # 改变shape(1, 512, 512, 3)；img.shape=3\n",
    "\n",
    "        savedir = \"../one/aug_merge\"  # 存储合并增强后的图像\n",
    "        if not os.path.lexists(savedir):\n",
    "            os.mkdir(savedir)\n",
    "        print(\"running %d doAugmenttaion\" % 0)\n",
    "\n",
    "        self.do_augmentate(img, savedir, str(0))  # 数据增强\n",
    "\n",
    "    def do_augmentate(self, img, save_to_dir, save_prefix, batch_size=1, save_format='png', imgnum=5):\n",
    "        # augmentate one image\n",
    "        datagen = self.datagen\n",
    "        i = 0\n",
    "        for _ in datagen.flow(\n",
    "                img,\n",
    "                batch_size=batch_size,\n",
    "                save_to_dir=save_to_dir,\n",
    "                save_prefix=save_prefix,\n",
    "                save_format=save_format):\n",
    "            i += 1\n",
    "            if i > imgnum:\n",
    "                break\n",
    "\n",
    "    def split_merge(self):\n",
    "        # 读入合并增强之后的数据(aug_merge), 对其进行分离, 分别保存至 aug_train, aug_label\n",
    "        print(\"running split_Merge_imbage\")\n",
    "\n",
    "        # split merged image apart\n",
    "        path_merge = \"../one/aug_merge\"  # 合并增强之后的图像\n",
    "        path_train = \"../one/aug_merge_img\"  # 增强之后分离出来的train\n",
    "        path_label = \"../one/aug_merge_label\"  # 增强之后分离出来的label\n",
    "        if not os.path.lexists(path_train):\n",
    "            os.mkdir(path_train)\n",
    "        if not os.path.lexists(path_label):\n",
    "            os.mkdir(path_label)\n",
    "\n",
    "        train_imgs = glob.glob(path_merge + \"/*.\" + \"png\")  # 所有训练图像\n",
    "        savedir = path_train   # 保存训练集的路径\n",
    "        if not os.path.lexists(savedir):\n",
    "            os.mkdir(savedir)\n",
    "        savedir = path_label  # 保存label的路径\n",
    "        if not os.path.lexists(savedir):\n",
    "            os.mkdir(savedir)\n",
    "        for imgname in train_imgs:  # rindex(\"/\") 是返回'/'在字符串中最后一次出现的索引\n",
    "            midname = imgname[imgname.rindex(\"/\") + 1:imgname.rindex(\".\" + \"png\")]  # 获得文件名(不包含后缀)\n",
    "            #print(\"midname:\",midname)\n",
    "            img = cv2.imread(imgname)  # 读入训练图像\n",
    "            img_train = img[:, :, 2]  # 训练集是第2个通道, label是第0个通道\n",
    "            img_label = img[:, :, 0]\n",
    "            newname=midname.split('\\\\')[1]\n",
    "            #print(\"new:\",new)\n",
    "            cv2.imwrite(path_train + \"/\"  + newname + \"_train\" + \".\" + \"png\", img_train)  # 保存训练图像和label\n",
    "            print(path_train + \"/\"  + \"/\" + newname + \"_train\" + \".\" + \"png\")\n",
    "            cv2.imwrite(path_label + \"/\" + newname + \"_label\" + \".\" + \"png\", img_label)\n",
    "            print(path_label + \"/\"  + \"/\" + newname + \"_label\" + \".\" + \"png\")"
   ]
  },
  {
   "cell_type": "code",
   "execution_count": null,
   "metadata": {},
   "outputs": [],
   "source": [
    "if __name__==\"__main__\":\n",
    "    aug=Augmentation()\n",
    "    #aug.augmentation()\n",
    "    aug.split_merge()"
   ]
  }
 ],
 "metadata": {
  "kernelspec": {
   "display_name": "Python [conda env:root] *",
   "language": "python",
   "name": "conda-root-py"
  },
  "language_info": {
   "codemirror_mode": {
    "name": "ipython",
    "version": 3
   },
   "file_extension": ".py",
   "mimetype": "text/x-python",
   "name": "python",
   "nbconvert_exporter": "python",
   "pygments_lexer": "ipython3",
   "version": "3.6.5"
  }
 },
 "nbformat": 4,
 "nbformat_minor": 2
}
