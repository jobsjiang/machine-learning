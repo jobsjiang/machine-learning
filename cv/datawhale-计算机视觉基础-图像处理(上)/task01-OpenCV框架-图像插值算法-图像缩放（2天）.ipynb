{
 "cells": [
  {
   "cell_type": "markdown",
   "metadata": {},
   "source": [
    "https://github.com/datawhalechina/team-learning/tree/master/%E8%AE%A1%E7%AE%97%E6%9C%BA%E8%A7%86%E8%A7%89%E5%9F%BA%E7%A1%80%EF%BC%9A%E5%9B%BE%E5%83%8F%E5%A4%84%E7%90%86%EF%BC%88%E4%B8%8A%EF%BC%89"
   ]
  },
  {
   "cell_type": "markdown",
   "metadata": {},
   "source": [
    "插值是对原图像的像素重新分布，从而改变像素数量的一种方法。"
   ]
  },
  {
   "cell_type": "markdown",
   "metadata": {},
   "source": [
    "常见的插值算法：\n",
    "* 最近邻插值\n",
    "* 双线性插值\n",
    "* 三次样条插值"
   ]
  },
  {
   "cell_type": "markdown",
   "metadata": {},
   "source": [
    "#### 最近邻插值算法\n",
    "最近邻插值算法，是指对目标图像中的点，对应到源图像中，找到最相邻的整数点，作为插值后的输出。\n",
    "![](https://camo.githubusercontent.com/2cb608087a12f1080c3c57f92ebd7acf2972ed04/68747470733a2f2f696d672d626c6f672e6373646e696d672e636e2f32303230303431323130313734303331322e706e673f782d6f73732d70726f636573733d696d6167652f77617465726d61726b2c747970655f5a6d46755a33706f5a57356e6147567064476b2c736861646f775f31302c746578745f6148523063484d364c7939696247396e4c6d4e7a5a473475626d56304c33646c61586870626c387a4f546b304d4455784d673d3d2c73697a655f31362c636f6c6f725f4646464646462c745f3730237069635f63656e746572)\n",
    "如上图所示，目标图像中的某点投影到原图像中的位置为点P,此时易知，$f(P) = $f(Q11)  \n",
    "最近邻插值法的优势是由于方法简单，处理速度相对较快，但是在放大图像处理画质表现不好，四舍五入选取最近邻的整数，导致像素的变化不连续，容易产生锯齿等现象。"
   ]
  },
  {
   "cell_type": "markdown",
   "metadata": {},
   "source": [
    "#### 双线性插值\n",
    "在讲双线性插值之前先看一下线性插值，线性插值多项式为  \n",
    "$$f(x)=a_{1}x+a_{0}$$\n",
    "![](https://camo.githubusercontent.com/52f74e42ea38611020f43979806634a921be3110/68747470733a2f2f696d672d626c6f672e6373646e696d672e636e2f32303230303431323130333230383637342e706e673f782d6f73732d70726f636573733d696d6167652f77617465726d61726b2c747970655f5a6d46755a33706f5a57356e6147567064476b2c736861646f775f31302c746578745f6148523063484d364c7939696247396e4c6d4e7a5a473475626d56304c33646c61586870626c387a4f546b304d4455784d673d3d2c73697a655f31362c636f6c6f725f4646464646462c745f3730237069635f63656e746572)\n",
    "$$ y=y_{0}+\\left(x-x_{0}\\right) \\frac{y_{1}-y_{0}}{x_{1}-x_{0}}=y_{0}+\\frac{\\left(x-x_{0}\\right) y_{1}-\\left(x-x_{0}\\right) y_{0}}{x_{1}-x_{0}} $$\n",
    "所谓的双线性插值，说白了其实就是在x,y两个方向上分别进行了一次线性插值  \n",
    "双线性插值利用周围四个领点的灰度值在两个方向上做线性插值得到采样点的灰度值，虽然这种方法在很大程度上消除了上种方法产生的锯齿现象，但在边缘上变得较为模糊。主要原因是此方法仅考虑待测样点周围四个直接领点灰度值的影响，而未考虑到各邻点灰度值变化率的影响。计算量稍大一些，算法复杂一些，程序运行时间也稍长一些。  \n",
    "双线性插值就是线性插值在二维时的推广，在两个方向上做了三次线性插值，具体操作如图所示：\n",
    "![](https://camo.githubusercontent.com/6e595852155302fe990f7e80563f07ef8133beae/68747470733a2f2f696d672d626c6f672e6373646e696d672e636e2f323032303034313231303230313738342e706e673f782d6f73732d70726f636573733d696d6167652f77617465726d61726b2c747970655f5a6d46755a33706f5a57356e6147567064476b2c736861646f775f31302c746578745f6148523063484d364c7939696247396e4c6d4e7a5a473475626d56304c33646c61586870626c387a4f546b304d4455784d673d3d2c73697a655f31362c636f6c6f725f4646464646462c745f3730237069635f63656e746572)\n",
    "令$f(x，y)$为两个变量的函数，其在单位正方形顶点的值已知。假设我们希望通过插值得到正方形内任意点的函数值。则可由双线性方程: $$ f(x, y)=a x+b y+c x y+d $$\n",
    "\n",
    "  来定义的一个双曲抛物面与四个已知点拟合。\n",
    "\n",
    "  首先对上端的两个顶点进行线性插值得：\n",
    "\n",
    "$$ f(x, 0)=f(0,0)+x[f(1,0)-f(0,0)] $$\n",
    "\n",
    "  类似地，再对底端的两个顶点进行线性插值有： $$ f(x, 1)=f(0,1)+x[f(1,1)-f(0,1)] $$\n",
    "\n",
    "  最后，做垂直方向的线性插值，以确定：\n",
    "\n",
    "$$ f(x, y)=f(x, 0)+y[f(x, 1)-f(x, 0)] $$\n",
    "\n",
    "  整理得：\n",
    "\n",
    "$$ \\begin{array}{l} f(x, y)=[f(1,0)-f(0,0)] x+[f(0,1)-f(0,0)] y \\ +[f(1,1)+f(0,0)-f(0,1)-f(1,0)] x y+f(0,0) \\end{array} $$"
   ]
  },
  {
   "cell_type": "markdown",
   "metadata": {},
   "source": [
    "#### 映射方法\n",
    "##### 向前映射法\n",
    "\n",
    "  可以将几何运算想象成一次一个象素地转移到输出图象中。如果一个输入象素被映射到四个输出象素之间的位置，则其灰度值就按插值算法在4个输出象素之间进行分配。称为向前映射法，或象素移交影射。\n",
    "\n",
    ">注：从原图象坐标计算出目标图象坐标镜像、平移变换使用这种计算方法\n",
    "\n",
    "##### 向后映射法\n",
    "\n",
    "  向后映射法（或象素填充算法）是输出象素一次一个地映射回到输入象素中，以便确定其灰度级。如果一个输出象素被映射到4个输入象素之间，则其灰度值插值决定，向后空间变换是向前变换的逆。\n",
    "\n",
    ">注：从结果图象的坐标计算原图象的坐标\n",
    "\n",
    "* 旋转、拉伸、放缩可以使用\n",
    "* 解决了漏点的问题，出现了马赛克"
   ]
  },
  {
   "cell_type": "markdown",
   "metadata": {},
   "source": [
    "##### 代码实践："
   ]
  },
  {
   "cell_type": "code",
   "execution_count": 2,
   "metadata": {},
   "outputs": [
    {
     "name": "stdout",
     "output_type": "stream",
     "text": [
      "Original Dimensions :  (2500, 2392, 3)\n",
      "Resized Dimensions :  (750, 717, 3)\n"
     ]
    }
   ],
   "source": [
    "import cv2\n",
    "img = cv2.imread('../../../dataset/cat.jpg', cv2.IMREAD_UNCHANGED) \n",
    "print('Original Dimensions : ',img.shape)\n",
    "scale_percent = 30       # percent of original size\n",
    "width = int(img.shape[1] * scale_percent / 100)\n",
    "height = int(img.shape[0] * scale_percent / 100)\n",
    "dim = (width, height)\n",
    "# resize image\n",
    "resized = cv2.resize(img, dim, interpolation = cv2.INTER_LINEAR)\n",
    "fx = 1.5\n",
    "fy = 1.5\n",
    "resized1 = cv2.resize(resized, dsize=None, fx=fx, fy=fy, interpolation = cv2.INTER_NEAREST)\n",
    "resized2 = cv2.resize(resized, dsize=None, fx=fx, fy=fy, interpolation = cv2.INTER_LINEAR)\n",
    "print('Resized Dimensions : ',resized.shape)\n",
    "cv2.imshow(\"Resized image\", resized)\n",
    "cv2.imshow(\"INTER_NEAREST image\", resized1)\n",
    "cv2.imshow(\"INTER_LINEAR image\", resized2)\n",
    "cv2.waitKey(0)\n",
    "cv2.destroyAllWindows()"
   ]
  },
  {
   "cell_type": "code",
   "execution_count": null,
   "metadata": {},
   "outputs": [],
   "source": []
  }
 ],
 "metadata": {
  "kernelspec": {
   "display_name": "Python [conda env:root] *",
   "language": "python",
   "name": "conda-root-py"
  },
  "language_info": {
   "codemirror_mode": {
    "name": "ipython",
    "version": 3
   },
   "file_extension": ".py",
   "mimetype": "text/x-python",
   "name": "python",
   "nbconvert_exporter": "python",
   "pygments_lexer": "ipython3",
   "version": "3.6.5"
  }
 },
 "nbformat": 4,
 "nbformat_minor": 4
}
