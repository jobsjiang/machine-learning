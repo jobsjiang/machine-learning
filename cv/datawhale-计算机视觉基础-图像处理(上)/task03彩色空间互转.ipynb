{
 "cells": [
  {
   "cell_type": "markdown",
   "metadata": {},
   "source": [
    "图像彩色空间互转在图像处理中应用非常广泛，而且很多算法只对灰度图有效；另外，相比RGB，其他颜色空间(比如HSV、HSI)更具可分离性和可操作性，所以很多图像算法需要将图像从RGB转为其他颜色空间，所以图像彩色互转是十分重要和关键的。  \n",
    "#### RGB与灰度图互转\n",
    "RGB（红绿蓝）是依据人眼识别的颜色定义出的空间，可表示大部分颜色。但在科学研究一般不采用RGB颜色空间，因为它的细节难以进行数字化的调整。它将色调，亮度，饱和度三个量放在一起表示，很难分开。它是最通用的面向硬件的彩色模型。该模型用于彩色监视器和一大类彩色视频摄像。  \n",
    "RGB颜色空间 基于颜色的加法混色原理，从黑色不断叠加Red，Green，Blue的颜色，最终可以得到白色，如图：\n",
    "![](https://raw.githubusercontent.com/2209520576/CV-Image-Processing/master/IMG/RGB1.png)  \n",
    "将R、G、B三个通道作为笛卡尔坐标系中的X、Y、Z轴，就得到了一种对于颜色的空间描述，如图：  \n",
    "![](https://raw.githubusercontent.com/2209520576/CV-Image-Processing/master/IMG/RGB2.jpg)  \n",
    "![](https://raw.githubusercontent.com/2209520576/CV-Image-Processing/master/IMG/RGB3.jpg)  \n",
    "对于彩色图转灰度图，有一个很著名的心理学公式：  \n",
    "Gray = R * 0.299 + G * 0.587 + B * 0.114\n",
    "#### RGB与HSV互转\n",
    "HSV是一种将RGB色彩空间中的点在倒圆锥体中的表示方法。HSV即色相(Hue)、饱和度(Saturation)、明度(Value)，又称HSB(B即Brightness)。色相是色彩的基本属性，就是平常说的颜色的名称，如红色、黄色等。饱和度（S）是指色彩的纯度，越高色彩越纯，低则逐渐变灰，取0-100%的数值。明度（V），取0-max(计算机中HSV取值范围和存储的长度有关)。HSV颜色空间可以用一个圆锥空间模型来描述。圆锥的顶点处，V=0，H和S无定义，代表黑色。圆锥的顶面中心处V=max，S=0，H无定义，代表白色。\n",
    "RGB颜色空间中，三种颜色分量的取值与所生成的颜色之间的联系并不直观。而HSV颜色空间，更类似于人类感觉颜色的方式，封装了关于颜色的信息：“这是什么颜色？深浅如何？明暗如何？  \n",
    "**HSV模型**  \n",
    "![](https://raw.githubusercontent.com/2209520576/CV-Image-Processing/master/IMG/HSV1.png)  \n",
    "这个模型就是按色彩、深浅、明暗来描述的。  \n",
    "H是色彩；  \n",
    "S是深浅， S = 0时，只有灰度；  \n",
    "V是明暗，表示色彩的明亮程度，但与光强无直接联系。  \n",
    "![](https://raw.githubusercontent.com/2209520576/CV-Image-Processing/master/IMG/HSV2.jpg)  \n",
    "##### RGB2HSV\n",
    "![](https://raw.githubusercontent.com/2209520576/CV-Image-Processing/master/IMG/RGB2HSV1.JPG)  \n",
    "或  \n",
    "![](https://raw.githubusercontent.com/2209520576/CV-Image-Processing/master/IMG/RGB2HSV2.png)  \n",
    "##### HSV2RGB\n",
    "![](https://raw.githubusercontent.com/2209520576/CV-Image-Processing/master/IMG/HSV2RGB1.png)  \n",
    "**mac visual studio code配置opencv总是出问题**"
   ]
  },
  {
   "cell_type": "code",
   "execution_count": null,
   "metadata": {},
   "outputs": [],
   "source": []
  }
 ],
 "metadata": {
  "kernelspec": {
   "display_name": "Python [conda env:root] *",
   "language": "python",
   "name": "conda-root-py"
  },
  "language_info": {
   "codemirror_mode": {
    "name": "ipython",
    "version": 3
   },
   "file_extension": ".py",
   "mimetype": "text/x-python",
   "name": "python",
   "nbconvert_exporter": "python",
   "pygments_lexer": "ipython3",
   "version": "3.6.5"
  }
 },
 "nbformat": 4,
 "nbformat_minor": 4
}
