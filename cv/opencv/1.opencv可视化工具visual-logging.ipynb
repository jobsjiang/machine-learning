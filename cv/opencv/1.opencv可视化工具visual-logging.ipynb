{
 "cells": [
  {
   "cell_type": "markdown",
   "metadata": {},
   "source": [
    "https://mp.weixin.qq.com/s?__biz=MzA4Nzk3MTE5OQ==&mid=2247484079&idx=1&sn=1d13801a2056f16a985ae38fe17fae4c&chksm=903006bfa7478fa92388ee72411676f78ef5bdb8491341733a7ef0b2951a238e84b8dd14640b&mpshare=1&scene=1&srcid=&sharer_sharetime=1573093716467&sharer_shareid=ed896514c26e281178439496c30544dd&key=cc05756d3b1d1e7a2d2c67686bd301eacaa041e0705c14d6d66fb7766b737d4bb88f5eabe0192dfc7127ec9964fe22ba85271234a70b024fbd905f22f413ba5a95a858643f66bb22cd0c275d55e25e03&ascene=1&uin=MjA1MjAyODkxNg%3D%3D&devicetype=Windows+10&version=62070158&lang=zh_CN&pass_ticket=myvE78D4ifEjZ05L9q6EbEMeZvqHKHfj297d5Sa%2Bai5Jga0i%2FN4mLhufn%2FGC2Ttg"
   ]
  },
  {
   "cell_type": "code",
   "execution_count": null,
   "metadata": {},
   "outputs": [],
   "source": [
    "# 导入所需要的包\n",
    "from logging import FileHandler\n",
    "from vlogging import VisualRecord\n",
    "import logging\n",
    "import cv2\n",
    "import webbrowser  # 用来显示网页的\n",
    "import os\n",
    "# open the logging file\n",
    "logger = logging.getLogger(\"visual_logging_example\")  # 创建一个指定名称的记录器\n",
    "demo_file = \"C:/BLOG/flyinglsj.github.io/_posts/OpenCV/OpenCV_demo/visual-logging-example/demo.html\"\n",
    "# if os.path.exists(demo_file) is not None:\n",
    "#     os.remove(demo_file)\n",
    "fh = FileHandler(demo_file, mode=\"w\")  # 创建一个 html 文件，用来记录调试结果\n",
    "\n",
    "# set the logger attributes\n",
    "logger.setLevel(logging.DEBUG)  # 创建记录器的等级\n",
    "logger.addHandler(fh)  # 将指定的处理程序添加到记录器\n",
    "\n",
    "# 调试用例\n",
    "image = cv2.imread(\n",
    "    \"C:/BLOG/flyinglsj.github.io/_posts/OpenCV/OpenCV_demo/visual-logging-example/Laplacian.jpg\"\n",
    ")\n",
    "img_gray = cv2.cvtColor(image, cv2.COLOR_BGR2GRAY)\n",
    "\n",
    "# 第一次添加记录\n",
    "logger.debug(VisualRecord(\"src\", [image], fmt=\"png\"))    \n",
    "# 使用自适应阈值函数处理\n",
    "for s in range(1, 6, 2):\n",
    "    img_gray = cv2.medianBlur(img_gray, s)\n",
    "    img_edge = cv2.adaptiveThreshold(img_gray,\n",
    "                                     255,\n",
    "                                     cv2.ADAPTIVE_THRESH_MEAN_C,\n",
    "                                     cv2.THRESH_BINARY,\n",
    "                                     blockSize=3,\n",
    "                                     C=2)\n",
    "    logger.debug(VisualRecord((\"ksize = %d\" % (s)), [image, img_edge], fmt=\"png\"))\n",
    "\n",
    "\n",
    "webbrowser.open_new_tab(demo_file)"
   ]
  }
 ],
 "metadata": {
  "kernelspec": {
   "display_name": "Python [conda env:root] *",
   "language": "python",
   "name": "conda-root-py"
  },
  "language_info": {
   "codemirror_mode": {
    "name": "ipython",
    "version": 3
   },
   "file_extension": ".py",
   "mimetype": "text/x-python",
   "name": "python",
   "nbconvert_exporter": "python",
   "pygments_lexer": "ipython3",
   "version": "3.6.5"
  }
 },
 "nbformat": 4,
 "nbformat_minor": 2
}
