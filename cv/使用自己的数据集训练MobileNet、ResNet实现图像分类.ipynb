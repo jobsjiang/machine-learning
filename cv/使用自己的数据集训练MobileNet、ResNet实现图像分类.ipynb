{
 "cells": [
  {
   "cell_type": "markdown",
   "metadata": {},
   "source": [
    "https://mp.weixin.qq.com/s?__biz=MzI0ODcxODk5OA==&mid=2247511553&idx=5&sn=5a45235fa122ca21a201980133db796c&chksm=e99e9df8dee914eecd38c1aa3e4b1d07b18d7703c3b926dc63bde25a0d28774266defe29db90&scene=0&xtrack=1&key=383fb75281b7d70c1cbe06a5d21fda6b0be06ba982ba44a077d9081bd531651b301c10515a01d67771dadedaab898c26d9f72787ea67ce5f28984725104183d0761343a92a5c85292d40c6674013c54d&ascene=1&uin=MjA1MjAyODkxNg%3D%3D&devicetype=Windows+10&version=62070158&lang=zh_CN&exportkey=AYUr%2BLpnX7w%2F6y4I9Z2kJv4%3D&pass_ticket=J3MNgS9NB8GYWyMHfx%2F1JXWlWKbm0tYa63caMfZVM7HYlBpdVOorr2FTzoOAV1%2Fm"
   ]
  },
  {
   "cell_type": "code",
   "execution_count": null,
   "metadata": {},
   "outputs": [],
   "source": []
  }
 ],
 "metadata": {
  "kernelspec": {
   "display_name": "Python [conda env:root] *",
   "language": "python",
   "name": "conda-root-py"
  },
  "language_info": {
   "codemirror_mode": {
    "name": "ipython",
    "version": 3
   },
   "file_extension": ".py",
   "mimetype": "text/x-python",
   "name": "python",
   "nbconvert_exporter": "python",
   "pygments_lexer": "ipython3",
   "version": "3.6.5"
  }
 },
 "nbformat": 4,
 "nbformat_minor": 4
}
