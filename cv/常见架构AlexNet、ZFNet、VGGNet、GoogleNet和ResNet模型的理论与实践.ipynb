{
 "cells": [
  {
   "cell_type": "markdown",
   "metadata": {},
   "source": [
    "https://mp.weixin.qq.com/s?__biz=MzI3ODgwODA2MA==&mid=2247485569&idx=1&sn=1533ed1297c688492749efaea1723163&chksm=eb501c12dc279504c2efb62731aaf5bb58cb2122c191afe8a9333131b678c78c7cd87875bf72&scene=21#wechat_redirect"
   ]
  },
  {
   "cell_type": "code",
   "execution_count": null,
   "metadata": {},
   "outputs": [],
   "source": []
  }
 ],
 "metadata": {
  "kernelspec": {
   "display_name": "Python [conda env:root] *",
   "language": "python",
   "name": "conda-root-py"
  },
  "language_info": {
   "codemirror_mode": {
    "name": "ipython",
    "version": 3
   },
   "file_extension": ".py",
   "mimetype": "text/x-python",
   "name": "python",
   "nbconvert_exporter": "python",
   "pygments_lexer": "ipython3",
   "version": "3.6.5"
  }
 },
 "nbformat": 4,
 "nbformat_minor": 4
}
