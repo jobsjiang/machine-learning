{
 "cells": [
  {
   "cell_type": "markdown",
   "metadata": {},
   "source": [
    "https://mp.weixin.qq.com/s?__biz=MzIyNjM2MzQyNg==&mid=2247499297&idx=1&sn=d75be333eb3ade728d757f139e8febf2&chksm=e8732f6cdf04a67a92ad4cedfba5931b30c7dd8b6046f094ebce7cf72fbc7ecc32a4a65581a5&scene=126&sessionid=1591544025&key=37f5a2fb1485f724e94cf962fda6950f5ceb122c576d20b9e9dc139f339f08ec14d5502106b136e813dcdecae05317926b58b8e72922073767732390e08db34c66261757a560c75d4951710aaca8edf0&ascene=1&uin=MjA1MjAyODkxNg%3D%3D&devicetype=Windows+10+x64&version=62090070&lang=zh_CN&exportkey=Ad2fLAqIIy7BRfKcJ2k%2Bq58%3D&pass_ticket=W3giwU8X7Ek%2Ffktxo2YwE5jpjHjVKnQuYyRDQxkWGg4vIiPX0UilnblsMkl1u8nt"
   ]
  },
  {
   "cell_type": "code",
   "execution_count": null,
   "metadata": {},
   "outputs": [],
   "source": []
  }
 ],
 "metadata": {
  "kernelspec": {
   "display_name": "Python [conda env:root]",
   "language": "python",
   "name": "conda-root-py"
  },
  "language_info": {
   "codemirror_mode": {
    "name": "ipython",
    "version": 3
   },
   "file_extension": ".py",
   "mimetype": "text/x-python",
   "name": "python",
   "nbconvert_exporter": "python",
   "pygments_lexer": "ipython3",
   "version": "3.6.5"
  }
 },
 "nbformat": 4,
 "nbformat_minor": 4
}
