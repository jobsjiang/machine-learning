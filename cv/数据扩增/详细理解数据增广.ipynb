{
 "cells": [
  {
   "cell_type": "markdown",
   "metadata": {},
   "source": [
    "https://mp.weixin.qq.com/s?__biz=MzU3NjE4NjQ4MA==&mid=2247487850&idx=2&sn=89e6a137c5652c47e0956a8de9bc953a&chksm=fd16e075ca61696399672f2166fc1a2eb34d21f892af221b431c7846a1428eece4872a19fe09&scene=126&sessionid=1585120042&key=f506612bfbba42cb9c530ab086cb2ec829eb13e04453dcae947c3fbae2a71dd9208a94d3bea32e48840be4d6d246b1dc0dd4d6ef3e0258c78c14ac8d22dbcc917e1797f397d92d20ccbf9c0ac34f7521&ascene=1&uin=MjA1MjAyODkxNg%3D%3D&devicetype=Windows+10&version=62080079&lang=zh_CN&exportkey=AY0Gfc6XEQH5FoYg495PbIs%3D&pass_ticket=WOBDdJvSyUcUQkLxFpZ6xpwCN2Hf%2BuN124%2BOGO2O0FYbURt7mznOhprqo3T4fR8l"
   ]
  },
  {
   "cell_type": "code",
   "execution_count": null,
   "metadata": {},
   "outputs": [],
   "source": []
  }
 ],
 "metadata": {
  "kernelspec": {
   "display_name": "Python [conda env:root] *",
   "language": "python",
   "name": "conda-root-py"
  },
  "language_info": {
   "codemirror_mode": {
    "name": "ipython",
    "version": 3
   },
   "file_extension": ".py",
   "mimetype": "text/x-python",
   "name": "python",
   "nbconvert_exporter": "python",
   "pygments_lexer": "ipython3",
   "version": "3.6.5"
  }
 },
 "nbformat": 4,
 "nbformat_minor": 4
}
