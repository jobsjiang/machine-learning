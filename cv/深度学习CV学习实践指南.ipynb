{
 "cells": [
  {
   "cell_type": "markdown",
   "metadata": {},
   "source": [
    "https://mp.weixin.qq.com/s?__biz=MzIyNjM2MzQyNg==&mid=2247502304&idx=1&sn=87ff837a3aded2f2b16c0b47d7738cbc&chksm=e87318addf0491bb43315758cca770dee027c0d2c9ecebb3ab03933932edfd380c9e08c705da&mpshare=1&scene=1&srcid=&sharer_sharetime=1592566393995&sharer_shareid=8724c7983f20914ec3c0c086bba89335&key=b39bfbb25d1baf81cd6e1329d2a16fc376907ff247fc2e4abc3950bc250ba4d2e49fe230d193ed373918a7c7797b737f3a2f0dbe68aabf0dd50a987e3431b39aad8dbcebf339d2755b78cdf3efb31339&ascene=1&uin=MjA1MjAyODkxNg%3D%3D&devicetype=Windows+10+x64&version=6209051a&lang=zh_CN&exportkey=AcOARNnwvFYAhH2rUhLOSp4%3D&pass_ticket=YPyRhJl9TcDTWIpx%2FtK%2B8kfF6iSmqb%2Bbl687w5Ot0WvDjpq%2Fj4HIDybDrDL2gibL"
   ]
  },
  {
   "cell_type": "code",
   "execution_count": null,
   "metadata": {},
   "outputs": [],
   "source": []
  }
 ],
 "metadata": {
  "kernelspec": {
   "display_name": "Python [conda env:root]",
   "language": "python",
   "name": "conda-root-py"
  },
  "language_info": {
   "codemirror_mode": {
    "name": "ipython",
    "version": 3
   },
   "file_extension": ".py",
   "mimetype": "text/x-python",
   "name": "python",
   "nbconvert_exporter": "python",
   "pygments_lexer": "ipython3",
   "version": "3.6.5"
  },
  "toc": {
   "base_numbering": 1,
   "nav_menu": {},
   "number_sections": true,
   "sideBar": true,
   "skip_h1_title": false,
   "title_cell": "Table of Contents",
   "title_sidebar": "Contents",
   "toc_cell": false,
   "toc_position": {},
   "toc_section_display": true,
   "toc_window_display": false
  }
 },
 "nbformat": 4,
 "nbformat_minor": 2
}
