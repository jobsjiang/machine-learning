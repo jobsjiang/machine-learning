{
 "cells": [
  {
   "cell_type": "markdown",
   "metadata": {},
   "source": [
    "https://mp.weixin.qq.com/s?__biz=MzUyMjE2MTE0Mw==&mid=2247490403&idx=1&sn=8f1a6b29776e821796e311db21370197&chksm=f9d145fbcea6cceda1209631bde5225166dd1d19a18b7f878a82da24553c08ad3ea5fe4706c6&scene=126&sessionid=1593684107&key=39713c8c19b4de395da6823dcdea4d78a8d1428609d4506702d950be42b01253a7043af98d9f64afcd4b32019a65fdddcd594a14c4792fdcf82c0e6de98d1933d141066cabe77bc0565a8953e8f6c57c&ascene=1&uin=MjA1MjAyODkxNg%3D%3D&devicetype=Windows+10+x64&version=6209051a&lang=zh_CN&exportkey=AfAPQC8BH%2B8T0bhH9%2FqZrkM%3D&pass_ticket=TTbfflTude6XHy0P68%2Fx35vP%2Fnt7hPuBsvpukmQN97jygfZCqOotQywB77daKGb8"
   ]
  },
  {
   "cell_type": "code",
   "execution_count": null,
   "metadata": {},
   "outputs": [],
   "source": []
  }
 ],
 "metadata": {
  "kernelspec": {
   "display_name": "Python [conda env:root]",
   "language": "python",
   "name": "conda-root-py"
  },
  "language_info": {
   "codemirror_mode": {
    "name": "ipython",
    "version": 3
   },
   "file_extension": ".py",
   "mimetype": "text/x-python",
   "name": "python",
   "nbconvert_exporter": "python",
   "pygments_lexer": "ipython3",
   "version": "3.6.5"
  },
  "toc": {
   "base_numbering": 1,
   "nav_menu": {},
   "number_sections": true,
   "sideBar": true,
   "skip_h1_title": false,
   "title_cell": "Table of Contents",
   "title_sidebar": "Contents",
   "toc_cell": false,
   "toc_position": {},
   "toc_section_display": true,
   "toc_window_display": false
  }
 },
 "nbformat": 4,
 "nbformat_minor": 2
}
