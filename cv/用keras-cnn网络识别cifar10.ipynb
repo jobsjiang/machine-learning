{
 "cells": [
  {
   "cell_type": "markdown",
   "metadata": {},
   "source": [
    "https://mp.weixin.qq.com/s?__biz=MzUyMjE2MTE0Mw==&mid=2247488590&idx=2&sn=b0e158a24006ed737c3cb00bedb9e7a1&chksm=f9d14ad6cea6c3c06b5ef542b25ce5ed9429a4df049207717aa6a12c27e5c38819a47cd6ff94&scene=0&xtrack=1&key=ccb2106df59be0875aa88b775a5527757749a69df2c1426cd2b6258ad03240845e9c782b72ed23138bd89f430a2fcf3c79f3ce8de8638502d736b2b8b42815e5909a059cb7551094e4ae4432404d87dd&ascene=1&uin=MjA1MjAyODkxNg%3D%3D&devicetype=Windows+10&version=62070158&lang=zh_CN&exportkey=AbjdD97UzKcex565BO8TRlU%3D&pass_ticket=dZVkVDcDR3nISU06iWfdLm0LvXTEGUEKYAVsgv1Nw90OPzNq3XGbnAvZaw8czXUi"
   ]
  },
  {
   "cell_type": "code",
   "execution_count": null,
   "metadata": {},
   "outputs": [],
   "source": []
  }
 ],
 "metadata": {
  "kernelspec": {
   "display_name": "Python [conda env:root] *",
   "language": "python",
   "name": "conda-root-py"
  },
  "language_info": {
   "codemirror_mode": {
    "name": "ipython",
    "version": 3
   },
   "file_extension": ".py",
   "mimetype": "text/x-python",
   "name": "python",
   "nbconvert_exporter": "python",
   "pygments_lexer": "ipython3",
   "version": "3.6.5"
  }
 },
 "nbformat": 4,
 "nbformat_minor": 4
}
