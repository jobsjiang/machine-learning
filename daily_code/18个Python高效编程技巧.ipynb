{
 "cells": [
  {
   "cell_type": "markdown",
   "metadata": {},
   "source": [
    "1. 交换变量"
   ]
  },
  {
   "cell_type": "code",
   "execution_count": 1,
   "metadata": {},
   "outputs": [
    {
     "name": "stdout",
     "output_type": "stream",
     "text": [
      "6 3\n"
     ]
    }
   ],
   "source": [
    "a = 3\n",
    "b = 6\n",
    "a,b = b,a\n",
    "print(a,b)"
   ]
  },
  {
   "cell_type": "markdown",
   "metadata": {},
   "source": [
    "2. 字典推导和集合推导"
   ]
  },
  {
   "cell_type": "code",
   "execution_count": 1,
   "metadata": {
    "ExecuteTime": {
     "end_time": "2019-04-16T14:39:43.092980Z",
     "start_time": "2019-04-16T14:39:43.090052Z"
    }
   },
   "outputs": [],
   "source": [
    "some_list = [1,2,3,4,5]\n",
    "another_list = [x + 1 for x in some_list]"
   ]
  },
  {
   "cell_type": "code",
   "execution_count": 2,
   "metadata": {
    "ExecuteTime": {
     "end_time": "2019-04-16T14:42:36.161719Z",
     "start_time": "2019-04-16T14:42:36.153183Z"
    }
   },
   "outputs": [
    {
     "data": {
      "text/plain": [
       "{2, 4, 8}"
      ]
     },
     "execution_count": 2,
     "metadata": {},
     "output_type": "execute_result"
    }
   ],
   "source": [
    "# 集合推导\n",
    "some_list = [1,2,3,4,5,2,5,1,4,8]\n",
    "even_set = {x for x in some_list if x % 2 ==0}\n",
    "even_set"
   ]
  },
  {
   "cell_type": "code",
   "execution_count": 3,
   "metadata": {
    "ExecuteTime": {
     "end_time": "2019-04-16T14:58:20.244794Z",
     "start_time": "2019-04-16T14:58:20.240136Z"
    }
   },
   "outputs": [
    {
     "data": {
      "text/plain": [
       "{1: False,\n",
       " 2: True,\n",
       " 3: False,\n",
       " 4: True,\n",
       " 5: False,\n",
       " 6: True,\n",
       " 7: False,\n",
       " 8: True,\n",
       " 9: False,\n",
       " 10: True}"
      ]
     },
     "execution_count": 3,
     "metadata": {},
     "output_type": "execute_result"
    }
   ],
   "source": [
    "# 字典推导\n",
    "d = {x : x % 2 == 0 for x in range(1,11)}\n",
    "d"
   ]
  },
  {
   "cell_type": "code",
   "execution_count": 4,
   "metadata": {
    "ExecuteTime": {
     "end_time": "2019-04-16T14:59:15.406816Z",
     "start_time": "2019-04-16T14:59:15.401453Z"
    }
   },
   "outputs": [
    {
     "data": {
      "text/plain": [
       "{1, 2, 3, 4}"
      ]
     },
     "execution_count": 4,
     "metadata": {},
     "output_type": "execute_result"
    }
   ],
   "source": [
    "my_set = {1,2,1,2,3,4}\n",
    "my_set"
   ]
  },
  {
   "cell_type": "markdown",
   "metadata": {},
   "source": [
    "3. 计数时使用Counter计数对象"
   ]
  },
  {
   "cell_type": "code",
   "execution_count": 9,
   "metadata": {
    "ExecuteTime": {
     "end_time": "2019-04-16T15:05:46.679463Z",
     "start_time": "2019-04-16T15:05:46.674950Z"
    }
   },
   "outputs": [
    {
     "data": {
      "text/plain": [
       "Counter({'h': 1, 'e': 1, 'l': 3, 'o': 2, ' ': 1, 'w': 1, 'r': 1, 'd': 1})"
      ]
     },
     "execution_count": 9,
     "metadata": {},
     "output_type": "execute_result"
    }
   ],
   "source": [
    "from collections import Counter\n",
    "c = Counter('hello world')\n",
    "c\n",
    "# c.most_common(2)"
   ]
  },
  {
   "cell_type": "markdown",
   "metadata": {},
   "source": [
    "4. 漂亮的打印出JSON"
   ]
  },
  {
   "cell_type": "code",
   "execution_count": 13,
   "metadata": {
    "ExecuteTime": {
     "end_time": "2019-04-16T15:19:53.847710Z",
     "start_time": "2019-04-16T15:19:53.842809Z"
    }
   },
   "outputs": [
    {
     "name": "stdout",
     "output_type": "stream",
     "text": [
      "{\n",
      "  \"status\": \"OK\",\n",
      "  \"count\": 2,\n",
      "  \"results\": [\n",
      "    {\n",
      "      \"age\": 27,\n",
      "      \"name\": \"Oz\",\n",
      "      \"lactose_intolerant\": true\n",
      "    },\n",
      "    {\n",
      "      \"age\": 29,\n",
      "      \"name\": \"Joe\",\n",
      "      \"lactose_intolerant\": false\n",
      "    }\n",
      "  ]\n",
      "}\n"
     ]
    }
   ],
   "source": [
    "import json\n",
    "data={\"status\": \"OK\", \"count\": 2, \"results\": [{\"age\": 27, \"name\": \"Oz\", \"lactose_intolerant\": True}, {\"age\": 29, \"name\": \"Joe\", \"lactose_intolerant\": False}]}\n",
    "print(json.dumps(data,indent=2))\n"
   ]
  },
  {
   "cell_type": "markdown",
   "metadata": {},
   "source": [
    "6. if语句在行内"
   ]
  },
  {
   "cell_type": "code",
   "execution_count": 15,
   "metadata": {
    "ExecuteTime": {
     "end_time": "2019-04-16T15:21:55.954255Z",
     "start_time": "2019-04-16T15:21:55.950943Z"
    }
   },
   "outputs": [
    {
     "name": "stdout",
     "output_type": "stream",
     "text": [
      "hello\n"
     ]
    }
   ],
   "source": [
    "print('hello' ) if True else 'world'"
   ]
  },
  {
   "cell_type": "markdown",
   "metadata": {},
   "source": [
    "7. 连接"
   ]
  },
  {
   "cell_type": "code",
   "execution_count": 16,
   "metadata": {
    "ExecuteTime": {
     "end_time": "2019-04-16T15:24:26.803103Z",
     "start_time": "2019-04-16T15:24:26.797884Z"
    }
   },
   "outputs": [
    {
     "name": "stdout",
     "output_type": "stream",
     "text": [
      "['Packers', '49ers', 'Ravens', 'Patriots']\n",
      "1world\n",
      "1world\n"
     ]
    }
   ],
   "source": [
    "nfc = [\"Packers\", \"49ers\"]\n",
    "afc = [\"Ravens\", \"Patriots\"]\n",
    "print(nfc+afc)\n",
    "print(str(1)+'world')\n",
    "print('1'+'world')"
   ]
  },
  {
   "cell_type": "markdown",
   "metadata": {},
   "source": [
    "9. 同时迭代两个列表"
   ]
  },
  {
   "cell_type": "code",
   "execution_count": 18,
   "metadata": {
    "ExecuteTime": {
     "end_time": "2019-04-16T15:26:43.522527Z",
     "start_time": "2019-04-16T15:26:43.518238Z"
    }
   },
   "outputs": [
    {
     "name": "stdout",
     "output_type": "stream",
     "text": [
      "Packers vs. Ravens\n",
      "49ers vs. Patriots\n"
     ]
    }
   ],
   "source": [
    "nfc = [\"Packers\", \"49ers\"]\n",
    "afc = [\"Ravens\", \"Patriots\"]\n",
    "for teama,teamb in zip(nfc,afc):\n",
    "    print(teama+' vs. '+teamb)"
   ]
  },
  {
   "cell_type": "markdown",
   "metadata": {},
   "source": [
    "10. 带索引带列表迭代"
   ]
  },
  {
   "cell_type": "code",
   "execution_count": 19,
   "metadata": {
    "ExecuteTime": {
     "end_time": "2019-04-16T15:28:38.327053Z",
     "start_time": "2019-04-16T15:28:38.322942Z"
    }
   },
   "outputs": [
    {
     "name": "stdout",
     "output_type": "stream",
     "text": [
      "0 Packers\n",
      "1 49ers\n",
      "2 Ravens\n",
      "3 Patriots\n"
     ]
    }
   ],
   "source": [
    "teams = [\"Packers\", \"49ers\", \"Ravens\", \"Patriots\"]\n",
    "for index,team in enumerate(teams):\n",
    "    print(index,team)"
   ]
  },
  {
   "cell_type": "markdown",
   "metadata": {},
   "source": [
    "11. 列表推导式"
   ]
  },
  {
   "cell_type": "code",
   "execution_count": 21,
   "metadata": {
    "ExecuteTime": {
     "end_time": "2019-04-16T15:30:29.888315Z",
     "start_time": "2019-04-16T15:30:29.883147Z"
    }
   },
   "outputs": [
    {
     "data": {
      "text/plain": [
       "[2, 4, 6]"
      ]
     },
     "execution_count": 21,
     "metadata": {},
     "output_type": "execute_result"
    }
   ],
   "source": [
    "numbers = [1,2,3,4,5,6]\n",
    "even = [number for number in numbers if number % 2 == 0]\n",
    "even"
   ]
  },
  {
   "cell_type": "markdown",
   "metadata": {},
   "source": [
    "14. 列表转换为字符串"
   ]
  },
  {
   "cell_type": "code",
   "execution_count": 22,
   "metadata": {
    "ExecuteTime": {
     "end_time": "2019-04-16T15:32:22.960052Z",
     "start_time": "2019-04-16T15:32:22.956259Z"
    }
   },
   "outputs": [
    {
     "name": "stdout",
     "output_type": "stream",
     "text": [
      "Packers49ersRavensPatriots\n"
     ]
    }
   ],
   "source": [
    "teams = [\"Packers\", \"49ers\", \"Ravens\", \"Patriots\"]\n",
    "print(''.join(teams))"
   ]
  },
  {
   "cell_type": "markdown",
   "metadata": {},
   "source": [
    "15. 从字典中获取元素"
   ]
  },
  {
   "cell_type": "code",
   "execution_count": 26,
   "metadata": {
    "ExecuteTime": {
     "end_time": "2019-04-16T15:35:59.971915Z",
     "start_time": "2019-04-16T15:35:59.968609Z"
    }
   },
   "outputs": [],
   "source": [
    "data = {'user': 1,'name': 'Max','three': 4}\n",
    "is_admin = data.get('admin',False)"
   ]
  },
  {
   "cell_type": "markdown",
   "metadata": {},
   "source": [
    "16. 获取列表的子集"
   ]
  },
  {
   "cell_type": "code",
   "execution_count": 27,
   "metadata": {
    "ExecuteTime": {
     "end_time": "2019-04-16T15:44:39.037032Z",
     "start_time": "2019-04-16T15:44:39.031811Z"
    }
   },
   "outputs": [
    {
     "name": "stdout",
     "output_type": "stream",
     "text": [
      "[1, 3, 5]\n",
      "[2, 4, 6]\n"
     ]
    }
   ],
   "source": [
    "x = [1,2,3,4,5,6]\n",
    "# 获取奇数项\n",
    "print(x[::2])\n",
    "# 获取偶数项\n",
    "print(x[1::2])"
   ]
  },
  {
   "cell_type": "markdown",
   "metadata": {},
   "source": [
    "17. 迭代工具"
   ]
  },
  {
   "cell_type": "code",
   "execution_count": 28,
   "metadata": {
    "ExecuteTime": {
     "end_time": "2019-04-16T15:45:30.955257Z",
     "start_time": "2019-04-16T15:45:30.951131Z"
    }
   },
   "outputs": [
    {
     "name": "stdout",
     "output_type": "stream",
     "text": [
      "('Packers', '49ers')\n",
      "('Packers', 'Ravens')\n",
      "('Packers', 'Patriots')\n",
      "('49ers', 'Ravens')\n",
      "('49ers', 'Patriots')\n",
      "('Ravens', 'Patriots')\n"
     ]
    }
   ],
   "source": [
    "from itertools import combinations\n",
    "teams = [\"Packers\", \"49ers\", \"Ravens\", \"Patriots\"]\n",
    "for game in combinations(teams, 2):\n",
    "    print(game)"
   ]
  },
  {
   "cell_type": "markdown",
   "metadata": {},
   "source": [
    "18. 在python中，True和False是全局变量"
   ]
  },
  {
   "cell_type": "code",
   "execution_count": 33,
   "metadata": {
    "ExecuteTime": {
     "end_time": "2019-04-16T15:50:31.557489Z",
     "start_time": "2019-04-16T15:50:31.554200Z"
    }
   },
   "outputs": [
    {
     "name": "stdout",
     "output_type": "stream",
     "text": [
      "hello\n"
     ]
    }
   ],
   "source": [
    "false = True\n",
    "if false:\n",
    "    print('hello')\n",
    "else:\n",
    "    print('world')"
   ]
  },
  {
   "cell_type": "code",
   "execution_count": null,
   "metadata": {},
   "outputs": [],
   "source": []
  }
 ],
 "metadata": {
  "kernelspec": {
   "display_name": "Python 3",
   "language": "python",
   "name": "python3"
  },
  "language_info": {
   "codemirror_mode": {
    "name": "ipython",
    "version": 3
   },
   "file_extension": ".py",
   "mimetype": "text/x-python",
   "name": "python",
   "nbconvert_exporter": "python",
   "pygments_lexer": "ipython3",
   "version": "3.6.5"
  },
  "toc": {
   "base_numbering": 1,
   "nav_menu": {},
   "number_sections": true,
   "sideBar": true,
   "skip_h1_title": false,
   "title_cell": "Table of Contents",
   "title_sidebar": "Contents",
   "toc_cell": false,
   "toc_position": {},
   "toc_section_display": true,
   "toc_window_display": false
  },
  "varInspector": {
   "cols": {
    "lenName": 16,
    "lenType": 16,
    "lenVar": 40
   },
   "kernels_config": {
    "python": {
     "delete_cmd_postfix": "",
     "delete_cmd_prefix": "del ",
     "library": "var_list.py",
     "varRefreshCmd": "print(var_dic_list())"
    },
    "r": {
     "delete_cmd_postfix": ") ",
     "delete_cmd_prefix": "rm(",
     "library": "var_list.r",
     "varRefreshCmd": "cat(var_dic_list()) "
    }
   },
   "types_to_exclude": [
    "module",
    "function",
    "builtin_function_or_method",
    "instance",
    "_Feature"
   ],
   "window_display": false
  }
 },
 "nbformat": 4,
 "nbformat_minor": 2
}
