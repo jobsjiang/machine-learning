{
 "cells": [
  {
   "cell_type": "markdown",
   "metadata": {},
   "source": [
    "第1式：测算代码时间"
   ]
  },
  {
   "cell_type": "code",
   "execution_count": 1,
   "metadata": {
    "ExecuteTime": {
     "end_time": "2019-06-19T14:12:07.124635Z",
     "start_time": "2019-06-19T14:12:07.122037Z"
    }
   },
   "outputs": [],
   "source": [
    "import time"
   ]
  },
  {
   "cell_type": "code",
   "execution_count": 2,
   "metadata": {
    "ExecuteTime": {
     "end_time": "2019-06-19T14:13:55.099421Z",
     "start_time": "2019-06-19T14:13:55.005695Z"
    }
   },
   "outputs": [
    {
     "name": "stdout",
     "output_type": "stream",
     "text": [
      "used 0.089938s\n"
     ]
    }
   ],
   "source": [
    "tic = time.time()\n",
    "much_job = [x**2 for x in range(1,1000000,3)]\n",
    "toc = time.time()\n",
    "print(\"used {:.5}s\".format(toc - tic))"
   ]
  },
  {
   "cell_type": "code",
   "execution_count": 9,
   "metadata": {
    "ExecuteTime": {
     "end_time": "2019-06-19T14:20:08.655363Z",
     "start_time": "2019-06-19T14:20:08.647761Z"
    }
   },
   "outputs": [
    {
     "name": "stderr",
     "output_type": "stream",
     "text": [
      "UsageError: Line magic function `%%time` not found.\n"
     ]
    }
   ],
   "source": [
    "# 快捷方法 jupyter环境 魔幻方法放到第一个cell\n",
    "%%time\n",
    "much_job = [x**2 for x in range(1,1000000,3)]"
   ]
  },
  {
   "cell_type": "markdown",
   "metadata": {},
   "source": [
    "第2式：测试代码多次运行平均时间"
   ]
  },
  {
   "cell_type": "code",
   "execution_count": 11,
   "metadata": {
    "ExecuteTime": {
     "end_time": "2019-06-19T14:33:27.851511Z",
     "start_time": "2019-06-19T14:33:27.838984Z"
    }
   },
   "outputs": [
    {
     "data": {
      "text/plain": [
       "1.3240000043879263e-05"
      ]
     },
     "execution_count": 11,
     "metadata": {},
     "output_type": "execute_result"
    }
   ],
   "source": [
    "from timeit import timeit\n",
    "g = lambda x : x**2 + 1\n",
    "def main():\n",
    "    return(g(2)**120)\n",
    "timeit(\"main()\",globals={\"main\":main},number=10)"
   ]
  },
  {
   "cell_type": "code",
   "execution_count": 12,
   "metadata": {
    "ExecuteTime": {
     "end_time": "2019-06-19T14:35:15.762564Z",
     "start_time": "2019-06-19T14:35:15.755448Z"
    }
   },
   "outputs": [
    {
     "name": "stderr",
     "output_type": "stream",
     "text": [
      "UsageError: Line magic function `%%` not found.\n"
     ]
    }
   ],
   "source": [
    "# 快捷方法 jupyter环境 \n",
    "%% timeit -n 10\n",
    "g = lambda x:x**2+1\n",
    "def main():\n",
    "    return(g(2)**120)\n",
    "main()"
   ]
  },
  {
   "cell_type": "markdown",
   "metadata": {},
   "source": [
    "第3式：按调用函数分析代码运行时间"
   ]
  },
  {
   "cell_type": "code",
   "execution_count": 13,
   "metadata": {
    "ExecuteTime": {
     "end_time": "2019-06-19T14:37:24.726783Z",
     "start_time": "2019-06-19T14:37:24.722187Z"
    }
   },
   "outputs": [],
   "source": [
    "def relu(x):\n",
    "    return(x if x >0 else 0)\n",
    "def main():\n",
    "    result = [relu(x) for x in range(-100000,100000,1)]\n",
    "    return result"
   ]
  },
  {
   "cell_type": "code",
   "execution_count": 14,
   "metadata": {
    "ExecuteTime": {
     "end_time": "2019-06-19T14:37:44.129917Z",
     "start_time": "2019-06-19T14:37:43.199644Z"
    }
   },
   "outputs": [
    {
     "name": "stdout",
     "output_type": "stream",
     "text": [
      "         200006 function calls in 0.371 seconds\n",
      "\n",
      "   Ordered by: standard name\n",
      "\n",
      "   ncalls  tottime  percall  cumtime  percall filename:lineno(function)\n",
      "        1    0.000    0.000    0.371    0.371 :0(exec)\n",
      "        1    0.000    0.000    0.000    0.000 :0(setprofile)\n",
      "   200000    0.175    0.000    0.175    0.000 <ipython-input-13-90bb41db6f23>:1(relu)\n",
      "        1    0.000    0.000    0.370    0.370 <ipython-input-13-90bb41db6f23>:3(main)\n",
      "        1    0.196    0.196    0.370    0.370 <ipython-input-13-90bb41db6f23>:4(<listcomp>)\n",
      "        1    0.001    0.001    0.371    0.371 <string>:1(<module>)\n",
      "        1    0.000    0.000    0.371    0.371 profile:0(main())\n",
      "        0    0.000             0.000          profile:0(profiler)\n",
      "\n",
      "\n"
     ]
    }
   ],
   "source": [
    "import profile\n",
    "profile.run(\"main()\")"
   ]
  },
  {
   "cell_type": "code",
   "execution_count": 16,
   "metadata": {
    "ExecuteTime": {
     "end_time": "2019-06-19T14:38:23.387338Z",
     "start_time": "2019-06-19T14:38:23.332866Z"
    }
   },
   "outputs": [
    {
     "name": "stdout",
     "output_type": "stream",
     "text": [
      " "
     ]
    }
   ],
   "source": [
    "# 快捷方法 jupyter环境 \n",
    "%prun main()"
   ]
  },
  {
   "cell_type": "markdown",
   "metadata": {},
   "source": [
    "#### 二，加速你第查找"
   ]
  },
  {
   "cell_type": "markdown",
   "metadata": {},
   "source": [
    "第5式：用set而非list进行查找"
   ]
  },
  {
   "cell_type": "code",
   "execution_count": 17,
   "metadata": {
    "ExecuteTime": {
     "end_time": "2019-06-19T14:46:21.771487Z",
     "start_time": "2019-06-19T14:46:21.341076Z"
    }
   },
   "outputs": [
    {
     "name": "stderr",
     "output_type": "stream",
     "text": [
      "UsageError: Line magic function `%%time` not found.\n"
     ]
    }
   ],
   "source": [
    "# 低速方法\n",
    "data = (i**2 + 1 for i in range(1000000))\n",
    "list_data = list(data)\n",
    "set_data = set(list_data)\n",
    "%%time\n",
    "1098987 in list_data\n",
    "# 高速方法\n",
    "%%time\n",
    "1098987 in set_data"
   ]
  },
  {
   "cell_type": "markdown",
   "metadata": {},
   "source": [
    "第6式：用dict而非两个list进行匹配查找"
   ]
  },
  {
   "cell_type": "code",
   "execution_count": null,
   "metadata": {},
   "outputs": [],
   "source": [
    "list_a = [2*i - 1 for i in range(1000000)]\n",
    "list_b = [i**2 for i in list_a]\n",
    "dict_ab = dict(zip(list_a,list_b))\n",
    "# 低速方法\n",
    "print(list_b[list_a.index(876567)])\n",
    "# 高速方法\n",
    "print(dict_ab.get(876567,None))"
   ]
  }
 ],
 "metadata": {
  "kernelspec": {
   "display_name": "Python [conda env:python36]",
   "language": "python",
   "name": "conda-env-python36-py"
  },
  "language_info": {
   "codemirror_mode": {
    "name": "ipython",
    "version": 3
   },
   "file_extension": ".py",
   "mimetype": "text/x-python",
   "name": "python",
   "nbconvert_exporter": "python",
   "pygments_lexer": "ipython3",
   "version": "3.6.8"
  },
  "toc": {
   "base_numbering": 1,
   "nav_menu": {},
   "number_sections": true,
   "sideBar": true,
   "skip_h1_title": false,
   "title_cell": "Table of Contents",
   "title_sidebar": "Contents",
   "toc_cell": false,
   "toc_position": {},
   "toc_section_display": true,
   "toc_window_display": false
  },
  "varInspector": {
   "cols": {
    "lenName": 16,
    "lenType": 16,
    "lenVar": 40
   },
   "kernels_config": {
    "python": {
     "delete_cmd_postfix": "",
     "delete_cmd_prefix": "del ",
     "library": "var_list.py",
     "varRefreshCmd": "print(var_dic_list())"
    },
    "r": {
     "delete_cmd_postfix": ") ",
     "delete_cmd_prefix": "rm(",
     "library": "var_list.r",
     "varRefreshCmd": "cat(var_dic_list()) "
    }
   },
   "types_to_exclude": [
    "module",
    "function",
    "builtin_function_or_method",
    "instance",
    "_Feature"
   ],
   "window_display": false
  }
 },
 "nbformat": 4,
 "nbformat_minor": 2
}
