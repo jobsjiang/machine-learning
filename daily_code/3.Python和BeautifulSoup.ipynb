{
 "cells": [
  {
   "cell_type": "code",
   "execution_count": 5,
   "metadata": {},
   "outputs": [],
   "source": [
    "import urllib\n",
    "from bs4 import BeautifulSoup"
   ]
  },
  {
   "cell_type": "code",
   "execution_count": null,
   "metadata": {},
   "outputs": [],
   "source": [
    "# 指定URL\n",
    "quote_page = 'http://www.bloomberg.com/quote/SPX:IND'\n",
    "# 查询网站，将HTML返回给变量page\n",
    "page = urllib.request.urlopen(quote_page)\n",
    "# 取得class为name的<div>并获取它的值\n",
    "name_box = BeautifulSoup.find('h1',attrs={'class':'name'})\n",
    "# 用于移除字符串头尾的字符\n",
    "name = name_box.text.strip()\n",
    "print(name)"
   ]
  },
  {
   "cell_type": "code",
   "execution_count": null,
   "metadata": {},
   "outputs": [],
   "source": [
    "# 获取指数价格\n",
    "price_box = soup.find(‘div’, attrs={‘class’:’price’})\n",
    "price = price_box.text\n",
    "print(price)"
   ]
  },
  {
   "cell_type": "code",
   "execution_count": 12,
   "metadata": {},
   "outputs": [],
   "source": [
    "import csv\n",
    "from datetime import datetime"
   ]
  },
  {
   "cell_type": "code",
   "execution_count": null,
   "metadata": {},
   "outputs": [],
   "source": [
    "# 用于追加方式打开一个csv文件，这样原有的数据就不会被擦除\n",
    "with open('index.csv','a') as csv_file:\n",
    "    writer = csv.writer(csv_file)\n",
    "    writer.writerow([name,price,datetime.now()])"
   ]
  }
 ],
 "metadata": {
  "kernelspec": {
   "display_name": "Python [conda env:root] *",
   "language": "python",
   "name": "conda-root-py"
  },
  "language_info": {
   "codemirror_mode": {
    "name": "ipython",
    "version": 3
   },
   "file_extension": ".py",
   "mimetype": "text/x-python",
   "name": "python",
   "nbconvert_exporter": "python",
   "pygments_lexer": "ipython3",
   "version": "3.6.5"
  }
 },
 "nbformat": 4,
 "nbformat_minor": 2
}
