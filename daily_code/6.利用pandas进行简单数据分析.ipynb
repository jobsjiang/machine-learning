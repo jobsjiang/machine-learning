{
 "cells": [
  {
   "cell_type": "markdown",
   "metadata": {},
   "source": [
    "https://mp.weixin.qq.com/s/dKOU4Iv6tTjA6KPB2Re9FA"
   ]
  },
  {
   "cell_type": "code",
   "execution_count": 1,
   "metadata": {},
   "outputs": [],
   "source": [
    "import pandas as pd"
   ]
  },
  {
   "cell_type": "code",
   "execution_count": 2,
   "metadata": {},
   "outputs": [],
   "source": [
    "data = pd.read_excel('../../dataset/朝阳医院2018年销售数据.xlsx')"
   ]
  },
  {
   "cell_type": "code",
   "execution_count": 3,
   "metadata": {},
   "outputs": [],
   "source": [
    "dataDF = pd.DataFrame(data)"
   ]
  },
  {
   "cell_type": "code",
   "execution_count": 4,
   "metadata": {},
   "outputs": [
    {
     "data": {
      "text/html": [
       "<div>\n",
       "<style scoped>\n",
       "    .dataframe tbody tr th:only-of-type {\n",
       "        vertical-align: middle;\n",
       "    }\n",
       "\n",
       "    .dataframe tbody tr th {\n",
       "        vertical-align: top;\n",
       "    }\n",
       "\n",
       "    .dataframe thead th {\n",
       "        text-align: right;\n",
       "    }\n",
       "</style>\n",
       "<table border=\"1\" class=\"dataframe\">\n",
       "  <thead>\n",
       "    <tr style=\"text-align: right;\">\n",
       "      <th></th>\n",
       "      <th>购药时间</th>\n",
       "      <th>社保卡号</th>\n",
       "      <th>商品编码</th>\n",
       "      <th>商品名称</th>\n",
       "      <th>销售数量</th>\n",
       "      <th>应收金额</th>\n",
       "      <th>实收金额</th>\n",
       "    </tr>\n",
       "  </thead>\n",
       "  <tbody>\n",
       "    <tr>\n",
       "      <td>0</td>\n",
       "      <td>2018-01-01 星期五</td>\n",
       "      <td>1.616528e+06</td>\n",
       "      <td>236701.0</td>\n",
       "      <td>强力VC银翘片</td>\n",
       "      <td>6.0</td>\n",
       "      <td>82.8</td>\n",
       "      <td>69.00</td>\n",
       "    </tr>\n",
       "    <tr>\n",
       "      <td>1</td>\n",
       "      <td>2018-01-02 星期六</td>\n",
       "      <td>1.616528e+06</td>\n",
       "      <td>236701.0</td>\n",
       "      <td>清热解毒口服液</td>\n",
       "      <td>1.0</td>\n",
       "      <td>28.0</td>\n",
       "      <td>24.64</td>\n",
       "    </tr>\n",
       "    <tr>\n",
       "      <td>2</td>\n",
       "      <td>2018-01-06 星期三</td>\n",
       "      <td>1.260283e+07</td>\n",
       "      <td>236701.0</td>\n",
       "      <td>感康</td>\n",
       "      <td>2.0</td>\n",
       "      <td>16.8</td>\n",
       "      <td>15.00</td>\n",
       "    </tr>\n",
       "    <tr>\n",
       "      <td>3</td>\n",
       "      <td>2018-01-11 星期一</td>\n",
       "      <td>1.007034e+10</td>\n",
       "      <td>236701.0</td>\n",
       "      <td>三九感冒灵</td>\n",
       "      <td>1.0</td>\n",
       "      <td>28.0</td>\n",
       "      <td>28.00</td>\n",
       "    </tr>\n",
       "    <tr>\n",
       "      <td>4</td>\n",
       "      <td>2018-01-15 星期五</td>\n",
       "      <td>1.015543e+08</td>\n",
       "      <td>236701.0</td>\n",
       "      <td>三九感冒灵</td>\n",
       "      <td>8.0</td>\n",
       "      <td>224.0</td>\n",
       "      <td>208.00</td>\n",
       "    </tr>\n",
       "  </tbody>\n",
       "</table>\n",
       "</div>"
      ],
      "text/plain": [
       "             购药时间          社保卡号      商品编码     商品名称  销售数量   应收金额    实收金额\n",
       "0  2018-01-01 星期五  1.616528e+06  236701.0  强力VC银翘片   6.0   82.8   69.00\n",
       "1  2018-01-02 星期六  1.616528e+06  236701.0  清热解毒口服液   1.0   28.0   24.64\n",
       "2  2018-01-06 星期三  1.260283e+07  236701.0       感康   2.0   16.8   15.00\n",
       "3  2018-01-11 星期一  1.007034e+10  236701.0    三九感冒灵   1.0   28.0   28.00\n",
       "4  2018-01-15 星期五  1.015543e+08  236701.0    三九感冒灵   8.0  224.0  208.00"
      ]
     },
     "execution_count": 4,
     "metadata": {},
     "output_type": "execute_result"
    }
   ],
   "source": [
    "dataDF.head()"
   ]
  },
  {
   "cell_type": "code",
   "execution_count": 6,
   "metadata": {},
   "outputs": [],
   "source": [
    "dataDF.rename(columns={'购药时间':'销售时间'},inplace=True)"
   ]
  },
  {
   "cell_type": "code",
   "execution_count": 7,
   "metadata": {},
   "outputs": [],
   "source": [
    "dataDF = dataDF.dropna()"
   ]
  },
  {
   "cell_type": "code",
   "execution_count": 8,
   "metadata": {},
   "outputs": [
    {
     "data": {
      "text/plain": [
       "销售时间     object\n",
       "社保卡号    float64\n",
       "商品编码    float64\n",
       "商品名称     object\n",
       "销售数量    float64\n",
       "应收金额    float64\n",
       "实收金额    float64\n",
       "dtype: object"
      ]
     },
     "execution_count": 8,
     "metadata": {},
     "output_type": "execute_result"
    }
   ],
   "source": [
    "dataDF.dtypes"
   ]
  },
  {
   "cell_type": "code",
   "execution_count": 9,
   "metadata": {},
   "outputs": [],
   "source": [
    "dataDF[\"销售数量\"] = dataDF[\"销售数量\"].astype(\"f8\")\n",
    "dataDF[\"应收金额\"] = dataDF[\"应收金额\"].astype(\"f8\")\n",
    "dataDF[\"实收金额\"] = dataDF[\"实收金额\"].astype(\"f8\")"
   ]
  },
  {
   "cell_type": "code",
   "execution_count": 10,
   "metadata": {},
   "outputs": [],
   "source": [
    "# 定义函数将星期去除\n",
    "def splitsaletime(timeColser):\n",
    "    timelist = []\n",
    "    for t in timeColser:\n",
    "        timelist.append(t.split(' ')[0])\n",
    "    timeser = pd.Series(timelist)\n",
    "    return timeser"
   ]
  },
  {
   "cell_type": "code",
   "execution_count": 11,
   "metadata": {},
   "outputs": [],
   "source": [
    "t = dataDF.loc[:,'销售时间']\n",
    "timeser = splitsaletime(t)\n",
    "dataDF.loc[:,'销售时间'] = timeser"
   ]
  },
  {
   "cell_type": "code",
   "execution_count": 12,
   "metadata": {},
   "outputs": [
    {
     "data": {
      "text/html": [
       "<div>\n",
       "<style scoped>\n",
       "    .dataframe tbody tr th:only-of-type {\n",
       "        vertical-align: middle;\n",
       "    }\n",
       "\n",
       "    .dataframe tbody tr th {\n",
       "        vertical-align: top;\n",
       "    }\n",
       "\n",
       "    .dataframe thead th {\n",
       "        text-align: right;\n",
       "    }\n",
       "</style>\n",
       "<table border=\"1\" class=\"dataframe\">\n",
       "  <thead>\n",
       "    <tr style=\"text-align: right;\">\n",
       "      <th></th>\n",
       "      <th>销售时间</th>\n",
       "      <th>社保卡号</th>\n",
       "      <th>商品编码</th>\n",
       "      <th>商品名称</th>\n",
       "      <th>销售数量</th>\n",
       "      <th>应收金额</th>\n",
       "      <th>实收金额</th>\n",
       "    </tr>\n",
       "  </thead>\n",
       "  <tbody>\n",
       "    <tr>\n",
       "      <td>0</td>\n",
       "      <td>2018-01-01</td>\n",
       "      <td>1.616528e+06</td>\n",
       "      <td>236701.0</td>\n",
       "      <td>强力VC银翘片</td>\n",
       "      <td>6.0</td>\n",
       "      <td>82.8</td>\n",
       "      <td>69.00</td>\n",
       "    </tr>\n",
       "    <tr>\n",
       "      <td>1</td>\n",
       "      <td>2018-01-02</td>\n",
       "      <td>1.616528e+06</td>\n",
       "      <td>236701.0</td>\n",
       "      <td>清热解毒口服液</td>\n",
       "      <td>1.0</td>\n",
       "      <td>28.0</td>\n",
       "      <td>24.64</td>\n",
       "    </tr>\n",
       "    <tr>\n",
       "      <td>2</td>\n",
       "      <td>2018-01-06</td>\n",
       "      <td>1.260283e+07</td>\n",
       "      <td>236701.0</td>\n",
       "      <td>感康</td>\n",
       "      <td>2.0</td>\n",
       "      <td>16.8</td>\n",
       "      <td>15.00</td>\n",
       "    </tr>\n",
       "    <tr>\n",
       "      <td>3</td>\n",
       "      <td>2018-01-11</td>\n",
       "      <td>1.007034e+10</td>\n",
       "      <td>236701.0</td>\n",
       "      <td>三九感冒灵</td>\n",
       "      <td>1.0</td>\n",
       "      <td>28.0</td>\n",
       "      <td>28.00</td>\n",
       "    </tr>\n",
       "    <tr>\n",
       "      <td>4</td>\n",
       "      <td>2018-01-15</td>\n",
       "      <td>1.015543e+08</td>\n",
       "      <td>236701.0</td>\n",
       "      <td>三九感冒灵</td>\n",
       "      <td>8.0</td>\n",
       "      <td>224.0</td>\n",
       "      <td>208.00</td>\n",
       "    </tr>\n",
       "  </tbody>\n",
       "</table>\n",
       "</div>"
      ],
      "text/plain": [
       "         销售时间          社保卡号      商品编码     商品名称  销售数量   应收金额    实收金额\n",
       "0  2018-01-01  1.616528e+06  236701.0  强力VC银翘片   6.0   82.8   69.00\n",
       "1  2018-01-02  1.616528e+06  236701.0  清热解毒口服液   1.0   28.0   24.64\n",
       "2  2018-01-06  1.260283e+07  236701.0       感康   2.0   16.8   15.00\n",
       "3  2018-01-11  1.007034e+10  236701.0    三九感冒灵   1.0   28.0   28.00\n",
       "4  2018-01-15  1.015543e+08  236701.0    三九感冒灵   8.0  224.0  208.00"
      ]
     },
     "execution_count": 12,
     "metadata": {},
     "output_type": "execute_result"
    }
   ],
   "source": [
    "dataDF.head()"
   ]
  },
  {
   "cell_type": "code",
   "execution_count": 13,
   "metadata": {},
   "outputs": [],
   "source": [
    "# 销售时间转换为日期,如果原始数据不符合日期的格式，转换后的值为NaT\n",
    "dataDF.loc[:,'销售时间'] = pd.to_datetime(dataDF.loc[:,'销售时间'],errors='coerce')\n",
    "# 删除为空的行\n",
    "dataDF = dataDF.dropna()"
   ]
  },
  {
   "cell_type": "code",
   "execution_count": 14,
   "metadata": {},
   "outputs": [],
   "source": [
    "pd.set_option('display.max_rows',1000)"
   ]
  },
  {
   "cell_type": "code",
   "execution_count": 15,
   "metadata": {},
   "outputs": [],
   "source": [
    "# 按销售时间进行升序排序\n",
    "dataDF = dataDF.sort_values(by='销售时间',ascending=True)"
   ]
  },
  {
   "cell_type": "code",
   "execution_count": 16,
   "metadata": {},
   "outputs": [],
   "source": [
    "# 重置索引\n",
    "dataDF = dataDF.reset_index(drop=True)"
   ]
  },
  {
   "cell_type": "code",
   "execution_count": 17,
   "metadata": {},
   "outputs": [],
   "source": [
    "# 将‘'销售数量'’这一列中小于0的数据排除掉\n",
    "pop = dataDF.loc[:,'销售数量'] > 0\n",
    "dataDF = dataDF.loc[pop,:]"
   ]
  },
  {
   "cell_type": "code",
   "execution_count": 18,
   "metadata": {},
   "outputs": [
    {
     "name": "stdout",
     "output_type": "stream",
     "text": [
      "总消费次数： 5342\n"
     ]
    }
   ],
   "source": [
    "# 删除重复数据\n",
    "kpi1_Df = dataDF.drop_duplicates(subset=['销售时间', '社保卡号'])\n",
    "totall = kpi1_Df.shape[0]\n",
    "print('总消费次数：', totall)"
   ]
  },
  {
   "cell_type": "code",
   "execution_count": 19,
   "metadata": {},
   "outputs": [],
   "source": [
    "# 按销售时间升序排序\n",
    "kpi1_Df = kpi1_Df.sort_values(by='销售时间',ascending=True)\n",
    "# 重置索引\n",
    "kpi1_Df = kpi1_Df.reset_index(drop=True)"
   ]
  },
  {
   "cell_type": "code",
   "execution_count": 20,
   "metadata": {},
   "outputs": [
    {
     "data": {
      "text/html": [
       "<div>\n",
       "<style scoped>\n",
       "    .dataframe tbody tr th:only-of-type {\n",
       "        vertical-align: middle;\n",
       "    }\n",
       "\n",
       "    .dataframe tbody tr th {\n",
       "        vertical-align: top;\n",
       "    }\n",
       "\n",
       "    .dataframe thead th {\n",
       "        text-align: right;\n",
       "    }\n",
       "</style>\n",
       "<table border=\"1\" class=\"dataframe\">\n",
       "  <thead>\n",
       "    <tr style=\"text-align: right;\">\n",
       "      <th></th>\n",
       "      <th>销售时间</th>\n",
       "      <th>社保卡号</th>\n",
       "      <th>商品编码</th>\n",
       "      <th>商品名称</th>\n",
       "      <th>销售数量</th>\n",
       "      <th>应收金额</th>\n",
       "      <th>实收金额</th>\n",
       "    </tr>\n",
       "  </thead>\n",
       "  <tbody>\n",
       "    <tr>\n",
       "      <td>5337</td>\n",
       "      <td>2018-07-19</td>\n",
       "      <td>1.166693e+07</td>\n",
       "      <td>865099.0</td>\n",
       "      <td>硝苯地平片(心痛定)</td>\n",
       "      <td>2.0</td>\n",
       "      <td>2.4</td>\n",
       "      <td>2.0</td>\n",
       "    </tr>\n",
       "    <tr>\n",
       "      <td>5338</td>\n",
       "      <td>2018-07-19</td>\n",
       "      <td>1.001914e+10</td>\n",
       "      <td>865099.0</td>\n",
       "      <td>硝苯地平片(心痛定)</td>\n",
       "      <td>2.0</td>\n",
       "      <td>2.4</td>\n",
       "      <td>2.0</td>\n",
       "    </tr>\n",
       "    <tr>\n",
       "      <td>5339</td>\n",
       "      <td>2018-07-19</td>\n",
       "      <td>1.001426e+10</td>\n",
       "      <td>871158.0</td>\n",
       "      <td>厄贝沙坦片(吉加)</td>\n",
       "      <td>2.0</td>\n",
       "      <td>34.0</td>\n",
       "      <td>30.0</td>\n",
       "    </tr>\n",
       "    <tr>\n",
       "      <td>5340</td>\n",
       "      <td>2018-07-19</td>\n",
       "      <td>1.054283e+07</td>\n",
       "      <td>865425.0</td>\n",
       "      <td>G苯磺酸氨氯地平片(6盒/疗程)</td>\n",
       "      <td>6.0</td>\n",
       "      <td>69.0</td>\n",
       "      <td>57.5</td>\n",
       "    </tr>\n",
       "    <tr>\n",
       "      <td>5341</td>\n",
       "      <td>2018-07-19</td>\n",
       "      <td>1.040022e+08</td>\n",
       "      <td>861435.0</td>\n",
       "      <td>缬沙坦胶囊(代文)</td>\n",
       "      <td>5.0</td>\n",
       "      <td>179.0</td>\n",
       "      <td>171.4</td>\n",
       "    </tr>\n",
       "  </tbody>\n",
       "</table>\n",
       "</div>"
      ],
      "text/plain": [
       "           销售时间          社保卡号      商品编码              商品名称  销售数量   应收金额   实收金额\n",
       "5337 2018-07-19  1.166693e+07  865099.0        硝苯地平片(心痛定)   2.0    2.4    2.0\n",
       "5338 2018-07-19  1.001914e+10  865099.0        硝苯地平片(心痛定)   2.0    2.4    2.0\n",
       "5339 2018-07-19  1.001426e+10  871158.0         厄贝沙坦片(吉加)   2.0   34.0   30.0\n",
       "5340 2018-07-19  1.054283e+07  865425.0  G苯磺酸氨氯地平片(6盒/疗程)   6.0   69.0   57.5\n",
       "5341 2018-07-19  1.040022e+08  861435.0         缬沙坦胶囊(代文)   5.0  179.0  171.4"
      ]
     },
     "execution_count": 20,
     "metadata": {},
     "output_type": "execute_result"
    }
   ],
   "source": [
    "kpi1_Df.tail()"
   ]
  },
  {
   "cell_type": "code",
   "execution_count": 21,
   "metadata": {},
   "outputs": [
    {
     "name": "stdout",
     "output_type": "stream",
     "text": [
      "2018-01-01 00:00:00 2018-07-19 00:00:00\n",
      "5342 6\n",
      "业务指标1：月均消费次数= 890\n"
     ]
    }
   ],
   "source": [
    "# 最小时间值\n",
    "startTime = kpi1_Df.loc[0, '销售时间']\n",
    "# 最大时间值\n",
    "endTime = kpi1_Df.loc[totall - 1, '销售时间']\n",
    "# 计算天数\n",
    "daysI = (endTime - startTime).days\n",
    "# 月份数\n",
    "monthsI = daysI // 30\n",
    "# 计算月平均消费次数\n",
    "kpi1_I = totall // monthsI\n",
    "print('业务指标1：月均消费次数=', kpi1_I)"
   ]
  },
  {
   "cell_type": "code",
   "execution_count": 22,
   "metadata": {},
   "outputs": [
    {
     "name": "stdout",
     "output_type": "stream",
     "text": [
      "业务指标2：月均消费金额= 50668.35166666666\n"
     ]
    }
   ],
   "source": [
    "# 总消费金额\n",
    "totalMoneyF = dataDF.loc[:,'实收金额'].sum()\n",
    "# 月均消费金额\n",
    "monthMoneyF = totalMoneyF / monthsI\n",
    "print('业务指标2：月均消费金额=', monthMoneyF)"
   ]
  },
  {
   "cell_type": "code",
   "execution_count": 23,
   "metadata": {},
   "outputs": [
    {
     "name": "stdout",
     "output_type": "stream",
     "text": [
      "业务指标3：客单价= 56.909417821040805\n"
     ]
    }
   ],
   "source": [
    "# 客单件 = 总消费金额/总消费次数\n",
    "pct = totalMoneyF / totall\n",
    "print('业务指标3：客单价=', pct)"
   ]
  },
  {
   "cell_type": "code",
   "execution_count": 24,
   "metadata": {},
   "outputs": [],
   "source": [
    "import matplotlib.pyplot as plt\n",
    "# 画图时用于显示中文字符\n",
    "from pylab import mpl\n",
    "mpl.rcParams['font.sans-serif'] = ['SimHei'] # SimHei黑体的意思\n",
    "# 在操作之前先复制一份数据，防止影响清洗后的数据\n",
    "groupDF = dataDF"
   ]
  },
  {
   "cell_type": "code",
   "execution_count": 25,
   "metadata": {},
   "outputs": [
    {
     "name": "stderr",
     "output_type": "stream",
     "text": [
      "C:\\Users\\jianghaitao1\\AppData\\Roaming\\Python\\Python36\\site-packages\\pandas\\plotting\\_matplotlib\\converter.py:103: FutureWarning: Using an implicitly registered datetime converter for a matplotlib plotting method. The converter was registered by pandas on import. Future versions of pandas will require you to explicitly register matplotlib converters.\n",
      "\n",
      "To register the converters:\n",
      "\t>>> from pandas.plotting import register_matplotlib_converters\n",
      "\t>>> register_matplotlib_converters()\n",
      "  warnings.warn(msg, FutureWarning)\n"
     ]
    },
    {
     "data": {
      "text/plain": [
       "Text(0, 0.5, '实收金额')"
      ]
     },
     "execution_count": 25,
     "metadata": {},
     "output_type": "execute_result"
    },
    {
     "data": {
      "image/png": "[encoded data removed]",
      "text/plain": [
       "<Figure size 432x288 with 1 Axes>"
      ]
     },
     "metadata": {},
     "output_type": "display_data"
    }
   ],
   "source": [
    "# 重命名行（index）为销售时间所在列的值\n",
    "groupDF.index = groupDF['销售时间']\n",
    "# 画图\n",
    "plt.plot(groupDF['实收金额'])\n",
    "plt.title('按天消费金额图')\n",
    "plt.xlabel('时间')\n",
    "plt.ylabel('实收金额')"
   ]
  },
  {
   "cell_type": "code",
   "execution_count": 28,
   "metadata": {},
   "outputs": [],
   "source": [
    "# 将销售时间聚合按月分组\n",
    "gb = groupDF.groupby(groupDF.index.month)\n",
    "# 计算每个月的消费总额\n",
    "monthDf = gb.sum()"
   ]
  },
  {
   "cell_type": "code",
   "execution_count": 29,
   "metadata": {},
   "outputs": [
    {
     "data": {
      "text/html": [
       "<div>\n",
       "<style scoped>\n",
       "    .dataframe tbody tr th:only-of-type {\n",
       "        vertical-align: middle;\n",
       "    }\n",
       "\n",
       "    .dataframe tbody tr th {\n",
       "        vertical-align: top;\n",
       "    }\n",
       "\n",
       "    .dataframe thead th {\n",
       "        text-align: right;\n",
       "    }\n",
       "</style>\n",
       "<table border=\"1\" class=\"dataframe\">\n",
       "  <thead>\n",
       "    <tr style=\"text-align: right;\">\n",
       "      <th></th>\n",
       "      <th>社保卡号</th>\n",
       "      <th>商品编码</th>\n",
       "      <th>销售数量</th>\n",
       "      <th>应收金额</th>\n",
       "      <th>实收金额</th>\n",
       "    </tr>\n",
       "    <tr>\n",
       "      <th>销售时间</th>\n",
       "      <th></th>\n",
       "      <th></th>\n",
       "      <th></th>\n",
       "      <th></th>\n",
       "      <th></th>\n",
       "    </tr>\n",
       "  </thead>\n",
       "  <tbody>\n",
       "    <tr>\n",
       "      <td>1</td>\n",
       "      <td>6.257155e+12</td>\n",
       "      <td>1.073329e+09</td>\n",
       "      <td>2527.0</td>\n",
       "      <td>53561.6</td>\n",
       "      <td>49461.19</td>\n",
       "    </tr>\n",
       "    <tr>\n",
       "      <td>2</td>\n",
       "      <td>4.702493e+12</td>\n",
       "      <td>7.438598e+08</td>\n",
       "      <td>1858.0</td>\n",
       "      <td>42028.8</td>\n",
       "      <td>38790.38</td>\n",
       "    </tr>\n",
       "    <tr>\n",
       "      <td>3</td>\n",
       "      <td>6.124761e+12</td>\n",
       "      <td>1.007946e+09</td>\n",
       "      <td>2225.0</td>\n",
       "      <td>45318.0</td>\n",
       "      <td>41597.51</td>\n",
       "    </tr>\n",
       "    <tr>\n",
       "      <td>4</td>\n",
       "      <td>7.610117e+12</td>\n",
       "      <td>1.219604e+09</td>\n",
       "      <td>3005.0</td>\n",
       "      <td>54296.3</td>\n",
       "      <td>48787.84</td>\n",
       "    </tr>\n",
       "    <tr>\n",
       "      <td>5</td>\n",
       "      <td>5.898556e+12</td>\n",
       "      <td>1.004573e+09</td>\n",
       "      <td>2225.0</td>\n",
       "      <td>51263.4</td>\n",
       "      <td>46925.27</td>\n",
       "    </tr>\n",
       "    <tr>\n",
       "      <td>6</td>\n",
       "      <td>5.421001e+12</td>\n",
       "      <td>9.289637e+08</td>\n",
       "      <td>2328.0</td>\n",
       "      <td>52300.8</td>\n",
       "      <td>48327.70</td>\n",
       "    </tr>\n",
       "    <tr>\n",
       "      <td>7</td>\n",
       "      <td>3.608900e+12</td>\n",
       "      <td>6.259256e+08</td>\n",
       "      <td>1483.0</td>\n",
       "      <td>32568.0</td>\n",
       "      <td>30120.22</td>\n",
       "    </tr>\n",
       "  </tbody>\n",
       "</table>\n",
       "</div>"
      ],
      "text/plain": [
       "              社保卡号          商品编码    销售数量     应收金额      实收金额\n",
       "销售时间                                                       \n",
       "1     6.257155e+12  1.073329e+09  2527.0  53561.6  49461.19\n",
       "2     4.702493e+12  7.438598e+08  1858.0  42028.8  38790.38\n",
       "3     6.124761e+12  1.007946e+09  2225.0  45318.0  41597.51\n",
       "4     7.610117e+12  1.219604e+09  3005.0  54296.3  48787.84\n",
       "5     5.898556e+12  1.004573e+09  2225.0  51263.4  46925.27\n",
       "6     5.421001e+12  9.289637e+08  2328.0  52300.8  48327.70\n",
       "7     3.608900e+12  6.259256e+08  1483.0  32568.0  30120.22"
      ]
     },
     "execution_count": 29,
     "metadata": {},
     "output_type": "execute_result"
    }
   ],
   "source": [
    "monthDf"
   ]
  },
  {
   "cell_type": "code",
   "execution_count": 30,
   "metadata": {},
   "outputs": [
    {
     "data": {
      "text/plain": [
       "Text(0, 0.5, '实收金额')"
      ]
     },
     "execution_count": 30,
     "metadata": {},
     "output_type": "execute_result"
    },
    {
     "data": {
      "image/png": "[encoded data removed]",
      "text/plain": [
       "<Figure size 432x288 with 1 Axes>"
      ]
     },
     "metadata": {},
     "output_type": "display_data"
    }
   ],
   "source": [
    "# 描绘按月消费金额图\n",
    "plt.plot(monthDf['实收金额'])\n",
    "plt.title('按月消费金额图')\n",
    "plt.xlabel('月份')\n",
    "plt.ylabel('实收金额')"
   ]
  },
  {
   "cell_type": "code",
   "execution_count": null,
   "metadata": {},
   "outputs": [],
   "source": []
  }
 ],
 "metadata": {
  "kernelspec": {
   "display_name": "Python [conda env:root] *",
   "language": "python",
   "name": "conda-root-py"
  },
  "language_info": {
   "codemirror_mode": {
    "name": "ipython",
    "version": 3
   },
   "file_extension": ".py",
   "mimetype": "text/x-python",
   "name": "python",
   "nbconvert_exporter": "python",
   "pygments_lexer": "ipython3",
   "version": "3.6.5"
  }
 },
 "nbformat": 4,
 "nbformat_minor": 2
}
