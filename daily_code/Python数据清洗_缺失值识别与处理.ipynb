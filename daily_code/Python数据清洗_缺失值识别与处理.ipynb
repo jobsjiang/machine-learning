{
 "cells": [
  {
   "cell_type": "code",
   "execution_count": null,
   "metadata": {},
   "outputs": [],
   "source": [
    "import numpy as np\n",
    "import pandas as pd"
   ]
  },
  {
   "cell_type": "code",
   "execution_count": null,
   "metadata": {},
   "outputs": [],
   "source": [
    "data3 = pd.read_excel('../dataset/data3.xlsx')"
   ]
  },
  {
   "cell_type": "code",
   "execution_count": null,
   "metadata": {},
   "outputs": [],
   "source": [
    "# 判断各变量中是否存在缺失值\n",
    "data3.isnull().any(axis=0)\n",
    "# temp = data3.isnull()\n",
    "# temp"
   ]
  },
  {
   "cell_type": "code",
   "execution_count": null,
   "metadata": {},
   "outputs": [],
   "source": [
    "# 各变量缺失值的数量\n",
    "data3.isnull().sum(axis=0)"
   ]
  },
  {
   "cell_type": "code",
   "execution_count": null,
   "metadata": {},
   "outputs": [],
   "source": [
    "# 各变量中缺失值的比例\n",
    "data3.isnull().sum(axis=0) / data3.shape[0]"
   ]
  },
  {
   "cell_type": "code",
   "execution_count": null,
   "metadata": {},
   "outputs": [],
   "source": [
    "# 判断数据行中是否存在缺失值\n",
    "data3.isnull().any(axis=1).any()"
   ]
  },
  {
   "cell_type": "code",
   "execution_count": null,
   "metadata": {},
   "outputs": [],
   "source": [
    "# 缺失观测的行数\n",
    "data3.isnull().any(axis=1).sum()"
   ]
  },
  {
   "cell_type": "code",
   "execution_count": null,
   "metadata": {},
   "outputs": [],
   "source": [
    "# 缺失观测的比例\n",
    "data3.isnull().any(axis = 1).sum()/data3.shape[0]"
   ]
  },
  {
   "cell_type": "markdown",
   "metadata": {},
   "source": [
    "缺失值的处理方法"
   ]
  },
  {
   "cell_type": "code",
   "execution_count": null,
   "metadata": {},
   "outputs": [],
   "source": [
    "data3.drop(labels='edu',axis=1,inplace=True)\n",
    "data3.head()"
   ]
  },
  {
   "cell_type": "code",
   "execution_count": null,
   "metadata": {},
   "outputs": [],
   "source": [
    "# 删除缺失值的行\n",
    "data3_new = data3.drop(labels=data3.index[data3['age'].isnull()],axis=0)\n",
    "data3_new.shape"
   ]
  },
  {
   "cell_type": "code",
   "execution_count": null,
   "metadata": {},
   "outputs": [],
   "source": [
    "# 替换法处理缺失值\n",
    "data3.fillna(value={'gender': data3['gender'].mode()[0],  # 使用性别的众数替换缺失性别\n",
    "                    'age': data3['age'].mean()  # 使用年龄的平均值替换缺失年龄\n",
    "                    },\n",
    "             inplace=True  # 原地修改数据\n",
    "             )\n",
    "# 再次查看各变量的缺失比例\n",
    "data3.isnull().sum(axis=0)"
   ]
  },
  {
   "cell_type": "markdown",
   "metadata": {},
   "source": [
    "插补方法"
   ]
  },
  {
   "cell_type": "code",
   "execution_count": null,
   "metadata": {},
   "outputs": [],
   "source": [
    "# 读取数据\n",
    "titanic = pd.read_csv('../dataset/train.csv')\n",
    "titanic.head()\n",
    "# 删除缺失严重的Cabin变量\n",
    "titanic.drop(labels='Cabin', axis = 1, inplace=True)\n",
    "# 根据Embarked变量，删除对应的缺失行\n",
    "titanic.dropna(subset=['Embarked'], inplace=True)\n",
    "\n",
    "# 删除无关紧要的变量（这些变量对后面预测年龄没有太多的帮助）\n",
    "titanic.drop(labels=['PassengerId','Name','Ticket','Embarked'], axis = 1, inplace=True)\n",
    "# 将字符型的性别变量映射为数值变量\n",
    "titanic.Sex = titanic.Sex.map({'male':1, 'female':0})\n",
    "\n",
    "# 将数据拆分为两组，一是年龄缺失组，二是年龄非缺失组，后续基于非缺失值构建KNN模型，再对缺失组做预测\n",
    "nomissing = titanic.loc[~titanic.Age.isnull(),]\n",
    "missing = titanic.loc[titanic.Age.isnull(),]\n",
    "\n",
    "# 导入机器学习的第三方包\n",
    "from sklearn import neighbors\n",
    "# 提取出所有的自变量\n",
    "X = nomissing.columns[nomissing.columns != 'Age']\n",
    "# 构建模型\n",
    "knn = neighbors.KNeighborsRegressor()\n",
    "# 模型拟合\n",
    "knn.fit(nomissing[X], nomissing.Age)\n",
    "# 年龄预测\n",
    "pred_age = knn.predict(missing[X])"
   ]
  },
  {
   "cell_type": "code",
   "execution_count": null,
   "metadata": {},
   "outputs": [],
   "source": [
    "pred_age"
   ]
  },
  {
   "cell_type": "code",
   "execution_count": null,
   "metadata": {},
   "outputs": [],
   "source": []
  }
 ],
 "metadata": {
  "kernelspec": {
   "display_name": "Python 3",
   "language": "python",
   "name": "python3"
  },
  "language_info": {
   "codemirror_mode": {
    "name": "ipython",
    "version": 3
   },
   "file_extension": ".py",
   "mimetype": "text/x-python",
   "name": "python",
   "nbconvert_exporter": "python",
   "pygments_lexer": "ipython3",
   "version": "3.6.5"
  }
 },
 "nbformat": 4,
 "nbformat_minor": 2
}
