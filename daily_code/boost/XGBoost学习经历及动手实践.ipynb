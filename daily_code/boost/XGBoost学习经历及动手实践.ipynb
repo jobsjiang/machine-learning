{
 "cells": [
  {
   "cell_type": "markdown",
   "metadata": {},
   "source": [
    "https://mp.weixin.qq.com/s?__biz=MzIyNjM2MzQyNg==&mid=2247503268&idx=1&sn=fc0d017d1b47554c94836a888eb3dd91&chksm=e8731ce9df0495ffb8f3f177621fe4e300d7a0c2ce9c4b0bd049b0c2d93ab1b35fcf6bb7682f&mpshare=1&scene=1&srcid=0621qVaRkwcwQtOtGpBD0hW5&sharer_sharetime=1592745612171&sharer_shareid=8724c7983f20914ec3c0c086bba89335&key=d28e5ef1d5d516758d530ba43882cbec4e066bdfefc2e076a705ace0b6c398ecd26384aa1dc9976c763cbcc78618af1a1516bd8d4c298e53ad8c017972f448ed11666e9545e7e8542a5cafa6d3784440&ascene=1&uin=MjA1MjAyODkxNg%3D%3D&devicetype=Windows+10+x64&version=6209051a&lang=zh_CN&exportkey=AXOMcLdY%2B3%2Boa5PintAJcNU%3D&pass_ticket=YPyRhJl9TcDTWIpx%2FtK%2B8kfF6iSmqb%2Bbl687"
   ]
  },
  {
   "cell_type": "code",
   "execution_count": null,
   "metadata": {},
   "outputs": [],
   "source": []
  }
 ],
 "metadata": {
  "kernelspec": {
   "display_name": "Python [conda env:root]",
   "language": "python",
   "name": "conda-root-py"
  },
  "language_info": {
   "codemirror_mode": {
    "name": "ipython",
    "version": 3
   },
   "file_extension": ".py",
   "mimetype": "text/x-python",
   "name": "python",
   "nbconvert_exporter": "python",
   "pygments_lexer": "ipython3",
   "version": "3.6.5"
  },
  "toc": {
   "base_numbering": 1,
   "nav_menu": {},
   "number_sections": true,
   "sideBar": true,
   "skip_h1_title": false,
   "title_cell": "Table of Contents",
   "title_sidebar": "Contents",
   "toc_cell": false,
   "toc_position": {},
   "toc_section_display": true,
   "toc_window_display": false
  }
 },
 "nbformat": 4,
 "nbformat_minor": 2
}
