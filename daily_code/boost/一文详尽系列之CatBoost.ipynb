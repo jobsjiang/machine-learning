{
 "cells": [
  {
   "cell_type": "markdown",
   "metadata": {},
   "source": [
    "https://mp.weixin.qq.com/s?__biz=MzIyNjM2MzQyNg==&mid=2247487550&idx=1&sn=2626998e443eb5c9052abc13fd3b8c7e&chksm=e870c173df0748654e149794d37e578fb7faa2e2ef9e9fc6528ea10c17d76d90083a44d48059&mpshare=1&scene=1&srcid=&sharer_sharetime=1574334415539&sharer_shareid=1edbcc91673d794c0f4cf60c5d3e8ee7&key=2f03ac6dc587330687443e73095a62a11f53cb05a48886cc3e5d6227953b37467926fd22d6bf41278217fc8465f2449e906927b8479da028228a9fcf299bdc9add8b9559b72bbd7f8eaeca0a5ba84f80&ascene=1&uin=MjA1MjAyODkxNg%3D%3D&devicetype=Windows+10&version=62070158&lang=zh_CN&pass_ticket=ncT%2FbFTuYR8clN571sCdDcBqW8pKIbBqOraW0cpcS2t7MO7bVmMsNubUtcaq86cR"
   ]
  },
  {
   "cell_type": "code",
   "execution_count": null,
   "metadata": {},
   "outputs": [],
   "source": []
  }
 ],
 "metadata": {
  "kernelspec": {
   "display_name": "Python [conda env:root]",
   "language": "python",
   "name": "conda-root-py"
  },
  "language_info": {
   "codemirror_mode": {
    "name": "ipython",
    "version": 3
   },
   "file_extension": ".py",
   "mimetype": "text/x-python",
   "name": "python",
   "nbconvert_exporter": "python",
   "pygments_lexer": "ipython3",
   "version": "3.6.5"
  },
  "toc": {
   "base_numbering": 1,
   "nav_menu": {},
   "number_sections": true,
   "sideBar": true,
   "skip_h1_title": false,
   "title_cell": "Table of Contents",
   "title_sidebar": "Contents",
   "toc_cell": false,
   "toc_position": {},
   "toc_section_display": true,
   "toc_window_display": false
  }
 },
 "nbformat": 4,
 "nbformat_minor": 2
}
