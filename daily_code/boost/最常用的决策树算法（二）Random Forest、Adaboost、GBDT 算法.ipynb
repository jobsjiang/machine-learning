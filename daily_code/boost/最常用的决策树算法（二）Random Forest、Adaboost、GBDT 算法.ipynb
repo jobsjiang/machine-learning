{
 "cells": [
  {
   "cell_type": "markdown",
   "metadata": {},
   "source": [
    "https://mp.weixin.qq.com/s?__biz=MzIwODI2NDkxNQ==&mid=2247486130&idx=4&sn=d24c394dd54f0b6c031b777f2909313a&chksm=9704810ea0730818a3a1d21c3f389440eb1e47050520475afda1dc888b8d5039aa2e83bea6d2&scene=0&xtrack=1&key=6fe18169e5f37da9623348f8d8a11987b171c9cc08784b179a1e9c3caf7b4ee614bdf7538cf2ead88c4fc15109002968f3032f0650c210407c43438e83cef633f55841cbaf4e4c14530393d2afdaa475&ascene=1&uin=MjA1MjAyODkxNg%3D%3D&devicetype=Windows+10&version=62070158&lang=zh_CN&pass_ticket=Yl%2F8WSfFMkAqWNv%2FI2cOfS5iNANGEW9h8iOypsBoQtCYjs76wCoY9LvmozV6r1Xi"
   ]
  },
  {
   "cell_type": "code",
   "execution_count": null,
   "metadata": {},
   "outputs": [],
   "source": []
  }
 ],
 "metadata": {
  "kernelspec": {
   "display_name": "Python [conda env:root]",
   "language": "python",
   "name": "conda-root-py"
  },
  "language_info": {
   "codemirror_mode": {
    "name": "ipython",
    "version": 3
   },
   "file_extension": ".py",
   "mimetype": "text/x-python",
   "name": "python",
   "nbconvert_exporter": "python",
   "pygments_lexer": "ipython3",
   "version": "3.6.5"
  },
  "toc": {
   "base_numbering": 1,
   "nav_menu": {},
   "number_sections": true,
   "sideBar": true,
   "skip_h1_title": false,
   "title_cell": "Table of Contents",
   "title_sidebar": "Contents",
   "toc_cell": false,
   "toc_position": {},
   "toc_section_display": true,
   "toc_window_display": false
  }
 },
 "nbformat": 4,
 "nbformat_minor": 2
}
