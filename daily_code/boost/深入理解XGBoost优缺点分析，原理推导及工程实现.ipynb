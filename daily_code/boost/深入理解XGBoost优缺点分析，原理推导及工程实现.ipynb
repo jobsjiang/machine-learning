{
 "cells": [
  {
   "cell_type": "markdown",
   "metadata": {},
   "source": [
    "https://mp.weixin.qq.com/s?__biz=MzIyNjM2MzQyNg==&mid=2247488040&idx=1&sn=70db1201cf71fbdabdda2834423ba8b5&chksm=e870c365df074a7389a29a39b725016c92420113d90a3f2a2bd7fa92c5f02a61119661475e1f&scene=0&xtrack=1&key=e9cd44e2700d611af0ee519fb8af695f29b9a4f9da606de555160d48261bcc339418810d6e964a1c11aaeb4ff3da05e4d6e36cc49aecbb069acdba4fa85d84cc4033f3cab7d5becf58221c490a147b62&ascene=1&uin=MjA1MjAyODkxNg%3D%3D&devicetype=Windows+10&version=62070158&lang=zh_CN&exportkey=AZ%2BjlWdNcH7E8N7KRIuS0NE%3D&pass_ticket=dZVkVDcDR3nISU06iWfdLm0LvXTEGUEKYAVsgv1Nw90OPzNq3XGbnAvZaw8czXUi"
   ]
  },
  {
   "cell_type": "code",
   "execution_count": null,
   "metadata": {},
   "outputs": [],
   "source": []
  }
 ],
 "metadata": {
  "kernelspec": {
   "display_name": "Python [conda env:root]",
   "language": "python",
   "name": "conda-root-py"
  },
  "language_info": {
   "codemirror_mode": {
    "name": "ipython",
    "version": 3
   },
   "file_extension": ".py",
   "mimetype": "text/x-python",
   "name": "python",
   "nbconvert_exporter": "python",
   "pygments_lexer": "ipython3",
   "version": "3.6.5"
  },
  "toc": {
   "base_numbering": 1,
   "nav_menu": {},
   "number_sections": true,
   "sideBar": true,
   "skip_h1_title": false,
   "title_cell": "Table of Contents",
   "title_sidebar": "Contents",
   "toc_cell": false,
   "toc_position": {},
   "toc_section_display": true,
   "toc_window_display": false
  }
 },
 "nbformat": 4,
 "nbformat_minor": 2
}
