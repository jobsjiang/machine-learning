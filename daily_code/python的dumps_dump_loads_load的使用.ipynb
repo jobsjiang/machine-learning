{
 "cells": [
  {
   "cell_type": "markdown",
   "metadata": {},
   "source": [
    "json.dumps:将python对象格式化成json字符串"
   ]
  },
  {
   "cell_type": "code",
   "execution_count": 1,
   "metadata": {},
   "outputs": [],
   "source": [
    "import json"
   ]
  },
  {
   "cell_type": "code",
   "execution_count": 3,
   "metadata": {},
   "outputs": [
    {
     "name": "stdout",
     "output_type": "stream",
     "text": [
      "{\"article\": \"中华人民共和国共和国万岁\", \"tag\": \"中国共产党万岁\"} <class 'str'>\n"
     ]
    }
   ],
   "source": [
    "str = {'article':'中华人民共和国共和国万岁','tag':'中国共产党万岁'}\n",
    "encoded_json = json.dumps(str,ensure_ascii=False)\n",
    "print(encoded_josn,type(encoded_josn))"
   ]
  },
  {
   "cell_type": "markdown",
   "metadata": {},
   "source": [
    "json.loads:将json字符串解码成python对象"
   ]
  },
  {
   "cell_type": "code",
   "execution_count": 4,
   "metadata": {},
   "outputs": [
    {
     "name": "stdout",
     "output_type": "stream",
     "text": [
      "{'article': '中华人民共和国共和国万岁', 'tag': '中国共产党万岁'} <class 'dict'>\n"
     ]
    }
   ],
   "source": [
    "decoded_json = json.loads(encoded_josn)\n",
    "print(decoded_json,type(decoded_json))"
   ]
  },
  {
   "cell_type": "markdown",
   "metadata": {},
   "source": [
    "json.dump:主要用来将python对象写入json文件"
   ]
  },
  {
   "cell_type": "code",
   "execution_count": 5,
   "metadata": {},
   "outputs": [],
   "source": [
    "f = open('demo.json','w',encoding='utf-8')\n",
    "json.dump(decoded_json,f,ensure_ascii=False)\n",
    "f.close()"
   ]
  },
  {
   "cell_type": "markdown",
   "metadata": {},
   "source": [
    "json.load:加载json格式文件，返回python对象"
   ]
  },
  {
   "cell_type": "code",
   "execution_count": 6,
   "metadata": {},
   "outputs": [
    {
     "name": "stdout",
     "output_type": "stream",
     "text": [
      "{'article': '中华人民共和国共和国万岁', 'tag': '中国共产党万岁'} <class 'dict'>\n"
     ]
    }
   ],
   "source": [
    "f = open('demo.json','r',encoding='utf-8')\n",
    "data = json.load(f)\n",
    "print(data,type(data))\n",
    "f.close()"
   ]
  },
  {
   "cell_type": "code",
   "execution_count": null,
   "metadata": {},
   "outputs": [],
   "source": []
  }
 ],
 "metadata": {
  "kernelspec": {
   "display_name": "Python 3",
   "language": "python",
   "name": "python3"
  },
  "language_info": {
   "codemirror_mode": {
    "name": "ipython",
    "version": 3
   },
   "file_extension": ".py",
   "mimetype": "text/x-python",
   "name": "python",
   "nbconvert_exporter": "python",
   "pygments_lexer": "ipython3",
   "version": "3.6.5"
  }
 },
 "nbformat": 4,
 "nbformat_minor": 2
}
