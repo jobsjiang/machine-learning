{
 "cells": [
  {
   "cell_type": "code",
   "execution_count": 2,
   "metadata": {
    "ExecuteTime": {
     "end_time": "2019-07-18T15:04:05.352444Z",
     "start_time": "2019-07-18T15:04:05.349392Z"
    }
   },
   "outputs": [],
   "source": [
    "# xgboost不支持分类功能，如果您的数据包含分类功能，请先将其加载为Numpy阵列，然后执行onehot编码，xgboost无法解析带有标头的csv文件"
   ]
  },
  {
   "cell_type": "code",
   "execution_count": 4,
   "metadata": {
    "ExecuteTime": {
     "end_time": "2019-07-18T15:05:46.792208Z",
     "start_time": "2019-07-18T15:05:46.788792Z"
    }
   },
   "outputs": [],
   "source": [
    "# 参数设定 xgboost可以使用列表或字典来设置参数\n",
    "# param = {'max_depth': 2, 'eta': 1, 'silent': 1, 'objective': 'binary:logistic'}\n",
    "# param['nthread'] = 4\n",
    "# param['eval_metric'] = 'auc'\n",
    "# param['eval_metric'] = ['auc', 'ams@0']"
   ]
  },
  {
   "cell_type": "code",
   "execution_count": 5,
   "metadata": {
    "ExecuteTime": {
     "end_time": "2019-07-18T15:06:09.767718Z",
     "start_time": "2019-07-18T15:06:09.763926Z"
    }
   },
   "outputs": [],
   "source": [
    "# 训练\n",
    "# bst = xgb.train(param, dtrain, num_round, evallist)"
   ]
  },
  {
   "cell_type": "code",
   "execution_count": 6,
   "metadata": {
    "ExecuteTime": {
     "end_time": "2019-07-18T15:06:34.084798Z",
     "start_time": "2019-07-18T15:06:34.080611Z"
    }
   },
   "outputs": [],
   "source": [
    "# 预测\n",
    "# dtest = xgb.DMatrix(data)\n",
    "# ypred = bst.predict(dtest)"
   ]
  },
  {
   "cell_type": "code",
   "execution_count": 7,
   "metadata": {
    "ExecuteTime": {
     "end_time": "2019-07-18T15:07:52.166227Z",
     "start_time": "2019-07-18T15:07:52.159529Z"
    }
   },
   "outputs": [],
   "source": [
    "# 实战案例\n",
    "import numpy as np\n",
    "import pandas as pd\n",
    "import xgboost as xgb\n",
    "from sklearn.model_selection import train_test_split\n",
    "from sklearn.metrics import mean_squared_error"
   ]
  },
  {
   "cell_type": "code",
   "execution_count": 8,
   "metadata": {
    "ExecuteTime": {
     "end_time": "2019-07-18T15:10:10.523100Z",
     "start_time": "2019-07-18T15:10:10.498975Z"
    }
   },
   "outputs": [],
   "source": [
    "# 数据处理\n",
    "data_train = pd.read_csv(\"../../dataset/boston_house/train.csv\")\n",
    "data_test = pd.read_csv(\"../../dataset/boston_house/test.csv\")"
   ]
  },
  {
   "cell_type": "code",
   "execution_count": 9,
   "metadata": {
    "ExecuteTime": {
     "end_time": "2019-07-18T15:11:17.778266Z",
     "start_time": "2019-07-18T15:11:17.773669Z"
    }
   },
   "outputs": [],
   "source": [
    "# 删除不相关属性\n",
    "X = data_train.drop(['ID','medv'],axis=1)\n",
    "y = data_train.medv"
   ]
  },
  {
   "cell_type": "code",
   "execution_count": 10,
   "metadata": {
    "ExecuteTime": {
     "end_time": "2019-07-18T15:15:28.317711Z",
     "start_time": "2019-07-18T15:15:28.304373Z"
    }
   },
   "outputs": [],
   "source": [
    "# 拆分数据集\n",
    "X_train,X_test,y_train,y_test = train_test_split(X,y,test_size=0.2,random_state=123)\n",
    "xg_reg = xgb.XGBRegressor(objective='reg:linear',colsample_bytree=0.3,learning_rate=0.1,max_depth=8,alpha=8,n_estimators=500,reg_lambda=1)"
   ]
  },
  {
   "cell_type": "code",
   "execution_count": 11,
   "metadata": {
    "ExecuteTime": {
     "end_time": "2019-07-18T15:16:04.438127Z",
     "start_time": "2019-07-18T15:16:04.313129Z"
    }
   },
   "outputs": [
    {
     "name": "stdout",
     "output_type": "stream",
     "text": [
      "[23:16:04] WARNING: src/objective/regression_obj.cu:152: reg:linear is now deprecated in favor of reg:squarederror.\n"
     ]
    },
    {
     "name": "stderr",
     "output_type": "stream",
     "text": [
      "/Users/haitaojiang/anaconda3/envs/python36/lib/python3.6/site-packages/xgboost/core.py:587: FutureWarning: Series.base is deprecated and will be removed in a future version\n",
      "  if getattr(data, 'base', None) is not None and \\\n"
     ]
    },
    {
     "data": {
      "text/plain": [
       "XGBRegressor(alpha=8, base_score=0.5, booster='gbtree', colsample_bylevel=1,\n",
       "       colsample_bynode=1, colsample_bytree=0.3, gamma=0,\n",
       "       importance_type='gain', learning_rate=0.1, max_delta_step=0,\n",
       "       max_depth=8, min_child_weight=1, missing=None, n_estimators=500,\n",
       "       n_jobs=1, nthread=None, objective='reg:linear', random_state=0,\n",
       "       reg_alpha=0, reg_lambda=1, scale_pos_weight=1, seed=None,\n",
       "       silent=None, subsample=1, verbosity=1)"
      ]
     },
     "execution_count": 11,
     "metadata": {},
     "output_type": "execute_result"
    }
   ],
   "source": [
    "# 模型训练\n",
    "xg_reg.fit(X_train,y_train)"
   ]
  },
  {
   "cell_type": "code",
   "execution_count": 13,
   "metadata": {
    "ExecuteTime": {
     "end_time": "2019-07-18T15:18:18.713131Z",
     "start_time": "2019-07-18T15:18:18.698734Z"
    }
   },
   "outputs": [],
   "source": [
    "x_test = data_test.drop(['ID'], axis=1)\n",
    "predictions = xg_reg.predict(x_test)\n",
    "ID = (data_test.ID).astype(int)\n",
    "result = np.c_[ID, predictions]\n",
    "\n",
    "np.savetxt('../../dataset/boston_house/xgb_submission.csv', result, fmt=\"%d,%.4f\" ,header='ID,medv', delimiter=',', comments='')"
   ]
  },
  {
   "cell_type": "code",
   "execution_count": null,
   "metadata": {},
   "outputs": [],
   "source": []
  }
 ],
 "metadata": {
  "kernelspec": {
   "display_name": "Python [conda env:python36]",
   "language": "python",
   "name": "conda-env-python36-py"
  },
  "language_info": {
   "codemirror_mode": {
    "name": "ipython",
    "version": 3
   },
   "file_extension": ".py",
   "mimetype": "text/x-python",
   "name": "python",
   "nbconvert_exporter": "python",
   "pygments_lexer": "ipython3",
   "version": "3.6.8"
  },
  "toc": {
   "base_numbering": 1,
   "nav_menu": {},
   "number_sections": true,
   "sideBar": true,
   "skip_h1_title": false,
   "title_cell": "Table of Contents",
   "title_sidebar": "Contents",
   "toc_cell": false,
   "toc_position": {},
   "toc_section_display": true,
   "toc_window_display": false
  },
  "varInspector": {
   "cols": {
    "lenName": 16,
    "lenType": 16,
    "lenVar": 40
   },
   "kernels_config": {
    "python": {
     "delete_cmd_postfix": "",
     "delete_cmd_prefix": "del ",
     "library": "var_list.py",
     "varRefreshCmd": "print(var_dic_list())"
    },
    "r": {
     "delete_cmd_postfix": ") ",
     "delete_cmd_prefix": "rm(",
     "library": "var_list.r",
     "varRefreshCmd": "cat(var_dic_list()) "
    }
   },
   "types_to_exclude": [
    "module",
    "function",
    "builtin_function_or_method",
    "instance",
    "_Feature"
   ],
   "window_display": false
  }
 },
 "nbformat": 4,
 "nbformat_minor": 2
}
