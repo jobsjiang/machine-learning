{
 "cells": [
  {
   "cell_type": "code",
   "execution_count": 1,
   "metadata": {
    "ExecuteTime": {
     "end_time": "2019-07-17T13:45:04.421709Z",
     "start_time": "2019-07-17T13:45:04.418256Z"
    }
   },
   "outputs": [],
   "source": [
    "# 方法一 均方差\n",
    "import numpy as np\n",
    "import matplotlib.pyplot as plt"
   ]
  },
  {
   "cell_type": "code",
   "execution_count": 2,
   "metadata": {
    "ExecuteTime": {
     "end_time": "2019-07-17T15:05:32.349397Z",
     "start_time": "2019-07-17T15:05:32.344749Z"
    }
   },
   "outputs": [],
   "source": [
    "import random\n",
    "random.seed(1)"
   ]
  },
  {
   "cell_type": "code",
   "execution_count": 3,
   "metadata": {
    "ExecuteTime": {
     "end_time": "2019-07-17T15:06:05.068941Z",
     "start_time": "2019-07-17T15:06:05.051329Z"
    }
   },
   "outputs": [],
   "source": [
    "anomalies = []\n",
    "data = np.random.randn(50000) * 20 + 20"
   ]
  },
  {
   "cell_type": "code",
   "execution_count": 4,
   "metadata": {},
   "outputs": [
    {
     "data": {
      "text/plain": [
       "array([ 36.65619465,  24.92421799, -14.37566548, ...,  30.72381342,\n",
       "        15.61273533,  45.13366047])"
      ]
     },
     "execution_count": 4,
     "metadata": {},
     "output_type": "execute_result"
    }
   ],
   "source": [
    "data"
   ]
  },
  {
   "cell_type": "code",
   "execution_count": 7,
   "metadata": {
    "ExecuteTime": {
     "end_time": "2019-07-17T15:09:06.850452Z",
     "start_time": "2019-07-17T15:09:06.845465Z"
    }
   },
   "outputs": [],
   "source": [
    "def find_anomalies(random_data):\n",
    "    random_data_std = np.std(random_data)\n",
    "    random_data_mean = np.mean(random_data)\n",
    "    anomaly_cut_off = random_data_std * 3\n",
    "    \n",
    "    lower_limit = random_data_mean - anomaly_cut_off\n",
    "    upper_limit = random_data_mean + anomaly_cut_off\n",
    "    for outlier in random_data:\n",
    "        if outlier > upper_limit or outlier < lower_limit:\n",
    "            anomalies.append(outlier)\n",
    "    return anomalies"
   ]
  },
  {
   "cell_type": "code",
   "execution_count": 8,
   "metadata": {
    "ExecuteTime": {
     "end_time": "2019-07-17T15:09:08.451828Z",
     "start_time": "2019-07-17T15:09:08.428213Z"
    }
   },
   "outputs": [
    {
     "data": {
      "text/plain": [
       "[-44.94654308758882,\n",
       " 83.80172647680942,\n",
       " 91.31081889525167,\n",
       " 82.62336198370959,\n",
       " -46.44758062487264,\n",
       " 85.09199442405225,\n",
       " -45.98190762374709,\n",
       " 82.34585570079975,\n",
       " -40.524964969294615,\n",
       " 80.69573143234192,\n",
       " 82.67478664901455,\n",
       " 86.7508395471427,\n",
       " 80.41681086424838,\n",
       " 88.64912389644574,\n",
       " 89.99283435184725,\n",
       " -40.4171007965239,\n",
       " 86.77560465671385,\n",
       " 86.62568899920596,\n",
       " -48.60341802546374,\n",
       " 92.88305793218585,\n",
       " 81.96913008017191,\n",
       " -40.933240419421814,\n",
       " -50.93874963874562,\n",
       " 84.95380110802071,\n",
       " 83.52700440969036,\n",
       " -43.58991098415005,\n",
       " -53.4588231945269,\n",
       " 80.17360566292442,\n",
       " -46.1951987438252,\n",
       " -40.171797258414614,\n",
       " -41.439102886056546,\n",
       " -51.524243051410224,\n",
       " 80.53562856886765,\n",
       " 91.20853328890898,\n",
       " -45.018483867088136,\n",
       " -51.04493524982266,\n",
       " -41.2989701245031,\n",
       " -42.758512130862236,\n",
       " -44.037778130988855,\n",
       " 84.49327653548696,\n",
       " 85.25917093450003,\n",
       " -46.27524911550729,\n",
       " -54.42706952513545,\n",
       " 87.40482468940796,\n",
       " 93.20694524472584,\n",
       " -41.01563663924472,\n",
       " 98.36749019820365,\n",
       " 97.5025741869345,\n",
       " -41.99413469741813,\n",
       " -40.14793119643069,\n",
       " -44.38644919061065,\n",
       " 81.20163374640953,\n",
       " -51.237461382594944,\n",
       " 80.07080458066,\n",
       " 84.20538760612472,\n",
       " -48.386623496222285,\n",
       " -53.406624318280706,\n",
       " -58.87321186565204,\n",
       " 84.17280043418315,\n",
       " 90.52524166490502,\n",
       " 80.11674934282458,\n",
       " -40.643790275376766,\n",
       " 83.28443472865797,\n",
       " 79.9356394326675,\n",
       " 81.27880161255437,\n",
       " -41.4997001733864,\n",
       " -40.817300684661745,\n",
       " -42.63873616899781,\n",
       " 80.52388818790315,\n",
       " 82.99013113468561,\n",
       " -52.8843539304189,\n",
       " -53.09329464190776,\n",
       " -40.64656788247454,\n",
       " 88.45088454611613,\n",
       " -48.624168800887986,\n",
       " -43.094675323687575,\n",
       " -41.59138686592471,\n",
       " 85.2439982426933,\n",
       " 80.78834163211611,\n",
       " -41.56177124238533,\n",
       " -40.1839291558931,\n",
       " -44.892169544769985,\n",
       " -48.72429364485548,\n",
       " 85.56333214879666,\n",
       " 86.85051131000793,\n",
       " 80.96441256162811,\n",
       " 86.78903772763088,\n",
       " 87.88460273420735,\n",
       " 90.68192933505762,\n",
       " -40.586489792638154,\n",
       " 83.35019868494552,\n",
       " -41.660252501773336,\n",
       " -43.13730576782521,\n",
       " -42.382749366966436,\n",
       " 86.9081014663142,\n",
       " 89.13249122383912,\n",
       " -54.290371654846794,\n",
       " 85.76750359704349,\n",
       " -40.32253916895829,\n",
       " 82.59567073873504,\n",
       " 91.44242454174906,\n",
       " 103.63603847182794,\n",
       " 94.57115218257377,\n",
       " -48.06539701228208,\n",
       " 82.30257721474447,\n",
       " 88.19037194713101,\n",
       " 91.49092131555199,\n",
       " 80.97905624248097,\n",
       " -54.71876330022076,\n",
       " -54.351186121193166,\n",
       " 87.3170080537535,\n",
       " -43.99757719444858,\n",
       " -42.233724329755724,\n",
       " -54.01949319876054,\n",
       " -50.84855299022226,\n",
       " -48.723804350194015,\n",
       " 84.13287654549814,\n",
       " 82.81308531586457,\n",
       " -44.44024925978687,\n",
       " -46.720013627524494,\n",
       " 80.9172299737808]"
      ]
     },
     "execution_count": 8,
     "metadata": {},
     "output_type": "execute_result"
    }
   ],
   "source": [
    "find_anomalies(data)"
   ]
  },
  {
   "cell_type": "code",
   "execution_count": 9,
   "metadata": {
    "ExecuteTime": {
     "end_time": "2019-07-17T15:10:21.148937Z",
     "start_time": "2019-07-17T15:10:20.413598Z"
    }
   },
   "outputs": [],
   "source": [
    "# 方法二：箱形图\n",
    "import seaborn as sns"
   ]
  },
  {
   "cell_type": "code",
   "execution_count": 12,
   "metadata": {
    "ExecuteTime": {
     "end_time": "2019-07-17T15:12:26.975452Z",
     "start_time": "2019-07-17T15:12:26.858136Z"
    }
   },
   "outputs": [
    {
     "data": {
      "text/plain": [
       "<matplotlib.axes._subplots.AxesSubplot at 0x12db08a20>"
      ]
     },
     "execution_count": 12,
     "metadata": {},
     "output_type": "execute_result"
    },
    {
     "data": {
      "image/png": "[encoded data removed]",
      "text/plain": [
       "<Figure size 432x288 with 1 Axes>"
      ]
     },
     "metadata": {
      "needs_background": "light"
     },
     "output_type": "display_data"
    }
   ],
   "source": [
    "sns.boxplot(data = data)"
   ]
  },
  {
   "cell_type": "code",
   "execution_count": 13,
   "metadata": {
    "ExecuteTime": {
     "end_time": "2019-07-17T15:16:44.115568Z",
     "start_time": "2019-07-17T15:16:43.199607Z"
    }
   },
   "outputs": [
    {
     "data": {
      "text/plain": [
       "81"
      ]
     },
     "execution_count": 13,
     "metadata": {},
     "output_type": "execute_result"
    }
   ],
   "source": [
    "# 方法三：DBScan聚类\n",
    "from sklearn.cluster import DBSCAN\n",
    "random.seed(1)\n",
    "random_data = np.random.randn(50000,2) * 20 + 20\n",
    "outlier_detection = DBSCAN(min_samples=2,eps=3)\n",
    "clusters = outlier_detection.fit_predict(random_data)\n",
    "list(clusters).count(-1)"
   ]
  },
  {
   "cell_type": "code",
   "execution_count": 15,
   "metadata": {
    "ExecuteTime": {
     "end_time": "2019-07-17T15:26:45.564227Z",
     "start_time": "2019-07-17T15:26:44.538221Z"
    }
   },
   "outputs": [
    {
     "name": "stdout",
     "output_type": "stream",
     "text": [
      "[ 1  1 -1 ...  1  1  1]\n"
     ]
    }
   ],
   "source": [
    "# 方法4:孤立森林\n",
    "'''\n",
    "孤立森林是一种无监督学习算法，属于组合决策树家族。这种方法和以上所有方法都不同。之前的所有方法都在试图寻找数据的常规区域，然后将任何在此定义区域之外的点都视为离群点或异常值。\n",
    "这种方法的工作方式不同。它明确地隔离异常值, 而不是通过给每个数据点分配一个分数来分析和构造正常的点和区域。它利用了这样一个事实：异常值只是少数，并且它们具有与正常实例非常不同的属性值。\n",
    "该算法适用于高维数据集，并且被证明是一种非常有效的异常检测方法。由于本文关注的是实现，而不是理论，因此作者不打算进一步讨论算法的工作原理。但是，周志华合著的论文《Isolation Forest》涵盖了其工作方式的全部细节。\n",
    "'''\n",
    "\n",
    "from sklearn.ensemble import IsolationForest\n",
    "random.seed(1)\n",
    "random_data = np.random.randn(50000,2) * 20 + 20\n",
    "clf = IsolationForest(behaviour='new',max_samples=100,random_state=1,contamination='auto')\n",
    "preds = clf.fit_predict(random_data)\n",
    "print(preds) # 结果是-1，说明这个特定数据点是离群点，1说明不是离群点"
   ]
  },
  {
   "cell_type": "code",
   "execution_count": 16,
   "metadata": {
    "ExecuteTime": {
     "end_time": "2019-07-17T15:29:51.841142Z",
     "start_time": "2019-07-17T15:29:51.838447Z"
    }
   },
   "outputs": [],
   "source": [
    "# 方法5:Robust Random Cut Forest\n",
    "# 是用于异常检测的无监督算法，它也通过关联异常分数来工作，较低的分数值表示数据点是正常的，较高的分数值则表示数据中存在异常"
   ]
  },
  {
   "cell_type": "code",
   "execution_count": null,
   "metadata": {},
   "outputs": [],
   "source": []
  }
 ],
 "metadata": {
  "kernelspec": {
   "display_name": "Python [conda env:root] *",
   "language": "python",
   "name": "conda-root-py"
  },
  "language_info": {
   "codemirror_mode": {
    "name": "ipython",
    "version": 3
   },
   "file_extension": ".py",
   "mimetype": "text/x-python",
   "name": "python",
   "nbconvert_exporter": "python",
   "pygments_lexer": "ipython3",
   "version": "3.6.5"
  },
  "toc": {
   "base_numbering": 1,
   "nav_menu": {},
   "number_sections": true,
   "sideBar": true,
   "skip_h1_title": false,
   "title_cell": "Table of Contents",
   "title_sidebar": "Contents",
   "toc_cell": false,
   "toc_position": {},
   "toc_section_display": true,
   "toc_window_display": false
  },
  "varInspector": {
   "cols": {
    "lenName": 16,
    "lenType": 16,
    "lenVar": 40
   },
   "kernels_config": {
    "python": {
     "delete_cmd_postfix": "",
     "delete_cmd_prefix": "del ",
     "library": "var_list.py",
     "varRefreshCmd": "print(var_dic_list())"
    },
    "r": {
     "delete_cmd_postfix": ") ",
     "delete_cmd_prefix": "rm(",
     "library": "var_list.r",
     "varRefreshCmd": "cat(var_dic_list()) "
    }
   },
   "types_to_exclude": [
    "module",
    "function",
    "builtin_function_or_method",
    "instance",
    "_Feature"
   ],
   "window_display": false
  }
 },
 "nbformat": 4,
 "nbformat_minor": 2
}
