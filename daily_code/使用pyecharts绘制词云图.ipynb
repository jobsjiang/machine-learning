{
 "cells": [
  {
   "cell_type": "markdown",
   "metadata": {},
   "source": [
    "https://mp.weixin.qq.com/s/iFHFNPqMMvMFx_G8Iwpu1g"
   ]
  },
  {
   "cell_type": "code",
   "execution_count": 1,
   "metadata": {},
   "outputs": [],
   "source": [
    "from pyecharts import options as opts\n",
    "from pyecharts.charts import WordCloud\n",
    "from pyecharts.globals import SymbolType"
   ]
  },
  {
   "cell_type": "code",
   "execution_count": 2,
   "metadata": {},
   "outputs": [],
   "source": [
    "# 添加词频数据\n",
    "words = [\n",
    "    (\"Sam S Club\", 10000),\n",
    "    (\"Macys\", 6181),\n",
    "    (\"Amy Schumer\", 4386),\n",
    "    (\"Jurassic World\", 4055),\n",
    "    (\"Charter Communications\", 2467),\n",
    "    (\"Chick Fil A\", 2244),\n",
    "    (\"Planet Fitness\", 1868),\n",
    "    (\"Pitch Perfect\", 1484),\n",
    "    (\"Express\", 1112),\n",
    "    (\"Home\", 865),\n",
    "    (\"Johnny Depp\", 847),\n",
    "    (\"Lena Dunham\", 582),\n",
    "    (\"Lewis Hamilton\", 555),\n",
    "    (\"KXAN\", 550),\n",
    "    (\"Mary Ellen Mark\", 462),\n",
    "    (\"Farrah Abraham\", 366),\n",
    "    (\"Rita Ora\", 360),\n",
    "    (\"Serena Williams\", 282),\n",
    "    (\"NCAA baseball tournament\", 273),\n",
    "    (\"Point Break\", 265),\n",
    "]"
   ]
  },
  {
   "cell_type": "code",
   "execution_count": 3,
   "metadata": {},
   "outputs": [],
   "source": [
    "# 使用WordCloud模块，链式调用配置，最终生成html文件\n",
    "c = (\n",
    "    WordCloud()\n",
    "    .add(\"\",words,word_size_range=[20,100],shape=SymbolType.DIAMOND)\n",
    "    .set_global_opts(title_opts=opts.TitleOpts(title=\"WordCloud-shape-diamond\"))\n",
    "    .render(\"../../dataset/wordcloud_diamond.html\")\n",
    ")"
   ]
  },
  {
   "cell_type": "code",
   "execution_count": 4,
   "metadata": {},
   "outputs": [],
   "source": [
    "import pandas as pd\n",
    "import jieba\n",
    "from collections import Counter\n",
    "import pyecharts.options as opts\n",
    "from pyecharts.charts import WordCloud"
   ]
  },
  {
   "cell_type": "code",
   "execution_count": 5,
   "metadata": {},
   "outputs": [],
   "source": [
    "# 加载数据，提取文本\n",
    "def get_text(goods,evaluation):\n",
    "    if evaluation == '好评':\n",
    "        evaluation = 1\n",
    "    else:\n",
    "        evaluation = 0\n",
    "    path = '../../dataset/comments.csv'\n",
    "    with open(path,encoding='utf-8') as f:\n",
    "        data = pd.read_csv(f)\n",
    "    # 商品类型\n",
    "    types = data['cat'].unique()\n",
    "    # 获取文本\n",
    "    text = data[(data['cat']==goods)&(data['label']==evaluation)]['review'].values.tolist()\n",
    "    text = str(text)[1:-1]\n",
    "    return text"
   ]
  },
  {
   "cell_type": "code",
   "execution_count": 6,
   "metadata": {},
   "outputs": [],
   "source": [
    "# 分词处理\n",
    "def split_word(text):\n",
    "    word_list = list(jieba.cut(text))\n",
    "    with open('../../dataset/停用词库.txt') as f:\n",
    "        meaningless_word = f.read().splitlines()\n",
    "    result = []\n",
    "    for i in word_list:\n",
    "        if i not in meaningless_word:\n",
    "            result.append(i.replace(' ',''))\n",
    "    return result"
   ]
  },
  {
   "cell_type": "code",
   "execution_count": 14,
   "metadata": {},
   "outputs": [],
   "source": [
    "# 词频统计\n",
    "def word_counter(words):\n",
    "    words_count = Counter(words)\n",
    "    words_list = words_count.most_common(2000)\n",
    "    return words_list"
   ]
  },
  {
   "cell_type": "code",
   "execution_count": 18,
   "metadata": {},
   "outputs": [],
   "source": [
    "# 词云展示\n",
    "def word_cloud(data):\n",
    "     (\n",
    "        WordCloud()\n",
    "            .add(series_name=\"热点分析\",\n",
    "                 # 添加数据\n",
    "                 data_pair=data,\n",
    "                 # 字间隙\n",
    "                 word_gap = 5,\n",
    "                 # 调整字大小范围\n",
    "                 word_size_range=[15, 80],\n",
    "                 shape=\"cursive\",\n",
    "                 # 选择背景图，也可以不加该参数，使用默认背景\n",
    "                 mask_image='../../dataset/购物车.jpg')\n",
    "            .set_global_opts(\n",
    "            title_opts=opts.TitleOpts(\n",
    "                title=\"热点分析\", title_textstyle_opts=opts.TextStyleOpts(font_size=23)\n",
    "            ),\n",
    "            tooltip_opts=opts.TooltipOpts(is_show=True),\n",
    "        )\n",
    "        # 输出为html格式\n",
    "            .render(\"../../dataset/basic.html\")\n",
    "    )"
   ]
  },
  {
   "cell_type": "code",
   "execution_count": 19,
   "metadata": {},
   "outputs": [],
   "source": [
    "def main(goods,evaluation):\n",
    "    text = get_text(goods,evaluation)\n",
    "    words = split_word(text)\n",
    "    data = word_counter(words)\n",
    "    word_cloud(data)"
   ]
  },
  {
   "cell_type": "code",
   "execution_count": 20,
   "metadata": {},
   "outputs": [],
   "source": [
    "if __name__ == '__main__':\n",
    "    # 商品种类:书籍、平板、手机、水果、洗发水、热水器、衣服、计算机、酒店\n",
    "    # 评论种类:好评、差评\n",
    "    main('手机','好评')"
   ]
  },
  {
   "cell_type": "code",
   "execution_count": null,
   "metadata": {},
   "outputs": [],
   "source": []
  }
 ],
 "metadata": {
  "kernelspec": {
   "display_name": "Python [conda env:root] *",
   "language": "python",
   "name": "conda-root-py"
  },
  "language_info": {
   "codemirror_mode": {
    "name": "ipython",
    "version": 3
   },
   "file_extension": ".py",
   "mimetype": "text/x-python",
   "name": "python",
   "nbconvert_exporter": "python",
   "pygments_lexer": "ipython3",
   "version": "3.6.5"
  }
 },
 "nbformat": 4,
 "nbformat_minor": 4
}
