{
 "cells": [
  {
   "cell_type": "code",
   "execution_count": 12,
   "metadata": {},
   "outputs": [],
   "source": [
    "import numpy as np"
   ]
  },
  {
   "cell_type": "code",
   "execution_count": 19,
   "metadata": {},
   "outputs": [],
   "source": [
    "class NeuralNetwork():\n",
    "    # 随机初始化权重\n",
    "    def __init__(self):\n",
    "        np.random.seed(1)\n",
    "        self.synaptic_weights = 2 * np.random.random((3,1)) - 1\n",
    "    # 定义激活函数，这里使用sigmoid\n",
    "    def sigmoid(self,x):\n",
    "        return 1 / (1 + np.exp(-x))\n",
    "    # 计算Sigmoid函数的偏导数\n",
    "    def sigmoid_derivative(self,x):\n",
    "        return x * (1 - x)\n",
    "    # 训练模型\n",
    "    def train(self,training_inputs,training_outputs,learn_rate,training_iterations):\n",
    "        # 迭代训练\n",
    "        for iteration in range(training_iterations):\n",
    "            # 前向计算\n",
    "            output = self.think(training_inputs)\n",
    "            # 计算误差\n",
    "            error = training_outputs - output\n",
    "            # 反向传播-BP-微调权重\n",
    "            adjustments = np.dot(training_inputs.T,error * self.sigmoid_derivative(output))\n",
    "            self.synaptic_weights += learn_rate * adjustments\n",
    "            \n",
    "    def think(self,inputs):\n",
    "        # 输入通过网络得到输出，转化为浮点型数据类型\n",
    "        inputs = inputs.astype(float)\n",
    "        output = self.sigmoid(np.dot(inputs,self.synaptic_weights))\n",
    "        return output"
   ]
  },
  {
   "cell_type": "code",
   "execution_count": 20,
   "metadata": {},
   "outputs": [],
   "source": [
    "#初始化前馈神经网络\n",
    "neural_network = NeuralNetwork()"
   ]
  },
  {
   "cell_type": "code",
   "execution_count": 21,
   "metadata": {},
   "outputs": [
    {
     "name": "stdout",
     "output_type": "stream",
     "text": [
      "随机初始化的权重矩阵W [[-0.16595599]\n",
      " [ 0.44064899]\n",
      " [-0.99977125]]\n"
     ]
    }
   ],
   "source": [
    "print(\"随机初始化的权重矩阵W\",neural_network.synaptic_weights)"
   ]
  },
  {
   "cell_type": "code",
   "execution_count": 22,
   "metadata": {},
   "outputs": [],
   "source": [
    "# 模拟训练数据X\n",
    "train_data = [[0,0,1], [1,1,1], [1,0,1], [0,1,1]]\n",
    "training_inputs = np.array(train_data)"
   ]
  },
  {
   "cell_type": "code",
   "execution_count": 23,
   "metadata": {},
   "outputs": [],
   "source": [
    "# 模拟训练数据Y\n",
    "training_outputs = np.array([[0,1,1,0]]).T"
   ]
  },
  {
   "cell_type": "code",
   "execution_count": 24,
   "metadata": {},
   "outputs": [],
   "source": [
    "# 定义模型的参数：\n",
    "# 参数学习率\n",
    "learn_rate = 0.1\n",
    "# 模型迭代的次数\n",
    "epoch = 15000\n",
    "neural_network.train(training_inputs,training_outputs,learn_rate,epoch)"
   ]
  },
  {
   "cell_type": "code",
   "execution_count": 25,
   "metadata": {},
   "outputs": [
    {
     "name": "stdout",
     "output_type": "stream",
     "text": [
      "迭代计算之后权重矩阵W [[ 7.6957029 ]\n",
      " [-0.21423069]\n",
      " [-3.63533102]]\n"
     ]
    }
   ],
   "source": [
    "print(\"迭代计算之后权重矩阵W\",neural_network.synaptic_weights)"
   ]
  },
  {
   "cell_type": "code",
   "execution_count": 26,
   "metadata": {},
   "outputs": [
    {
     "name": "stdout",
     "output_type": "stream",
     "text": [
      "该微博被点击的概率 [0.02569743]\n"
     ]
    }
   ],
   "source": [
    "# 模拟需要预测是数据X\n",
    "pre_data = [0,0,1]\n",
    "# 使用训练的模型预测该微博被点击的概率\n",
    "print(\"该微博被点击的概率\",neural_network.think(np.array(pre_data)))"
   ]
  },
  {
   "cell_type": "code",
   "execution_count": null,
   "metadata": {},
   "outputs": [],
   "source": []
  }
 ],
 "metadata": {
  "kernelspec": {
   "display_name": "Python 3",
   "language": "python",
   "name": "python3"
  },
  "language_info": {
   "codemirror_mode": {
    "name": "ipython",
    "version": 3
   },
   "file_extension": ".py",
   "mimetype": "text/x-python",
   "name": "python",
   "nbconvert_exporter": "python",
   "pygments_lexer": "ipython3",
   "version": "3.6.5"
  }
 },
 "nbformat": 4,
 "nbformat_minor": 2
}
