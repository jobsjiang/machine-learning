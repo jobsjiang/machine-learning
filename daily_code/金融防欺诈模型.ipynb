{
 "cells": [
  {
   "cell_type": "code",
   "execution_count": 34,
   "metadata": {},
   "outputs": [],
   "source": [
    "import numpy as np\n",
    "import pandas as pd\n",
    "import matplotlib.pyplot as plt"
   ]
  },
  {
   "cell_type": "code",
   "execution_count": 35,
   "metadata": {},
   "outputs": [
    {
     "name": "stdout",
     "output_type": "stream",
     "text": [
      "<class 'pandas.core.frame.DataFrame'>\n",
      "RangeIndex: 99124 entries, 0 to 99123\n",
      "Columns: 111 entries, id to total_il_high_credit_limit\n",
      "dtypes: float64(85), object(26)\n",
      "memory usage: 83.9+ MB\n"
     ]
    }
   ],
   "source": [
    "# 导入数据\n",
    "df = pd.read_csv('../dataset/LoanStats_2016Q3.csv',skiprows=2,low_memory=False)\n",
    "df.info()"
   ]
  },
  {
   "cell_type": "code",
   "execution_count": 36,
   "metadata": {},
   "outputs": [
    {
     "data": {
      "text/html": [
       "<div>\n",
       "<style scoped>\n",
       "    .dataframe tbody tr th:only-of-type {\n",
       "        vertical-align: middle;\n",
       "    }\n",
       "\n",
       "    .dataframe tbody tr th {\n",
       "        vertical-align: top;\n",
       "    }\n",
       "\n",
       "    .dataframe thead th {\n",
       "        text-align: right;\n",
       "    }\n",
       "</style>\n",
       "<table border=\"1\" class=\"dataframe\">\n",
       "  <thead>\n",
       "    <tr style=\"text-align: right;\">\n",
       "      <th></th>\n",
       "      <th>id</th>\n",
       "      <th>member_id</th>\n",
       "      <th>loan_amnt</th>\n",
       "      <th>funded_amnt</th>\n",
       "      <th>funded_amnt_inv</th>\n",
       "      <th>term</th>\n",
       "      <th>int_rate</th>\n",
       "      <th>installment</th>\n",
       "      <th>grade</th>\n",
       "      <th>sub_grade</th>\n",
       "      <th>...</th>\n",
       "      <th>num_tl_90g_dpd_24m</th>\n",
       "      <th>num_tl_op_past_12m</th>\n",
       "      <th>pct_tl_nvr_dlq</th>\n",
       "      <th>percent_bc_gt_75</th>\n",
       "      <th>pub_rec_bankruptcies</th>\n",
       "      <th>tax_liens</th>\n",
       "      <th>tot_hi_cred_lim</th>\n",
       "      <th>total_bal_ex_mort</th>\n",
       "      <th>total_bc_limit</th>\n",
       "      <th>total_il_high_credit_limit</th>\n",
       "    </tr>\n",
       "  </thead>\n",
       "  <tbody>\n",
       "    <tr>\n",
       "      <th>0</th>\n",
       "      <td>90158423</td>\n",
       "      <td>96608413.0</td>\n",
       "      <td>15000.0</td>\n",
       "      <td>15000.0</td>\n",
       "      <td>15000.0</td>\n",
       "      <td>36 months</td>\n",
       "      <td>13.99%</td>\n",
       "      <td>512.60</td>\n",
       "      <td>C</td>\n",
       "      <td>C3</td>\n",
       "      <td>...</td>\n",
       "      <td>0.0</td>\n",
       "      <td>5.0</td>\n",
       "      <td>100.0</td>\n",
       "      <td>33.3</td>\n",
       "      <td>0.0</td>\n",
       "      <td>0.0</td>\n",
       "      <td>147587.0</td>\n",
       "      <td>140492.0</td>\n",
       "      <td>30200.0</td>\n",
       "      <td>108587.0</td>\n",
       "    </tr>\n",
       "    <tr>\n",
       "      <th>1</th>\n",
       "      <td>90106576</td>\n",
       "      <td>96556492.0</td>\n",
       "      <td>32200.0</td>\n",
       "      <td>32200.0</td>\n",
       "      <td>32200.0</td>\n",
       "      <td>60 months</td>\n",
       "      <td>21.49%</td>\n",
       "      <td>880.02</td>\n",
       "      <td>D</td>\n",
       "      <td>D5</td>\n",
       "      <td>...</td>\n",
       "      <td>0.0</td>\n",
       "      <td>2.0</td>\n",
       "      <td>100.0</td>\n",
       "      <td>40.0</td>\n",
       "      <td>1.0</td>\n",
       "      <td>0.0</td>\n",
       "      <td>199969.0</td>\n",
       "      <td>24934.0</td>\n",
       "      <td>13900.0</td>\n",
       "      <td>15886.0</td>\n",
       "    </tr>\n",
       "    <tr>\n",
       "      <th>2</th>\n",
       "      <td>90541687</td>\n",
       "      <td>97065414.0</td>\n",
       "      <td>2600.0</td>\n",
       "      <td>2600.0</td>\n",
       "      <td>2600.0</td>\n",
       "      <td>36 months</td>\n",
       "      <td>8.99%</td>\n",
       "      <td>82.67</td>\n",
       "      <td>B</td>\n",
       "      <td>B1</td>\n",
       "      <td>...</td>\n",
       "      <td>0.0</td>\n",
       "      <td>0.0</td>\n",
       "      <td>100.0</td>\n",
       "      <td>0.0</td>\n",
       "      <td>0.0</td>\n",
       "      <td>0.0</td>\n",
       "      <td>73227.0</td>\n",
       "      <td>19497.0</td>\n",
       "      <td>50200.0</td>\n",
       "      <td>20527.0</td>\n",
       "    </tr>\n",
       "    <tr>\n",
       "      <th>3</th>\n",
       "      <td>89946651</td>\n",
       "      <td>96340441.0</td>\n",
       "      <td>3250.0</td>\n",
       "      <td>3250.0</td>\n",
       "      <td>3250.0</td>\n",
       "      <td>36 months</td>\n",
       "      <td>13.49%</td>\n",
       "      <td>110.28</td>\n",
       "      <td>C</td>\n",
       "      <td>C2</td>\n",
       "      <td>...</td>\n",
       "      <td>0.0</td>\n",
       "      <td>1.0</td>\n",
       "      <td>90.0</td>\n",
       "      <td>0.0</td>\n",
       "      <td>0.0</td>\n",
       "      <td>0.0</td>\n",
       "      <td>4700.0</td>\n",
       "      <td>2574.0</td>\n",
       "      <td>2600.0</td>\n",
       "      <td>0.0</td>\n",
       "    </tr>\n",
       "    <tr>\n",
       "      <th>4</th>\n",
       "      <td>90230102</td>\n",
       "      <td>96680148.0</td>\n",
       "      <td>17000.0</td>\n",
       "      <td>17000.0</td>\n",
       "      <td>17000.0</td>\n",
       "      <td>36 months</td>\n",
       "      <td>14.49%</td>\n",
       "      <td>585.08</td>\n",
       "      <td>C</td>\n",
       "      <td>C4</td>\n",
       "      <td>...</td>\n",
       "      <td>2.0</td>\n",
       "      <td>3.0</td>\n",
       "      <td>82.4</td>\n",
       "      <td>40.0</td>\n",
       "      <td>0.0</td>\n",
       "      <td>0.0</td>\n",
       "      <td>32410.0</td>\n",
       "      <td>24644.0</td>\n",
       "      <td>12100.0</td>\n",
       "      <td>18310.0</td>\n",
       "    </tr>\n",
       "  </tbody>\n",
       "</table>\n",
       "<p>5 rows × 111 columns</p>\n",
       "</div>"
      ],
      "text/plain": [
       "         id   member_id  loan_amnt  funded_amnt  funded_amnt_inv        term  \\\n",
       "0  90158423  96608413.0    15000.0      15000.0          15000.0   36 months   \n",
       "1  90106576  96556492.0    32200.0      32200.0          32200.0   60 months   \n",
       "2  90541687  97065414.0     2600.0       2600.0           2600.0   36 months   \n",
       "3  89946651  96340441.0     3250.0       3250.0           3250.0   36 months   \n",
       "4  90230102  96680148.0    17000.0      17000.0          17000.0   36 months   \n",
       "\n",
       "  int_rate  installment grade sub_grade            ...              \\\n",
       "0   13.99%       512.60     C        C3            ...               \n",
       "1   21.49%       880.02     D        D5            ...               \n",
       "2    8.99%        82.67     B        B1            ...               \n",
       "3   13.49%       110.28     C        C2            ...               \n",
       "4   14.49%       585.08     C        C4            ...               \n",
       "\n",
       "  num_tl_90g_dpd_24m num_tl_op_past_12m pct_tl_nvr_dlq  percent_bc_gt_75  \\\n",
       "0                0.0                5.0          100.0              33.3   \n",
       "1                0.0                2.0          100.0              40.0   \n",
       "2                0.0                0.0          100.0               0.0   \n",
       "3                0.0                1.0           90.0               0.0   \n",
       "4                2.0                3.0           82.4              40.0   \n",
       "\n",
       "  pub_rec_bankruptcies tax_liens tot_hi_cred_lim total_bal_ex_mort  \\\n",
       "0                  0.0       0.0        147587.0          140492.0   \n",
       "1                  1.0       0.0        199969.0           24934.0   \n",
       "2                  0.0       0.0         73227.0           19497.0   \n",
       "3                  0.0       0.0          4700.0            2574.0   \n",
       "4                  0.0       0.0         32410.0           24644.0   \n",
       "\n",
       "  total_bc_limit total_il_high_credit_limit  \n",
       "0        30200.0                   108587.0  \n",
       "1        13900.0                    15886.0  \n",
       "2        50200.0                    20527.0  \n",
       "3         2600.0                        0.0  \n",
       "4        12100.0                    18310.0  \n",
       "\n",
       "[5 rows x 111 columns]"
      ]
     },
     "execution_count": 36,
     "metadata": {},
     "output_type": "execute_result"
    }
   ],
   "source": [
    "df.head()"
   ]
  },
  {
   "cell_type": "code",
   "execution_count": 37,
   "metadata": {},
   "outputs": [
    {
     "data": {
      "text/plain": [
       "array(['id', 'member_id', 'loan_amnt', 'funded_amnt', 'funded_amnt_inv',\n",
       "       'term', 'int_rate', 'installment', 'grade', 'sub_grade',\n",
       "       'emp_title', 'emp_length', 'home_ownership', 'annual_inc',\n",
       "       'verification_status', 'issue_d', 'loan_status', 'pymnt_plan',\n",
       "       'url', 'desc', 'purpose', 'title', 'zip_code', 'addr_state', 'dti',\n",
       "       'delinq_2yrs', 'earliest_cr_line', 'inq_last_6mths',\n",
       "       'mths_since_last_delinq', 'mths_since_last_record', 'open_acc',\n",
       "       'pub_rec', 'revol_bal', 'revol_util', 'total_acc',\n",
       "       'initial_list_status', 'out_prncp', 'out_prncp_inv', 'total_pymnt',\n",
       "       'total_pymnt_inv', 'total_rec_prncp', 'total_rec_int',\n",
       "       'total_rec_late_fee', 'recoveries', 'collection_recovery_fee',\n",
       "       'last_pymnt_d', 'last_pymnt_amnt', 'next_pymnt_d',\n",
       "       'last_credit_pull_d', 'collections_12_mths_ex_med',\n",
       "       'mths_since_last_major_derog', 'policy_code', 'application_type',\n",
       "       'annual_inc_joint', 'dti_joint', 'verification_status_joint',\n",
       "       'acc_now_delinq', 'tot_coll_amt', 'tot_cur_bal', 'open_acc_6m',\n",
       "       'open_il_6m', 'open_il_12m', 'open_il_24m', 'mths_since_rcnt_il',\n",
       "       'total_bal_il', 'il_util', 'open_rv_12m', 'open_rv_24m',\n",
       "       'max_bal_bc', 'all_util', 'total_rev_hi_lim', 'inq_fi',\n",
       "       'total_cu_tl', 'inq_last_12m', 'acc_open_past_24mths',\n",
       "       'avg_cur_bal', 'bc_open_to_buy', 'bc_util',\n",
       "       'chargeoff_within_12_mths', 'delinq_amnt', 'mo_sin_old_il_acct',\n",
       "       'mo_sin_old_rev_tl_op', 'mo_sin_rcnt_rev_tl_op', 'mo_sin_rcnt_tl',\n",
       "       'mort_acc', 'mths_since_recent_bc', 'mths_since_recent_bc_dlq',\n",
       "       'mths_since_recent_inq', 'mths_since_recent_revol_delinq',\n",
       "       'num_accts_ever_120_pd', 'num_actv_bc_tl', 'num_actv_rev_tl',\n",
       "       'num_bc_sats', 'num_bc_tl', 'num_il_tl', 'num_op_rev_tl',\n",
       "       'num_rev_accts', 'num_rev_tl_bal_gt_0', 'num_sats',\n",
       "       'num_tl_120dpd_2m', 'num_tl_30dpd', 'num_tl_90g_dpd_24m',\n",
       "       'num_tl_op_past_12m', 'pct_tl_nvr_dlq', 'percent_bc_gt_75',\n",
       "       'pub_rec_bankruptcies', 'tax_liens', 'tot_hi_cred_lim',\n",
       "       'total_bal_ex_mort', 'total_bc_limit',\n",
       "       'total_il_high_credit_limit'], dtype=object)"
      ]
     },
     "execution_count": 37,
     "metadata": {},
     "output_type": "execute_result"
    }
   ],
   "source": [
    "df.columns.values"
   ]
  },
  {
   "cell_type": "code",
   "execution_count": 38,
   "metadata": {},
   "outputs": [],
   "source": [
    "df.drop(['id'],axis=1,inplace=True)\n",
    "df.drop(['member_id'],axis=1,inplace=True)"
   ]
  },
  {
   "cell_type": "code",
   "execution_count": 39,
   "metadata": {},
   "outputs": [
    {
     "data": {
      "text/html": [
       "<div>\n",
       "<style scoped>\n",
       "    .dataframe tbody tr th:only-of-type {\n",
       "        vertical-align: middle;\n",
       "    }\n",
       "\n",
       "    .dataframe tbody tr th {\n",
       "        vertical-align: top;\n",
       "    }\n",
       "\n",
       "    .dataframe thead th {\n",
       "        text-align: right;\n",
       "    }\n",
       "</style>\n",
       "<table border=\"1\" class=\"dataframe\">\n",
       "  <thead>\n",
       "    <tr style=\"text-align: right;\">\n",
       "      <th></th>\n",
       "      <th>loan_amnt</th>\n",
       "      <th>funded_amnt</th>\n",
       "      <th>funded_amnt_inv</th>\n",
       "      <th>term</th>\n",
       "      <th>int_rate</th>\n",
       "      <th>installment</th>\n",
       "      <th>grade</th>\n",
       "      <th>sub_grade</th>\n",
       "      <th>emp_title</th>\n",
       "      <th>emp_length</th>\n",
       "      <th>...</th>\n",
       "      <th>num_tl_90g_dpd_24m</th>\n",
       "      <th>num_tl_op_past_12m</th>\n",
       "      <th>pct_tl_nvr_dlq</th>\n",
       "      <th>percent_bc_gt_75</th>\n",
       "      <th>pub_rec_bankruptcies</th>\n",
       "      <th>tax_liens</th>\n",
       "      <th>tot_hi_cred_lim</th>\n",
       "      <th>total_bal_ex_mort</th>\n",
       "      <th>total_bc_limit</th>\n",
       "      <th>total_il_high_credit_limit</th>\n",
       "    </tr>\n",
       "  </thead>\n",
       "  <tbody>\n",
       "    <tr>\n",
       "      <th>0</th>\n",
       "      <td>15000.0</td>\n",
       "      <td>15000.0</td>\n",
       "      <td>15000.0</td>\n",
       "      <td>36 months</td>\n",
       "      <td>13.99%</td>\n",
       "      <td>512.60</td>\n",
       "      <td>C</td>\n",
       "      <td>C3</td>\n",
       "      <td>Fiscal Director</td>\n",
       "      <td>2 years</td>\n",
       "      <td>...</td>\n",
       "      <td>0.0</td>\n",
       "      <td>5.0</td>\n",
       "      <td>100.0</td>\n",
       "      <td>33.3</td>\n",
       "      <td>0.0</td>\n",
       "      <td>0.0</td>\n",
       "      <td>147587.0</td>\n",
       "      <td>140492.0</td>\n",
       "      <td>30200.0</td>\n",
       "      <td>108587.0</td>\n",
       "    </tr>\n",
       "    <tr>\n",
       "      <th>1</th>\n",
       "      <td>32200.0</td>\n",
       "      <td>32200.0</td>\n",
       "      <td>32200.0</td>\n",
       "      <td>60 months</td>\n",
       "      <td>21.49%</td>\n",
       "      <td>880.02</td>\n",
       "      <td>D</td>\n",
       "      <td>D5</td>\n",
       "      <td>warehouse/supervisor</td>\n",
       "      <td>10+ years</td>\n",
       "      <td>...</td>\n",
       "      <td>0.0</td>\n",
       "      <td>2.0</td>\n",
       "      <td>100.0</td>\n",
       "      <td>40.0</td>\n",
       "      <td>1.0</td>\n",
       "      <td>0.0</td>\n",
       "      <td>199969.0</td>\n",
       "      <td>24934.0</td>\n",
       "      <td>13900.0</td>\n",
       "      <td>15886.0</td>\n",
       "    </tr>\n",
       "    <tr>\n",
       "      <th>2</th>\n",
       "      <td>2600.0</td>\n",
       "      <td>2600.0</td>\n",
       "      <td>2600.0</td>\n",
       "      <td>36 months</td>\n",
       "      <td>8.99%</td>\n",
       "      <td>82.67</td>\n",
       "      <td>B</td>\n",
       "      <td>B1</td>\n",
       "      <td>Loaner Coordinator</td>\n",
       "      <td>3 years</td>\n",
       "      <td>...</td>\n",
       "      <td>0.0</td>\n",
       "      <td>0.0</td>\n",
       "      <td>100.0</td>\n",
       "      <td>0.0</td>\n",
       "      <td>0.0</td>\n",
       "      <td>0.0</td>\n",
       "      <td>73227.0</td>\n",
       "      <td>19497.0</td>\n",
       "      <td>50200.0</td>\n",
       "      <td>20527.0</td>\n",
       "    </tr>\n",
       "    <tr>\n",
       "      <th>3</th>\n",
       "      <td>3250.0</td>\n",
       "      <td>3250.0</td>\n",
       "      <td>3250.0</td>\n",
       "      <td>36 months</td>\n",
       "      <td>13.49%</td>\n",
       "      <td>110.28</td>\n",
       "      <td>C</td>\n",
       "      <td>C2</td>\n",
       "      <td>Tobacco Sales Cashier</td>\n",
       "      <td>2 years</td>\n",
       "      <td>...</td>\n",
       "      <td>0.0</td>\n",
       "      <td>1.0</td>\n",
       "      <td>90.0</td>\n",
       "      <td>0.0</td>\n",
       "      <td>0.0</td>\n",
       "      <td>0.0</td>\n",
       "      <td>4700.0</td>\n",
       "      <td>2574.0</td>\n",
       "      <td>2600.0</td>\n",
       "      <td>0.0</td>\n",
       "    </tr>\n",
       "    <tr>\n",
       "      <th>4</th>\n",
       "      <td>17000.0</td>\n",
       "      <td>17000.0</td>\n",
       "      <td>17000.0</td>\n",
       "      <td>36 months</td>\n",
       "      <td>14.49%</td>\n",
       "      <td>585.08</td>\n",
       "      <td>C</td>\n",
       "      <td>C4</td>\n",
       "      <td>Lead</td>\n",
       "      <td>5 years</td>\n",
       "      <td>...</td>\n",
       "      <td>2.0</td>\n",
       "      <td>3.0</td>\n",
       "      <td>82.4</td>\n",
       "      <td>40.0</td>\n",
       "      <td>0.0</td>\n",
       "      <td>0.0</td>\n",
       "      <td>32410.0</td>\n",
       "      <td>24644.0</td>\n",
       "      <td>12100.0</td>\n",
       "      <td>18310.0</td>\n",
       "    </tr>\n",
       "  </tbody>\n",
       "</table>\n",
       "<p>5 rows × 109 columns</p>\n",
       "</div>"
      ],
      "text/plain": [
       "   loan_amnt  funded_amnt  funded_amnt_inv        term int_rate  installment  \\\n",
       "0    15000.0      15000.0          15000.0   36 months   13.99%       512.60   \n",
       "1    32200.0      32200.0          32200.0   60 months   21.49%       880.02   \n",
       "2     2600.0       2600.0           2600.0   36 months    8.99%        82.67   \n",
       "3     3250.0       3250.0           3250.0   36 months   13.49%       110.28   \n",
       "4    17000.0      17000.0          17000.0   36 months   14.49%       585.08   \n",
       "\n",
       "  grade sub_grade              emp_title emp_length  \\\n",
       "0     C        C3        Fiscal Director    2 years   \n",
       "1     D        D5   warehouse/supervisor  10+ years   \n",
       "2     B        B1     Loaner Coordinator    3 years   \n",
       "3     C        C2  Tobacco Sales Cashier    2 years   \n",
       "4     C        C4                   Lead    5 years   \n",
       "\n",
       "             ...             num_tl_90g_dpd_24m  num_tl_op_past_12m  \\\n",
       "0            ...                            0.0                 5.0   \n",
       "1            ...                            0.0                 2.0   \n",
       "2            ...                            0.0                 0.0   \n",
       "3            ...                            0.0                 1.0   \n",
       "4            ...                            2.0                 3.0   \n",
       "\n",
       "  pct_tl_nvr_dlq percent_bc_gt_75 pub_rec_bankruptcies tax_liens  \\\n",
       "0          100.0             33.3                  0.0       0.0   \n",
       "1          100.0             40.0                  1.0       0.0   \n",
       "2          100.0              0.0                  0.0       0.0   \n",
       "3           90.0              0.0                  0.0       0.0   \n",
       "4           82.4             40.0                  0.0       0.0   \n",
       "\n",
       "  tot_hi_cred_lim total_bal_ex_mort total_bc_limit total_il_high_credit_limit  \n",
       "0        147587.0          140492.0        30200.0                   108587.0  \n",
       "1        199969.0           24934.0        13900.0                    15886.0  \n",
       "2         73227.0           19497.0        50200.0                    20527.0  \n",
       "3          4700.0            2574.0         2600.0                        0.0  \n",
       "4         32410.0           24644.0        12100.0                    18310.0  \n",
       "\n",
       "[5 rows x 109 columns]"
      ]
     },
     "execution_count": 39,
     "metadata": {},
     "output_type": "execute_result"
    }
   ],
   "source": [
    "df.head()"
   ]
  },
  {
   "cell_type": "code",
   "execution_count": 40,
   "metadata": {},
   "outputs": [],
   "source": [
    "# drop nan rows\n",
    "df.dropna(axis=0,how='all',inplace=True)\n",
    "# emp_title is too many to ignore\n",
    "df.drop('emp_title',1,inplace=True)"
   ]
  },
  {
   "cell_type": "code",
   "execution_count": 41,
   "metadata": {},
   "outputs": [
    {
     "data": {
      "text/html": [
       "<div>\n",
       "<style scoped>\n",
       "    .dataframe tbody tr th:only-of-type {\n",
       "        vertical-align: middle;\n",
       "    }\n",
       "\n",
       "    .dataframe tbody tr th {\n",
       "        vertical-align: top;\n",
       "    }\n",
       "\n",
       "    .dataframe thead th {\n",
       "        text-align: right;\n",
       "    }\n",
       "</style>\n",
       "<table border=\"1\" class=\"dataframe\">\n",
       "  <thead>\n",
       "    <tr style=\"text-align: right;\">\n",
       "      <th></th>\n",
       "      <th>loan_amnt</th>\n",
       "      <th>funded_amnt</th>\n",
       "      <th>funded_amnt_inv</th>\n",
       "      <th>term</th>\n",
       "      <th>int_rate</th>\n",
       "      <th>installment</th>\n",
       "      <th>grade</th>\n",
       "      <th>sub_grade</th>\n",
       "      <th>emp_length</th>\n",
       "      <th>home_ownership</th>\n",
       "      <th>...</th>\n",
       "      <th>num_tl_90g_dpd_24m</th>\n",
       "      <th>num_tl_op_past_12m</th>\n",
       "      <th>pct_tl_nvr_dlq</th>\n",
       "      <th>percent_bc_gt_75</th>\n",
       "      <th>pub_rec_bankruptcies</th>\n",
       "      <th>tax_liens</th>\n",
       "      <th>tot_hi_cred_lim</th>\n",
       "      <th>total_bal_ex_mort</th>\n",
       "      <th>total_bc_limit</th>\n",
       "      <th>total_il_high_credit_limit</th>\n",
       "    </tr>\n",
       "  </thead>\n",
       "  <tbody>\n",
       "    <tr>\n",
       "      <th>0</th>\n",
       "      <td>15000.0</td>\n",
       "      <td>15000.0</td>\n",
       "      <td>15000.0</td>\n",
       "      <td>36 months</td>\n",
       "      <td>13.99%</td>\n",
       "      <td>512.60</td>\n",
       "      <td>C</td>\n",
       "      <td>C3</td>\n",
       "      <td>2 years</td>\n",
       "      <td>RENT</td>\n",
       "      <td>...</td>\n",
       "      <td>0.0</td>\n",
       "      <td>5.0</td>\n",
       "      <td>100.0</td>\n",
       "      <td>33.3</td>\n",
       "      <td>0.0</td>\n",
       "      <td>0.0</td>\n",
       "      <td>147587.0</td>\n",
       "      <td>140492.0</td>\n",
       "      <td>30200.0</td>\n",
       "      <td>108587.0</td>\n",
       "    </tr>\n",
       "    <tr>\n",
       "      <th>1</th>\n",
       "      <td>32200.0</td>\n",
       "      <td>32200.0</td>\n",
       "      <td>32200.0</td>\n",
       "      <td>60 months</td>\n",
       "      <td>21.49%</td>\n",
       "      <td>880.02</td>\n",
       "      <td>D</td>\n",
       "      <td>D5</td>\n",
       "      <td>10+ years</td>\n",
       "      <td>MORTGAGE</td>\n",
       "      <td>...</td>\n",
       "      <td>0.0</td>\n",
       "      <td>2.0</td>\n",
       "      <td>100.0</td>\n",
       "      <td>40.0</td>\n",
       "      <td>1.0</td>\n",
       "      <td>0.0</td>\n",
       "      <td>199969.0</td>\n",
       "      <td>24934.0</td>\n",
       "      <td>13900.0</td>\n",
       "      <td>15886.0</td>\n",
       "    </tr>\n",
       "    <tr>\n",
       "      <th>2</th>\n",
       "      <td>2600.0</td>\n",
       "      <td>2600.0</td>\n",
       "      <td>2600.0</td>\n",
       "      <td>36 months</td>\n",
       "      <td>8.99%</td>\n",
       "      <td>82.67</td>\n",
       "      <td>B</td>\n",
       "      <td>B1</td>\n",
       "      <td>3 years</td>\n",
       "      <td>RENT</td>\n",
       "      <td>...</td>\n",
       "      <td>0.0</td>\n",
       "      <td>0.0</td>\n",
       "      <td>100.0</td>\n",
       "      <td>0.0</td>\n",
       "      <td>0.0</td>\n",
       "      <td>0.0</td>\n",
       "      <td>73227.0</td>\n",
       "      <td>19497.0</td>\n",
       "      <td>50200.0</td>\n",
       "      <td>20527.0</td>\n",
       "    </tr>\n",
       "    <tr>\n",
       "      <th>3</th>\n",
       "      <td>3250.0</td>\n",
       "      <td>3250.0</td>\n",
       "      <td>3250.0</td>\n",
       "      <td>36 months</td>\n",
       "      <td>13.49%</td>\n",
       "      <td>110.28</td>\n",
       "      <td>C</td>\n",
       "      <td>C2</td>\n",
       "      <td>2 years</td>\n",
       "      <td>RENT</td>\n",
       "      <td>...</td>\n",
       "      <td>0.0</td>\n",
       "      <td>1.0</td>\n",
       "      <td>90.0</td>\n",
       "      <td>0.0</td>\n",
       "      <td>0.0</td>\n",
       "      <td>0.0</td>\n",
       "      <td>4700.0</td>\n",
       "      <td>2574.0</td>\n",
       "      <td>2600.0</td>\n",
       "      <td>0.0</td>\n",
       "    </tr>\n",
       "    <tr>\n",
       "      <th>4</th>\n",
       "      <td>17000.0</td>\n",
       "      <td>17000.0</td>\n",
       "      <td>17000.0</td>\n",
       "      <td>36 months</td>\n",
       "      <td>14.49%</td>\n",
       "      <td>585.08</td>\n",
       "      <td>C</td>\n",
       "      <td>C4</td>\n",
       "      <td>5 years</td>\n",
       "      <td>RENT</td>\n",
       "      <td>...</td>\n",
       "      <td>2.0</td>\n",
       "      <td>3.0</td>\n",
       "      <td>82.4</td>\n",
       "      <td>40.0</td>\n",
       "      <td>0.0</td>\n",
       "      <td>0.0</td>\n",
       "      <td>32410.0</td>\n",
       "      <td>24644.0</td>\n",
       "      <td>12100.0</td>\n",
       "      <td>18310.0</td>\n",
       "    </tr>\n",
       "  </tbody>\n",
       "</table>\n",
       "<p>5 rows × 108 columns</p>\n",
       "</div>"
      ],
      "text/plain": [
       "   loan_amnt  funded_amnt  funded_amnt_inv        term int_rate  installment  \\\n",
       "0    15000.0      15000.0          15000.0   36 months   13.99%       512.60   \n",
       "1    32200.0      32200.0          32200.0   60 months   21.49%       880.02   \n",
       "2     2600.0       2600.0           2600.0   36 months    8.99%        82.67   \n",
       "3     3250.0       3250.0           3250.0   36 months   13.49%       110.28   \n",
       "4    17000.0      17000.0          17000.0   36 months   14.49%       585.08   \n",
       "\n",
       "  grade sub_grade emp_length home_ownership            ...              \\\n",
       "0     C        C3    2 years           RENT            ...               \n",
       "1     D        D5  10+ years       MORTGAGE            ...               \n",
       "2     B        B1    3 years           RENT            ...               \n",
       "3     C        C2    2 years           RENT            ...               \n",
       "4     C        C4    5 years           RENT            ...               \n",
       "\n",
       "   num_tl_90g_dpd_24m num_tl_op_past_12m pct_tl_nvr_dlq percent_bc_gt_75  \\\n",
       "0                 0.0                5.0          100.0             33.3   \n",
       "1                 0.0                2.0          100.0             40.0   \n",
       "2                 0.0                0.0          100.0              0.0   \n",
       "3                 0.0                1.0           90.0              0.0   \n",
       "4                 2.0                3.0           82.4             40.0   \n",
       "\n",
       "  pub_rec_bankruptcies tax_liens tot_hi_cred_lim total_bal_ex_mort  \\\n",
       "0                  0.0       0.0        147587.0          140492.0   \n",
       "1                  1.0       0.0        199969.0           24934.0   \n",
       "2                  0.0       0.0         73227.0           19497.0   \n",
       "3                  0.0       0.0          4700.0            2574.0   \n",
       "4                  0.0       0.0         32410.0           24644.0   \n",
       "\n",
       "  total_bc_limit total_il_high_credit_limit  \n",
       "0        30200.0                   108587.0  \n",
       "1        13900.0                    15886.0  \n",
       "2        50200.0                    20527.0  \n",
       "3         2600.0                        0.0  \n",
       "4        12100.0                    18310.0  \n",
       "\n",
       "[5 rows x 108 columns]"
      ]
     },
     "execution_count": 41,
     "metadata": {},
     "output_type": "execute_result"
    }
   ],
   "source": [
    "df.head()"
   ]
  },
  {
   "cell_type": "code",
   "execution_count": 42,
   "metadata": {},
   "outputs": [
    {
     "data": {
      "text/plain": [
       "array(['loan_amnt', 'funded_amnt', 'funded_amnt_inv', 'term', 'int_rate',\n",
       "       'installment', 'grade', 'sub_grade', 'emp_length',\n",
       "       'home_ownership', 'annual_inc', 'verification_status', 'issue_d',\n",
       "       'loan_status', 'pymnt_plan', 'url', 'desc', 'purpose', 'title',\n",
       "       'zip_code', 'addr_state', 'dti', 'delinq_2yrs', 'earliest_cr_line',\n",
       "       'inq_last_6mths', 'mths_since_last_delinq',\n",
       "       'mths_since_last_record', 'open_acc', 'pub_rec', 'revol_bal',\n",
       "       'revol_util', 'total_acc', 'initial_list_status', 'out_prncp',\n",
       "       'out_prncp_inv', 'total_pymnt', 'total_pymnt_inv',\n",
       "       'total_rec_prncp', 'total_rec_int', 'total_rec_late_fee',\n",
       "       'recoveries', 'collection_recovery_fee', 'last_pymnt_d',\n",
       "       'last_pymnt_amnt', 'next_pymnt_d', 'last_credit_pull_d',\n",
       "       'collections_12_mths_ex_med', 'mths_since_last_major_derog',\n",
       "       'policy_code', 'application_type', 'annual_inc_joint', 'dti_joint',\n",
       "       'verification_status_joint', 'acc_now_delinq', 'tot_coll_amt',\n",
       "       'tot_cur_bal', 'open_acc_6m', 'open_il_6m', 'open_il_12m',\n",
       "       'open_il_24m', 'mths_since_rcnt_il', 'total_bal_il', 'il_util',\n",
       "       'open_rv_12m', 'open_rv_24m', 'max_bal_bc', 'all_util',\n",
       "       'total_rev_hi_lim', 'inq_fi', 'total_cu_tl', 'inq_last_12m',\n",
       "       'acc_open_past_24mths', 'avg_cur_bal', 'bc_open_to_buy', 'bc_util',\n",
       "       'chargeoff_within_12_mths', 'delinq_amnt', 'mo_sin_old_il_acct',\n",
       "       'mo_sin_old_rev_tl_op', 'mo_sin_rcnt_rev_tl_op', 'mo_sin_rcnt_tl',\n",
       "       'mort_acc', 'mths_since_recent_bc', 'mths_since_recent_bc_dlq',\n",
       "       'mths_since_recent_inq', 'mths_since_recent_revol_delinq',\n",
       "       'num_accts_ever_120_pd', 'num_actv_bc_tl', 'num_actv_rev_tl',\n",
       "       'num_bc_sats', 'num_bc_tl', 'num_il_tl', 'num_op_rev_tl',\n",
       "       'num_rev_accts', 'num_rev_tl_bal_gt_0', 'num_sats',\n",
       "       'num_tl_120dpd_2m', 'num_tl_30dpd', 'num_tl_90g_dpd_24m',\n",
       "       'num_tl_op_past_12m', 'pct_tl_nvr_dlq', 'percent_bc_gt_75',\n",
       "       'pub_rec_bankruptcies', 'tax_liens', 'tot_hi_cred_lim',\n",
       "       'total_bal_ex_mort', 'total_bc_limit',\n",
       "       'total_il_high_credit_limit'], dtype=object)"
      ]
     },
     "execution_count": 42,
     "metadata": {},
     "output_type": "execute_result"
    }
   ],
   "source": [
    "df.columns.values"
   ]
  },
  {
   "cell_type": "code",
   "execution_count": 43,
   "metadata": {},
   "outputs": [],
   "source": [
    "df.drop('term',1,inplace=True)\n",
    "df.drop('issue_d',1,inplace=True)\n",
    "df.drop('purpose',1,inplace=True)\n",
    "df.drop('title',1,inplace=True)\n",
    "df.drop('zip_code',1,inplace=True)\n",
    "df.drop('addr_state',1,inplace=True)\n",
    "df.drop('earliest_cr_line',1,inplace=True)\n",
    "df.drop('revol_util',1,inplace=True)"
   ]
  },
  {
   "cell_type": "code",
   "execution_count": 44,
   "metadata": {},
   "outputs": [],
   "source": [
    "df.drop(['out_prncp','out_prncp_inv','total_pymnt','total_pymnt_inv','total_rec_prncp', 'grade', 'sub_grade'] ,1, inplace=True)\n",
    "df.drop(['total_rec_int','total_rec_late_fee','recoveries','collection_recovery_fee','collection_recovery_fee'],1, inplace=True)\n",
    "df.drop(['last_pymnt_d','last_pymnt_amnt','next_pymnt_d','last_credit_pull_d'],1, inplace=True)\n",
    "df.drop(['policy_code'],1, inplace=True)"
   ]
  },
  {
   "cell_type": "code",
   "execution_count": 45,
   "metadata": {},
   "outputs": [
    {
     "data": {
      "text/plain": [
       "array(['loan_amnt', 'funded_amnt', 'funded_amnt_inv', 'int_rate',\n",
       "       'installment', 'emp_length', 'home_ownership', 'annual_inc',\n",
       "       'verification_status', 'loan_status', 'pymnt_plan', 'url', 'desc',\n",
       "       'dti', 'delinq_2yrs', 'inq_last_6mths', 'mths_since_last_delinq',\n",
       "       'mths_since_last_record', 'open_acc', 'pub_rec', 'revol_bal',\n",
       "       'total_acc', 'initial_list_status', 'collections_12_mths_ex_med',\n",
       "       'mths_since_last_major_derog', 'application_type',\n",
       "       'annual_inc_joint', 'dti_joint', 'verification_status_joint',\n",
       "       'acc_now_delinq', 'tot_coll_amt', 'tot_cur_bal', 'open_acc_6m',\n",
       "       'open_il_6m', 'open_il_12m', 'open_il_24m', 'mths_since_rcnt_il',\n",
       "       'total_bal_il', 'il_util', 'open_rv_12m', 'open_rv_24m',\n",
       "       'max_bal_bc', 'all_util', 'total_rev_hi_lim', 'inq_fi',\n",
       "       'total_cu_tl', 'inq_last_12m', 'acc_open_past_24mths',\n",
       "       'avg_cur_bal', 'bc_open_to_buy', 'bc_util',\n",
       "       'chargeoff_within_12_mths', 'delinq_amnt', 'mo_sin_old_il_acct',\n",
       "       'mo_sin_old_rev_tl_op', 'mo_sin_rcnt_rev_tl_op', 'mo_sin_rcnt_tl',\n",
       "       'mort_acc', 'mths_since_recent_bc', 'mths_since_recent_bc_dlq',\n",
       "       'mths_since_recent_inq', 'mths_since_recent_revol_delinq',\n",
       "       'num_accts_ever_120_pd', 'num_actv_bc_tl', 'num_actv_rev_tl',\n",
       "       'num_bc_sats', 'num_bc_tl', 'num_il_tl', 'num_op_rev_tl',\n",
       "       'num_rev_accts', 'num_rev_tl_bal_gt_0', 'num_sats',\n",
       "       'num_tl_120dpd_2m', 'num_tl_30dpd', 'num_tl_90g_dpd_24m',\n",
       "       'num_tl_op_past_12m', 'pct_tl_nvr_dlq', 'percent_bc_gt_75',\n",
       "       'pub_rec_bankruptcies', 'tax_liens', 'tot_hi_cred_lim',\n",
       "       'total_bal_ex_mort', 'total_bc_limit',\n",
       "       'total_il_high_credit_limit'], dtype=object)"
      ]
     },
     "execution_count": 45,
     "metadata": {},
     "output_type": "execute_result"
    }
   ],
   "source": [
    "df.columns.values"
   ]
  },
  {
   "cell_type": "code",
   "execution_count": 46,
   "metadata": {},
   "outputs": [
    {
     "data": {
      "text/plain": [
       "Current               90504\n",
       "Fully Paid             5741\n",
       "Late (31-120 days)     1205\n",
       "In Grace Period        1011\n",
       "Late (16-30 days)       414\n",
       "Charged Off             245\n",
       "Name: loan_status, dtype: int64"
      ]
     },
     "execution_count": 46,
     "metadata": {},
     "output_type": "execute_result"
    }
   ],
   "source": [
    "df.loan_status.value_counts()"
   ]
  },
  {
   "cell_type": "code",
   "execution_count": 47,
   "metadata": {},
   "outputs": [
    {
     "data": {
      "text/plain": [
       "0                Current\n",
       "1                Current\n",
       "2             Fully Paid\n",
       "3                Current\n",
       "4                Current\n",
       "5                Current\n",
       "6                Current\n",
       "7                Current\n",
       "8                Current\n",
       "9                Current\n",
       "10               Current\n",
       "11               Current\n",
       "12               Current\n",
       "13               Current\n",
       "14               Current\n",
       "15               Current\n",
       "16               Current\n",
       "17               Current\n",
       "18               Current\n",
       "19               Current\n",
       "20               Current\n",
       "21               Current\n",
       "22            Fully Paid\n",
       "23               Current\n",
       "24               Current\n",
       "25               Current\n",
       "26               Current\n",
       "27            Fully Paid\n",
       "28               Current\n",
       "29               Current\n",
       "              ...       \n",
       "99090            Current\n",
       "99091            Current\n",
       "99092            Current\n",
       "99093            Current\n",
       "99094            Current\n",
       "99095            Current\n",
       "99096            Current\n",
       "99097            Current\n",
       "99098            Current\n",
       "99099            Current\n",
       "99100            Current\n",
       "99101            Current\n",
       "99102            Current\n",
       "99103            Current\n",
       "99104            Current\n",
       "99105            Current\n",
       "99106            Current\n",
       "99107            Current\n",
       "99108    In Grace Period\n",
       "99109            Current\n",
       "99110         Fully Paid\n",
       "99111            Current\n",
       "99112            Current\n",
       "99113            Current\n",
       "99114            Current\n",
       "99115            Current\n",
       "99116            Current\n",
       "99117            Current\n",
       "99118            Current\n",
       "99119         Fully Paid\n",
       "Name: loan_status, Length: 99120, dtype: object"
      ]
     },
     "execution_count": 47,
     "metadata": {},
     "output_type": "execute_result"
    }
   ],
   "source": [
    "df.loan_status"
   ]
  },
  {
   "cell_type": "code",
   "execution_count": 48,
   "metadata": {},
   "outputs": [],
   "source": [
    "df.loan_status.replace('Current',int(1),inplace=True)\n",
    "df.loan_status.replace('Fully Paid',int(1),inplace=True)\n",
    "df.loan_status.replace('Charged Off',np.nan,inplace=True)\n",
    "df.loan_status.replace('In Grace Period',np.nan,inplace=True)\n",
    "df.loan_status.replace('Default',np.nan,inplace=True)\n",
    "df.loan_status.replace('Late (31-120 days)',int(0),inplace=True)\n",
    "df.loan_status.replace('Late (16-30 days)',int(0),inplace=True)"
   ]
  },
  {
   "cell_type": "code",
   "execution_count": 49,
   "metadata": {},
   "outputs": [
    {
     "data": {
      "text/plain": [
       "(99120, 84)"
      ]
     },
     "execution_count": 49,
     "metadata": {},
     "output_type": "execute_result"
    }
   ],
   "source": [
    "df.shape"
   ]
  },
  {
   "cell_type": "code",
   "execution_count": 50,
   "metadata": {},
   "outputs": [],
   "source": [
    "# 高相关数据\n",
    "cor = df.corr()\n",
    "cor.loc[:,:] = np.tril(cor,k=-1)\n",
    "cor = cor.stack()\n",
    "cor[abs(cor) > 0.5]\n",
    "# 与load_status高相关的数据\n",
    "df.drop(['funded_amnt','funded_amnt_inv','installment'],1,inplace=True)"
   ]
  },
  {
   "cell_type": "code",
   "execution_count": 51,
   "metadata": {},
   "outputs": [
    {
     "data": {
      "text/plain": [
       "loan_amnt                         float64\n",
       "int_rate                           object\n",
       "emp_length                         object\n",
       "home_ownership                     object\n",
       "annual_inc                        float64\n",
       "verification_status                object\n",
       "loan_status                       float64\n",
       "pymnt_plan                         object\n",
       "url                                object\n",
       "desc                               object\n",
       "dti                               float64\n",
       "delinq_2yrs                       float64\n",
       "inq_last_6mths                    float64\n",
       "mths_since_last_delinq            float64\n",
       "mths_since_last_record            float64\n",
       "open_acc                          float64\n",
       "pub_rec                           float64\n",
       "revol_bal                         float64\n",
       "total_acc                         float64\n",
       "initial_list_status                object\n",
       "collections_12_mths_ex_med        float64\n",
       "mths_since_last_major_derog       float64\n",
       "application_type                   object\n",
       "annual_inc_joint                  float64\n",
       "dti_joint                         float64\n",
       "verification_status_joint          object\n",
       "acc_now_delinq                    float64\n",
       "tot_coll_amt                      float64\n",
       "tot_cur_bal                       float64\n",
       "open_acc_6m                       float64\n",
       "                                   ...   \n",
       "mo_sin_old_rev_tl_op              float64\n",
       "mo_sin_rcnt_rev_tl_op             float64\n",
       "mo_sin_rcnt_tl                    float64\n",
       "mort_acc                          float64\n",
       "mths_since_recent_bc              float64\n",
       "mths_since_recent_bc_dlq          float64\n",
       "mths_since_recent_inq             float64\n",
       "mths_since_recent_revol_delinq    float64\n",
       "num_accts_ever_120_pd             float64\n",
       "num_actv_bc_tl                    float64\n",
       "num_actv_rev_tl                   float64\n",
       "num_bc_sats                       float64\n",
       "num_bc_tl                         float64\n",
       "num_il_tl                         float64\n",
       "num_op_rev_tl                     float64\n",
       "num_rev_accts                     float64\n",
       "num_rev_tl_bal_gt_0               float64\n",
       "num_sats                          float64\n",
       "num_tl_120dpd_2m                  float64\n",
       "num_tl_30dpd                      float64\n",
       "num_tl_90g_dpd_24m                float64\n",
       "num_tl_op_past_12m                float64\n",
       "pct_tl_nvr_dlq                    float64\n",
       "percent_bc_gt_75                  float64\n",
       "pub_rec_bankruptcies              float64\n",
       "tax_liens                         float64\n",
       "tot_hi_cred_lim                   float64\n",
       "total_bal_ex_mort                 float64\n",
       "total_bc_limit                    float64\n",
       "total_il_high_credit_limit        float64\n",
       "Length: 81, dtype: object"
      ]
     },
     "execution_count": 51,
     "metadata": {},
     "output_type": "execute_result"
    }
   ],
   "source": [
    "df.dtypes"
   ]
  },
  {
   "cell_type": "code",
   "execution_count": 52,
   "metadata": {},
   "outputs": [],
   "source": [
    "Y = df.loan_status\n",
    "df.drop('loan_status',1,inplace=True)\n",
    "X = df"
   ]
  },
  {
   "cell_type": "code",
   "execution_count": 53,
   "metadata": {
    "scrolled": false
   },
   "outputs": [],
   "source": [
    "from sklearn.model_selection import train_test_split\n",
    "from sklearn.model_selection import GridSearchCV\n",
    "from sklearn import ensemble\n",
    "from sklearn.preprocessing import OneHotEncoder\n",
    "from sklearn.preprocessing import LabelEncoder"
   ]
  },
  {
   "cell_type": "code",
   "execution_count": 54,
   "metadata": {},
   "outputs": [],
   "source": [
    "temp_value = list(X.dtypes.index)\n",
    "\n",
    "temp_index = list(X.dtypes.values)\n",
    "\n",
    "temp = pd.Series(temp_value,index=temp_index)\n",
    "\n",
    "columns_list = list(temp['object'])"
   ]
  },
  {
   "cell_type": "code",
   "execution_count": 55,
   "metadata": {},
   "outputs": [
    {
     "data": {
      "text/plain": [
       "['int_rate',\n",
       " 'emp_length',\n",
       " 'home_ownership',\n",
       " 'verification_status',\n",
       " 'pymnt_plan',\n",
       " 'url',\n",
       " 'desc',\n",
       " 'initial_list_status',\n",
       " 'application_type',\n",
       " 'verification_status_joint']"
      ]
     },
     "execution_count": 55,
     "metadata": {},
     "output_type": "execute_result"
    }
   ],
   "source": [
    "columns_list"
   ]
  },
  {
   "cell_type": "code",
   "execution_count": 56,
   "metadata": {},
   "outputs": [],
   "source": [
    "# a = LabelEncoder().fit_transform(X['int_rate'])\n",
    "# init_rate_onehot = OneHotEncoder(sparse=False).fit_transform(a.reshape(-1,1))"
   ]
  },
  {
   "cell_type": "code",
   "execution_count": 57,
   "metadata": {},
   "outputs": [],
   "source": [
    "object_list = X[columns_list]"
   ]
  },
  {
   "cell_type": "code",
   "execution_count": 58,
   "metadata": {},
   "outputs": [],
   "source": [
    "object_list = pd.get_dummies(object_list)"
   ]
  },
  {
   "cell_type": "code",
   "execution_count": 59,
   "metadata": {},
   "outputs": [
    {
     "data": {
      "text/plain": [
       "99201"
      ]
     },
     "execution_count": 59,
     "metadata": {},
     "output_type": "execute_result"
    }
   ],
   "source": [
    "len(object_list.columns)"
   ]
  },
  {
   "cell_type": "code",
   "execution_count": 60,
   "metadata": {},
   "outputs": [
    {
     "data": {
      "text/plain": [
       "99120"
      ]
     },
     "execution_count": 60,
     "metadata": {},
     "output_type": "execute_result"
    }
   ],
   "source": [
    "len(object_list)"
   ]
  },
  {
   "cell_type": "code",
   "execution_count": 61,
   "metadata": {},
   "outputs": [],
   "source": [
    "X.drop(['int_rate'],axis=1,inplace=True)"
   ]
  },
  {
   "cell_type": "code",
   "execution_count": 63,
   "metadata": {},
   "outputs": [],
   "source": [
    "X.drop(['emp_length', 'home_ownership', 'verification_status', 'pymnt_plan', 'url', 'desc',\n",
    "        'initial_list_status', 'application_type', 'verification_status_joint'], axis=1, inplace=True)"
   ]
  },
  {
   "cell_type": "code",
   "execution_count": 64,
   "metadata": {},
   "outputs": [],
   "source": [
    "X = pd.concat([X,object_list],axis=1)"
   ]
  },
  {
   "cell_type": "code",
   "execution_count": 65,
   "metadata": {},
   "outputs": [
    {
     "data": {
      "text/plain": [
       "99271"
      ]
     },
     "execution_count": 65,
     "metadata": {},
     "output_type": "execute_result"
    }
   ],
   "source": [
    "len(X.columns)"
   ]
  },
  {
   "cell_type": "code",
   "execution_count": 66,
   "metadata": {},
   "outputs": [
    {
     "data": {
      "text/plain": [
       "99120"
      ]
     },
     "execution_count": 66,
     "metadata": {},
     "output_type": "execute_result"
    }
   ],
   "source": [
    "len(Y)"
   ]
  },
  {
   "cell_type": "code",
   "execution_count": 67,
   "metadata": {},
   "outputs": [
    {
     "data": {
      "text/plain": [
       "99120"
      ]
     },
     "execution_count": 67,
     "metadata": {},
     "output_type": "execute_result"
    }
   ],
   "source": [
    "len(X)"
   ]
  },
  {
   "cell_type": "code",
   "execution_count": 68,
   "metadata": {},
   "outputs": [],
   "source": [
    "x_train,x_test,y_train,y_test = train_test_split(X,Y,test_size=0.2,random_state=1)"
   ]
  },
  {
   "cell_type": "code",
   "execution_count": 69,
   "metadata": {},
   "outputs": [
    {
     "ename": "JoblibMemoryError",
     "evalue": "JoblibMemoryError\n___________________________________________________________________________\nMultiprocessing exception:\n...........................................................................\nC:\\Users\\jianghaitao1\\AppData\\Local\\Continuum\\anaconda3\\lib\\runpy.py in _run_module_as_main(mod_name='ipykernel_launcher', alter_argv=1)\n    188         sys.exit(msg)\n    189     main_globals = sys.modules[\"__main__\"].__dict__\n    190     if alter_argv:\n    191         sys.argv[0] = mod_spec.origin\n    192     return _run_code(code, main_globals, None,\n--> 193                      \"__main__\", mod_spec)\n        mod_spec = ModuleSpec(name='ipykernel_launcher', loader=<_f...nda3\\\\lib\\\\site-packages\\\\ipykernel_launcher.py')\n    194 \n    195 def run_module(mod_name, init_globals=None,\n    196                run_name=None, alter_sys=False):\n    197     \"\"\"Execute a module's code without importing it\n\n...........................................................................\nC:\\Users\\jianghaitao1\\AppData\\Local\\Continuum\\anaconda3\\lib\\runpy.py in _run_code(code=<code object <module> at 0x000002252EF6DB70, fil...lib\\site-packages\\ipykernel_launcher.py\", line 5>, run_globals={'__annotations__': {}, '__builtins__': <module 'builtins' (built-in)>, '__cached__': r'C:\\Users\\jianghaitao1\\AppData\\Local\\Continuum\\an...ges\\__pycache__\\ipykernel_launcher.cpython-36.pyc', '__doc__': 'Entry point for launching an IPython kernel.\\n\\nTh...orts until\\nafter removing the cwd from sys.path.\\n', '__file__': r'C:\\Users\\jianghaitao1\\AppData\\Local\\Continuum\\anaconda3\\lib\\site-packages\\ipykernel_launcher.py', '__loader__': <_frozen_importlib_external.SourceFileLoader object>, '__name__': '__main__', '__package__': '', '__spec__': ModuleSpec(name='ipykernel_launcher', loader=<_f...nda3\\\\lib\\\\site-packages\\\\ipykernel_launcher.py'), 'app': <module 'ipykernel.kernelapp' from 'C:\\\\Users\\\\j...a3\\\\lib\\\\site-packages\\\\ipykernel\\\\kernelapp.py'>, ...}, init_globals=None, mod_name='__main__', mod_spec=ModuleSpec(name='ipykernel_launcher', loader=<_f...nda3\\\\lib\\\\site-packages\\\\ipykernel_launcher.py'), pkg_name='', script_name=None)\n     80                        __cached__ = cached,\n     81                        __doc__ = None,\n     82                        __loader__ = loader,\n     83                        __package__ = pkg_name,\n     84                        __spec__ = mod_spec)\n---> 85     exec(code, run_globals)\n        code = <code object <module> at 0x000002252EF6DB70, fil...lib\\site-packages\\ipykernel_launcher.py\", line 5>\n        run_globals = {'__annotations__': {}, '__builtins__': <module 'builtins' (built-in)>, '__cached__': r'C:\\Users\\jianghaitao1\\AppData\\Local\\Continuum\\an...ges\\__pycache__\\ipykernel_launcher.cpython-36.pyc', '__doc__': 'Entry point for launching an IPython kernel.\\n\\nTh...orts until\\nafter removing the cwd from sys.path.\\n', '__file__': r'C:\\Users\\jianghaitao1\\AppData\\Local\\Continuum\\anaconda3\\lib\\site-packages\\ipykernel_launcher.py', '__loader__': <_frozen_importlib_external.SourceFileLoader object>, '__name__': '__main__', '__package__': '', '__spec__': ModuleSpec(name='ipykernel_launcher', loader=<_f...nda3\\\\lib\\\\site-packages\\\\ipykernel_launcher.py'), 'app': <module 'ipykernel.kernelapp' from 'C:\\\\Users\\\\j...a3\\\\lib\\\\site-packages\\\\ipykernel\\\\kernelapp.py'>, ...}\n     86     return run_globals\n     87 \n     88 def _run_module_code(code, init_globals=None,\n     89                     mod_name=None, mod_spec=None,\n\n...........................................................................\nC:\\Users\\jianghaitao1\\AppData\\Local\\Continuum\\anaconda3\\lib\\site-packages\\ipykernel_launcher.py in <module>()\n     11     # This is added back by InteractiveShellApp.init_path()\n     12     if sys.path[0] == '':\n     13         del sys.path[0]\n     14 \n     15     from ipykernel import kernelapp as app\n---> 16     app.launch_new_instance()\n\n...........................................................................\nC:\\Users\\jianghaitao1\\AppData\\Local\\Continuum\\anaconda3\\lib\\site-packages\\traitlets\\config\\application.py in launch_instance(cls=<class 'ipykernel.kernelapp.IPKernelApp'>, argv=None, **kwargs={})\n    653 \n    654         If a global instance already exists, this reinitializes and starts it\n    655         \"\"\"\n    656         app = cls.instance(**kwargs)\n    657         app.initialize(argv)\n--> 658         app.start()\n        app.start = <bound method IPKernelApp.start of <ipykernel.kernelapp.IPKernelApp object>>\n    659 \n    660 #-----------------------------------------------------------------------------\n    661 # utility functions, for convenience\n    662 #-----------------------------------------------------------------------------\n\n...........................................................................\nC:\\Users\\jianghaitao1\\AppData\\Local\\Continuum\\anaconda3\\lib\\site-packages\\ipykernel\\kernelapp.py in start(self=<ipykernel.kernelapp.IPKernelApp object>)\n    481         if self.poller is not None:\n    482             self.poller.start()\n    483         self.kernel.start()\n    484         self.io_loop = ioloop.IOLoop.current()\n    485         try:\n--> 486             self.io_loop.start()\n        self.io_loop.start = <bound method BaseAsyncIOLoop.start of <tornado.platform.asyncio.AsyncIOMainLoop object>>\n    487         except KeyboardInterrupt:\n    488             pass\n    489 \n    490 launch_new_instance = IPKernelApp.launch_instance\n\n...........................................................................\nC:\\Users\\jianghaitao1\\AppData\\Local\\Continuum\\anaconda3\\lib\\site-packages\\tornado\\platform\\asyncio.py in start(self=<tornado.platform.asyncio.AsyncIOMainLoop object>)\n    122         except (RuntimeError, AssertionError):\n    123             old_loop = None\n    124         try:\n    125             self._setup_logging()\n    126             asyncio.set_event_loop(self.asyncio_loop)\n--> 127             self.asyncio_loop.run_forever()\n        self.asyncio_loop.run_forever = <bound method BaseEventLoop.run_forever of <_Win...EventLoop running=True closed=False debug=False>>\n    128         finally:\n    129             asyncio.set_event_loop(old_loop)\n    130 \n    131     def stop(self):\n\n...........................................................................\nC:\\Users\\jianghaitao1\\AppData\\Local\\Continuum\\anaconda3\\lib\\asyncio\\base_events.py in run_forever(self=<_WindowsSelectorEventLoop running=True closed=False debug=False>)\n    417             sys.set_asyncgen_hooks(firstiter=self._asyncgen_firstiter_hook,\n    418                                    finalizer=self._asyncgen_finalizer_hook)\n    419         try:\n    420             events._set_running_loop(self)\n    421             while True:\n--> 422                 self._run_once()\n        self._run_once = <bound method BaseEventLoop._run_once of <_Windo...EventLoop running=True closed=False debug=False>>\n    423                 if self._stopping:\n    424                     break\n    425         finally:\n    426             self._stopping = False\n\n...........................................................................\nC:\\Users\\jianghaitao1\\AppData\\Local\\Continuum\\anaconda3\\lib\\asyncio\\base_events.py in _run_once(self=<_WindowsSelectorEventLoop running=True closed=False debug=False>)\n   1427                         logger.warning('Executing %s took %.3f seconds',\n   1428                                        _format_handle(handle), dt)\n   1429                 finally:\n   1430                     self._current_handle = None\n   1431             else:\n-> 1432                 handle._run()\n        handle._run = <bound method Handle._run of <Handle BaseAsyncIOLoop._handle_events(976, 1)>>\n   1433         handle = None  # Needed to break cycles when an exception occurs.\n   1434 \n   1435     def _set_coroutine_wrapper(self, enabled):\n   1436         try:\n\n...........................................................................\nC:\\Users\\jianghaitao1\\AppData\\Local\\Continuum\\anaconda3\\lib\\asyncio\\events.py in _run(self=<Handle BaseAsyncIOLoop._handle_events(976, 1)>)\n    140             self._callback = None\n    141             self._args = None\n    142 \n    143     def _run(self):\n    144         try:\n--> 145             self._callback(*self._args)\n        self._callback = <bound method BaseAsyncIOLoop._handle_events of <tornado.platform.asyncio.AsyncIOMainLoop object>>\n        self._args = (976, 1)\n    146         except Exception as exc:\n    147             cb = _format_callback_source(self._callback, self._args)\n    148             msg = 'Exception in callback {}'.format(cb)\n    149             context = {\n\n...........................................................................\nC:\\Users\\jianghaitao1\\AppData\\Local\\Continuum\\anaconda3\\lib\\site-packages\\tornado\\platform\\asyncio.py in _handle_events(self=<tornado.platform.asyncio.AsyncIOMainLoop object>, fd=976, events=1)\n    112             self.writers.remove(fd)\n    113         del self.handlers[fd]\n    114 \n    115     def _handle_events(self, fd, events):\n    116         fileobj, handler_func = self.handlers[fd]\n--> 117         handler_func(fileobj, events)\n        handler_func = <function wrap.<locals>.null_wrapper>\n        fileobj = <zmq.sugar.socket.Socket object>\n        events = 1\n    118 \n    119     def start(self):\n    120         try:\n    121             old_loop = asyncio.get_event_loop()\n\n...........................................................................\nC:\\Users\\jianghaitao1\\AppData\\Local\\Continuum\\anaconda3\\lib\\site-packages\\tornado\\stack_context.py in null_wrapper(*args=(<zmq.sugar.socket.Socket object>, 1), **kwargs={})\n    271         # Fast path when there are no active contexts.\n    272         def null_wrapper(*args, **kwargs):\n    273             try:\n    274                 current_state = _state.contexts\n    275                 _state.contexts = cap_contexts[0]\n--> 276                 return fn(*args, **kwargs)\n        args = (<zmq.sugar.socket.Socket object>, 1)\n        kwargs = {}\n    277             finally:\n    278                 _state.contexts = current_state\n    279         null_wrapper._wrapped = True\n    280         return null_wrapper\n\n...........................................................................\nC:\\Users\\jianghaitao1\\AppData\\Local\\Continuum\\anaconda3\\lib\\site-packages\\zmq\\eventloop\\zmqstream.py in _handle_events(self=<zmq.eventloop.zmqstream.ZMQStream object>, fd=<zmq.sugar.socket.Socket object>, events=1)\n    445             return\n    446         zmq_events = self.socket.EVENTS\n    447         try:\n    448             # dispatch events:\n    449             if zmq_events & zmq.POLLIN and self.receiving():\n--> 450                 self._handle_recv()\n        self._handle_recv = <bound method ZMQStream._handle_recv of <zmq.eventloop.zmqstream.ZMQStream object>>\n    451                 if not self.socket:\n    452                     return\n    453             if zmq_events & zmq.POLLOUT and self.sending():\n    454                 self._handle_send()\n\n...........................................................................\nC:\\Users\\jianghaitao1\\AppData\\Local\\Continuum\\anaconda3\\lib\\site-packages\\zmq\\eventloop\\zmqstream.py in _handle_recv(self=<zmq.eventloop.zmqstream.ZMQStream object>)\n    475             else:\n    476                 raise\n    477         else:\n    478             if self._recv_callback:\n    479                 callback = self._recv_callback\n--> 480                 self._run_callback(callback, msg)\n        self._run_callback = <bound method ZMQStream._run_callback of <zmq.eventloop.zmqstream.ZMQStream object>>\n        callback = <function wrap.<locals>.null_wrapper>\n        msg = [<zmq.sugar.frame.Frame object>, <zmq.sugar.frame.Frame object>, <zmq.sugar.frame.Frame object>, <zmq.sugar.frame.Frame object>, <zmq.sugar.frame.Frame object>, <zmq.sugar.frame.Frame object>, <zmq.sugar.frame.Frame object>]\n    481         \n    482 \n    483     def _handle_send(self):\n    484         \"\"\"Handle a send event.\"\"\"\n\n...........................................................................\nC:\\Users\\jianghaitao1\\AppData\\Local\\Continuum\\anaconda3\\lib\\site-packages\\zmq\\eventloop\\zmqstream.py in _run_callback(self=<zmq.eventloop.zmqstream.ZMQStream object>, callback=<function wrap.<locals>.null_wrapper>, *args=([<zmq.sugar.frame.Frame object>, <zmq.sugar.frame.Frame object>, <zmq.sugar.frame.Frame object>, <zmq.sugar.frame.Frame object>, <zmq.sugar.frame.Frame object>, <zmq.sugar.frame.Frame object>, <zmq.sugar.frame.Frame object>],), **kwargs={})\n    427         close our socket.\"\"\"\n    428         try:\n    429             # Use a NullContext to ensure that all StackContexts are run\n    430             # inside our blanket exception handler rather than outside.\n    431             with stack_context.NullContext():\n--> 432                 callback(*args, **kwargs)\n        callback = <function wrap.<locals>.null_wrapper>\n        args = ([<zmq.sugar.frame.Frame object>, <zmq.sugar.frame.Frame object>, <zmq.sugar.frame.Frame object>, <zmq.sugar.frame.Frame object>, <zmq.sugar.frame.Frame object>, <zmq.sugar.frame.Frame object>, <zmq.sugar.frame.Frame object>],)\n        kwargs = {}\n    433         except:\n    434             gen_log.error(\"Uncaught exception in ZMQStream callback\",\n    435                           exc_info=True)\n    436             # Re-raise the exception so that IOLoop.handle_callback_exception\n\n...........................................................................\nC:\\Users\\jianghaitao1\\AppData\\Local\\Continuum\\anaconda3\\lib\\site-packages\\tornado\\stack_context.py in null_wrapper(*args=([<zmq.sugar.frame.Frame object>, <zmq.sugar.frame.Frame object>, <zmq.sugar.frame.Frame object>, <zmq.sugar.frame.Frame object>, <zmq.sugar.frame.Frame object>, <zmq.sugar.frame.Frame object>, <zmq.sugar.frame.Frame object>],), **kwargs={})\n    271         # Fast path when there are no active contexts.\n    272         def null_wrapper(*args, **kwargs):\n    273             try:\n    274                 current_state = _state.contexts\n    275                 _state.contexts = cap_contexts[0]\n--> 276                 return fn(*args, **kwargs)\n        args = ([<zmq.sugar.frame.Frame object>, <zmq.sugar.frame.Frame object>, <zmq.sugar.frame.Frame object>, <zmq.sugar.frame.Frame object>, <zmq.sugar.frame.Frame object>, <zmq.sugar.frame.Frame object>, <zmq.sugar.frame.Frame object>],)\n        kwargs = {}\n    277             finally:\n    278                 _state.contexts = current_state\n    279         null_wrapper._wrapped = True\n    280         return null_wrapper\n\n...........................................................................\nC:\\Users\\jianghaitao1\\AppData\\Local\\Continuum\\anaconda3\\lib\\site-packages\\ipykernel\\kernelbase.py in dispatcher(msg=[<zmq.sugar.frame.Frame object>, <zmq.sugar.frame.Frame object>, <zmq.sugar.frame.Frame object>, <zmq.sugar.frame.Frame object>, <zmq.sugar.frame.Frame object>, <zmq.sugar.frame.Frame object>, <zmq.sugar.frame.Frame object>])\n    278         if self.control_stream:\n    279             self.control_stream.on_recv(self.dispatch_control, copy=False)\n    280 \n    281         def make_dispatcher(stream):\n    282             def dispatcher(msg):\n--> 283                 return self.dispatch_shell(stream, msg)\n        msg = [<zmq.sugar.frame.Frame object>, <zmq.sugar.frame.Frame object>, <zmq.sugar.frame.Frame object>, <zmq.sugar.frame.Frame object>, <zmq.sugar.frame.Frame object>, <zmq.sugar.frame.Frame object>, <zmq.sugar.frame.Frame object>]\n    284             return dispatcher\n    285 \n    286         for s in self.shell_streams:\n    287             s.on_recv(make_dispatcher(s), copy=False)\n\n...........................................................................\nC:\\Users\\jianghaitao1\\AppData\\Local\\Continuum\\anaconda3\\lib\\site-packages\\ipykernel\\kernelbase.py in dispatch_shell(self=<ipykernel.ipkernel.IPythonKernel object>, stream=<zmq.eventloop.zmqstream.ZMQStream object>, msg={'buffers': [], 'content': {'allow_stdin': True, 'code': \"param_grid = {'learning_rate': [0.1],\\n          ...best_params = est.best_params_\\nprint(best_params)\", 'silent': False, 'stop_on_error': True, 'store_history': True, 'user_expressions': {}}, 'header': {'date': datetime.datetime(2019, 6, 6, 9, 21, 9, 604825, tzinfo=tzutc()), 'msg_id': '37dcbc95c75f4fb7afa4b40609bba75e', 'msg_type': 'execute_request', 'session': 'aaaa8dcab3134177866dbb0a0acbc5fe', 'username': 'username', 'version': '5.2'}, 'metadata': {}, 'msg_id': '37dcbc95c75f4fb7afa4b40609bba75e', 'msg_type': 'execute_request', 'parent_header': {}})\n    228             self.log.warn(\"Unknown message type: %r\", msg_type)\n    229         else:\n    230             self.log.debug(\"%s: %s\", msg_type, msg)\n    231             self.pre_handler_hook()\n    232             try:\n--> 233                 handler(stream, idents, msg)\n        handler = <bound method Kernel.execute_request of <ipykernel.ipkernel.IPythonKernel object>>\n        stream = <zmq.eventloop.zmqstream.ZMQStream object>\n        idents = [b'aaaa8dcab3134177866dbb0a0acbc5fe']\n        msg = {'buffers': [], 'content': {'allow_stdin': True, 'code': \"param_grid = {'learning_rate': [0.1],\\n          ...best_params = est.best_params_\\nprint(best_params)\", 'silent': False, 'stop_on_error': True, 'store_history': True, 'user_expressions': {}}, 'header': {'date': datetime.datetime(2019, 6, 6, 9, 21, 9, 604825, tzinfo=tzutc()), 'msg_id': '37dcbc95c75f4fb7afa4b40609bba75e', 'msg_type': 'execute_request', 'session': 'aaaa8dcab3134177866dbb0a0acbc5fe', 'username': 'username', 'version': '5.2'}, 'metadata': {}, 'msg_id': '37dcbc95c75f4fb7afa4b40609bba75e', 'msg_type': 'execute_request', 'parent_header': {}}\n    234             except Exception:\n    235                 self.log.error(\"Exception in message handler:\", exc_info=True)\n    236             finally:\n    237                 self.post_handler_hook()\n\n...........................................................................\nC:\\Users\\jianghaitao1\\AppData\\Local\\Continuum\\anaconda3\\lib\\site-packages\\ipykernel\\kernelbase.py in execute_request(self=<ipykernel.ipkernel.IPythonKernel object>, stream=<zmq.eventloop.zmqstream.ZMQStream object>, ident=[b'aaaa8dcab3134177866dbb0a0acbc5fe'], parent={'buffers': [], 'content': {'allow_stdin': True, 'code': \"param_grid = {'learning_rate': [0.1],\\n          ...best_params = est.best_params_\\nprint(best_params)\", 'silent': False, 'stop_on_error': True, 'store_history': True, 'user_expressions': {}}, 'header': {'date': datetime.datetime(2019, 6, 6, 9, 21, 9, 604825, tzinfo=tzutc()), 'msg_id': '37dcbc95c75f4fb7afa4b40609bba75e', 'msg_type': 'execute_request', 'session': 'aaaa8dcab3134177866dbb0a0acbc5fe', 'username': 'username', 'version': '5.2'}, 'metadata': {}, 'msg_id': '37dcbc95c75f4fb7afa4b40609bba75e', 'msg_type': 'execute_request', 'parent_header': {}})\n    394         if not silent:\n    395             self.execution_count += 1\n    396             self._publish_execute_input(code, parent, self.execution_count)\n    397 \n    398         reply_content = self.do_execute(code, silent, store_history,\n--> 399                                         user_expressions, allow_stdin)\n        user_expressions = {}\n        allow_stdin = True\n    400 \n    401         # Flush output before sending the reply.\n    402         sys.stdout.flush()\n    403         sys.stderr.flush()\n\n...........................................................................\nC:\\Users\\jianghaitao1\\AppData\\Local\\Continuum\\anaconda3\\lib\\site-packages\\ipykernel\\ipkernel.py in do_execute(self=<ipykernel.ipkernel.IPythonKernel object>, code=\"param_grid = {'learning_rate': [0.1],\\n          ...best_params = est.best_params_\\nprint(best_params)\", silent=False, store_history=True, user_expressions={}, allow_stdin=True)\n    203 \n    204         self._forward_input(allow_stdin)\n    205 \n    206         reply_content = {}\n    207         try:\n--> 208             res = shell.run_cell(code, store_history=store_history, silent=silent)\n        res = undefined\n        shell.run_cell = <bound method ZMQInteractiveShell.run_cell of <ipykernel.zmqshell.ZMQInteractiveShell object>>\n        code = \"param_grid = {'learning_rate': [0.1],\\n          ...best_params = est.best_params_\\nprint(best_params)\"\n        store_history = True\n        silent = False\n    209         finally:\n    210             self._restore_input()\n    211 \n    212         if res.error_before_exec is not None:\n\n...........................................................................\nC:\\Users\\jianghaitao1\\AppData\\Local\\Continuum\\anaconda3\\lib\\site-packages\\ipykernel\\zmqshell.py in run_cell(self=<ipykernel.zmqshell.ZMQInteractiveShell object>, *args=(\"param_grid = {'learning_rate': [0.1],\\n          ...best_params = est.best_params_\\nprint(best_params)\",), **kwargs={'silent': False, 'store_history': True})\n    532             )\n    533         self.payload_manager.write_payload(payload)\n    534 \n    535     def run_cell(self, *args, **kwargs):\n    536         self._last_traceback = None\n--> 537         return super(ZMQInteractiveShell, self).run_cell(*args, **kwargs)\n        self.run_cell = <bound method ZMQInteractiveShell.run_cell of <ipykernel.zmqshell.ZMQInteractiveShell object>>\n        args = (\"param_grid = {'learning_rate': [0.1],\\n          ...best_params = est.best_params_\\nprint(best_params)\",)\n        kwargs = {'silent': False, 'store_history': True}\n    538 \n    539     def _showtraceback(self, etype, evalue, stb):\n    540         # try to preserve ordering of tracebacks and print statements\n    541         sys.stdout.flush()\n\n...........................................................................\nC:\\Users\\jianghaitao1\\AppData\\Local\\Continuum\\anaconda3\\lib\\site-packages\\IPython\\core\\interactiveshell.py in run_cell(self=<ipykernel.zmqshell.ZMQInteractiveShell object>, raw_cell=\"param_grid = {'learning_rate': [0.1],\\n          ...best_params = est.best_params_\\nprint(best_params)\", store_history=True, silent=False, shell_futures=True)\n   2657         -------\n   2658         result : :class:`ExecutionResult`\n   2659         \"\"\"\n   2660         try:\n   2661             result = self._run_cell(\n-> 2662                 raw_cell, store_history, silent, shell_futures)\n        raw_cell = \"param_grid = {'learning_rate': [0.1],\\n          ...best_params = est.best_params_\\nprint(best_params)\"\n        store_history = True\n        silent = False\n        shell_futures = True\n   2663         finally:\n   2664             self.events.trigger('post_execute')\n   2665             if not silent:\n   2666                 self.events.trigger('post_run_cell', result)\n\n...........................................................................\nC:\\Users\\jianghaitao1\\AppData\\Local\\Continuum\\anaconda3\\lib\\site-packages\\IPython\\core\\interactiveshell.py in _run_cell(self=<ipykernel.zmqshell.ZMQInteractiveShell object>, raw_cell=\"param_grid = {'learning_rate': [0.1],\\n          ...best_params = est.best_params_\\nprint(best_params)\", store_history=True, silent=False, shell_futures=True)\n   2780                 self.displayhook.exec_result = result\n   2781 \n   2782                 # Execute the user code\n   2783                 interactivity = 'none' if silent else self.ast_node_interactivity\n   2784                 has_raised = self.run_ast_nodes(code_ast.body, cell_name,\n-> 2785                    interactivity=interactivity, compiler=compiler, result=result)\n        interactivity = 'last_expr'\n        compiler = <IPython.core.compilerop.CachingCompiler object>\n   2786                 \n   2787                 self.last_execution_succeeded = not has_raised\n   2788                 self.last_execution_result = result\n   2789 \n\n...........................................................................\nC:\\Users\\jianghaitao1\\AppData\\Local\\Continuum\\anaconda3\\lib\\site-packages\\IPython\\core\\interactiveshell.py in run_ast_nodes(self=<ipykernel.zmqshell.ZMQInteractiveShell object>, nodelist=[<_ast.Assign object>, <_ast.Assign object>, <_ast.Expr object>, <_ast.Assign object>, <_ast.Expr object>], cell_name='<ipython-input-69-598849c9d1c2>', interactivity='last', compiler=<IPython.core.compilerop.CachingCompiler object>, result=<ExecutionResult object at 2256250b7f0, executio...rue silent=False shell_futures=True> result=None>)\n   2898 \n   2899         try:\n   2900             for i, node in enumerate(to_run_exec):\n   2901                 mod = ast.Module([node])\n   2902                 code = compiler(mod, cell_name, \"exec\")\n-> 2903                 if self.run_code(code, result):\n        self.run_code = <bound method InteractiveShell.run_code of <ipykernel.zmqshell.ZMQInteractiveShell object>>\n        code = <code object <module> at 0x00000225525168A0, file \"<ipython-input-69-598849c9d1c2>\", line 8>\n        result = <ExecutionResult object at 2256250b7f0, executio...rue silent=False shell_futures=True> result=None>\n   2904                     return True\n   2905 \n   2906             for i, node in enumerate(to_run_interactive):\n   2907                 mod = ast.Interactive([node])\n\n...........................................................................\nC:\\Users\\jianghaitao1\\AppData\\Local\\Continuum\\anaconda3\\lib\\site-packages\\IPython\\core\\interactiveshell.py in run_code(self=<ipykernel.zmqshell.ZMQInteractiveShell object>, code_obj=<code object <module> at 0x00000225525168A0, file \"<ipython-input-69-598849c9d1c2>\", line 8>, result=<ExecutionResult object at 2256250b7f0, executio...rue silent=False shell_futures=True> result=None>)\n   2958         outflag = True  # happens in more places, so it's easier as default\n   2959         try:\n   2960             try:\n   2961                 self.hooks.pre_run_code_hook()\n   2962                 #rprint('Running code', repr(code_obj)) # dbg\n-> 2963                 exec(code_obj, self.user_global_ns, self.user_ns)\n        code_obj = <code object <module> at 0x00000225525168A0, file \"<ipython-input-69-598849c9d1c2>\", line 8>\n        self.user_global_ns = {'GridSearchCV': <class 'sklearn.model_selection._search.GridSearchCV'>, 'In': ['', 'import numpy as np\\nimport pandas as pd\\nimport matplotlib.pyplot as plt', \"# 导入数据\\ndf = pd.read_csv('../dataset/LoanStats_2016Q3.csv',skiprows=2,low_memory=False)\\ndf.info()\", 'df.head()', 'df.columns.values', \"df.drop(['id'],axis=1,inplace=True)\\ndf.drop(['member_id'],axis=1,inplace=True)\", 'df.head()', \"# drop nan rows\\ndf.dropna(axis=0,how='all',inpla...any to ignore\\ndf.drop('emp_title',1,inplace=True)\", 'df.head()', 'df.columns.values', \"df.drop('term',1,inplace=True)\\ndf.drop('issue_d'...nplace=True)\\ndf.drop('revol_util',1,inplace=True)\", \"df.drop(['out_prncp','out_prncp_inv','total_pymn...ce=True)\\ndf.drop(['policy_code'],1, inplace=True)\", 'df.columns.values', 'df.loan_status.value_counts()', 'df.loan_status', \"df.loan_status.replace('Current',int(1),inplace=....replace('Late (16-30 days)',int(0),inplace=True)\", 'df.shape', \"# 高相关数据\\ncor = df.corr()\\ncor.loc[:,:] = np.tril(c...,'funded_amnt_inv','installment'],1,inplace=True)\", 'df.dtypes', \"Y = df.loan_status\\ndf.drop('loan_status',1,inplace=True)\\nX = df\", ...], 'LabelEncoder': <class 'sklearn.preprocessing.label.LabelEncoder'>, 'OneHotEncoder': <class 'sklearn.preprocessing.data.OneHotEncoder'>, 'Out': {3:          id   member_id  loan_amnt  funded_amnt ...                18310.0  \n\n[5 rows x 111 columns], 4: array(['id', 'member_id', 'loan_amnt', 'funded_a...     'total_il_high_credit_limit'], dtype=object), 6:    loan_amnt  funded_amnt  funded_amnt_inv      ...                18310.0  \n\n[5 rows x 109 columns], 8:    loan_amnt  funded_amnt  funded_amnt_inv      ...                18310.0  \n\n[5 rows x 108 columns], 9: array(['loan_amnt', 'funded_amnt', 'funded_amnt_...     'total_il_high_credit_limit'], dtype=object), 12: array(['loan_amnt', 'funded_amnt', 'funded_amnt_...     'total_il_high_credit_limit'], dtype=object), 13: Current               90504\nFully Paid          ...f             245\nName: loan_status, dtype: int64, 14: 0        1.0\n1        1.0\n2        1.0\n3        ...\nName: loan_status, Length: 99120, dtype: float64, 16: (99120, 84), 18: loan_amnt                         float64\nint_ra...it_limit        float64\nLength: 81, dtype: object, ...}, 'X':        loan_amnt  annual_inc    dti  delinq_2yrs...                0  \n\n[99120 rows x 99271 columns], 'Y': 0        1.0\n1        1.0\n2        1.0\n3        ...\nName: loan_status, Length: 99120, dtype: float64, '_': 99120, '_12': array(['loan_amnt', 'funded_amnt', 'funded_amnt_...     'total_il_high_credit_limit'], dtype=object), '_13': Current               90504\nFully Paid          ...f             245\nName: loan_status, dtype: int64, ...}\n        self.user_ns = {'GridSearchCV': <class 'sklearn.model_selection._search.GridSearchCV'>, 'In': ['', 'import numpy as np\\nimport pandas as pd\\nimport matplotlib.pyplot as plt', \"# 导入数据\\ndf = pd.read_csv('../dataset/LoanStats_2016Q3.csv',skiprows=2,low_memory=False)\\ndf.info()\", 'df.head()', 'df.columns.values', \"df.drop(['id'],axis=1,inplace=True)\\ndf.drop(['member_id'],axis=1,inplace=True)\", 'df.head()', \"# drop nan rows\\ndf.dropna(axis=0,how='all',inpla...any to ignore\\ndf.drop('emp_title',1,inplace=True)\", 'df.head()', 'df.columns.values', \"df.drop('term',1,inplace=True)\\ndf.drop('issue_d'...nplace=True)\\ndf.drop('revol_util',1,inplace=True)\", \"df.drop(['out_prncp','out_prncp_inv','total_pymn...ce=True)\\ndf.drop(['policy_code'],1, inplace=True)\", 'df.columns.values', 'df.loan_status.value_counts()', 'df.loan_status', \"df.loan_status.replace('Current',int(1),inplace=....replace('Late (16-30 days)',int(0),inplace=True)\", 'df.shape', \"# 高相关数据\\ncor = df.corr()\\ncor.loc[:,:] = np.tril(c...,'funded_amnt_inv','installment'],1,inplace=True)\", 'df.dtypes', \"Y = df.loan_status\\ndf.drop('loan_status',1,inplace=True)\\nX = df\", ...], 'LabelEncoder': <class 'sklearn.preprocessing.label.LabelEncoder'>, 'OneHotEncoder': <class 'sklearn.preprocessing.data.OneHotEncoder'>, 'Out': {3:          id   member_id  loan_amnt  funded_amnt ...                18310.0  \n\n[5 rows x 111 columns], 4: array(['id', 'member_id', 'loan_amnt', 'funded_a...     'total_il_high_credit_limit'], dtype=object), 6:    loan_amnt  funded_amnt  funded_amnt_inv      ...                18310.0  \n\n[5 rows x 109 columns], 8:    loan_amnt  funded_amnt  funded_amnt_inv      ...                18310.0  \n\n[5 rows x 108 columns], 9: array(['loan_amnt', 'funded_amnt', 'funded_amnt_...     'total_il_high_credit_limit'], dtype=object), 12: array(['loan_amnt', 'funded_amnt', 'funded_amnt_...     'total_il_high_credit_limit'], dtype=object), 13: Current               90504\nFully Paid          ...f             245\nName: loan_status, dtype: int64, 14: 0        1.0\n1        1.0\n2        1.0\n3        ...\nName: loan_status, Length: 99120, dtype: float64, 16: (99120, 84), 18: loan_amnt                         float64\nint_ra...it_limit        float64\nLength: 81, dtype: object, ...}, 'X':        loan_amnt  annual_inc    dti  delinq_2yrs...                0  \n\n[99120 rows x 99271 columns], 'Y': 0        1.0\n1        1.0\n2        1.0\n3        ...\nName: loan_status, Length: 99120, dtype: float64, '_': 99120, '_12': array(['loan_amnt', 'funded_amnt', 'funded_amnt_...     'total_il_high_credit_limit'], dtype=object), '_13': Current               90504\nFully Paid          ...f             245\nName: loan_status, dtype: int64, ...}\n   2964             finally:\n   2965                 # Reset our crash handler in place\n   2966                 sys.excepthook = old_excepthook\n   2967         except SystemExit as e:\n\n...........................................................................\nE:\\git_daily\\machine-learning\\daily_code\\<ipython-input-69-598849c9d1c2> in <module>()\n      3               'min_samples_split': [50,100],\n      4               'n_estimators': [100,200]\n      5               }\n      6 est = GridSearchCV(ensemble.GradientBoostingRegressor(),\n      7                    param_grid, n_jobs=4, refit=True)\n----> 8 est.fit(x_train, y_train)\n      9 best_params = est.best_params_\n     10 print(best_params)\n\n...........................................................................\nC:\\Users\\jianghaitao1\\AppData\\Local\\Continuum\\anaconda3\\lib\\site-packages\\sklearn\\model_selection\\_search.py in fit(self=GridSearchCV(cv=None, error_score='raise',\n     ...ain_score='warn',\n       scoring=None, verbose=0), X=       loan_amnt  annual_inc    dti  delinq_2yrs...                0  \n\n[79296 rows x 99271 columns], y=82145    1.0\n36755    1.0\n29156    1.0\n60929    ...\nName: loan_status, Length: 79296, dtype: float64, groups=None, **fit_params={})\n    634                                   return_train_score=self.return_train_score,\n    635                                   return_n_test_samples=True,\n    636                                   return_times=True, return_parameters=False,\n    637                                   error_score=self.error_score)\n    638           for parameters, (train, test) in product(candidate_params,\n--> 639                                                    cv.split(X, y, groups)))\n        cv.split = <bound method _BaseKFold.split of KFold(n_splits=3, random_state=None, shuffle=False)>\n        X =        loan_amnt  annual_inc    dti  delinq_2yrs...                0  \n\n[79296 rows x 99271 columns]\n        y = 82145    1.0\n36755    1.0\n29156    1.0\n60929    ...\nName: loan_status, Length: 79296, dtype: float64\n        groups = None\n    640 \n    641         # if one choose to see train score, \"out\" will contain train score info\n    642         if self.return_train_score:\n    643             (train_score_dicts, test_score_dicts, test_sample_counts, fit_time,\n\n...........................................................................\nC:\\Users\\jianghaitao1\\AppData\\Local\\Continuum\\anaconda3\\lib\\site-packages\\sklearn\\externals\\joblib\\parallel.py in __call__(self=Parallel(n_jobs=4), iterable=<generator object BaseSearchCV.fit.<locals>.<genexpr>>)\n    784             if pre_dispatch == \"all\" or n_jobs == 1:\n    785                 # The iterable was consumed all at once by the above for loop.\n    786                 # No need to wait for async callbacks to trigger to\n    787                 # consumption.\n    788                 self._iterating = False\n--> 789             self.retrieve()\n        self.retrieve = <bound method Parallel.retrieve of Parallel(n_jobs=4)>\n    790             # Make sure that we get a last message telling us we are done\n    791             elapsed_time = time.time() - self._start_time\n    792             self._print('Done %3i out of %3i | elapsed: %s finished',\n    793                         (len(self._output), len(self._output),\n\n---------------------------------------------------------------------------\nSub-process traceback:\n---------------------------------------------------------------------------\nMemoryError                                        Thu Jun  6 17:28:20 2019\nPID: 17644Python 3.6.5: C:\\Users\\jianghaitao1\\AppData\\Local\\Continuum\\anaconda3\\python.exe\n...........................................................................\nC:\\Users\\jianghaitao1\\AppData\\Local\\Continuum\\anaconda3\\lib\\site-packages\\sklearn\\externals\\joblib\\parallel.py in __call__(self=<sklearn.externals.joblib.parallel.BatchedCalls object>)\n    126     def __init__(self, iterator_slice):\n    127         self.items = list(iterator_slice)\n    128         self._size = len(self.items)\n    129 \n    130     def __call__(self):\n--> 131         return [func(*args, **kwargs) for func, args, kwargs in self.items]\n        self.items = [(<function _fit_and_score>, (GradientBoostingRegressor(alpha=0.9, criterion='...      subsample=1.0, verbose=0, warm_start=False),        loan_amnt                 ...            ...                  0\n\n[79296 rows x 99271 columns], 82145    1.0\n36755    1.0\n29156    1.0\n60929    ...\nName: loan_status, Length: 79296, dtype: float64, {'score': <function _passthrough_scorer>}, array([26432, 26433, 26434, ..., 79293, 79294, 79295]), array([    0,     1,     2, ..., 26429, 26430, 26431]), 0, {'learning_rate': 0.1, 'max_depth': 2, 'min_samples_split': 50, 'n_estimators': 100}), {'error_score': 'raise', 'fit_params': {}, 'return_n_test_samples': True, 'return_parameters': False, 'return_times': True, 'return_train_score': 'warn'})]\n    132 \n    133     def __len__(self):\n    134         return self._size\n    135 \n\n...........................................................................\nC:\\Users\\jianghaitao1\\AppData\\Local\\Continuum\\anaconda3\\lib\\site-packages\\sklearn\\externals\\joblib\\parallel.py in <listcomp>(.0=<list_iterator object>)\n    126     def __init__(self, iterator_slice):\n    127         self.items = list(iterator_slice)\n    128         self._size = len(self.items)\n    129 \n    130     def __call__(self):\n--> 131         return [func(*args, **kwargs) for func, args, kwargs in self.items]\n        func = <function _fit_and_score>\n        args = (GradientBoostingRegressor(alpha=0.9, criterion='...      subsample=1.0, verbose=0, warm_start=False),        loan_amnt                 ...            ...                  0\n\n[79296 rows x 99271 columns], 82145    1.0\n36755    1.0\n29156    1.0\n60929    ...\nName: loan_status, Length: 79296, dtype: float64, {'score': <function _passthrough_scorer>}, array([26432, 26433, 26434, ..., 79293, 79294, 79295]), array([    0,     1,     2, ..., 26429, 26430, 26431]), 0, {'learning_rate': 0.1, 'max_depth': 2, 'min_samples_split': 50, 'n_estimators': 100})\n        kwargs = {'error_score': 'raise', 'fit_params': {}, 'return_n_test_samples': True, 'return_parameters': False, 'return_times': True, 'return_train_score': 'warn'}\n    132 \n    133     def __len__(self):\n    134         return self._size\n    135 \n\n...........................................................................\nC:\\Users\\jianghaitao1\\AppData\\Local\\Continuum\\anaconda3\\lib\\site-packages\\sklearn\\model_selection\\_validation.py in _fit_and_score(estimator=GradientBoostingRegressor(alpha=0.9, criterion='...      subsample=1.0, verbose=0, warm_start=False), X=       loan_amnt                 ...            ...                  0\n\n[79296 rows x 99271 columns], y=82145    1.0\n36755    1.0\n29156    1.0\n60929    ...\nName: loan_status, Length: 79296, dtype: float64, scorer={'score': <function _passthrough_scorer>}, train=array([26432, 26433, 26434, ..., 79293, 79294, 79295]), test=array([    0,     1,     2, ..., 26429, 26430, 26431]), verbose=0, parameters={'learning_rate': 0.1, 'max_depth': 2, 'min_samples_split': 50, 'n_estimators': 100}, fit_params={}, return_train_score='warn', return_parameters=False, return_n_test_samples=True, return_times=True, error_score='raise')\n    453 \n    454     try:\n    455         if y_train is None:\n    456             estimator.fit(X_train, **fit_params)\n    457         else:\n--> 458             estimator.fit(X_train, y_train, **fit_params)\n        estimator.fit = <bound method BaseGradientBoosting.fit of Gradie...     subsample=1.0, verbose=0, warm_start=False)>\n        X_train =        loan_amnt                 ...            ...                  0\n\n[52864 rows x 99271 columns]\n        y_train = 89548    1.0\n24979    1.0\n44943    0.0\n5184     ...\nName: loan_status, Length: 52864, dtype: float64\n        fit_params = {}\n    459 \n    460     except Exception as e:\n    461         # Note fit time as time until error\n    462         fit_time = time.time() - start_time\n\n...........................................................................\nC:\\Users\\jianghaitao1\\AppData\\Local\\Continuum\\anaconda3\\lib\\site-packages\\sklearn\\ensemble\\gradient_boosting.py in fit(self=GradientBoostingRegressor(alpha=0.9, criterion='...      subsample=1.0, verbose=0, warm_start=False), X=       loan_amnt                 ...            ...                  0\n\n[52864 rows x 99271 columns], y=89548    1.0\n24979    1.0\n44943    0.0\n5184     ...\nName: loan_status, Length: 52864, dtype: float64, sample_weight=None, monitor=None)\n    974         # if not warmstart - clear the estimator state\n    975         if not self.warm_start:\n    976             self._clear_state()\n    977 \n    978         # Check input\n--> 979         X, y = check_X_y(X, y, accept_sparse=['csr', 'csc', 'coo'], dtype=DTYPE)\n        X =        loan_amnt                 ...            ...                  0\n\n[52864 rows x 99271 columns]\n        y = 89548    1.0\n24979    1.0\n44943    0.0\n5184     ...\nName: loan_status, Length: 52864, dtype: float64\n    980         n_samples, self.n_features_ = X.shape\n    981         if sample_weight is None:\n    982             sample_weight = np.ones(n_samples, dtype=np.float32)\n    983         else:\n\n...........................................................................\nC:\\Users\\jianghaitao1\\AppData\\Local\\Continuum\\anaconda3\\lib\\site-packages\\sklearn\\utils\\validation.py in check_X_y(X=       loan_amnt                 ...            ...                  0\n\n[52864 rows x 99271 columns], y=89548    1.0\n24979    1.0\n44943    0.0\n5184     ...\nName: loan_status, Length: 52864, dtype: float64, accept_sparse=['csr', 'csc', 'coo'], dtype=<class 'numpy.float32'>, order=None, copy=False, force_all_finite=True, ensure_2d=True, allow_nd=False, multi_output=False, ensure_min_samples=1, ensure_min_features=1, y_numeric=False, warn_on_dtype=False, estimator=None)\n    568     y_converted : object\n    569         The converted and validated y.\n    570     \"\"\"\n    571     X = check_array(X, accept_sparse, dtype, order, copy, force_all_finite,\n    572                     ensure_2d, allow_nd, ensure_min_samples,\n--> 573                     ensure_min_features, warn_on_dtype, estimator)\n        ensure_min_features = 1\n        warn_on_dtype = False\n        estimator = None\n    574     if multi_output:\n    575         y = check_array(y, 'csr', force_all_finite=True, ensure_2d=False,\n    576                         dtype=None)\n    577     else:\n\n...........................................................................\nC:\\Users\\jianghaitao1\\AppData\\Local\\Continuum\\anaconda3\\lib\\site-packages\\sklearn\\utils\\validation.py in check_array(array=       loan_amnt                 ...            ...                  0\n\n[52864 rows x 99271 columns], accept_sparse=['csr', 'csc', 'coo'], dtype=<class 'numpy.float32'>, order=None, copy=False, force_all_finite=True, ensure_2d=True, allow_nd=False, ensure_min_samples=1, ensure_min_features=1, warn_on_dtype=False, estimator=None)\n    428 \n    429     if sp.issparse(array):\n    430         array = _ensure_sparse_format(array, accept_sparse, dtype, copy,\n    431                                       force_all_finite)\n    432     else:\n--> 433         array = np.array(array, dtype=dtype, order=order, copy=copy)\n        array =        loan_amnt                 ...            ...                  0\n\n[52864 rows x 99271 columns]\n        dtype = <class 'numpy.float32'>\n        order = None\n        copy = False\n    434 \n    435         if ensure_2d:\n    436             if array.ndim == 1:\n    437                 raise ValueError(\n\n...........................................................................\nC:\\Users\\jianghaitao1\\AppData\\Local\\Continuum\\anaconda3\\lib\\site-packages\\pandas\\core\\generic.py in __array__(self=       loan_amnt                 ...            ...                  0\n\n[52864 rows x 99271 columns], dtype=dtype('float32'))\n   1598 \n   1599     # ----------------------------------------------------------------------\n   1600     # Array Interface\n   1601 \n   1602     def __array__(self, dtype=None):\n-> 1603         return com._values_from_object(self)\n        self =        loan_amnt                 ...            ...                  0\n\n[52864 rows x 99271 columns]\n   1604 \n   1605     def __array_wrap__(self, result, context=None):\n   1606         d = self._construct_axes_dict(self._AXIS_ORDERS, copy=False)\n   1607         return self._constructor(result, **d).__finalize__(self)\n\n...........................................................................\nC:\\Users\\jianghaitao1\\AppData\\Local\\Continuum\\anaconda3\\lib\\site-packages\\pandas\\_libs\\lib.cp36-win_amd64.pyd in pandas._libs.lib.values_from_object()\n\n...........................................................................\nC:\\Users\\jianghaitao1\\AppData\\Local\\Continuum\\anaconda3\\lib\\site-packages\\pandas\\core\\generic.py in get_values(self=       loan_amnt                 ...            ...                  0\n\n[52864 rows x 99271 columns])\n   4679         >>> df.get_values()\n   4680         array([[ 1.,  1.],\n   4681                [nan,  2.],\n   4682                [nan,  3.]])\n   4683         \"\"\"\n-> 4684         return self.values\n        self.values = undefined\n   4685 \n   4686     def get_dtype_counts(self):\n   4687         \"\"\"\n   4688         Return counts of unique dtypes in this object.\n\n...........................................................................\nC:\\Users\\jianghaitao1\\AppData\\Local\\Continuum\\anaconda3\\lib\\site-packages\\pandas\\core\\generic.py in values(self=       loan_amnt                 ...            ...                  0\n\n[52864 rows x 99271 columns])\n   4624         --------\n   4625         pandas.DataFrame.index : Retrievie the index labels\n   4626         pandas.DataFrame.columns : Retrieving the column names\n   4627         \"\"\"\n   4628         self._consolidate_inplace()\n-> 4629         return self._data.as_array(transpose=self._AXIS_REVERSED)\n        self._data.as_array = <bound method BlockManager.as_array of BlockMana...slice(70, 99271, 1), 99201 x 52864, dtype: uint8>\n        self._AXIS_REVERSED = True\n   4630 \n   4631     @property\n   4632     def _values(self):\n   4633         \"\"\"internal implementation\"\"\"\n\n...........................................................................\nC:\\Users\\jianghaitao1\\AppData\\Local\\Continuum\\anaconda3\\lib\\site-packages\\pandas\\core\\internals.py in as_array(self=BlockManager\nItems: Index(['loan_amnt', 'annual_... slice(70, 99271, 1), 99201 x 52864, dtype: uint8, transpose=True, items=None)\n   3944             mgr = self\n   3945 \n   3946         if self._is_single_block or not self.is_mixed_type:\n   3947             arr = mgr.blocks[0].get_values()\n   3948         else:\n-> 3949             arr = mgr._interleave()\n        arr = undefined\n        mgr._interleave = <bound method BlockManager._interleave of BlockM...slice(70, 99271, 1), 99201 x 52864, dtype: uint8>\n   3950 \n   3951         return arr.transpose() if transpose else arr\n   3952 \n   3953     def _interleave(self):\n\n...........................................................................\nC:\\Users\\jianghaitao1\\AppData\\Local\\Continuum\\anaconda3\\lib\\site-packages\\pandas\\core\\internals.py in _interleave(self=BlockManager\nItems: Index(['loan_amnt', 'annual_... slice(70, 99271, 1), 99201 x 52864, dtype: uint8)\n   3955         Return ndarray from blocks with specified item order\n   3956         Items must be contained in the blocks\n   3957         \"\"\"\n   3958         dtype = _interleaved_dtype(self.blocks)\n   3959 \n-> 3960         result = np.empty(self.shape, dtype=dtype)\n        result = undefined\n        self.shape = (99271, 52864)\n        dtype = dtype('float64')\n   3961 \n   3962         if result.shape[0] == 0:\n   3963             # Workaround for numpy 1.7 bug:\n   3964             #\n\nMemoryError: \n___________________________________________________________________________",
     "output_type": "error",
     "traceback": [
      "\u001b[1;31m---------------------------------------------------------------------------\u001b[0m",
      "\u001b[1;31mRemoteTraceback\u001b[0m                           Traceback (most recent call last)",
      "\u001b[1;31mRemoteTraceback\u001b[0m: \n\"\"\"\nTraceback (most recent call last):\n  File \"C:\\Users\\jianghaitao1\\AppData\\Local\\Continuum\\anaconda3\\lib\\site-packages\\sklearn\\externals\\joblib\\_parallel_backends.py\", line 350, in __call__\n    return self.func(*args, **kwargs)\n  File \"C:\\Users\\jianghaitao1\\AppData\\Local\\Continuum\\anaconda3\\lib\\site-packages\\sklearn\\externals\\joblib\\parallel.py\", line 131, in __call__\n    return [func(*args, **kwargs) for func, args, kwargs in self.items]\n  File \"C:\\Users\\jianghaitao1\\AppData\\Local\\Continuum\\anaconda3\\lib\\site-packages\\sklearn\\externals\\joblib\\parallel.py\", line 131, in <listcomp>\n    return [func(*args, **kwargs) for func, args, kwargs in self.items]\n  File \"C:\\Users\\jianghaitao1\\AppData\\Local\\Continuum\\anaconda3\\lib\\site-packages\\sklearn\\model_selection\\_validation.py\", line 458, in _fit_and_score\n    estimator.fit(X_train, y_train, **fit_params)\n  File \"C:\\Users\\jianghaitao1\\AppData\\Local\\Continuum\\anaconda3\\lib\\site-packages\\sklearn\\ensemble\\gradient_boosting.py\", line 979, in fit\n    X, y = check_X_y(X, y, accept_sparse=['csr', 'csc', 'coo'], dtype=DTYPE)\n  File \"C:\\Users\\jianghaitao1\\AppData\\Local\\Continuum\\anaconda3\\lib\\site-packages\\sklearn\\utils\\validation.py\", line 573, in check_X_y\n    ensure_min_features, warn_on_dtype, estimator)\n  File \"C:\\Users\\jianghaitao1\\AppData\\Local\\Continuum\\anaconda3\\lib\\site-packages\\sklearn\\utils\\validation.py\", line 433, in check_array\n    array = np.array(array, dtype=dtype, order=order, copy=copy)\n  File \"C:\\Users\\jianghaitao1\\AppData\\Local\\Continuum\\anaconda3\\lib\\site-packages\\pandas\\core\\generic.py\", line 1603, in __array__\n    return com._values_from_object(self)\n  File \"pandas\\_libs\\lib.pyx\", line 47, in pandas._libs.lib.values_from_object\n  File \"C:\\Users\\jianghaitao1\\AppData\\Local\\Continuum\\anaconda3\\lib\\site-packages\\pandas\\core\\generic.py\", line 4684, in get_values\n    return self.values\n  File \"C:\\Users\\jianghaitao1\\AppData\\Local\\Continuum\\anaconda3\\lib\\site-packages\\pandas\\core\\generic.py\", line 4629, in values\n    return self._data.as_array(transpose=self._AXIS_REVERSED)\n  File \"C:\\Users\\jianghaitao1\\AppData\\Local\\Continuum\\anaconda3\\lib\\site-packages\\pandas\\core\\internals.py\", line 3949, in as_array\n    arr = mgr._interleave()\n  File \"C:\\Users\\jianghaitao1\\AppData\\Local\\Continuum\\anaconda3\\lib\\site-packages\\pandas\\core\\internals.py\", line 3960, in _interleave\n    result = np.empty(self.shape, dtype=dtype)\nMemoryError\n\nDuring handling of the above exception, another exception occurred:\n\nTraceback (most recent call last):\n  File \"C:\\Users\\jianghaitao1\\AppData\\Local\\Continuum\\anaconda3\\lib\\multiprocessing\\pool.py\", line 119, in worker\n    result = (True, func(*args, **kwds))\n  File \"C:\\Users\\jianghaitao1\\AppData\\Local\\Continuum\\anaconda3\\lib\\site-packages\\sklearn\\externals\\joblib\\_parallel_backends.py\", line 359, in __call__\n    raise TransportableException(text, e_type)\nsklearn.externals.joblib.my_exceptions.TransportableException: TransportableException\n___________________________________________________________________________\nMemoryError                                        Thu Jun  6 17:28:20 2019\nPID: 17644Python 3.6.5: C:\\Users\\jianghaitao1\\AppData\\Local\\Continuum\\anaconda3\\python.exe\n...........................................................................\nC:\\Users\\jianghaitao1\\AppData\\Local\\Continuum\\anaconda3\\lib\\site-packages\\sklearn\\externals\\joblib\\parallel.py in __call__(self=<sklearn.externals.joblib.parallel.BatchedCalls object>)\n    126     def __init__(self, iterator_slice):\n    127         self.items = list(iterator_slice)\n    128         self._size = len(self.items)\n    129 \n    130     def __call__(self):\n--> 131         return [func(*args, **kwargs) for func, args, kwargs in self.items]\n        self.items = [(<function _fit_and_score>, (GradientBoostingRegressor(alpha=0.9, criterion='...      subsample=1.0, verbose=0, warm_start=False),        loan_amnt                 ...            ...                  0\n\n[79296 rows x 99271 columns], 82145    1.0\n36755    1.0\n29156    1.0\n60929    ...\nName: loan_status, Length: 79296, dtype: float64, {'score': <function _passthrough_scorer>}, array([26432, 26433, 26434, ..., 79293, 79294, 79295]), array([    0,     1,     2, ..., 26429, 26430, 26431]), 0, {'learning_rate': 0.1, 'max_depth': 2, 'min_samples_split': 50, 'n_estimators': 100}), {'error_score': 'raise', 'fit_params': {}, 'return_n_test_samples': True, 'return_parameters': False, 'return_times': True, 'return_train_score': 'warn'})]\n    132 \n    133     def __len__(self):\n    134         return self._size\n    135 \n\n...........................................................................\nC:\\Users\\jianghaitao1\\AppData\\Local\\Continuum\\anaconda3\\lib\\site-packages\\sklearn\\externals\\joblib\\parallel.py in <listcomp>(.0=<list_iterator object>)\n    126     def __init__(self, iterator_slice):\n    127         self.items = list(iterator_slice)\n    128         self._size = len(self.items)\n    129 \n    130     def __call__(self):\n--> 131         return [func(*args, **kwargs) for func, args, kwargs in self.items]\n        func = <function _fit_and_score>\n        args = (GradientBoostingRegressor(alpha=0.9, criterion='...      subsample=1.0, verbose=0, warm_start=False),        loan_amnt                 ...            ...                  0\n\n[79296 rows x 99271 columns], 82145    1.0\n36755    1.0\n29156    1.0\n60929    ...\nName: loan_status, Length: 79296, dtype: float64, {'score': <function _passthrough_scorer>}, array([26432, 26433, 26434, ..., 79293, 79294, 79295]), array([    0,     1,     2, ..., 26429, 26430, 26431]), 0, {'learning_rate': 0.1, 'max_depth': 2, 'min_samples_split': 50, 'n_estimators': 100})\n        kwargs = {'error_score': 'raise', 'fit_params': {}, 'return_n_test_samples': True, 'return_parameters': False, 'return_times': True, 'return_train_score': 'warn'}\n    132 \n    133     def __len__(self):\n    134         return self._size\n    135 \n\n...........................................................................\nC:\\Users\\jianghaitao1\\AppData\\Local\\Continuum\\anaconda3\\lib\\site-packages\\sklearn\\model_selection\\_validation.py in _fit_and_score(estimator=GradientBoostingRegressor(alpha=0.9, criterion='...      subsample=1.0, verbose=0, warm_start=False), X=       loan_amnt                 ...            ...                  0\n\n[79296 rows x 99271 columns], y=82145    1.0\n36755    1.0\n29156    1.0\n60929    ...\nName: loan_status, Length: 79296, dtype: float64, scorer={'score': <function _passthrough_scorer>}, train=array([26432, 26433, 26434, ..., 79293, 79294, 79295]), test=array([    0,     1,     2, ..., 26429, 26430, 26431]), verbose=0, parameters={'learning_rate': 0.1, 'max_depth': 2, 'min_samples_split': 50, 'n_estimators': 100}, fit_params={}, return_train_score='warn', return_parameters=False, return_n_test_samples=True, return_times=True, error_score='raise')\n    453 \n    454     try:\n    455         if y_train is None:\n    456             estimator.fit(X_train, **fit_params)\n    457         else:\n--> 458             estimator.fit(X_train, y_train, **fit_params)\n        estimator.fit = <bound method BaseGradientBoosting.fit of Gradie...     subsample=1.0, verbose=0, warm_start=False)>\n        X_train =        loan_amnt                 ...            ...                  0\n\n[52864 rows x 99271 columns]\n        y_train = 89548    1.0\n24979    1.0\n44943    0.0\n5184     ...\nName: loan_status, Length: 52864, dtype: float64\n        fit_params = {}\n    459 \n    460     except Exception as e:\n    461         # Note fit time as time until error\n    462         fit_time = time.time() - start_time\n\n...........................................................................\nC:\\Users\\jianghaitao1\\AppData\\Local\\Continuum\\anaconda3\\lib\\site-packages\\sklearn\\ensemble\\gradient_boosting.py in fit(self=GradientBoostingRegressor(alpha=0.9, criterion='...      subsample=1.0, verbose=0, warm_start=False), X=       loan_amnt                 ...            ...                  0\n\n[52864 rows x 99271 columns], y=89548    1.0\n24979    1.0\n44943    0.0\n5184     ...\nName: loan_status, Length: 52864, dtype: float64, sample_weight=None, monitor=None)\n    974         # if not warmstart - clear the estimator state\n    975         if not self.warm_start:\n    976             self._clear_state()\n    977 \n    978         # Check input\n--> 979         X, y = check_X_y(X, y, accept_sparse=['csr', 'csc', 'coo'], dtype=DTYPE)\n        X =        loan_amnt                 ...            ...                  0\n\n[52864 rows x 99271 columns]\n        y = 89548    1.0\n24979    1.0\n44943    0.0\n5184     ...\nName: loan_status, Length: 52864, dtype: float64\n    980         n_samples, self.n_features_ = X.shape\n    981         if sample_weight is None:\n    982             sample_weight = np.ones(n_samples, dtype=np.float32)\n    983         else:\n\n...........................................................................\nC:\\Users\\jianghaitao1\\AppData\\Local\\Continuum\\anaconda3\\lib\\site-packages\\sklearn\\utils\\validation.py in check_X_y(X=       loan_amnt                 ...            ...                  0\n\n[52864 rows x 99271 columns], y=89548    1.0\n24979    1.0\n44943    0.0\n5184     ...\nName: loan_status, Length: 52864, dtype: float64, accept_sparse=['csr', 'csc', 'coo'], dtype=<class 'numpy.float32'>, order=None, copy=False, force_all_finite=True, ensure_2d=True, allow_nd=False, multi_output=False, ensure_min_samples=1, ensure_min_features=1, y_numeric=False, warn_on_dtype=False, estimator=None)\n    568     y_converted : object\n    569         The converted and validated y.\n    570     \"\"\"\n    571     X = check_array(X, accept_sparse, dtype, order, copy, force_all_finite,\n    572                     ensure_2d, allow_nd, ensure_min_samples,\n--> 573                     ensure_min_features, warn_on_dtype, estimator)\n        ensure_min_features = 1\n        warn_on_dtype = False\n        estimator = None\n    574     if multi_output:\n    575         y = check_array(y, 'csr', force_all_finite=True, ensure_2d=False,\n    576                         dtype=None)\n    577     else:\n\n...........................................................................\nC:\\Users\\jianghaitao1\\AppData\\Local\\Continuum\\anaconda3\\lib\\site-packages\\sklearn\\utils\\validation.py in check_array(array=       loan_amnt                 ...            ...                  0\n\n[52864 rows x 99271 columns], accept_sparse=['csr', 'csc', 'coo'], dtype=<class 'numpy.float32'>, order=None, copy=False, force_all_finite=True, ensure_2d=True, allow_nd=False, ensure_min_samples=1, ensure_min_features=1, warn_on_dtype=False, estimator=None)\n    428 \n    429     if sp.issparse(array):\n    430         array = _ensure_sparse_format(array, accept_sparse, dtype, copy,\n    431                                       force_all_finite)\n    432     else:\n--> 433         array = np.array(array, dtype=dtype, order=order, copy=copy)\n        array =        loan_amnt                 ...            ...                  0\n\n[52864 rows x 99271 columns]\n        dtype = <class 'numpy.float32'>\n        order = None\n        copy = False\n    434 \n    435         if ensure_2d:\n    436             if array.ndim == 1:\n    437                 raise ValueError(\n\n...........................................................................\nC:\\Users\\jianghaitao1\\AppData\\Local\\Continuum\\anaconda3\\lib\\site-packages\\pandas\\core\\generic.py in __array__(self=       loan_amnt                 ...            ...                  0\n\n[52864 rows x 99271 columns], dtype=dtype('float32'))\n   1598 \n   1599     # ----------------------------------------------------------------------\n   1600     # Array Interface\n   1601 \n   1602     def __array__(self, dtype=None):\n-> 1603         return com._values_from_object(self)\n        self =        loan_amnt                 ...            ...                  0\n\n[52864 rows x 99271 columns]\n   1604 \n   1605     def __array_wrap__(self, result, context=None):\n   1606         d = self._construct_axes_dict(self._AXIS_ORDERS, copy=False)\n   1607         return self._constructor(result, **d).__finalize__(self)\n\n...........................................................................\nC:\\Users\\jianghaitao1\\AppData\\Local\\Continuum\\anaconda3\\lib\\site-packages\\pandas\\_libs\\lib.cp36-win_amd64.pyd in pandas._libs.lib.values_from_object()\n\n...........................................................................\nC:\\Users\\jianghaitao1\\AppData\\Local\\Continuum\\anaconda3\\lib\\site-packages\\pandas\\core\\generic.py in get_values(self=       loan_amnt                 ...            ...                  0\n\n[52864 rows x 99271 columns])\n   4679         >>> df.get_values()\n   4680         array([[ 1.,  1.],\n   4681                [nan,  2.],\n   4682                [nan,  3.]])\n   4683         \"\"\"\n-> 4684         return self.values\n        self.values = undefined\n   4685 \n   4686     def get_dtype_counts(self):\n   4687         \"\"\"\n   4688         Return counts of unique dtypes in this object.\n\n...........................................................................\nC:\\Users\\jianghaitao1\\AppData\\Local\\Continuum\\anaconda3\\lib\\site-packages\\pandas\\core\\generic.py in values(self=       loan_amnt                 ...            ...                  0\n\n[52864 rows x 99271 columns])\n   4624         --------\n   4625         pandas.DataFrame.index : Retrievie the index labels\n   4626         pandas.DataFrame.columns : Retrieving the column names\n   4627         \"\"\"\n   4628         self._consolidate_inplace()\n-> 4629         return self._data.as_array(transpose=self._AXIS_REVERSED)\n        self._data.as_array = <bound method BlockManager.as_array of BlockMana...slice(70, 99271, 1), 99201 x 52864, dtype: uint8>\n        self._AXIS_REVERSED = True\n   4630 \n   4631     @property\n   4632     def _values(self):\n   4633         \"\"\"internal implementation\"\"\"\n\n...........................................................................\nC:\\Users\\jianghaitao1\\AppData\\Local\\Continuum\\anaconda3\\lib\\site-packages\\pandas\\core\\internals.py in as_array(self=BlockManager\nItems: Index(['loan_amnt', 'annual_... slice(70, 99271, 1), 99201 x 52864, dtype: uint8, transpose=True, items=None)\n   3944             mgr = self\n   3945 \n   3946         if self._is_single_block or not self.is_mixed_type:\n   3947             arr = mgr.blocks[0].get_values()\n   3948         else:\n-> 3949             arr = mgr._interleave()\n        arr = undefined\n        mgr._interleave = <bound method BlockManager._interleave of BlockM...slice(70, 99271, 1), 99201 x 52864, dtype: uint8>\n   3950 \n   3951         return arr.transpose() if transpose else arr\n   3952 \n   3953     def _interleave(self):\n\n...........................................................................\nC:\\Users\\jianghaitao1\\AppData\\Local\\Continuum\\anaconda3\\lib\\site-packages\\pandas\\core\\internals.py in _interleave(self=BlockManager\nItems: Index(['loan_amnt', 'annual_... slice(70, 99271, 1), 99201 x 52864, dtype: uint8)\n   3955         Return ndarray from blocks with specified item order\n   3956         Items must be contained in the blocks\n   3957         \"\"\"\n   3958         dtype = _interleaved_dtype(self.blocks)\n   3959 \n-> 3960         result = np.empty(self.shape, dtype=dtype)\n        result = undefined\n        self.shape = (99271, 52864)\n        dtype = dtype('float64')\n   3961 \n   3962         if result.shape[0] == 0:\n   3963             # Workaround for numpy 1.7 bug:\n   3964             #\n\nMemoryError: \n___________________________________________________________________________\n\"\"\"",
      "\nThe above exception was the direct cause of the following exception:\n",
      "\u001b[1;31mTransportableException\u001b[0m                    Traceback (most recent call last)",
      "\u001b[1;32m~\\AppData\\Local\\Continuum\\anaconda3\\lib\\site-packages\\sklearn\\externals\\joblib\\parallel.py\u001b[0m in \u001b[0;36mretrieve\u001b[1;34m(self)\u001b[0m\n\u001b[0;32m    698\u001b[0m                 \u001b[1;32mif\u001b[0m \u001b[0mgetattr\u001b[0m\u001b[1;33m(\u001b[0m\u001b[0mself\u001b[0m\u001b[1;33m.\u001b[0m\u001b[0m_backend\u001b[0m\u001b[1;33m,\u001b[0m \u001b[1;34m'supports_timeout'\u001b[0m\u001b[1;33m,\u001b[0m \u001b[1;32mFalse\u001b[0m\u001b[1;33m)\u001b[0m\u001b[1;33m:\u001b[0m\u001b[1;33m\u001b[0m\u001b[0m\n\u001b[1;32m--> 699\u001b[1;33m                     \u001b[0mself\u001b[0m\u001b[1;33m.\u001b[0m\u001b[0m_output\u001b[0m\u001b[1;33m.\u001b[0m\u001b[0mextend\u001b[0m\u001b[1;33m(\u001b[0m\u001b[0mjob\u001b[0m\u001b[1;33m.\u001b[0m\u001b[0mget\u001b[0m\u001b[1;33m(\u001b[0m\u001b[0mtimeout\u001b[0m\u001b[1;33m=\u001b[0m\u001b[0mself\u001b[0m\u001b[1;33m.\u001b[0m\u001b[0mtimeout\u001b[0m\u001b[1;33m)\u001b[0m\u001b[1;33m)\u001b[0m\u001b[1;33m\u001b[0m\u001b[0m\n\u001b[0m\u001b[0;32m    700\u001b[0m                 \u001b[1;32melse\u001b[0m\u001b[1;33m:\u001b[0m\u001b[1;33m\u001b[0m\u001b[0m\n",
      "\u001b[1;32m~\\AppData\\Local\\Continuum\\anaconda3\\lib\\multiprocessing\\pool.py\u001b[0m in \u001b[0;36mget\u001b[1;34m(self, timeout)\u001b[0m\n\u001b[0;32m    643\u001b[0m         \u001b[1;32melse\u001b[0m\u001b[1;33m:\u001b[0m\u001b[1;33m\u001b[0m\u001b[0m\n\u001b[1;32m--> 644\u001b[1;33m             \u001b[1;32mraise\u001b[0m \u001b[0mself\u001b[0m\u001b[1;33m.\u001b[0m\u001b[0m_value\u001b[0m\u001b[1;33m\u001b[0m\u001b[0m\n\u001b[0m\u001b[0;32m    645\u001b[0m \u001b[1;33m\u001b[0m\u001b[0m\n",
      "\u001b[1;31mTransportableException\u001b[0m: TransportableException\n___________________________________________________________________________\nMemoryError                                        Thu Jun  6 17:28:20 2019\nPID: 17644Python 3.6.5: C:\\Users\\jianghaitao1\\AppData\\Local\\Continuum\\anaconda3\\python.exe\n...........................................................................\nC:\\Users\\jianghaitao1\\AppData\\Local\\Continuum\\anaconda3\\lib\\site-packages\\sklearn\\externals\\joblib\\parallel.py in __call__(self=<sklearn.externals.joblib.parallel.BatchedCalls object>)\n    126     def __init__(self, iterator_slice):\n    127         self.items = list(iterator_slice)\n    128         self._size = len(self.items)\n    129 \n    130     def __call__(self):\n--> 131         return [func(*args, **kwargs) for func, args, kwargs in self.items]\n        self.items = [(<function _fit_and_score>, (GradientBoostingRegressor(alpha=0.9, criterion='...      subsample=1.0, verbose=0, warm_start=False),        loan_amnt                 ...            ...                  0\n\n[79296 rows x 99271 columns], 82145    1.0\n36755    1.0\n29156    1.0\n60929    ...\nName: loan_status, Length: 79296, dtype: float64, {'score': <function _passthrough_scorer>}, array([26432, 26433, 26434, ..., 79293, 79294, 79295]), array([    0,     1,     2, ..., 26429, 26430, 26431]), 0, {'learning_rate': 0.1, 'max_depth': 2, 'min_samples_split': 50, 'n_estimators': 100}), {'error_score': 'raise', 'fit_params': {}, 'return_n_test_samples': True, 'return_parameters': False, 'return_times': True, 'return_train_score': 'warn'})]\n    132 \n    133     def __len__(self):\n    134         return self._size\n    135 \n\n...........................................................................\nC:\\Users\\jianghaitao1\\AppData\\Local\\Continuum\\anaconda3\\lib\\site-packages\\sklearn\\externals\\joblib\\parallel.py in <listcomp>(.0=<list_iterator object>)\n    126     def __init__(self, iterator_slice):\n    127         self.items = list(iterator_slice)\n    128         self._size = len(self.items)\n    129 \n    130     def __call__(self):\n--> 131         return [func(*args, **kwargs) for func, args, kwargs in self.items]\n        func = <function _fit_and_score>\n        args = (GradientBoostingRegressor(alpha=0.9, criterion='...      subsample=1.0, verbose=0, warm_start=False),        loan_amnt                 ...            ...                  0\n\n[79296 rows x 99271 columns], 82145    1.0\n36755    1.0\n29156    1.0\n60929    ...\nName: loan_status, Length: 79296, dtype: float64, {'score': <function _passthrough_scorer>}, array([26432, 26433, 26434, ..., 79293, 79294, 79295]), array([    0,     1,     2, ..., 26429, 26430, 26431]), 0, {'learning_rate': 0.1, 'max_depth': 2, 'min_samples_split': 50, 'n_estimators': 100})\n        kwargs = {'error_score': 'raise', 'fit_params': {}, 'return_n_test_samples': True, 'return_parameters': False, 'return_times': True, 'return_train_score': 'warn'}\n    132 \n    133     def __len__(self):\n    134         return self._size\n    135 \n\n...........................................................................\nC:\\Users\\jianghaitao1\\AppData\\Local\\Continuum\\anaconda3\\lib\\site-packages\\sklearn\\model_selection\\_validation.py in _fit_and_score(estimator=GradientBoostingRegressor(alpha=0.9, criterion='...      subsample=1.0, verbose=0, warm_start=False), X=       loan_amnt                 ...            ...                  0\n\n[79296 rows x 99271 columns], y=82145    1.0\n36755    1.0\n29156    1.0\n60929    ...\nName: loan_status, Length: 79296, dtype: float64, scorer={'score': <function _passthrough_scorer>}, train=array([26432, 26433, 26434, ..., 79293, 79294, 79295]), test=array([    0,     1,     2, ..., 26429, 26430, 26431]), verbose=0, parameters={'learning_rate': 0.1, 'max_depth': 2, 'min_samples_split': 50, 'n_estimators': 100}, fit_params={}, return_train_score='warn', return_parameters=False, return_n_test_samples=True, return_times=True, error_score='raise')\n    453 \n    454     try:\n    455         if y_train is None:\n    456             estimator.fit(X_train, **fit_params)\n    457         else:\n--> 458             estimator.fit(X_train, y_train, **fit_params)\n        estimator.fit = <bound method BaseGradientBoosting.fit of Gradie...     subsample=1.0, verbose=0, warm_start=False)>\n        X_train =        loan_amnt                 ...            ...                  0\n\n[52864 rows x 99271 columns]\n        y_train = 89548    1.0\n24979    1.0\n44943    0.0\n5184     ...\nName: loan_status, Length: 52864, dtype: float64\n        fit_params = {}\n    459 \n    460     except Exception as e:\n    461         # Note fit time as time until error\n    462         fit_time = time.time() - start_time\n\n...........................................................................\nC:\\Users\\jianghaitao1\\AppData\\Local\\Continuum\\anaconda3\\lib\\site-packages\\sklearn\\ensemble\\gradient_boosting.py in fit(self=GradientBoostingRegressor(alpha=0.9, criterion='...      subsample=1.0, verbose=0, warm_start=False), X=       loan_amnt                 ...            ...                  0\n\n[52864 rows x 99271 columns], y=89548    1.0\n24979    1.0\n44943    0.0\n5184     ...\nName: loan_status, Length: 52864, dtype: float64, sample_weight=None, monitor=None)\n    974         # if not warmstart - clear the estimator state\n    975         if not self.warm_start:\n    976             self._clear_state()\n    977 \n    978         # Check input\n--> 979         X, y = check_X_y(X, y, accept_sparse=['csr', 'csc', 'coo'], dtype=DTYPE)\n        X =        loan_amnt                 ...            ...                  0\n\n[52864 rows x 99271 columns]\n        y = 89548    1.0\n24979    1.0\n44943    0.0\n5184     ...\nName: loan_status, Length: 52864, dtype: float64\n    980         n_samples, self.n_features_ = X.shape\n    981         if sample_weight is None:\n    982             sample_weight = np.ones(n_samples, dtype=np.float32)\n    983         else:\n\n...........................................................................\nC:\\Users\\jianghaitao1\\AppData\\Local\\Continuum\\anaconda3\\lib\\site-packages\\sklearn\\utils\\validation.py in check_X_y(X=       loan_amnt                 ...            ...                  0\n\n[52864 rows x 99271 columns], y=89548    1.0\n24979    1.0\n44943    0.0\n5184     ...\nName: loan_status, Length: 52864, dtype: float64, accept_sparse=['csr', 'csc', 'coo'], dtype=<class 'numpy.float32'>, order=None, copy=False, force_all_finite=True, ensure_2d=True, allow_nd=False, multi_output=False, ensure_min_samples=1, ensure_min_features=1, y_numeric=False, warn_on_dtype=False, estimator=None)\n    568     y_converted : object\n    569         The converted and validated y.\n    570     \"\"\"\n    571     X = check_array(X, accept_sparse, dtype, order, copy, force_all_finite,\n    572                     ensure_2d, allow_nd, ensure_min_samples,\n--> 573                     ensure_min_features, warn_on_dtype, estimator)\n        ensure_min_features = 1\n        warn_on_dtype = False\n        estimator = None\n    574     if multi_output:\n    575         y = check_array(y, 'csr', force_all_finite=True, ensure_2d=False,\n    576                         dtype=None)\n    577     else:\n\n...........................................................................\nC:\\Users\\jianghaitao1\\AppData\\Local\\Continuum\\anaconda3\\lib\\site-packages\\sklearn\\utils\\validation.py in check_array(array=       loan_amnt                 ...            ...                  0\n\n[52864 rows x 99271 columns], accept_sparse=['csr', 'csc', 'coo'], dtype=<class 'numpy.float32'>, order=None, copy=False, force_all_finite=True, ensure_2d=True, allow_nd=False, ensure_min_samples=1, ensure_min_features=1, warn_on_dtype=False, estimator=None)\n    428 \n    429     if sp.issparse(array):\n    430         array = _ensure_sparse_format(array, accept_sparse, dtype, copy,\n    431                                       force_all_finite)\n    432     else:\n--> 433         array = np.array(array, dtype=dtype, order=order, copy=copy)\n        array =        loan_amnt                 ...            ...                  0\n\n[52864 rows x 99271 columns]\n        dtype = <class 'numpy.float32'>\n        order = None\n        copy = False\n    434 \n    435         if ensure_2d:\n    436             if array.ndim == 1:\n    437                 raise ValueError(\n\n...........................................................................\nC:\\Users\\jianghaitao1\\AppData\\Local\\Continuum\\anaconda3\\lib\\site-packages\\pandas\\core\\generic.py in __array__(self=       loan_amnt                 ...            ...                  0\n\n[52864 rows x 99271 columns], dtype=dtype('float32'))\n   1598 \n   1599     # ----------------------------------------------------------------------\n   1600     # Array Interface\n   1601 \n   1602     def __array__(self, dtype=None):\n-> 1603         return com._values_from_object(self)\n        self =        loan_amnt                 ...            ...                  0\n\n[52864 rows x 99271 columns]\n   1604 \n   1605     def __array_wrap__(self, result, context=None):\n   1606         d = self._construct_axes_dict(self._AXIS_ORDERS, copy=False)\n   1607         return self._constructor(result, **d).__finalize__(self)\n\n...........................................................................\nC:\\Users\\jianghaitao1\\AppData\\Local\\Continuum\\anaconda3\\lib\\site-packages\\pandas\\_libs\\lib.cp36-win_amd64.pyd in pandas._libs.lib.values_from_object()\n\n...........................................................................\nC:\\Users\\jianghaitao1\\AppData\\Local\\Continuum\\anaconda3\\lib\\site-packages\\pandas\\core\\generic.py in get_values(self=       loan_amnt                 ...            ...                  0\n\n[52864 rows x 99271 columns])\n   4679         >>> df.get_values()\n   4680         array([[ 1.,  1.],\n   4681                [nan,  2.],\n   4682                [nan,  3.]])\n   4683         \"\"\"\n-> 4684         return self.values\n        self.values = undefined\n   4685 \n   4686     def get_dtype_counts(self):\n   4687         \"\"\"\n   4688         Return counts of unique dtypes in this object.\n\n...........................................................................\nC:\\Users\\jianghaitao1\\AppData\\Local\\Continuum\\anaconda3\\lib\\site-packages\\pandas\\core\\generic.py in values(self=       loan_amnt                 ...            ...                  0\n\n[52864 rows x 99271 columns])\n   4624         --------\n   4625         pandas.DataFrame.index : Retrievie the index labels\n   4626         pandas.DataFrame.columns : Retrieving the column names\n   4627         \"\"\"\n   4628         self._consolidate_inplace()\n-> 4629         return self._data.as_array(transpose=self._AXIS_REVERSED)\n        self._data.as_array = <bound method BlockManager.as_array of BlockMana...slice(70, 99271, 1), 99201 x 52864, dtype: uint8>\n        self._AXIS_REVERSED = True\n   4630 \n   4631     @property\n   4632     def _values(self):\n   4633         \"\"\"internal implementation\"\"\"\n\n...........................................................................\nC:\\Users\\jianghaitao1\\AppData\\Local\\Continuum\\anaconda3\\lib\\site-packages\\pandas\\core\\internals.py in as_array(self=BlockManager\nItems: Index(['loan_amnt', 'annual_... slice(70, 99271, 1), 99201 x 52864, dtype: uint8, transpose=True, items=None)\n   3944             mgr = self\n   3945 \n   3946         if self._is_single_block or not self.is_mixed_type:\n   3947             arr = mgr.blocks[0].get_values()\n   3948         else:\n-> 3949             arr = mgr._interleave()\n        arr = undefined\n        mgr._interleave = <bound method BlockManager._interleave of BlockM...slice(70, 99271, 1), 99201 x 52864, dtype: uint8>\n   3950 \n   3951         return arr.transpose() if transpose else arr\n   3952 \n   3953     def _interleave(self):\n\n...........................................................................\nC:\\Users\\jianghaitao1\\AppData\\Local\\Continuum\\anaconda3\\lib\\site-packages\\pandas\\core\\internals.py in _interleave(self=BlockManager\nItems: Index(['loan_amnt', 'annual_... slice(70, 99271, 1), 99201 x 52864, dtype: uint8)\n   3955         Return ndarray from blocks with specified item order\n   3956         Items must be contained in the blocks\n   3957         \"\"\"\n   3958         dtype = _interleaved_dtype(self.blocks)\n   3959 \n-> 3960         result = np.empty(self.shape, dtype=dtype)\n        result = undefined\n        self.shape = (99271, 52864)\n        dtype = dtype('float64')\n   3961 \n   3962         if result.shape[0] == 0:\n   3963             # Workaround for numpy 1.7 bug:\n   3964             #\n\nMemoryError: \n___________________________________________________________________________",
      "\nDuring handling of the above exception, another exception occurred:\n",
      "\u001b[1;31mJoblibMemoryError\u001b[0m                         Traceback (most recent call last)",
      "\u001b[1;32m<ipython-input-69-598849c9d1c2>\u001b[0m in \u001b[0;36m<module>\u001b[1;34m()\u001b[0m\n\u001b[0;32m      6\u001b[0m est = GridSearchCV(ensemble.GradientBoostingRegressor(),\n\u001b[0;32m      7\u001b[0m                    param_grid, n_jobs=4, refit=True)\n\u001b[1;32m----> 8\u001b[1;33m \u001b[0mest\u001b[0m\u001b[1;33m.\u001b[0m\u001b[0mfit\u001b[0m\u001b[1;33m(\u001b[0m\u001b[0mx_train\u001b[0m\u001b[1;33m,\u001b[0m \u001b[0my_train\u001b[0m\u001b[1;33m)\u001b[0m\u001b[1;33m\u001b[0m\u001b[0m\n\u001b[0m\u001b[0;32m      9\u001b[0m \u001b[0mbest_params\u001b[0m \u001b[1;33m=\u001b[0m \u001b[0mest\u001b[0m\u001b[1;33m.\u001b[0m\u001b[0mbest_params_\u001b[0m\u001b[1;33m\u001b[0m\u001b[0m\n\u001b[0;32m     10\u001b[0m \u001b[0mprint\u001b[0m\u001b[1;33m(\u001b[0m\u001b[0mbest_params\u001b[0m\u001b[1;33m)\u001b[0m\u001b[1;33m\u001b[0m\u001b[0m\n",
      "\u001b[1;32m~\\AppData\\Local\\Continuum\\anaconda3\\lib\\site-packages\\sklearn\\model_selection\\_search.py\u001b[0m in \u001b[0;36mfit\u001b[1;34m(self, X, y, groups, **fit_params)\u001b[0m\n\u001b[0;32m    637\u001b[0m                                   error_score=self.error_score)\n\u001b[0;32m    638\u001b[0m           for parameters, (train, test) in product(candidate_params,\n\u001b[1;32m--> 639\u001b[1;33m                                                    cv.split(X, y, groups)))\n\u001b[0m\u001b[0;32m    640\u001b[0m \u001b[1;33m\u001b[0m\u001b[0m\n\u001b[0;32m    641\u001b[0m         \u001b[1;31m# if one choose to see train score, \"out\" will contain train score info\u001b[0m\u001b[1;33m\u001b[0m\u001b[1;33m\u001b[0m\u001b[0m\n",
      "\u001b[1;32m~\\AppData\\Local\\Continuum\\anaconda3\\lib\\site-packages\\sklearn\\externals\\joblib\\parallel.py\u001b[0m in \u001b[0;36m__call__\u001b[1;34m(self, iterable)\u001b[0m\n\u001b[0;32m    787\u001b[0m                 \u001b[1;31m# consumption.\u001b[0m\u001b[1;33m\u001b[0m\u001b[1;33m\u001b[0m\u001b[0m\n\u001b[0;32m    788\u001b[0m                 \u001b[0mself\u001b[0m\u001b[1;33m.\u001b[0m\u001b[0m_iterating\u001b[0m \u001b[1;33m=\u001b[0m \u001b[1;32mFalse\u001b[0m\u001b[1;33m\u001b[0m\u001b[0m\n\u001b[1;32m--> 789\u001b[1;33m             \u001b[0mself\u001b[0m\u001b[1;33m.\u001b[0m\u001b[0mretrieve\u001b[0m\u001b[1;33m(\u001b[0m\u001b[1;33m)\u001b[0m\u001b[1;33m\u001b[0m\u001b[0m\n\u001b[0m\u001b[0;32m    790\u001b[0m             \u001b[1;31m# Make sure that we get a last message telling us we are done\u001b[0m\u001b[1;33m\u001b[0m\u001b[1;33m\u001b[0m\u001b[0m\n\u001b[0;32m    791\u001b[0m             \u001b[0melapsed_time\u001b[0m \u001b[1;33m=\u001b[0m \u001b[0mtime\u001b[0m\u001b[1;33m.\u001b[0m\u001b[0mtime\u001b[0m\u001b[1;33m(\u001b[0m\u001b[1;33m)\u001b[0m \u001b[1;33m-\u001b[0m \u001b[0mself\u001b[0m\u001b[1;33m.\u001b[0m\u001b[0m_start_time\u001b[0m\u001b[1;33m\u001b[0m\u001b[0m\n",
      "\u001b[1;32m~\\AppData\\Local\\Continuum\\anaconda3\\lib\\site-packages\\sklearn\\externals\\joblib\\parallel.py\u001b[0m in \u001b[0;36mretrieve\u001b[1;34m(self)\u001b[0m\n\u001b[0;32m    738\u001b[0m                     \u001b[0mexception\u001b[0m \u001b[1;33m=\u001b[0m \u001b[0mexception_type\u001b[0m\u001b[1;33m(\u001b[0m\u001b[0mreport\u001b[0m\u001b[1;33m)\u001b[0m\u001b[1;33m\u001b[0m\u001b[0m\n\u001b[0;32m    739\u001b[0m \u001b[1;33m\u001b[0m\u001b[0m\n\u001b[1;32m--> 740\u001b[1;33m                     \u001b[1;32mraise\u001b[0m \u001b[0mexception\u001b[0m\u001b[1;33m\u001b[0m\u001b[0m\n\u001b[0m\u001b[0;32m    741\u001b[0m \u001b[1;33m\u001b[0m\u001b[0m\n\u001b[0;32m    742\u001b[0m     \u001b[1;32mdef\u001b[0m \u001b[0m__call__\u001b[0m\u001b[1;33m(\u001b[0m\u001b[0mself\u001b[0m\u001b[1;33m,\u001b[0m \u001b[0miterable\u001b[0m\u001b[1;33m)\u001b[0m\u001b[1;33m:\u001b[0m\u001b[1;33m\u001b[0m\u001b[0m\n",
      "\u001b[1;31mJoblibMemoryError\u001b[0m: JoblibMemoryError\n___________________________________________________________________________\nMultiprocessing exception:\n...........................................................................\nC:\\Users\\jianghaitao1\\AppData\\Local\\Continuum\\anaconda3\\lib\\runpy.py in _run_module_as_main(mod_name='ipykernel_launcher', alter_argv=1)\n    188         sys.exit(msg)\n    189     main_globals = sys.modules[\"__main__\"].__dict__\n    190     if alter_argv:\n    191         sys.argv[0] = mod_spec.origin\n    192     return _run_code(code, main_globals, None,\n--> 193                      \"__main__\", mod_spec)\n        mod_spec = ModuleSpec(name='ipykernel_launcher', loader=<_f...nda3\\\\lib\\\\site-packages\\\\ipykernel_launcher.py')\n    194 \n    195 def run_module(mod_name, init_globals=None,\n    196                run_name=None, alter_sys=False):\n    197     \"\"\"Execute a module's code without importing it\n\n...........................................................................\nC:\\Users\\jianghaitao1\\AppData\\Local\\Continuum\\anaconda3\\lib\\runpy.py in _run_code(code=<code object <module> at 0x000002252EF6DB70, fil...lib\\site-packages\\ipykernel_launcher.py\", line 5>, run_globals={'__annotations__': {}, '__builtins__': <module 'builtins' (built-in)>, '__cached__': r'C:\\Users\\jianghaitao1\\AppData\\Local\\Continuum\\an...ges\\__pycache__\\ipykernel_launcher.cpython-36.pyc', '__doc__': 'Entry point for launching an IPython kernel.\\n\\nTh...orts until\\nafter removing the cwd from sys.path.\\n', '__file__': r'C:\\Users\\jianghaitao1\\AppData\\Local\\Continuum\\anaconda3\\lib\\site-packages\\ipykernel_launcher.py', '__loader__': <_frozen_importlib_external.SourceFileLoader object>, '__name__': '__main__', '__package__': '', '__spec__': ModuleSpec(name='ipykernel_launcher', loader=<_f...nda3\\\\lib\\\\site-packages\\\\ipykernel_launcher.py'), 'app': <module 'ipykernel.kernelapp' from 'C:\\\\Users\\\\j...a3\\\\lib\\\\site-packages\\\\ipykernel\\\\kernelapp.py'>, ...}, init_globals=None, mod_name='__main__', mod_spec=ModuleSpec(name='ipykernel_launcher', loader=<_f...nda3\\\\lib\\\\site-packages\\\\ipykernel_launcher.py'), pkg_name='', script_name=None)\n     80                        __cached__ = cached,\n     81                        __doc__ = None,\n     82                        __loader__ = loader,\n     83                        __package__ = pkg_name,\n     84                        __spec__ = mod_spec)\n---> 85     exec(code, run_globals)\n        code = <code object <module> at 0x000002252EF6DB70, fil...lib\\site-packages\\ipykernel_launcher.py\", line 5>\n        run_globals = {'__annotations__': {}, '__builtins__': <module 'builtins' (built-in)>, '__cached__': r'C:\\Users\\jianghaitao1\\AppData\\Local\\Continuum\\an...ges\\__pycache__\\ipykernel_launcher.cpython-36.pyc', '__doc__': 'Entry point for launching an IPython kernel.\\n\\nTh...orts until\\nafter removing the cwd from sys.path.\\n', '__file__': r'C:\\Users\\jianghaitao1\\AppData\\Local\\Continuum\\anaconda3\\lib\\site-packages\\ipykernel_launcher.py', '__loader__': <_frozen_importlib_external.SourceFileLoader object>, '__name__': '__main__', '__package__': '', '__spec__': ModuleSpec(name='ipykernel_launcher', loader=<_f...nda3\\\\lib\\\\site-packages\\\\ipykernel_launcher.py'), 'app': <module 'ipykernel.kernelapp' from 'C:\\\\Users\\\\j...a3\\\\lib\\\\site-packages\\\\ipykernel\\\\kernelapp.py'>, ...}\n     86     return run_globals\n     87 \n     88 def _run_module_code(code, init_globals=None,\n     89                     mod_name=None, mod_spec=None,\n\n...........................................................................\nC:\\Users\\jianghaitao1\\AppData\\Local\\Continuum\\anaconda3\\lib\\site-packages\\ipykernel_launcher.py in <module>()\n     11     # This is added back by InteractiveShellApp.init_path()\n     12     if sys.path[0] == '':\n     13         del sys.path[0]\n     14 \n     15     from ipykernel import kernelapp as app\n---> 16     app.launch_new_instance()\n\n...........................................................................\nC:\\Users\\jianghaitao1\\AppData\\Local\\Continuum\\anaconda3\\lib\\site-packages\\traitlets\\config\\application.py in launch_instance(cls=<class 'ipykernel.kernelapp.IPKernelApp'>, argv=None, **kwargs={})\n    653 \n    654         If a global instance already exists, this reinitializes and starts it\n    655         \"\"\"\n    656         app = cls.instance(**kwargs)\n    657         app.initialize(argv)\n--> 658         app.start()\n        app.start = <bound method IPKernelApp.start of <ipykernel.kernelapp.IPKernelApp object>>\n    659 \n    660 #-----------------------------------------------------------------------------\n    661 # utility functions, for convenience\n    662 #-----------------------------------------------------------------------------\n\n...........................................................................\nC:\\Users\\jianghaitao1\\AppData\\Local\\Continuum\\anaconda3\\lib\\site-packages\\ipykernel\\kernelapp.py in start(self=<ipykernel.kernelapp.IPKernelApp object>)\n    481         if self.poller is not None:\n    482             self.poller.start()\n    483         self.kernel.start()\n    484         self.io_loop = ioloop.IOLoop.current()\n    485         try:\n--> 486             self.io_loop.start()\n        self.io_loop.start = <bound method BaseAsyncIOLoop.start of <tornado.platform.asyncio.AsyncIOMainLoop object>>\n    487         except KeyboardInterrupt:\n    488             pass\n    489 \n    490 launch_new_instance = IPKernelApp.launch_instance\n\n...........................................................................\nC:\\Users\\jianghaitao1\\AppData\\Local\\Continuum\\anaconda3\\lib\\site-packages\\tornado\\platform\\asyncio.py in start(self=<tornado.platform.asyncio.AsyncIOMainLoop object>)\n    122         except (RuntimeError, AssertionError):\n    123             old_loop = None\n    124         try:\n    125             self._setup_logging()\n    126             asyncio.set_event_loop(self.asyncio_loop)\n--> 127             self.asyncio_loop.run_forever()\n        self.asyncio_loop.run_forever = <bound method BaseEventLoop.run_forever of <_Win...EventLoop running=True closed=False debug=False>>\n    128         finally:\n    129             asyncio.set_event_loop(old_loop)\n    130 \n    131     def stop(self):\n\n...........................................................................\nC:\\Users\\jianghaitao1\\AppData\\Local\\Continuum\\anaconda3\\lib\\asyncio\\base_events.py in run_forever(self=<_WindowsSelectorEventLoop running=True closed=False debug=False>)\n    417             sys.set_asyncgen_hooks(firstiter=self._asyncgen_firstiter_hook,\n    418                                    finalizer=self._asyncgen_finalizer_hook)\n    419         try:\n    420             events._set_running_loop(self)\n    421             while True:\n--> 422                 self._run_once()\n        self._run_once = <bound method BaseEventLoop._run_once of <_Windo...EventLoop running=True closed=False debug=False>>\n    423                 if self._stopping:\n    424                     break\n    425         finally:\n    426             self._stopping = False\n\n...........................................................................\nC:\\Users\\jianghaitao1\\AppData\\Local\\Continuum\\anaconda3\\lib\\asyncio\\base_events.py in _run_once(self=<_WindowsSelectorEventLoop running=True closed=False debug=False>)\n   1427                         logger.warning('Executing %s took %.3f seconds',\n   1428                                        _format_handle(handle), dt)\n   1429                 finally:\n   1430                     self._current_handle = None\n   1431             else:\n-> 1432                 handle._run()\n        handle._run = <bound method Handle._run of <Handle BaseAsyncIOLoop._handle_events(976, 1)>>\n   1433         handle = None  # Needed to break cycles when an exception occurs.\n   1434 \n   1435     def _set_coroutine_wrapper(self, enabled):\n   1436         try:\n\n...........................................................................\nC:\\Users\\jianghaitao1\\AppData\\Local\\Continuum\\anaconda3\\lib\\asyncio\\events.py in _run(self=<Handle BaseAsyncIOLoop._handle_events(976, 1)>)\n    140             self._callback = None\n    141             self._args = None\n    142 \n    143     def _run(self):\n    144         try:\n--> 145             self._callback(*self._args)\n        self._callback = <bound method BaseAsyncIOLoop._handle_events of <tornado.platform.asyncio.AsyncIOMainLoop object>>\n        self._args = (976, 1)\n    146         except Exception as exc:\n    147             cb = _format_callback_source(self._callback, self._args)\n    148             msg = 'Exception in callback {}'.format(cb)\n    149             context = {\n\n...........................................................................\nC:\\Users\\jianghaitao1\\AppData\\Local\\Continuum\\anaconda3\\lib\\site-packages\\tornado\\platform\\asyncio.py in _handle_events(self=<tornado.platform.asyncio.AsyncIOMainLoop object>, fd=976, events=1)\n    112             self.writers.remove(fd)\n    113         del self.handlers[fd]\n    114 \n    115     def _handle_events(self, fd, events):\n    116         fileobj, handler_func = self.handlers[fd]\n--> 117         handler_func(fileobj, events)\n        handler_func = <function wrap.<locals>.null_wrapper>\n        fileobj = <zmq.sugar.socket.Socket object>\n        events = 1\n    118 \n    119     def start(self):\n    120         try:\n    121             old_loop = asyncio.get_event_loop()\n\n...........................................................................\nC:\\Users\\jianghaitao1\\AppData\\Local\\Continuum\\anaconda3\\lib\\site-packages\\tornado\\stack_context.py in null_wrapper(*args=(<zmq.sugar.socket.Socket object>, 1), **kwargs={})\n    271         # Fast path when there are no active contexts.\n    272         def null_wrapper(*args, **kwargs):\n    273             try:\n    274                 current_state = _state.contexts\n    275                 _state.contexts = cap_contexts[0]\n--> 276                 return fn(*args, **kwargs)\n        args = (<zmq.sugar.socket.Socket object>, 1)\n        kwargs = {}\n    277             finally:\n    278                 _state.contexts = current_state\n    279         null_wrapper._wrapped = True\n    280         return null_wrapper\n\n...........................................................................\nC:\\Users\\jianghaitao1\\AppData\\Local\\Continuum\\anaconda3\\lib\\site-packages\\zmq\\eventloop\\zmqstream.py in _handle_events(self=<zmq.eventloop.zmqstream.ZMQStream object>, fd=<zmq.sugar.socket.Socket object>, events=1)\n    445             return\n    446         zmq_events = self.socket.EVENTS\n    447         try:\n    448             # dispatch events:\n    449             if zmq_events & zmq.POLLIN and self.receiving():\n--> 450                 self._handle_recv()\n        self._handle_recv = <bound method ZMQStream._handle_recv of <zmq.eventloop.zmqstream.ZMQStream object>>\n    451                 if not self.socket:\n    452                     return\n    453             if zmq_events & zmq.POLLOUT and self.sending():\n    454                 self._handle_send()\n\n...........................................................................\nC:\\Users\\jianghaitao1\\AppData\\Local\\Continuum\\anaconda3\\lib\\site-packages\\zmq\\eventloop\\zmqstream.py in _handle_recv(self=<zmq.eventloop.zmqstream.ZMQStream object>)\n    475             else:\n    476                 raise\n    477         else:\n    478             if self._recv_callback:\n    479                 callback = self._recv_callback\n--> 480                 self._run_callback(callback, msg)\n        self._run_callback = <bound method ZMQStream._run_callback of <zmq.eventloop.zmqstream.ZMQStream object>>\n        callback = <function wrap.<locals>.null_wrapper>\n        msg = [<zmq.sugar.frame.Frame object>, <zmq.sugar.frame.Frame object>, <zmq.sugar.frame.Frame object>, <zmq.sugar.frame.Frame object>, <zmq.sugar.frame.Frame object>, <zmq.sugar.frame.Frame object>, <zmq.sugar.frame.Frame object>]\n    481         \n    482 \n    483     def _handle_send(self):\n    484         \"\"\"Handle a send event.\"\"\"\n\n...........................................................................\nC:\\Users\\jianghaitao1\\AppData\\Local\\Continuum\\anaconda3\\lib\\site-packages\\zmq\\eventloop\\zmqstream.py in _run_callback(self=<zmq.eventloop.zmqstream.ZMQStream object>, callback=<function wrap.<locals>.null_wrapper>, *args=([<zmq.sugar.frame.Frame object>, <zmq.sugar.frame.Frame object>, <zmq.sugar.frame.Frame object>, <zmq.sugar.frame.Frame object>, <zmq.sugar.frame.Frame object>, <zmq.sugar.frame.Frame object>, <zmq.sugar.frame.Frame object>],), **kwargs={})\n    427         close our socket.\"\"\"\n    428         try:\n    429             # Use a NullContext to ensure that all StackContexts are run\n    430             # inside our blanket exception handler rather than outside.\n    431             with stack_context.NullContext():\n--> 432                 callback(*args, **kwargs)\n        callback = <function wrap.<locals>.null_wrapper>\n        args = ([<zmq.sugar.frame.Frame object>, <zmq.sugar.frame.Frame object>, <zmq.sugar.frame.Frame object>, <zmq.sugar.frame.Frame object>, <zmq.sugar.frame.Frame object>, <zmq.sugar.frame.Frame object>, <zmq.sugar.frame.Frame object>],)\n        kwargs = {}\n    433         except:\n    434             gen_log.error(\"Uncaught exception in ZMQStream callback\",\n    435                           exc_info=True)\n    436             # Re-raise the exception so that IOLoop.handle_callback_exception\n\n...........................................................................\nC:\\Users\\jianghaitao1\\AppData\\Local\\Continuum\\anaconda3\\lib\\site-packages\\tornado\\stack_context.py in null_wrapper(*args=([<zmq.sugar.frame.Frame object>, <zmq.sugar.frame.Frame object>, <zmq.sugar.frame.Frame object>, <zmq.sugar.frame.Frame object>, <zmq.sugar.frame.Frame object>, <zmq.sugar.frame.Frame object>, <zmq.sugar.frame.Frame object>],), **kwargs={})\n    271         # Fast path when there are no active contexts.\n    272         def null_wrapper(*args, **kwargs):\n    273             try:\n    274                 current_state = _state.contexts\n    275                 _state.contexts = cap_contexts[0]\n--> 276                 return fn(*args, **kwargs)\n        args = ([<zmq.sugar.frame.Frame object>, <zmq.sugar.frame.Frame object>, <zmq.sugar.frame.Frame object>, <zmq.sugar.frame.Frame object>, <zmq.sugar.frame.Frame object>, <zmq.sugar.frame.Frame object>, <zmq.sugar.frame.Frame object>],)\n        kwargs = {}\n    277             finally:\n    278                 _state.contexts = current_state\n    279         null_wrapper._wrapped = True\n    280         return null_wrapper\n\n...........................................................................\nC:\\Users\\jianghaitao1\\AppData\\Local\\Continuum\\anaconda3\\lib\\site-packages\\ipykernel\\kernelbase.py in dispatcher(msg=[<zmq.sugar.frame.Frame object>, <zmq.sugar.frame.Frame object>, <zmq.sugar.frame.Frame object>, <zmq.sugar.frame.Frame object>, <zmq.sugar.frame.Frame object>, <zmq.sugar.frame.Frame object>, <zmq.sugar.frame.Frame object>])\n    278         if self.control_stream:\n    279             self.control_stream.on_recv(self.dispatch_control, copy=False)\n    280 \n    281         def make_dispatcher(stream):\n    282             def dispatcher(msg):\n--> 283                 return self.dispatch_shell(stream, msg)\n        msg = [<zmq.sugar.frame.Frame object>, <zmq.sugar.frame.Frame object>, <zmq.sugar.frame.Frame object>, <zmq.sugar.frame.Frame object>, <zmq.sugar.frame.Frame object>, <zmq.sugar.frame.Frame object>, <zmq.sugar.frame.Frame object>]\n    284             return dispatcher\n    285 \n    286         for s in self.shell_streams:\n    287             s.on_recv(make_dispatcher(s), copy=False)\n\n...........................................................................\nC:\\Users\\jianghaitao1\\AppData\\Local\\Continuum\\anaconda3\\lib\\site-packages\\ipykernel\\kernelbase.py in dispatch_shell(self=<ipykernel.ipkernel.IPythonKernel object>, stream=<zmq.eventloop.zmqstream.ZMQStream object>, msg={'buffers': [], 'content': {'allow_stdin': True, 'code': \"param_grid = {'learning_rate': [0.1],\\n          ...best_params = est.best_params_\\nprint(best_params)\", 'silent': False, 'stop_on_error': True, 'store_history': True, 'user_expressions': {}}, 'header': {'date': datetime.datetime(2019, 6, 6, 9, 21, 9, 604825, tzinfo=tzutc()), 'msg_id': '37dcbc95c75f4fb7afa4b40609bba75e', 'msg_type': 'execute_request', 'session': 'aaaa8dcab3134177866dbb0a0acbc5fe', 'username': 'username', 'version': '5.2'}, 'metadata': {}, 'msg_id': '37dcbc95c75f4fb7afa4b40609bba75e', 'msg_type': 'execute_request', 'parent_header': {}})\n    228             self.log.warn(\"Unknown message type: %r\", msg_type)\n    229         else:\n    230             self.log.debug(\"%s: %s\", msg_type, msg)\n    231             self.pre_handler_hook()\n    232             try:\n--> 233                 handler(stream, idents, msg)\n        handler = <bound method Kernel.execute_request of <ipykernel.ipkernel.IPythonKernel object>>\n        stream = <zmq.eventloop.zmqstream.ZMQStream object>\n        idents = [b'aaaa8dcab3134177866dbb0a0acbc5fe']\n        msg = {'buffers': [], 'content': {'allow_stdin': True, 'code': \"param_grid = {'learning_rate': [0.1],\\n          ...best_params = est.best_params_\\nprint(best_params)\", 'silent': False, 'stop_on_error': True, 'store_history': True, 'user_expressions': {}}, 'header': {'date': datetime.datetime(2019, 6, 6, 9, 21, 9, 604825, tzinfo=tzutc()), 'msg_id': '37dcbc95c75f4fb7afa4b40609bba75e', 'msg_type': 'execute_request', 'session': 'aaaa8dcab3134177866dbb0a0acbc5fe', 'username': 'username', 'version': '5.2'}, 'metadata': {}, 'msg_id': '37dcbc95c75f4fb7afa4b40609bba75e', 'msg_type': 'execute_request', 'parent_header': {}}\n    234             except Exception:\n    235                 self.log.error(\"Exception in message handler:\", exc_info=True)\n    236             finally:\n    237                 self.post_handler_hook()\n\n...........................................................................\nC:\\Users\\jianghaitao1\\AppData\\Local\\Continuum\\anaconda3\\lib\\site-packages\\ipykernel\\kernelbase.py in execute_request(self=<ipykernel.ipkernel.IPythonKernel object>, stream=<zmq.eventloop.zmqstream.ZMQStream object>, ident=[b'aaaa8dcab3134177866dbb0a0acbc5fe'], parent={'buffers': [], 'content': {'allow_stdin': True, 'code': \"param_grid = {'learning_rate': [0.1],\\n          ...best_params = est.best_params_\\nprint(best_params)\", 'silent': False, 'stop_on_error': True, 'store_history': True, 'user_expressions': {}}, 'header': {'date': datetime.datetime(2019, 6, 6, 9, 21, 9, 604825, tzinfo=tzutc()), 'msg_id': '37dcbc95c75f4fb7afa4b40609bba75e', 'msg_type': 'execute_request', 'session': 'aaaa8dcab3134177866dbb0a0acbc5fe', 'username': 'username', 'version': '5.2'}, 'metadata': {}, 'msg_id': '37dcbc95c75f4fb7afa4b40609bba75e', 'msg_type': 'execute_request', 'parent_header': {}})\n    394         if not silent:\n    395             self.execution_count += 1\n    396             self._publish_execute_input(code, parent, self.execution_count)\n    397 \n    398         reply_content = self.do_execute(code, silent, store_history,\n--> 399                                         user_expressions, allow_stdin)\n        user_expressions = {}\n        allow_stdin = True\n    400 \n    401         # Flush output before sending the reply.\n    402         sys.stdout.flush()\n    403         sys.stderr.flush()\n\n...........................................................................\nC:\\Users\\jianghaitao1\\AppData\\Local\\Continuum\\anaconda3\\lib\\site-packages\\ipykernel\\ipkernel.py in do_execute(self=<ipykernel.ipkernel.IPythonKernel object>, code=\"param_grid = {'learning_rate': [0.1],\\n          ...best_params = est.best_params_\\nprint(best_params)\", silent=False, store_history=True, user_expressions={}, allow_stdin=True)\n    203 \n    204         self._forward_input(allow_stdin)\n    205 \n    206         reply_content = {}\n    207         try:\n--> 208             res = shell.run_cell(code, store_history=store_history, silent=silent)\n        res = undefined\n        shell.run_cell = <bound method ZMQInteractiveShell.run_cell of <ipykernel.zmqshell.ZMQInteractiveShell object>>\n        code = \"param_grid = {'learning_rate': [0.1],\\n          ...best_params = est.best_params_\\nprint(best_params)\"\n        store_history = True\n        silent = False\n    209         finally:\n    210             self._restore_input()\n    211 \n    212         if res.error_before_exec is not None:\n\n...........................................................................\nC:\\Users\\jianghaitao1\\AppData\\Local\\Continuum\\anaconda3\\lib\\site-packages\\ipykernel\\zmqshell.py in run_cell(self=<ipykernel.zmqshell.ZMQInteractiveShell object>, *args=(\"param_grid = {'learning_rate': [0.1],\\n          ...best_params = est.best_params_\\nprint(best_params)\",), **kwargs={'silent': False, 'store_history': True})\n    532             )\n    533         self.payload_manager.write_payload(payload)\n    534 \n    535     def run_cell(self, *args, **kwargs):\n    536         self._last_traceback = None\n--> 537         return super(ZMQInteractiveShell, self).run_cell(*args, **kwargs)\n        self.run_cell = <bound method ZMQInteractiveShell.run_cell of <ipykernel.zmqshell.ZMQInteractiveShell object>>\n        args = (\"param_grid = {'learning_rate': [0.1],\\n          ...best_params = est.best_params_\\nprint(best_params)\",)\n        kwargs = {'silent': False, 'store_history': True}\n    538 \n    539     def _showtraceback(self, etype, evalue, stb):\n    540         # try to preserve ordering of tracebacks and print statements\n    541         sys.stdout.flush()\n\n...........................................................................\nC:\\Users\\jianghaitao1\\AppData\\Local\\Continuum\\anaconda3\\lib\\site-packages\\IPython\\core\\interactiveshell.py in run_cell(self=<ipykernel.zmqshell.ZMQInteractiveShell object>, raw_cell=\"param_grid = {'learning_rate': [0.1],\\n          ...best_params = est.best_params_\\nprint(best_params)\", store_history=True, silent=False, shell_futures=True)\n   2657         -------\n   2658         result : :class:`ExecutionResult`\n   2659         \"\"\"\n   2660         try:\n   2661             result = self._run_cell(\n-> 2662                 raw_cell, store_history, silent, shell_futures)\n        raw_cell = \"param_grid = {'learning_rate': [0.1],\\n          ...best_params = est.best_params_\\nprint(best_params)\"\n        store_history = True\n        silent = False\n        shell_futures = True\n   2663         finally:\n   2664             self.events.trigger('post_execute')\n   2665             if not silent:\n   2666                 self.events.trigger('post_run_cell', result)\n\n...........................................................................\nC:\\Users\\jianghaitao1\\AppData\\Local\\Continuum\\anaconda3\\lib\\site-packages\\IPython\\core\\interactiveshell.py in _run_cell(self=<ipykernel.zmqshell.ZMQInteractiveShell object>, raw_cell=\"param_grid = {'learning_rate': [0.1],\\n          ...best_params = est.best_params_\\nprint(best_params)\", store_history=True, silent=False, shell_futures=True)\n   2780                 self.displayhook.exec_result = result\n   2781 \n   2782                 # Execute the user code\n   2783                 interactivity = 'none' if silent else self.ast_node_interactivity\n   2784                 has_raised = self.run_ast_nodes(code_ast.body, cell_name,\n-> 2785                    interactivity=interactivity, compiler=compiler, result=result)\n        interactivity = 'last_expr'\n        compiler = <IPython.core.compilerop.CachingCompiler object>\n   2786                 \n   2787                 self.last_execution_succeeded = not has_raised\n   2788                 self.last_execution_result = result\n   2789 \n\n...........................................................................\nC:\\Users\\jianghaitao1\\AppData\\Local\\Continuum\\anaconda3\\lib\\site-packages\\IPython\\core\\interactiveshell.py in run_ast_nodes(self=<ipykernel.zmqshell.ZMQInteractiveShell object>, nodelist=[<_ast.Assign object>, <_ast.Assign object>, <_ast.Expr object>, <_ast.Assign object>, <_ast.Expr object>], cell_name='<ipython-input-69-598849c9d1c2>', interactivity='last', compiler=<IPython.core.compilerop.CachingCompiler object>, result=<ExecutionResult object at 2256250b7f0, executio...rue silent=False shell_futures=True> result=None>)\n   2898 \n   2899         try:\n   2900             for i, node in enumerate(to_run_exec):\n   2901                 mod = ast.Module([node])\n   2902                 code = compiler(mod, cell_name, \"exec\")\n-> 2903                 if self.run_code(code, result):\n        self.run_code = <bound method InteractiveShell.run_code of <ipykernel.zmqshell.ZMQInteractiveShell object>>\n        code = <code object <module> at 0x00000225525168A0, file \"<ipython-input-69-598849c9d1c2>\", line 8>\n        result = <ExecutionResult object at 2256250b7f0, executio...rue silent=False shell_futures=True> result=None>\n   2904                     return True\n   2905 \n   2906             for i, node in enumerate(to_run_interactive):\n   2907                 mod = ast.Interactive([node])\n\n...........................................................................\nC:\\Users\\jianghaitao1\\AppData\\Local\\Continuum\\anaconda3\\lib\\site-packages\\IPython\\core\\interactiveshell.py in run_code(self=<ipykernel.zmqshell.ZMQInteractiveShell object>, code_obj=<code object <module> at 0x00000225525168A0, file \"<ipython-input-69-598849c9d1c2>\", line 8>, result=<ExecutionResult object at 2256250b7f0, executio...rue silent=False shell_futures=True> result=None>)\n   2958         outflag = True  # happens in more places, so it's easier as default\n   2959         try:\n   2960             try:\n   2961                 self.hooks.pre_run_code_hook()\n   2962                 #rprint('Running code', repr(code_obj)) # dbg\n-> 2963                 exec(code_obj, self.user_global_ns, self.user_ns)\n        code_obj = <code object <module> at 0x00000225525168A0, file \"<ipython-input-69-598849c9d1c2>\", line 8>\n        self.user_global_ns = {'GridSearchCV': <class 'sklearn.model_selection._search.GridSearchCV'>, 'In': ['', 'import numpy as np\\nimport pandas as pd\\nimport matplotlib.pyplot as plt', \"# 导入数据\\ndf = pd.read_csv('../dataset/LoanStats_2016Q3.csv',skiprows=2,low_memory=False)\\ndf.info()\", 'df.head()', 'df.columns.values', \"df.drop(['id'],axis=1,inplace=True)\\ndf.drop(['member_id'],axis=1,inplace=True)\", 'df.head()', \"# drop nan rows\\ndf.dropna(axis=0,how='all',inpla...any to ignore\\ndf.drop('emp_title',1,inplace=True)\", 'df.head()', 'df.columns.values', \"df.drop('term',1,inplace=True)\\ndf.drop('issue_d'...nplace=True)\\ndf.drop('revol_util',1,inplace=True)\", \"df.drop(['out_prncp','out_prncp_inv','total_pymn...ce=True)\\ndf.drop(['policy_code'],1, inplace=True)\", 'df.columns.values', 'df.loan_status.value_counts()', 'df.loan_status', \"df.loan_status.replace('Current',int(1),inplace=....replace('Late (16-30 days)',int(0),inplace=True)\", 'df.shape', \"# 高相关数据\\ncor = df.corr()\\ncor.loc[:,:] = np.tril(c...,'funded_amnt_inv','installment'],1,inplace=True)\", 'df.dtypes', \"Y = df.loan_status\\ndf.drop('loan_status',1,inplace=True)\\nX = df\", ...], 'LabelEncoder': <class 'sklearn.preprocessing.label.LabelEncoder'>, 'OneHotEncoder': <class 'sklearn.preprocessing.data.OneHotEncoder'>, 'Out': {3:          id   member_id  loan_amnt  funded_amnt ...                18310.0  \n\n[5 rows x 111 columns], 4: array(['id', 'member_id', 'loan_amnt', 'funded_a...     'total_il_high_credit_limit'], dtype=object), 6:    loan_amnt  funded_amnt  funded_amnt_inv      ...                18310.0  \n\n[5 rows x 109 columns], 8:    loan_amnt  funded_amnt  funded_amnt_inv      ...                18310.0  \n\n[5 rows x 108 columns], 9: array(['loan_amnt', 'funded_amnt', 'funded_amnt_...     'total_il_high_credit_limit'], dtype=object), 12: array(['loan_amnt', 'funded_amnt', 'funded_amnt_...     'total_il_high_credit_limit'], dtype=object), 13: Current               90504\nFully Paid          ...f             245\nName: loan_status, dtype: int64, 14: 0        1.0\n1        1.0\n2        1.0\n3        ...\nName: loan_status, Length: 99120, dtype: float64, 16: (99120, 84), 18: loan_amnt                         float64\nint_ra...it_limit        float64\nLength: 81, dtype: object, ...}, 'X':        loan_amnt  annual_inc    dti  delinq_2yrs...                0  \n\n[99120 rows x 99271 columns], 'Y': 0        1.0\n1        1.0\n2        1.0\n3        ...\nName: loan_status, Length: 99120, dtype: float64, '_': 99120, '_12': array(['loan_amnt', 'funded_amnt', 'funded_amnt_...     'total_il_high_credit_limit'], dtype=object), '_13': Current               90504\nFully Paid          ...f             245\nName: loan_status, dtype: int64, ...}\n        self.user_ns = {'GridSearchCV': <class 'sklearn.model_selection._search.GridSearchCV'>, 'In': ['', 'import numpy as np\\nimport pandas as pd\\nimport matplotlib.pyplot as plt', \"# 导入数据\\ndf = pd.read_csv('../dataset/LoanStats_2016Q3.csv',skiprows=2,low_memory=False)\\ndf.info()\", 'df.head()', 'df.columns.values', \"df.drop(['id'],axis=1,inplace=True)\\ndf.drop(['member_id'],axis=1,inplace=True)\", 'df.head()', \"# drop nan rows\\ndf.dropna(axis=0,how='all',inpla...any to ignore\\ndf.drop('emp_title',1,inplace=True)\", 'df.head()', 'df.columns.values', \"df.drop('term',1,inplace=True)\\ndf.drop('issue_d'...nplace=True)\\ndf.drop('revol_util',1,inplace=True)\", \"df.drop(['out_prncp','out_prncp_inv','total_pymn...ce=True)\\ndf.drop(['policy_code'],1, inplace=True)\", 'df.columns.values', 'df.loan_status.value_counts()', 'df.loan_status', \"df.loan_status.replace('Current',int(1),inplace=....replace('Late (16-30 days)',int(0),inplace=True)\", 'df.shape', \"# 高相关数据\\ncor = df.corr()\\ncor.loc[:,:] = np.tril(c...,'funded_amnt_inv','installment'],1,inplace=True)\", 'df.dtypes', \"Y = df.loan_status\\ndf.drop('loan_status',1,inplace=True)\\nX = df\", ...], 'LabelEncoder': <class 'sklearn.preprocessing.label.LabelEncoder'>, 'OneHotEncoder': <class 'sklearn.preprocessing.data.OneHotEncoder'>, 'Out': {3:          id   member_id  loan_amnt  funded_amnt ...                18310.0  \n\n[5 rows x 111 columns], 4: array(['id', 'member_id', 'loan_amnt', 'funded_a...     'total_il_high_credit_limit'], dtype=object), 6:    loan_amnt  funded_amnt  funded_amnt_inv      ...                18310.0  \n\n[5 rows x 109 columns], 8:    loan_amnt  funded_amnt  funded_amnt_inv      ...                18310.0  \n\n[5 rows x 108 columns], 9: array(['loan_amnt', 'funded_amnt', 'funded_amnt_...     'total_il_high_credit_limit'], dtype=object), 12: array(['loan_amnt', 'funded_amnt', 'funded_amnt_...     'total_il_high_credit_limit'], dtype=object), 13: Current               90504\nFully Paid          ...f             245\nName: loan_status, dtype: int64, 14: 0        1.0\n1        1.0\n2        1.0\n3        ...\nName: loan_status, Length: 99120, dtype: float64, 16: (99120, 84), 18: loan_amnt                         float64\nint_ra...it_limit        float64\nLength: 81, dtype: object, ...}, 'X':        loan_amnt  annual_inc    dti  delinq_2yrs...                0  \n\n[99120 rows x 99271 columns], 'Y': 0        1.0\n1        1.0\n2        1.0\n3        ...\nName: loan_status, Length: 99120, dtype: float64, '_': 99120, '_12': array(['loan_amnt', 'funded_amnt', 'funded_amnt_...     'total_il_high_credit_limit'], dtype=object), '_13': Current               90504\nFully Paid          ...f             245\nName: loan_status, dtype: int64, ...}\n   2964             finally:\n   2965                 # Reset our crash handler in place\n   2966                 sys.excepthook = old_excepthook\n   2967         except SystemExit as e:\n\n...........................................................................\nE:\\git_daily\\machine-learning\\daily_code\\<ipython-input-69-598849c9d1c2> in <module>()\n      3               'min_samples_split': [50,100],\n      4               'n_estimators': [100,200]\n      5               }\n      6 est = GridSearchCV(ensemble.GradientBoostingRegressor(),\n      7                    param_grid, n_jobs=4, refit=True)\n----> 8 est.fit(x_train, y_train)\n      9 best_params = est.best_params_\n     10 print(best_params)\n\n...........................................................................\nC:\\Users\\jianghaitao1\\AppData\\Local\\Continuum\\anaconda3\\lib\\site-packages\\sklearn\\model_selection\\_search.py in fit(self=GridSearchCV(cv=None, error_score='raise',\n     ...ain_score='warn',\n       scoring=None, verbose=0), X=       loan_amnt  annual_inc    dti  delinq_2yrs...                0  \n\n[79296 rows x 99271 columns], y=82145    1.0\n36755    1.0\n29156    1.0\n60929    ...\nName: loan_status, Length: 79296, dtype: float64, groups=None, **fit_params={})\n    634                                   return_train_score=self.return_train_score,\n    635                                   return_n_test_samples=True,\n    636                                   return_times=True, return_parameters=False,\n    637                                   error_score=self.error_score)\n    638           for parameters, (train, test) in product(candidate_params,\n--> 639                                                    cv.split(X, y, groups)))\n        cv.split = <bound method _BaseKFold.split of KFold(n_splits=3, random_state=None, shuffle=False)>\n        X =        loan_amnt  annual_inc    dti  delinq_2yrs...                0  \n\n[79296 rows x 99271 columns]\n        y = 82145    1.0\n36755    1.0\n29156    1.0\n60929    ...\nName: loan_status, Length: 79296, dtype: float64\n        groups = None\n    640 \n    641         # if one choose to see train score, \"out\" will contain train score info\n    642         if self.return_train_score:\n    643             (train_score_dicts, test_score_dicts, test_sample_counts, fit_time,\n\n...........................................................................\nC:\\Users\\jianghaitao1\\AppData\\Local\\Continuum\\anaconda3\\lib\\site-packages\\sklearn\\externals\\joblib\\parallel.py in __call__(self=Parallel(n_jobs=4), iterable=<generator object BaseSearchCV.fit.<locals>.<genexpr>>)\n    784             if pre_dispatch == \"all\" or n_jobs == 1:\n    785                 # The iterable was consumed all at once by the above for loop.\n    786                 # No need to wait for async callbacks to trigger to\n    787                 # consumption.\n    788                 self._iterating = False\n--> 789             self.retrieve()\n        self.retrieve = <bound method Parallel.retrieve of Parallel(n_jobs=4)>\n    790             # Make sure that we get a last message telling us we are done\n    791             elapsed_time = time.time() - self._start_time\n    792             self._print('Done %3i out of %3i | elapsed: %s finished',\n    793                         (len(self._output), len(self._output),\n\n---------------------------------------------------------------------------\nSub-process traceback:\n---------------------------------------------------------------------------\nMemoryError                                        Thu Jun  6 17:28:20 2019\nPID: 17644Python 3.6.5: C:\\Users\\jianghaitao1\\AppData\\Local\\Continuum\\anaconda3\\python.exe\n...........................................................................\nC:\\Users\\jianghaitao1\\AppData\\Local\\Continuum\\anaconda3\\lib\\site-packages\\sklearn\\externals\\joblib\\parallel.py in __call__(self=<sklearn.externals.joblib.parallel.BatchedCalls object>)\n    126     def __init__(self, iterator_slice):\n    127         self.items = list(iterator_slice)\n    128         self._size = len(self.items)\n    129 \n    130     def __call__(self):\n--> 131         return [func(*args, **kwargs) for func, args, kwargs in self.items]\n        self.items = [(<function _fit_and_score>, (GradientBoostingRegressor(alpha=0.9, criterion='...      subsample=1.0, verbose=0, warm_start=False),        loan_amnt                 ...            ...                  0\n\n[79296 rows x 99271 columns], 82145    1.0\n36755    1.0\n29156    1.0\n60929    ...\nName: loan_status, Length: 79296, dtype: float64, {'score': <function _passthrough_scorer>}, array([26432, 26433, 26434, ..., 79293, 79294, 79295]), array([    0,     1,     2, ..., 26429, 26430, 26431]), 0, {'learning_rate': 0.1, 'max_depth': 2, 'min_samples_split': 50, 'n_estimators': 100}), {'error_score': 'raise', 'fit_params': {}, 'return_n_test_samples': True, 'return_parameters': False, 'return_times': True, 'return_train_score': 'warn'})]\n    132 \n    133     def __len__(self):\n    134         return self._size\n    135 \n\n...........................................................................\nC:\\Users\\jianghaitao1\\AppData\\Local\\Continuum\\anaconda3\\lib\\site-packages\\sklearn\\externals\\joblib\\parallel.py in <listcomp>(.0=<list_iterator object>)\n    126     def __init__(self, iterator_slice):\n    127         self.items = list(iterator_slice)\n    128         self._size = len(self.items)\n    129 \n    130     def __call__(self):\n--> 131         return [func(*args, **kwargs) for func, args, kwargs in self.items]\n        func = <function _fit_and_score>\n        args = (GradientBoostingRegressor(alpha=0.9, criterion='...      subsample=1.0, verbose=0, warm_start=False),        loan_amnt                 ...            ...                  0\n\n[79296 rows x 99271 columns], 82145    1.0\n36755    1.0\n29156    1.0\n60929    ...\nName: loan_status, Length: 79296, dtype: float64, {'score': <function _passthrough_scorer>}, array([26432, 26433, 26434, ..., 79293, 79294, 79295]), array([    0,     1,     2, ..., 26429, 26430, 26431]), 0, {'learning_rate': 0.1, 'max_depth': 2, 'min_samples_split': 50, 'n_estimators': 100})\n        kwargs = {'error_score': 'raise', 'fit_params': {}, 'return_n_test_samples': True, 'return_parameters': False, 'return_times': True, 'return_train_score': 'warn'}\n    132 \n    133     def __len__(self):\n    134         return self._size\n    135 \n\n...........................................................................\nC:\\Users\\jianghaitao1\\AppData\\Local\\Continuum\\anaconda3\\lib\\site-packages\\sklearn\\model_selection\\_validation.py in _fit_and_score(estimator=GradientBoostingRegressor(alpha=0.9, criterion='...      subsample=1.0, verbose=0, warm_start=False), X=       loan_amnt                 ...            ...                  0\n\n[79296 rows x 99271 columns], y=82145    1.0\n36755    1.0\n29156    1.0\n60929    ...\nName: loan_status, Length: 79296, dtype: float64, scorer={'score': <function _passthrough_scorer>}, train=array([26432, 26433, 26434, ..., 79293, 79294, 79295]), test=array([    0,     1,     2, ..., 26429, 26430, 26431]), verbose=0, parameters={'learning_rate': 0.1, 'max_depth': 2, 'min_samples_split': 50, 'n_estimators': 100}, fit_params={}, return_train_score='warn', return_parameters=False, return_n_test_samples=True, return_times=True, error_score='raise')\n    453 \n    454     try:\n    455         if y_train is None:\n    456             estimator.fit(X_train, **fit_params)\n    457         else:\n--> 458             estimator.fit(X_train, y_train, **fit_params)\n        estimator.fit = <bound method BaseGradientBoosting.fit of Gradie...     subsample=1.0, verbose=0, warm_start=False)>\n        X_train =        loan_amnt                 ...            ...                  0\n\n[52864 rows x 99271 columns]\n        y_train = 89548    1.0\n24979    1.0\n44943    0.0\n5184     ...\nName: loan_status, Length: 52864, dtype: float64\n        fit_params = {}\n    459 \n    460     except Exception as e:\n    461         # Note fit time as time until error\n    462         fit_time = time.time() - start_time\n\n...........................................................................\nC:\\Users\\jianghaitao1\\AppData\\Local\\Continuum\\anaconda3\\lib\\site-packages\\sklearn\\ensemble\\gradient_boosting.py in fit(self=GradientBoostingRegressor(alpha=0.9, criterion='...      subsample=1.0, verbose=0, warm_start=False), X=       loan_amnt                 ...            ...                  0\n\n[52864 rows x 99271 columns], y=89548    1.0\n24979    1.0\n44943    0.0\n5184     ...\nName: loan_status, Length: 52864, dtype: float64, sample_weight=None, monitor=None)\n    974         # if not warmstart - clear the estimator state\n    975         if not self.warm_start:\n    976             self._clear_state()\n    977 \n    978         # Check input\n--> 979         X, y = check_X_y(X, y, accept_sparse=['csr', 'csc', 'coo'], dtype=DTYPE)\n        X =        loan_amnt                 ...            ...                  0\n\n[52864 rows x 99271 columns]\n        y = 89548    1.0\n24979    1.0\n44943    0.0\n5184     ...\nName: loan_status, Length: 52864, dtype: float64\n    980         n_samples, self.n_features_ = X.shape\n    981         if sample_weight is None:\n    982             sample_weight = np.ones(n_samples, dtype=np.float32)\n    983         else:\n\n...........................................................................\nC:\\Users\\jianghaitao1\\AppData\\Local\\Continuum\\anaconda3\\lib\\site-packages\\sklearn\\utils\\validation.py in check_X_y(X=       loan_amnt                 ...            ...                  0\n\n[52864 rows x 99271 columns], y=89548    1.0\n24979    1.0\n44943    0.0\n5184     ...\nName: loan_status, Length: 52864, dtype: float64, accept_sparse=['csr', 'csc', 'coo'], dtype=<class 'numpy.float32'>, order=None, copy=False, force_all_finite=True, ensure_2d=True, allow_nd=False, multi_output=False, ensure_min_samples=1, ensure_min_features=1, y_numeric=False, warn_on_dtype=False, estimator=None)\n    568     y_converted : object\n    569         The converted and validated y.\n    570     \"\"\"\n    571     X = check_array(X, accept_sparse, dtype, order, copy, force_all_finite,\n    572                     ensure_2d, allow_nd, ensure_min_samples,\n--> 573                     ensure_min_features, warn_on_dtype, estimator)\n        ensure_min_features = 1\n        warn_on_dtype = False\n        estimator = None\n    574     if multi_output:\n    575         y = check_array(y, 'csr', force_all_finite=True, ensure_2d=False,\n    576                         dtype=None)\n    577     else:\n\n...........................................................................\nC:\\Users\\jianghaitao1\\AppData\\Local\\Continuum\\anaconda3\\lib\\site-packages\\sklearn\\utils\\validation.py in check_array(array=       loan_amnt                 ...            ...                  0\n\n[52864 rows x 99271 columns], accept_sparse=['csr', 'csc', 'coo'], dtype=<class 'numpy.float32'>, order=None, copy=False, force_all_finite=True, ensure_2d=True, allow_nd=False, ensure_min_samples=1, ensure_min_features=1, warn_on_dtype=False, estimator=None)\n    428 \n    429     if sp.issparse(array):\n    430         array = _ensure_sparse_format(array, accept_sparse, dtype, copy,\n    431                                       force_all_finite)\n    432     else:\n--> 433         array = np.array(array, dtype=dtype, order=order, copy=copy)\n        array =        loan_amnt                 ...            ...                  0\n\n[52864 rows x 99271 columns]\n        dtype = <class 'numpy.float32'>\n        order = None\n        copy = False\n    434 \n    435         if ensure_2d:\n    436             if array.ndim == 1:\n    437                 raise ValueError(\n\n...........................................................................\nC:\\Users\\jianghaitao1\\AppData\\Local\\Continuum\\anaconda3\\lib\\site-packages\\pandas\\core\\generic.py in __array__(self=       loan_amnt                 ...            ...                  0\n\n[52864 rows x 99271 columns], dtype=dtype('float32'))\n   1598 \n   1599     # ----------------------------------------------------------------------\n   1600     # Array Interface\n   1601 \n   1602     def __array__(self, dtype=None):\n-> 1603         return com._values_from_object(self)\n        self =        loan_amnt                 ...            ...                  0\n\n[52864 rows x 99271 columns]\n   1604 \n   1605     def __array_wrap__(self, result, context=None):\n   1606         d = self._construct_axes_dict(self._AXIS_ORDERS, copy=False)\n   1607         return self._constructor(result, **d).__finalize__(self)\n\n...........................................................................\nC:\\Users\\jianghaitao1\\AppData\\Local\\Continuum\\anaconda3\\lib\\site-packages\\pandas\\_libs\\lib.cp36-win_amd64.pyd in pandas._libs.lib.values_from_object()\n\n...........................................................................\nC:\\Users\\jianghaitao1\\AppData\\Local\\Continuum\\anaconda3\\lib\\site-packages\\pandas\\core\\generic.py in get_values(self=       loan_amnt                 ...            ...                  0\n\n[52864 rows x 99271 columns])\n   4679         >>> df.get_values()\n   4680         array([[ 1.,  1.],\n   4681                [nan,  2.],\n   4682                [nan,  3.]])\n   4683         \"\"\"\n-> 4684         return self.values\n        self.values = undefined\n   4685 \n   4686     def get_dtype_counts(self):\n   4687         \"\"\"\n   4688         Return counts of unique dtypes in this object.\n\n...........................................................................\nC:\\Users\\jianghaitao1\\AppData\\Local\\Continuum\\anaconda3\\lib\\site-packages\\pandas\\core\\generic.py in values(self=       loan_amnt                 ...            ...                  0\n\n[52864 rows x 99271 columns])\n   4624         --------\n   4625         pandas.DataFrame.index : Retrievie the index labels\n   4626         pandas.DataFrame.columns : Retrieving the column names\n   4627         \"\"\"\n   4628         self._consolidate_inplace()\n-> 4629         return self._data.as_array(transpose=self._AXIS_REVERSED)\n        self._data.as_array = <bound method BlockManager.as_array of BlockMana...slice(70, 99271, 1), 99201 x 52864, dtype: uint8>\n        self._AXIS_REVERSED = True\n   4630 \n   4631     @property\n   4632     def _values(self):\n   4633         \"\"\"internal implementation\"\"\"\n\n...........................................................................\nC:\\Users\\jianghaitao1\\AppData\\Local\\Continuum\\anaconda3\\lib\\site-packages\\pandas\\core\\internals.py in as_array(self=BlockManager\nItems: Index(['loan_amnt', 'annual_... slice(70, 99271, 1), 99201 x 52864, dtype: uint8, transpose=True, items=None)\n   3944             mgr = self\n   3945 \n   3946         if self._is_single_block or not self.is_mixed_type:\n   3947             arr = mgr.blocks[0].get_values()\n   3948         else:\n-> 3949             arr = mgr._interleave()\n        arr = undefined\n        mgr._interleave = <bound method BlockManager._interleave of BlockM...slice(70, 99271, 1), 99201 x 52864, dtype: uint8>\n   3950 \n   3951         return arr.transpose() if transpose else arr\n   3952 \n   3953     def _interleave(self):\n\n...........................................................................\nC:\\Users\\jianghaitao1\\AppData\\Local\\Continuum\\anaconda3\\lib\\site-packages\\pandas\\core\\internals.py in _interleave(self=BlockManager\nItems: Index(['loan_amnt', 'annual_... slice(70, 99271, 1), 99201 x 52864, dtype: uint8)\n   3955         Return ndarray from blocks with specified item order\n   3956         Items must be contained in the blocks\n   3957         \"\"\"\n   3958         dtype = _interleaved_dtype(self.blocks)\n   3959 \n-> 3960         result = np.empty(self.shape, dtype=dtype)\n        result = undefined\n        self.shape = (99271, 52864)\n        dtype = dtype('float64')\n   3961 \n   3962         if result.shape[0] == 0:\n   3963             # Workaround for numpy 1.7 bug:\n   3964             #\n\nMemoryError: \n___________________________________________________________________________"
     ]
    }
   ],
   "source": [
    "param_grid = {'learning_rate': [0.1],\n",
    "              'max_depth': [2],\n",
    "              'min_samples_split': [50,100],\n",
    "              'n_estimators': [100,200]\n",
    "              }\n",
    "est = GridSearchCV(ensemble.GradientBoostingRegressor(),\n",
    "                   param_grid, n_jobs=4, refit=True)\n",
    "est.fit(x_train, y_train)\n",
    "best_params = est.best_params_\n",
    "print(best_params)"
   ]
  },
  {
   "cell_type": "code",
   "execution_count": null,
   "metadata": {},
   "outputs": [],
   "source": []
  }
 ],
 "metadata": {
  "kernelspec": {
   "display_name": "Python [conda env:root] *",
   "language": "python",
   "name": "conda-root-py"
  },
  "language_info": {
   "codemirror_mode": {
    "name": "ipython",
    "version": 3
   },
   "file_extension": ".py",
   "mimetype": "text/x-python",
   "name": "python",
   "nbconvert_exporter": "python",
   "pygments_lexer": "ipython3",
   "version": "3.6.5"
  }
 },
 "nbformat": 4,
 "nbformat_minor": 2
}
