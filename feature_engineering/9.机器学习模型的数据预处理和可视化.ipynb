{
 "cells": [
  {
   "cell_type": "code",
   "execution_count": null,
   "metadata": {
    "ExecuteTime": {
     "end_time": "2019-04-25T16:24:06.921324Z",
     "start_time": "2019-04-25T16:24:06.290253Z"
    }
   },
   "outputs": [],
   "source": [
    "import numpy as np\n",
    "import pandas as pd"
   ]
  },
  {
   "cell_type": "code",
   "execution_count": null,
   "metadata": {
    "ExecuteTime": {
     "end_time": "2019-04-25T16:25:24.463247Z",
     "start_time": "2019-04-25T16:25:24.413614Z"
    }
   },
   "outputs": [],
   "source": [
    "chocolate_data = pd.read_csv(\"../dataset/flavors_of_cacao.csv\")\n",
    "chocolate_data.head()"
   ]
  },
  {
   "cell_type": "code",
   "execution_count": null,
   "metadata": {
    "ExecuteTime": {
     "end_time": "2019-04-25T16:44:28.882676Z",
     "start_time": "2019-04-25T16:44:28.875311Z"
    }
   },
   "outputs": [],
   "source": [
    "chocolate_data.isnull().sum()"
   ]
  },
  {
   "cell_type": "code",
   "execution_count": null,
   "metadata": {
    "ExecuteTime": {
     "end_time": "2019-04-25T16:59:18.612295Z",
     "start_time": "2019-04-25T16:59:18.597859Z"
    }
   },
   "outputs": [],
   "source": [
    "original_col = chocolate_data.columns\n",
    "new_col = ['Company', 'Species', 'REF', 'ReviewDate',\n",
    "           'CocoaPercent', 'CompanyLocation', 'Rating', 'BeanType', 'Country']\n",
    "chocolate_data = chocolate_data.rename(columns=dict(zip(original_col,new_col)))\n",
    "chocolate_data.head()"
   ]
  },
  {
   "cell_type": "code",
   "execution_count": null,
   "metadata": {
    "ExecuteTime": {
     "end_time": "2019-04-25T17:09:16.593730Z",
     "start_time": "2019-04-25T17:09:16.575651Z"
    }
   },
   "outputs": [],
   "source": [
    "# 移除%符号\n",
    "chocolate_data['CocoaPercent'] = chocolate_data['CocoaPercent'].str.replace('%','').astype(float)/100\n",
    "chocolate_data.head()"
   ]
  },
  {
   "cell_type": "code",
   "execution_count": null,
   "metadata": {},
   "outputs": [],
   "source": [
    "chocolate_data['BlendNotBlend'] = np.where(np.logical_or(np.logical_or(chocolate_data['Species'].str.lower().str.contains(\n",
    "    ',|(blend)|;'), chocolate_data['Country'].str.len() == 1), chocolate_data['Country'].str.lower().str.contains(',')), 1, 0)\n",
    "chocolate_data.head()"
   ]
  },
  {
   "cell_type": "markdown",
   "metadata": {},
   "source": [
    "数据可视化"
   ]
  },
  {
   "cell_type": "code",
   "execution_count": null,
   "metadata": {},
   "outputs": [],
   "source": [
    "import seaborn as sb\n",
    "import matplotlib.pyplot as plt\n",
    "sb.distplot(chocolate_data['Rating'],kde = False)\n",
    "plt.show()"
   ]
  },
  {
   "cell_type": "code",
   "execution_count": null,
   "metadata": {},
   "outputs": [],
   "source": [
    "sb.distplot(chocolate_data['REF'],kde = False)\n",
    "plt.show()"
   ]
  },
  {
   "cell_type": "code",
   "execution_count": null,
   "metadata": {},
   "outputs": [],
   "source": [
    "sb.distplot(chocolate_data['CocoaPercent'],kde = False)\n",
    "plt.show()"
   ]
  },
  {
   "cell_type": "code",
   "execution_count": null,
   "metadata": {},
   "outputs": [],
   "source": [
    "# Look at boxplot over the countries, even Blends\n",
    "fig, ax = plt.subplots(figsize=[6, 16])\n",
    "sb.boxplot(\n",
    "    data=chocolate_data,\n",
    "    y='Country',\n",
    "    x='Rating'\n",
    ")\n",
    "ax.set_title('Boxplot, Rating for countries (+blends)')"
   ]
  },
  {
   "cell_type": "code",
   "execution_count": null,
   "metadata": {},
   "outputs": [],
   "source": [
    "sb.boxplot(\n",
    "    data=chocolate_data,\n",
    "    x='BlendNotBlend',\n",
    "    y='Rating',\n",
    ")\n",
    "ax.set_title('Boxplot, Rating by Blend/Pure')"
   ]
  },
  {
   "cell_type": "code",
   "execution_count": null,
   "metadata": {},
   "outputs": [],
   "source": [
    "Blended = chocolate_data.loc[chocolate_data.BlendNotBlend == 1]\n",
    "NotBlended = chocolate_data.loc[chocolate_data.BlendNotBlend == 0]\n",
    "ax = sb.kdeplot(Blended.Rating,\n",
    "                  shade=True,shade_lowest=False, label = \"Blend\")\n",
    "ax = sb.kdeplot(NotBlended.Rating,\n",
    "                  shade=True,shade_lowest=False, label = \"Pure\")"
   ]
  },
  {
   "cell_type": "code",
   "execution_count": null,
   "metadata": {},
   "outputs": [],
   "source": [
    "ax = sb.violinplot(x='BlendNotBlend',y='Rating',data=chocolate_data,hue='BlendNotBlend')"
   ]
  },
  {
   "cell_type": "code",
   "execution_count": null,
   "metadata": {},
   "outputs": [],
   "source": []
  }
 ],
 "metadata": {
  "kernelspec": {
   "display_name": "Python 3",
   "language": "python",
   "name": "python3"
  },
  "language_info": {
   "codemirror_mode": {
    "name": "ipython",
    "version": 3
   },
   "file_extension": ".py",
   "mimetype": "text/x-python",
   "name": "python",
   "nbconvert_exporter": "python",
   "pygments_lexer": "ipython3",
   "version": "3.6.5"
  },
  "toc": {
   "base_numbering": 1,
   "nav_menu": {},
   "number_sections": true,
   "sideBar": true,
   "skip_h1_title": false,
   "title_cell": "Table of Contents",
   "title_sidebar": "Contents",
   "toc_cell": false,
   "toc_position": {},
   "toc_section_display": true,
   "toc_window_display": false
  },
  "varInspector": {
   "cols": {
    "lenName": 16,
    "lenType": 16,
    "lenVar": 40
   },
   "kernels_config": {
    "python": {
     "delete_cmd_postfix": "",
     "delete_cmd_prefix": "del ",
     "library": "var_list.py",
     "varRefreshCmd": "print(var_dic_list())"
    },
    "r": {
     "delete_cmd_postfix": ") ",
     "delete_cmd_prefix": "rm(",
     "library": "var_list.r",
     "varRefreshCmd": "cat(var_dic_list()) "
    }
   },
   "types_to_exclude": [
    "module",
    "function",
    "builtin_function_or_method",
    "instance",
    "_Feature"
   ],
   "window_display": false
  }
 },
 "nbformat": 4,
 "nbformat_minor": 2
}
