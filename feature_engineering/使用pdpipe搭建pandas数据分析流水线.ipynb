{
 "cells": [
  {
   "cell_type": "markdown",
   "metadata": {},
   "source": [
    "https://mp.weixin.qq.com/s?__biz=MzIwODI2NDkxNQ==&mid=2247487473&idx=4&sn=2960a68d24bbd5ea8b409187c1e91a5f&chksm=9704844da0730d5be9915a0b840f4bf5a6f9985b91447b5398f6b61de66a1b037e94c6e7a607&scene=126&sessionid=1579229697&key=d5056eb5db3ec9c8020ce4d4a419d43d17c1eb6dc340ef593b019697e3699a82099ad42b669bfa646977c2e738e2606f2be3cc035a01b0f12d41e787c50c46584082d2a4d0c53a23a8ec9883e6a136a5&ascene=1&uin=MjA1MjAyODkxNg%3D%3D&devicetype=Windows+10&version=6208006f&lang=zh_CN&exportkey=AcyrMTPxDrTcuvdzEW7kGaE%3D&pass_ticket=W0v45PKV4JSO%2FtG2mcuX6wMt5Uy25arZ62TddyVZKGIfuGGw1xy3riFWBpz2iJL0"
   ]
  },
  {
   "cell_type": "code",
   "execution_count": null,
   "metadata": {},
   "outputs": [],
   "source": []
  }
 ],
 "metadata": {
  "kernelspec": {
   "display_name": "Python [conda env:root] *",
   "language": "python",
   "name": "conda-root-py"
  },
  "language_info": {
   "codemirror_mode": {
    "name": "ipython",
    "version": 3
   },
   "file_extension": ".py",
   "mimetype": "text/x-python",
   "name": "python",
   "nbconvert_exporter": "python",
   "pygments_lexer": "ipython3",
   "version": "3.6.5"
  }
 },
 "nbformat": 4,
 "nbformat_minor": 4
}
