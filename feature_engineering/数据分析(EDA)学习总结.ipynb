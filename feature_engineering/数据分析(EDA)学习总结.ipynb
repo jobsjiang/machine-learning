{
 "cells": [
  {
   "cell_type": "markdown",
   "metadata": {},
   "source": [
    "https://mp.weixin.qq.com/s?__biz=MzIyNjM2MzQyNg==&mid=2247517999&idx=1&sn=d2b279de42391df4b3acfca3a1088fed&chksm=e8735662df04df74c9409f9229c6dbe5a4f6bcdda81fe31274633575e3104c7d77248ab58cf4&mpshare=1&scene=1&srcid=0729pfeL19YBn8cUMzrrLadn&sharer_sharetime=1596030216588&sharer_shareid=63238a347b4d0cfd29d21f1e461eeead&key=ebbd83891f2360c893883ab603ed0b01795ebecc22980bf28e7754e94b2f1054c92a01df37f9bcd609e597c8d1afc34369e8fa0542b2e9441dbfc1afb3e1c86b34237971135a904d2dec3dccd3fc42ac&ascene=1&uin=MjA1MjAyODkxNg%3D%3D&devicetype=Windows+10+x64&version=62090529&lang=zh_CN&exportkey=AWkLIZSu7ioJDBktK51AlCw%3D&pass_ticket=JKiw6%2BeezAK87mUJas9boUHp9aMUHMY3cwKfjt3VoY8BAiqNZBqk9hP4AXUTk0QS"
   ]
  },
  {
   "cell_type": "code",
   "execution_count": 1,
   "metadata": {},
   "outputs": [
    {
     "name": "stderr",
     "output_type": "stream",
     "text": [
      "C:\\Users\\jianghaitao1\\AppData\\Local\\Continuum\\anaconda3\\lib\\site-packages\\numpy\\_distributor_init.py:32: UserWarning: loaded more than 1 DLL from .libs:\n",
      "C:\\Users\\jianghaitao1\\AppData\\Local\\Continuum\\anaconda3\\lib\\site-packages\\numpy\\.libs\\libopenblas.IPBC74C7KURV7CB2PKT5Z5FNR3SIBV4J.gfortran-win_amd64.dll\n",
      "C:\\Users\\jianghaitao1\\AppData\\Local\\Continuum\\anaconda3\\lib\\site-packages\\numpy\\.libs\\libopenblas.NOIJJG62EMASZI6NYURL6JBKM4EVBGM7.gfortran-win_amd64.dll\n",
      "C:\\Users\\jianghaitao1\\AppData\\Local\\Continuum\\anaconda3\\lib\\site-packages\\numpy\\.libs\\libopenblas.txa6yqsd3gcqqc22geq54j2udcxdxhwn.gfortran-win_amd64.dll\n",
      "  stacklevel=1)\n"
     ]
    }
   ],
   "source": [
    "import numpy as np\n",
    "import pandas as pd\n",
    "import matplotlib.pyplot as plt\n",
    "from sklearn.model_selection import train_test_split\n",
    "import seaborn as sns\n",
    "import scipy\n",
    "from collections import Counter"
   ]
  },
  {
   "cell_type": "code",
   "execution_count": 2,
   "metadata": {},
   "outputs": [],
   "source": [
    "df_train = pd.read_csv('../../dataset/tainchi_nlp/train_set.csv', sep='\\t')\n",
    "df_test = pd.read_csv('../../dataset/tainchi_nlp/test_a.csv', sep='\\t')"
   ]
  },
  {
   "cell_type": "code",
   "execution_count": 3,
   "metadata": {},
   "outputs": [
    {
     "data": {
      "text/html": [
       "<div>\n",
       "<style scoped>\n",
       "    .dataframe tbody tr th:only-of-type {\n",
       "        vertical-align: middle;\n",
       "    }\n",
       "\n",
       "    .dataframe tbody tr th {\n",
       "        vertical-align: top;\n",
       "    }\n",
       "\n",
       "    .dataframe thead th {\n",
       "        text-align: right;\n",
       "    }\n",
       "</style>\n",
       "<table border=\"1\" class=\"dataframe\">\n",
       "  <thead>\n",
       "    <tr style=\"text-align: right;\">\n",
       "      <th></th>\n",
       "      <th>label</th>\n",
       "      <th>text</th>\n",
       "    </tr>\n",
       "  </thead>\n",
       "  <tbody>\n",
       "    <tr>\n",
       "      <th>0</th>\n",
       "      <td>2</td>\n",
       "      <td>2967 6758 339 2021 1854 3731 4109 3792 4149 15...</td>\n",
       "    </tr>\n",
       "    <tr>\n",
       "      <th>1</th>\n",
       "      <td>11</td>\n",
       "      <td>4464 486 6352 5619 2465 4802 1452 3137 5778 54...</td>\n",
       "    </tr>\n",
       "    <tr>\n",
       "      <th>2</th>\n",
       "      <td>3</td>\n",
       "      <td>7346 4068 5074 3747 5681 6093 1777 2226 7354 6...</td>\n",
       "    </tr>\n",
       "    <tr>\n",
       "      <th>3</th>\n",
       "      <td>2</td>\n",
       "      <td>7159 948 4866 2109 5520 2490 211 3956 5520 549...</td>\n",
       "    </tr>\n",
       "    <tr>\n",
       "      <th>4</th>\n",
       "      <td>3</td>\n",
       "      <td>3646 3055 3055 2490 4659 6065 3370 5814 2465 5...</td>\n",
       "    </tr>\n",
       "  </tbody>\n",
       "</table>\n",
       "</div>"
      ],
      "text/plain": [
       "   label                                               text\n",
       "0      2  2967 6758 339 2021 1854 3731 4109 3792 4149 15...\n",
       "1     11  4464 486 6352 5619 2465 4802 1452 3137 5778 54...\n",
       "2      3  7346 4068 5074 3747 5681 6093 1777 2226 7354 6...\n",
       "3      2  7159 948 4866 2109 5520 2490 211 3956 5520 549...\n",
       "4      3  3646 3055 3055 2490 4659 6065 3370 5814 2465 5..."
      ]
     },
     "execution_count": 3,
     "metadata": {},
     "output_type": "execute_result"
    }
   ],
   "source": [
    "df_train.head()"
   ]
  },
  {
   "cell_type": "code",
   "execution_count": 4,
   "metadata": {},
   "outputs": [],
   "source": [
    "# 长度分布\n",
    "def split_df(df_row):\n",
    "    return len(str(df_row).split())\n",
    "len_dist = np.vectorize(split_df)(df_train['text'])\n",
    "len_test_dist = np.vectorize(split_df)(df_test['text'])"
   ]
  },
  {
   "cell_type": "code",
   "execution_count": 8,
   "metadata": {},
   "outputs": [
    {
     "name": "stdout",
     "output_type": "stream",
     "text": [
      "count    200000.000000\n",
      "mean        907.207110\n",
      "std         996.029036\n",
      "min           2.000000\n",
      "25%         374.000000\n",
      "50%         676.000000\n",
      "75%        1131.000000\n",
      "max       57921.000000\n",
      "dtype: float64\n"
     ]
    }
   ],
   "source": [
    "print(pd.Series(len_dist).describe())"
   ]
  },
  {
   "cell_type": "code",
   "execution_count": 9,
   "metadata": {},
   "outputs": [
    {
     "name": "stdout",
     "output_type": "stream",
     "text": [
      "count    50000.000000\n",
      "mean       909.844960\n",
      "std       1032.313375\n",
      "min         14.000000\n",
      "25%        370.000000\n",
      "50%        676.000000\n",
      "75%       1133.000000\n",
      "max      41861.000000\n",
      "dtype: float64\n"
     ]
    }
   ],
   "source": [
    "print(pd.Series(len_test_dist).describe())"
   ]
  },
  {
   "cell_type": "code",
   "execution_count": 10,
   "metadata": {},
   "outputs": [
    {
     "data": {
      "image/png": "[encoded data removed]",
      "text/plain": [
       "<Figure size 864x432 with 1 Axes>"
      ]
     },
     "metadata": {
      "needs_background": "light"
     },
     "output_type": "display_data"
    }
   ],
   "source": [
    "fig,ax = plt.subplots(1,1,figsize=(12,6))\n",
    "ax = plt.hist(x=len_dist,bins=100)\n",
    "ax = plt.hist(x=len_test_dist,bins=100)\n",
    "plt.xlim([0, max(max(len_dist), max(len_test_dist))])\n",
    "plt.xlabel(\"length of sample\")\n",
    "plt.ylabel(\"number of sample\")\n",
    "plt.legend(['train_len','test_len'])\n",
    "plt.show()"
   ]
  },
  {
   "cell_type": "code",
   "execution_count": 11,
   "metadata": {},
   "outputs": [
    {
     "data": {
      "text/plain": [
       "<matplotlib.legend.Legend at 0x25b1938eda0>"
      ]
     },
     "execution_count": 11,
     "metadata": {},
     "output_type": "execute_result"
    },
    {
     "data": {
      "image/png": "[encoded data removed]",
      "text/plain": [
       "<Figure size 1080x360 with 1 Axes>"
      ]
     },
     "metadata": {
      "needs_background": "light"
     },
     "output_type": "display_data"
    }
   ],
   "source": [
    " plt.figure(figsize=(15,5))\n",
    "ax = sns.distplot(len_dist, bins=100)\n",
    "ax = sns.distplot(len_test_dist, bins=100)\n",
    "plt.xlim([0, max(max(len_dist), max(len_test_dist))])\n",
    "plt.xlabel(\"length of sample\")\n",
    "plt.ylabel(\"prob of sample\")\n",
    "plt.legend(['train_len','test_len'])"
   ]
  },
  {
   "cell_type": "code",
   "execution_count": 13,
   "metadata": {},
   "outputs": [
    {
     "name": "stdout",
     "output_type": "stream",
     "text": [
      "Ks_2sampResult(statistic=0.004049999999999998, pvalue=0.5279614323123156)\n"
     ]
    }
   ],
   "source": [
    "# 同分布验证\n",
    "import scipy\n",
    "print(scipy.stats.ks_2samp(len_dist,len_test_dist))"
   ]
  },
  {
   "cell_type": "code",
   "execution_count": 14,
   "metadata": {},
   "outputs": [
    {
     "data": {
      "text/plain": [
       "<matplotlib.legend.Legend at 0x25b1da6cdd8>"
      ]
     },
     "execution_count": 14,
     "metadata": {},
     "output_type": "execute_result"
    },
    {
     "data": {
      "image/png": "[encoded data removed]",
      "text/plain": [
       "<Figure size 1080x360 with 1 Axes>"
      ]
     },
     "metadata": {
      "needs_background": "light"
     },
     "output_type": "display_data"
    }
   ],
   "source": [
    "log_len_dist = np.log(1 + len_dist)\n",
    "log_len_test_dist = np.log(1 + len_test_dist)\n",
    "plt.figure(figsize=(15,5))\n",
    "ax = sns.distplot(log_len_dist)\n",
    "ax = sns.distplot(log_len_test_dist)\n",
    "plt.xlabel(\"log length of sample\")\n",
    "plt.ylabel(\"prob of log\")\n",
    "plt.legend(['train_len','test_len'])"
   ]
  },
  {
   "cell_type": "code",
   "execution_count": 15,
   "metadata": {},
   "outputs": [
    {
     "name": "stdout",
     "output_type": "stream",
     "text": [
      "P value is  0.0\n"
     ]
    }
   ],
   "source": [
    "_,lognormal_ks_pvalue = scipy.stats.kstest(rvs=log_len_dist,cdf='norm')\n",
    "print('P value is ', lognormal_ks_pvalue)"
   ]
  },
  {
   "cell_type": "code",
   "execution_count": 16,
   "metadata": {},
   "outputs": [
    {
     "name": "stdout",
     "output_type": "stream",
     "text": [
      "NormaltestResult(statistic=1347.793358118494, pvalue=2.1398873511704724e-293)\n"
     ]
    }
   ],
   "source": [
    "trans_data,lam = scipy.stats.boxcox(len_dist + 1)\n",
    "print(scipy.stats.normaltest(trans_data))"
   ]
  },
  {
   "cell_type": "code",
   "execution_count": 17,
   "metadata": {},
   "outputs": [
    {
     "data": {
      "text/html": [
       "<div>\n",
       "<style scoped>\n",
       "    .dataframe tbody tr th:only-of-type {\n",
       "        vertical-align: middle;\n",
       "    }\n",
       "\n",
       "    .dataframe tbody tr th {\n",
       "        vertical-align: top;\n",
       "    }\n",
       "\n",
       "    .dataframe thead th {\n",
       "        text-align: right;\n",
       "    }\n",
       "</style>\n",
       "<table border=\"1\" class=\"dataframe\">\n",
       "  <thead>\n",
       "    <tr style=\"text-align: right;\">\n",
       "      <th></th>\n",
       "      <th>label</th>\n",
       "      <th>text</th>\n",
       "      <th>text_split</th>\n",
       "      <th>len</th>\n",
       "      <th>first_char</th>\n",
       "      <th>last_char</th>\n",
       "      <th>most_freq</th>\n",
       "    </tr>\n",
       "  </thead>\n",
       "  <tbody>\n",
       "    <tr>\n",
       "      <th>0</th>\n",
       "      <td>2</td>\n",
       "      <td>2967 6758 339 2021 1854 3731 4109 3792 4149 15...</td>\n",
       "      <td>[2967, 6758, 339, 2021, 1854, 3731, 4109, 3792...</td>\n",
       "      <td>1057</td>\n",
       "      <td>2967</td>\n",
       "      <td>1635</td>\n",
       "      <td>3750</td>\n",
       "    </tr>\n",
       "    <tr>\n",
       "      <th>1</th>\n",
       "      <td>11</td>\n",
       "      <td>4464 486 6352 5619 2465 4802 1452 3137 5778 54...</td>\n",
       "      <td>[4464, 486, 6352, 5619, 2465, 4802, 1452, 3137...</td>\n",
       "      <td>486</td>\n",
       "      <td>4464</td>\n",
       "      <td>900</td>\n",
       "      <td>3750</td>\n",
       "    </tr>\n",
       "    <tr>\n",
       "      <th>2</th>\n",
       "      <td>3</td>\n",
       "      <td>7346 4068 5074 3747 5681 6093 1777 2226 7354 6...</td>\n",
       "      <td>[7346, 4068, 5074, 3747, 5681, 6093, 1777, 222...</td>\n",
       "      <td>764</td>\n",
       "      <td>7346</td>\n",
       "      <td>57</td>\n",
       "      <td>3750</td>\n",
       "    </tr>\n",
       "    <tr>\n",
       "      <th>3</th>\n",
       "      <td>2</td>\n",
       "      <td>7159 948 4866 2109 5520 2490 211 3956 5520 549...</td>\n",
       "      <td>[7159, 948, 4866, 2109, 5520, 2490, 211, 3956,...</td>\n",
       "      <td>1570</td>\n",
       "      <td>7159</td>\n",
       "      <td>2662</td>\n",
       "      <td>3750</td>\n",
       "    </tr>\n",
       "    <tr>\n",
       "      <th>4</th>\n",
       "      <td>3</td>\n",
       "      <td>3646 3055 3055 2490 4659 6065 3370 5814 2465 5...</td>\n",
       "      <td>[3646, 3055, 3055, 2490, 4659, 6065, 3370, 581...</td>\n",
       "      <td>307</td>\n",
       "      <td>3646</td>\n",
       "      <td>1635</td>\n",
       "      <td>3055</td>\n",
       "    </tr>\n",
       "  </tbody>\n",
       "</table>\n",
       "</div>"
      ],
      "text/plain": [
       "   label                                               text  \\\n",
       "0      2  2967 6758 339 2021 1854 3731 4109 3792 4149 15...   \n",
       "1     11  4464 486 6352 5619 2465 4802 1452 3137 5778 54...   \n",
       "2      3  7346 4068 5074 3747 5681 6093 1777 2226 7354 6...   \n",
       "3      2  7159 948 4866 2109 5520 2490 211 3956 5520 549...   \n",
       "4      3  3646 3055 3055 2490 4659 6065 3370 5814 2465 5...   \n",
       "\n",
       "                                          text_split   len first_char  \\\n",
       "0  [2967, 6758, 339, 2021, 1854, 3731, 4109, 3792...  1057       2967   \n",
       "1  [4464, 486, 6352, 5619, 2465, 4802, 1452, 3137...   486       4464   \n",
       "2  [7346, 4068, 5074, 3747, 5681, 6093, 1777, 222...   764       7346   \n",
       "3  [7159, 948, 4866, 2109, 5520, 2490, 211, 3956,...  1570       7159   \n",
       "4  [3646, 3055, 3055, 2490, 4659, 6065, 3370, 581...   307       3646   \n",
       "\n",
       "  last_char  most_freq  \n",
       "0      1635       3750  \n",
       "1       900       3750  \n",
       "2        57       3750  \n",
       "3      2662       3750  \n",
       "4      1635       3055  "
      ]
     },
     "execution_count": 17,
     "metadata": {},
     "output_type": "execute_result"
    }
   ],
   "source": [
    "df_train['text_split'] = df_train['text'].apply(lambda x:x.split())\n",
    "df_train['len'] = df_train['text'].apply(lambda x:len(x.split()))\n",
    "df_train['first_char'] = df_train['text_split'].apply(lambda x:x[0])\n",
    "df_train['last_char'] = df_train['text_split'].apply(lambda x:x[-1])\n",
    "df_train['most_freq'] = df_train['text_split'].apply(lambda x:np.argmax(np.bincount(x)))\n",
    "df_train.head()"
   ]
  },
  {
   "cell_type": "code",
   "execution_count": 18,
   "metadata": {},
   "outputs": [
    {
     "data": {
      "text/html": [
       "<div>\n",
       "<style scoped>\n",
       "    .dataframe tbody tr th:only-of-type {\n",
       "        vertical-align: middle;\n",
       "    }\n",
       "\n",
       "    .dataframe tbody tr th {\n",
       "        vertical-align: top;\n",
       "    }\n",
       "\n",
       "    .dataframe thead th {\n",
       "        text-align: right;\n",
       "    }\n",
       "</style>\n",
       "<table border=\"1\" class=\"dataframe\">\n",
       "  <thead>\n",
       "    <tr style=\"text-align: right;\">\n",
       "      <th></th>\n",
       "      <th>count</th>\n",
       "      <th>len_mean</th>\n",
       "      <th>len_std</th>\n",
       "      <th>len_min</th>\n",
       "      <th>len_max</th>\n",
       "      <th>freq_fc</th>\n",
       "      <th>freq_lc</th>\n",
       "      <th>freq_freq</th>\n",
       "    </tr>\n",
       "  </thead>\n",
       "  <tbody>\n",
       "    <tr>\n",
       "      <th>0</th>\n",
       "      <td>38918.0</td>\n",
       "      <td>878.717663</td>\n",
       "      <td>859.302990</td>\n",
       "      <td>12.0</td>\n",
       "      <td>18587.0</td>\n",
       "      <td>2400.0</td>\n",
       "      <td>900.0</td>\n",
       "      <td>3750.0</td>\n",
       "    </tr>\n",
       "    <tr>\n",
       "      <th>1</th>\n",
       "      <td>36945.0</td>\n",
       "      <td>870.363676</td>\n",
       "      <td>1451.060541</td>\n",
       "      <td>9.0</td>\n",
       "      <td>57921.0</td>\n",
       "      <td>1141.0</td>\n",
       "      <td>900.0</td>\n",
       "      <td>3750.0</td>\n",
       "    </tr>\n",
       "    <tr>\n",
       "      <th>2</th>\n",
       "      <td>31425.0</td>\n",
       "      <td>1014.429562</td>\n",
       "      <td>737.313693</td>\n",
       "      <td>2.0</td>\n",
       "      <td>41894.0</td>\n",
       "      <td>1580.0</td>\n",
       "      <td>2662.0</td>\n",
       "      <td>3750.0</td>\n",
       "    </tr>\n",
       "    <tr>\n",
       "      <th>3</th>\n",
       "      <td>22133.0</td>\n",
       "      <td>784.774726</td>\n",
       "      <td>739.347231</td>\n",
       "      <td>17.0</td>\n",
       "      <td>10817.0</td>\n",
       "      <td>7346.0</td>\n",
       "      <td>900.0</td>\n",
       "      <td>3750.0</td>\n",
       "    </tr>\n",
       "    <tr>\n",
       "      <th>4</th>\n",
       "      <td>15016.0</td>\n",
       "      <td>649.705647</td>\n",
       "      <td>718.689556</td>\n",
       "      <td>25.0</td>\n",
       "      <td>14928.0</td>\n",
       "      <td>1141.0</td>\n",
       "      <td>900.0</td>\n",
       "      <td>3750.0</td>\n",
       "    </tr>\n",
       "    <tr>\n",
       "      <th>5</th>\n",
       "      <td>12232.0</td>\n",
       "      <td>1116.054938</td>\n",
       "      <td>910.002484</td>\n",
       "      <td>27.0</td>\n",
       "      <td>15839.0</td>\n",
       "      <td>5744.0</td>\n",
       "      <td>900.0</td>\n",
       "      <td>3750.0</td>\n",
       "    </tr>\n",
       "    <tr>\n",
       "      <th>6</th>\n",
       "      <td>9985.0</td>\n",
       "      <td>1249.114071</td>\n",
       "      <td>1203.464887</td>\n",
       "      <td>16.0</td>\n",
       "      <td>25728.0</td>\n",
       "      <td>3659.0</td>\n",
       "      <td>900.0</td>\n",
       "      <td>3750.0</td>\n",
       "    </tr>\n",
       "    <tr>\n",
       "      <th>7</th>\n",
       "      <td>8841.0</td>\n",
       "      <td>1157.883271</td>\n",
       "      <td>942.048602</td>\n",
       "      <td>11.0</td>\n",
       "      <td>14469.0</td>\n",
       "      <td>6835.0</td>\n",
       "      <td>900.0</td>\n",
       "      <td>3750.0</td>\n",
       "    </tr>\n",
       "    <tr>\n",
       "      <th>8</th>\n",
       "      <td>7847.0</td>\n",
       "      <td>712.401172</td>\n",
       "      <td>898.704321</td>\n",
       "      <td>7.0</td>\n",
       "      <td>15271.0</td>\n",
       "      <td>913.0</td>\n",
       "      <td>900.0</td>\n",
       "      <td>3750.0</td>\n",
       "    </tr>\n",
       "    <tr>\n",
       "      <th>9</th>\n",
       "      <td>5878.0</td>\n",
       "      <td>833.627084</td>\n",
       "      <td>739.593276</td>\n",
       "      <td>17.0</td>\n",
       "      <td>23866.0</td>\n",
       "      <td>7346.0</td>\n",
       "      <td>900.0</td>\n",
       "      <td>3750.0</td>\n",
       "    </tr>\n",
       "    <tr>\n",
       "      <th>10</th>\n",
       "      <td>4920.0</td>\n",
       "      <td>911.138008</td>\n",
       "      <td>958.311796</td>\n",
       "      <td>14.0</td>\n",
       "      <td>20622.0</td>\n",
       "      <td>3523.0</td>\n",
       "      <td>885.0</td>\n",
       "      <td>3750.0</td>\n",
       "    </tr>\n",
       "    <tr>\n",
       "      <th>11</th>\n",
       "      <td>3131.0</td>\n",
       "      <td>608.889812</td>\n",
       "      <td>509.755296</td>\n",
       "      <td>21.0</td>\n",
       "      <td>5729.0</td>\n",
       "      <td>6811.0</td>\n",
       "      <td>900.0</td>\n",
       "      <td>3750.0</td>\n",
       "    </tr>\n",
       "    <tr>\n",
       "      <th>12</th>\n",
       "      <td>1821.0</td>\n",
       "      <td>1194.969248</td>\n",
       "      <td>1108.697967</td>\n",
       "      <td>25.0</td>\n",
       "      <td>8737.0</td>\n",
       "      <td>5006.0</td>\n",
       "      <td>900.0</td>\n",
       "      <td>3750.0</td>\n",
       "    </tr>\n",
       "    <tr>\n",
       "      <th>13</th>\n",
       "      <td>908.0</td>\n",
       "      <td>735.325991</td>\n",
       "      <td>795.676666</td>\n",
       "      <td>26.0</td>\n",
       "      <td>6399.0</td>\n",
       "      <td>1999.0</td>\n",
       "      <td>2662.0</td>\n",
       "      <td>3750.0</td>\n",
       "    </tr>\n",
       "  </tbody>\n",
       "</table>\n",
       "</div>"
      ],
      "text/plain": [
       "      count     len_mean      len_std  len_min  len_max  freq_fc  freq_lc  \\\n",
       "0   38918.0   878.717663   859.302990     12.0  18587.0   2400.0    900.0   \n",
       "1   36945.0   870.363676  1451.060541      9.0  57921.0   1141.0    900.0   \n",
       "2   31425.0  1014.429562   737.313693      2.0  41894.0   1580.0   2662.0   \n",
       "3   22133.0   784.774726   739.347231     17.0  10817.0   7346.0    900.0   \n",
       "4   15016.0   649.705647   718.689556     25.0  14928.0   1141.0    900.0   \n",
       "5   12232.0  1116.054938   910.002484     27.0  15839.0   5744.0    900.0   \n",
       "6    9985.0  1249.114071  1203.464887     16.0  25728.0   3659.0    900.0   \n",
       "7    8841.0  1157.883271   942.048602     11.0  14469.0   6835.0    900.0   \n",
       "8    7847.0   712.401172   898.704321      7.0  15271.0    913.0    900.0   \n",
       "9    5878.0   833.627084   739.593276     17.0  23866.0   7346.0    900.0   \n",
       "10   4920.0   911.138008   958.311796     14.0  20622.0   3523.0    885.0   \n",
       "11   3131.0   608.889812   509.755296     21.0   5729.0   6811.0    900.0   \n",
       "12   1821.0  1194.969248  1108.697967     25.0   8737.0   5006.0    900.0   \n",
       "13    908.0   735.325991   795.676666     26.0   6399.0   1999.0   2662.0   \n",
       "\n",
       "    freq_freq  \n",
       "0      3750.0  \n",
       "1      3750.0  \n",
       "2      3750.0  \n",
       "3      3750.0  \n",
       "4      3750.0  \n",
       "5      3750.0  \n",
       "6      3750.0  \n",
       "7      3750.0  \n",
       "8      3750.0  \n",
       "9      3750.0  \n",
       "10     3750.0  \n",
       "11     3750.0  \n",
       "12     3750.0  \n",
       "13     3750.0  "
      ]
     },
     "execution_count": 18,
     "metadata": {},
     "output_type": "execute_result"
    }
   ],
   "source": [
    "df_train_info = pd.DataFrame(columns=['count','len_mean','len_std','len_min','len_max','freq_fc','freq_lc','freq_freq'])\n",
    "for name,group in df_train.groupby('label'):\n",
    "    count = len(group) # 该类别新闻数\n",
    "    len_mean = np.mean(group['len']) # 该类别长度平均值\n",
    "    len_std = np.std(group['len']) # 长度标准差\n",
    "    len_min = np.min(group['len']) # 最短的新闻长度\n",
    "    len_max = np.max(group['len']) # 最长的新闻长度\n",
    "    freq_fc = np.argmax(np.bincount(group['first_char'])) # 最频繁出现的首词\n",
    "    freq_lc = np.argmax(np.bincount(group['last_char'])) # 最频繁出现的末词\n",
    "    freq_freq = np.argmax(np.bincount(group['most_freq'])) # 该类别最频繁出现的词\n",
    "    df_train_info.loc[name] = [count,len_mean,len_std,len_min,len_max,freq_fc,freq_lc,freq_freq]\n",
    "df_train_info"
   ]
  },
  {
   "cell_type": "code",
   "execution_count": 21,
   "metadata": {},
   "outputs": [
    {
     "data": {
      "image/png": "[encoded data removed]",
      "text/plain": [
       "<Figure size 432x288 with 1 Axes>"
      ]
     },
     "metadata": {
      "needs_background": "light"
     },
     "output_type": "display_data"
    }
   ],
   "source": [
    "plt.rcParams['font.sans-serif']=['SimHei'] #显示中文标签\n",
    "plt.rcParams['axes.unicode_minus']=False\n",
    "label_2_index_dict = {'科技': 0, '股票': 1, '体育': 2, '娱乐': 3, '时政': 4, '社会': 5, '教育': 6, '财经': 7, '家居': 8, '游戏': 9, '房产': 10, '时尚': 11, '彩票': 12, '星座': 13}\n",
    "index_2_label_dict = {v:k for k,v in label_2_index_dict.items()}\n",
    "plt.figure()\n",
    "plt.bar(x=range(14),height=np.bincount(df_train['label']))\n",
    "plt.xlabel(\"label\")\n",
    "plt.ylabel(\"number of sample\")\n",
    "plt.xticks(range(14), list(index_2_label_dict.values()),rotation=60)\n",
    "plt.show()"
   ]
  },
  {
   "cell_type": "code",
   "execution_count": null,
   "metadata": {},
   "outputs": [],
   "source": [
    "df_train['len'] = df_train['text'].apply(lambda x:len(x.))"
   ]
  }
 ],
 "metadata": {
  "kernelspec": {
   "display_name": "Python [conda env:root]",
   "language": "python",
   "name": "conda-root-py"
  },
  "language_info": {
   "codemirror_mode": {
    "name": "ipython",
    "version": 3
   },
   "file_extension": ".py",
   "mimetype": "text/x-python",
   "name": "python",
   "nbconvert_exporter": "python",
   "pygments_lexer": "ipython3",
   "version": "3.6.5"
  },
  "toc": {
   "base_numbering": 1,
   "nav_menu": {},
   "number_sections": true,
   "sideBar": true,
   "skip_h1_title": false,
   "title_cell": "Table of Contents",
   "title_sidebar": "Contents",
   "toc_cell": false,
   "toc_position": {},
   "toc_section_display": true,
   "toc_window_display": false
  }
 },
 "nbformat": 4,
 "nbformat_minor": 2
}
