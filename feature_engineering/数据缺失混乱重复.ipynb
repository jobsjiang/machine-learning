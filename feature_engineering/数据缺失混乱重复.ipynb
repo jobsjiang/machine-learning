{
 "cells": [
  {
   "cell_type": "markdown",
   "metadata": {},
   "source": [
    "https://mp.weixin.qq.com/s/spt_He10pJZXmjAEXRM84g"
   ]
  },
  {
   "cell_type": "code",
   "execution_count": 1,
   "metadata": {},
   "outputs": [],
   "source": [
    "# import packages\n",
    "import pandas as pd\n",
    "import numpy as np\n",
    "import seaborn as sns\n",
    "\n",
    "import matplotlib.pyplot as plt\n",
    "import matplotlib.mlab as mlab\n",
    "import matplotlib\n",
    "plt.style.use('ggplot')\n",
    "from matplotlib.pyplot import figure\n",
    "\n",
    "%matplotlib inline\n",
    "matplotlib.rcParams['figure.figsize'] = (12,8)\n",
    "\n",
    "pd.options.mode.chained_assignment = None"
   ]
  },
  {
   "cell_type": "code",
   "execution_count": 2,
   "metadata": {},
   "outputs": [],
   "source": [
    "df = pd.read_csv('../../dataset/train.csv')"
   ]
  },
  {
   "cell_type": "code",
   "execution_count": 4,
   "metadata": {},
   "outputs": [
    {
     "name": "stdout",
     "output_type": "stream",
     "text": [
      "(30471, 292)\n"
     ]
    }
   ],
   "source": [
    "print(df.shape)"
   ]
  },
  {
   "cell_type": "code",
   "execution_count": 5,
   "metadata": {},
   "outputs": [
    {
     "name": "stdout",
     "output_type": "stream",
     "text": [
      "id                      int64\n",
      "timestamp              object\n",
      "full_sq                 int64\n",
      "life_sq               float64\n",
      "floor                 float64\n",
      "                       ...   \n",
      "mosque_count_5000       int64\n",
      "leisure_count_5000      int64\n",
      "sport_count_5000        int64\n",
      "market_count_5000       int64\n",
      "price_doc               int64\n",
      "Length: 292, dtype: object\n"
     ]
    }
   ],
   "source": [
    "print(df.dtypes)"
   ]
  },
  {
   "cell_type": "code",
   "execution_count": 8,
   "metadata": {},
   "outputs": [
    {
     "name": "stdout",
     "output_type": "stream",
     "text": [
      "['id' 'full_sq' 'life_sq' 'floor' 'max_floor' 'material' 'build_year'\n",
      " 'num_room' 'kitch_sq' 'state' 'area_m' 'raion_popul' 'green_zone_part'\n",
      " 'indust_part' 'children_preschool' 'preschool_quota'\n",
      " 'preschool_education_centers_raion' 'children_school' 'school_quota'\n",
      " 'school_education_centers_raion' 'school_education_centers_top_20_raion'\n",
      " 'hospital_beds_raion' 'healthcare_centers_raion'\n",
      " 'university_top_20_raion' 'sport_objects_raion'\n",
      " 'additional_education_raion' 'culture_objects_top_25_raion'\n",
      " 'shopping_centers_raion' 'office_raion' 'full_all' 'male_f' 'female_f'\n",
      " 'young_all' 'young_male' 'young_female' 'work_all' 'work_male'\n",
      " 'work_female' 'ekder_all' 'ekder_male' 'ekder_female' '0_6_all'\n",
      " '0_6_male' '0_6_female' '7_14_all' '7_14_male' '7_14_female' '0_17_all'\n",
      " '0_17_male' '0_17_female' '16_29_all' '16_29_male' '16_29_female'\n",
      " '0_13_all' '0_13_male' '0_13_female'\n",
      " 'raion_build_count_with_material_info' 'build_count_block'\n",
      " 'build_count_wood' 'build_count_frame' 'build_count_brick'\n",
      " 'build_count_monolith' 'build_count_panel' 'build_count_foam'\n",
      " 'build_count_slag' 'build_count_mix'\n",
      " 'raion_build_count_with_builddate_info' 'build_count_before_1920'\n",
      " 'build_count_1921-1945' 'build_count_1946-1970' 'build_count_1971-1995'\n",
      " 'build_count_after_1995' 'ID_metro' 'metro_min_avto' 'metro_km_avto'\n",
      " 'metro_min_walk' 'metro_km_walk' 'kindergarten_km' 'school_km' 'park_km'\n",
      " 'green_zone_km' 'industrial_km' 'water_treatment_km' 'cemetery_km'\n",
      " 'incineration_km' 'railroad_station_walk_km' 'railroad_station_walk_min'\n",
      " 'ID_railroad_station_walk' 'railroad_station_avto_km'\n",
      " 'railroad_station_avto_min' 'ID_railroad_station_avto'\n",
      " 'public_transport_station_km' 'public_transport_station_min_walk'\n",
      " 'water_km' 'mkad_km' 'ttk_km' 'sadovoe_km' 'bulvar_ring_km' 'kremlin_km'\n",
      " 'big_road1_km' 'ID_big_road1' 'big_road2_km' 'ID_big_road2' 'railroad_km'\n",
      " 'zd_vokzaly_avto_km' 'ID_railroad_terminal' 'bus_terminal_avto_km'\n",
      " 'ID_bus_terminal' 'oil_chemistry_km' 'nuclear_reactor_km' 'radiation_km'\n",
      " 'power_transmission_line_km' 'thermal_power_plant_km' 'ts_km'\n",
      " 'big_market_km' 'market_shop_km' 'fitness_km' 'swim_pool_km'\n",
      " 'ice_rink_km' 'stadium_km' 'basketball_km' 'hospice_morgue_km'\n",
      " 'detention_facility_km' 'public_healthcare_km' 'university_km'\n",
      " 'workplaces_km' 'shopping_centers_km' 'office_km'\n",
      " 'additional_education_km' 'preschool_km' 'big_church_km'\n",
      " 'church_synagogue_km' 'mosque_km' 'theater_km' 'museum_km'\n",
      " 'exhibition_km' 'catering_km' 'green_part_500' 'prom_part_500'\n",
      " 'office_count_500' 'office_sqm_500' 'trc_count_500' 'trc_sqm_500'\n",
      " 'cafe_count_500' 'cafe_sum_500_min_price_avg'\n",
      " 'cafe_sum_500_max_price_avg' 'cafe_avg_price_500'\n",
      " 'cafe_count_500_na_price' 'cafe_count_500_price_500'\n",
      " 'cafe_count_500_price_1000' 'cafe_count_500_price_1500'\n",
      " 'cafe_count_500_price_2500' 'cafe_count_500_price_4000'\n",
      " 'cafe_count_500_price_high' 'big_church_count_500' 'church_count_500'\n",
      " 'mosque_count_500' 'leisure_count_500' 'sport_count_500'\n",
      " 'market_count_500' 'green_part_1000' 'prom_part_1000' 'office_count_1000'\n",
      " 'office_sqm_1000' 'trc_count_1000' 'trc_sqm_1000' 'cafe_count_1000'\n",
      " 'cafe_sum_1000_min_price_avg' 'cafe_sum_1000_max_price_avg'\n",
      " 'cafe_avg_price_1000' 'cafe_count_1000_na_price'\n",
      " 'cafe_count_1000_price_500' 'cafe_count_1000_price_1000'\n",
      " 'cafe_count_1000_price_1500' 'cafe_count_1000_price_2500'\n",
      " 'cafe_count_1000_price_4000' 'cafe_count_1000_price_high'\n",
      " 'big_church_count_1000' 'church_count_1000' 'mosque_count_1000'\n",
      " 'leisure_count_1000' 'sport_count_1000' 'market_count_1000'\n",
      " 'green_part_1500' 'prom_part_1500' 'office_count_1500' 'office_sqm_1500'\n",
      " 'trc_count_1500' 'trc_sqm_1500' 'cafe_count_1500'\n",
      " 'cafe_sum_1500_min_price_avg' 'cafe_sum_1500_max_price_avg'\n",
      " 'cafe_avg_price_1500' 'cafe_count_1500_na_price'\n",
      " 'cafe_count_1500_price_500' 'cafe_count_1500_price_1000'\n",
      " 'cafe_count_1500_price_1500' 'cafe_count_1500_price_2500'\n",
      " 'cafe_count_1500_price_4000' 'cafe_count_1500_price_high'\n",
      " 'big_church_count_1500' 'church_count_1500' 'mosque_count_1500'\n",
      " 'leisure_count_1500' 'sport_count_1500' 'market_count_1500'\n",
      " 'green_part_2000' 'prom_part_2000' 'office_count_2000' 'office_sqm_2000'\n",
      " 'trc_count_2000' 'trc_sqm_2000' 'cafe_count_2000'\n",
      " 'cafe_sum_2000_min_price_avg' 'cafe_sum_2000_max_price_avg'\n",
      " 'cafe_avg_price_2000' 'cafe_count_2000_na_price'\n",
      " 'cafe_count_2000_price_500' 'cafe_count_2000_price_1000'\n",
      " 'cafe_count_2000_price_1500' 'cafe_count_2000_price_2500'\n",
      " 'cafe_count_2000_price_4000' 'cafe_count_2000_price_high'\n",
      " 'big_church_count_2000' 'church_count_2000' 'mosque_count_2000'\n",
      " 'leisure_count_2000' 'sport_count_2000' 'market_count_2000'\n",
      " 'green_part_3000' 'prom_part_3000' 'office_count_3000' 'office_sqm_3000'\n",
      " 'trc_count_3000' 'trc_sqm_3000' 'cafe_count_3000'\n",
      " 'cafe_sum_3000_min_price_avg' 'cafe_sum_3000_max_price_avg'\n",
      " 'cafe_avg_price_3000' 'cafe_count_3000_na_price'\n",
      " 'cafe_count_3000_price_500' 'cafe_count_3000_price_1000'\n",
      " 'cafe_count_3000_price_1500' 'cafe_count_3000_price_2500'\n",
      " 'cafe_count_3000_price_4000' 'cafe_count_3000_price_high'\n",
      " 'big_church_count_3000' 'church_count_3000' 'mosque_count_3000'\n",
      " 'leisure_count_3000' 'sport_count_3000' 'market_count_3000'\n",
      " 'green_part_5000' 'prom_part_5000' 'office_count_5000' 'office_sqm_5000'\n",
      " 'trc_count_5000' 'trc_sqm_5000' 'cafe_count_5000'\n",
      " 'cafe_sum_5000_min_price_avg' 'cafe_sum_5000_max_price_avg'\n",
      " 'cafe_avg_price_5000' 'cafe_count_5000_na_price'\n",
      " 'cafe_count_5000_price_500' 'cafe_count_5000_price_1000'\n",
      " 'cafe_count_5000_price_1500' 'cafe_count_5000_price_2500'\n",
      " 'cafe_count_5000_price_4000' 'cafe_count_5000_price_high'\n",
      " 'big_church_count_5000' 'church_count_5000' 'mosque_count_5000'\n",
      " 'leisure_count_5000' 'sport_count_5000' 'market_count_5000' 'price_doc']\n",
      "['timestamp' 'product_type' 'sub_area' 'culture_objects_top_25'\n",
      " 'thermal_power_plant_raion' 'incineration_raion' 'oil_chemistry_raion'\n",
      " 'radiation_raion' 'railroad_terminal_raion' 'big_market_raion'\n",
      " 'nuclear_reactor_raion' 'detention_facility_raion' 'water_1line'\n",
      " 'big_road1_1line' 'railroad_1line' 'ecology']\n"
     ]
    }
   ],
   "source": [
    "# select numeric columns\n",
    "df_numeric = df.select_dtypes(include=[np.number])\n",
    "numeric_cols = df_numeric.columns.values\n",
    "print(numeric_cols)\n",
    "# select non numeric columns\n",
    "df_non_numeric = df.select_dtypes(exclude=[np.number])\n",
    "non_numeric_cols = df_non_numeric.columns.values\n",
    "print(non_numeric_cols)"
   ]
  },
  {
   "cell_type": "code",
   "execution_count": 9,
   "metadata": {},
   "outputs": [
    {
     "data": {
      "text/plain": [
       "<matplotlib.axes._subplots.AxesSubplot at 0x272607719b0>"
      ]
     },
     "execution_count": 9,
     "metadata": {},
     "output_type": "execute_result"
    },
    {
     "data": {
      "image/png": "[encoded data removed]",
      "text/plain": [
       "<Figure size 864x576 with 2 Axes>"
      ]
     },
     "metadata": {
      "needs_background": "light"
     },
     "output_type": "display_data"
    }
   ],
   "source": [
    "cols = df.columns[:30] # first 30 columns\n",
    "colours = ['#000099', '#ffff00'] # specify the colours - yellow is missing. blue is not missing.\n",
    "sns.heatmap(df[cols].isnull(),cmap=sns.color_palette(colours))"
   ]
  },
  {
   "cell_type": "code",
   "execution_count": 10,
   "metadata": {},
   "outputs": [
    {
     "name": "stdout",
     "output_type": "stream",
     "text": [
      "id - 0.0%\n",
      "timestamp - 0.0%\n",
      "full_sq - 0.0%\n",
      "life_sq - 21.0%\n",
      "floor - 1.0%\n",
      "max_floor - 31.0%\n",
      "material - 31.0%\n",
      "build_year - 45.0%\n",
      "num_room - 31.0%\n",
      "kitch_sq - 31.0%\n",
      "state - 44.0%\n",
      "product_type - 0.0%\n",
      "sub_area - 0.0%\n",
      "area_m - 0.0%\n",
      "raion_popul - 0.0%\n",
      "green_zone_part - 0.0%\n",
      "indust_part - 0.0%\n",
      "children_preschool - 0.0%\n",
      "preschool_quota - 22.0%\n",
      "preschool_education_centers_raion - 0.0%\n",
      "children_school - 0.0%\n",
      "school_quota - 22.0%\n",
      "school_education_centers_raion - 0.0%\n",
      "school_education_centers_top_20_raion - 0.0%\n",
      "hospital_beds_raion - 47.0%\n",
      "healthcare_centers_raion - 0.0%\n",
      "university_top_20_raion - 0.0%\n",
      "sport_objects_raion - 0.0%\n",
      "additional_education_raion - 0.0%\n",
      "culture_objects_top_25 - 0.0%\n",
      "culture_objects_top_25_raion - 0.0%\n",
      "shopping_centers_raion - 0.0%\n",
      "office_raion - 0.0%\n",
      "thermal_power_plant_raion - 0.0%\n",
      "incineration_raion - 0.0%\n",
      "oil_chemistry_raion - 0.0%\n",
      "radiation_raion - 0.0%\n",
      "railroad_terminal_raion - 0.0%\n",
      "big_market_raion - 0.0%\n",
      "nuclear_reactor_raion - 0.0%\n",
      "detention_facility_raion - 0.0%\n",
      "full_all - 0.0%\n",
      "male_f - 0.0%\n",
      "female_f - 0.0%\n",
      "young_all - 0.0%\n",
      "young_male - 0.0%\n",
      "young_female - 0.0%\n",
      "work_all - 0.0%\n",
      "work_male - 0.0%\n",
      "work_female - 0.0%\n",
      "ekder_all - 0.0%\n",
      "ekder_male - 0.0%\n",
      "ekder_female - 0.0%\n",
      "0_6_all - 0.0%\n",
      "0_6_male - 0.0%\n",
      "0_6_female - 0.0%\n",
      "7_14_all - 0.0%\n",
      "7_14_male - 0.0%\n",
      "7_14_female - 0.0%\n",
      "0_17_all - 0.0%\n",
      "0_17_male - 0.0%\n",
      "0_17_female - 0.0%\n",
      "16_29_all - 0.0%\n",
      "16_29_male - 0.0%\n",
      "16_29_female - 0.0%\n",
      "0_13_all - 0.0%\n",
      "0_13_male - 0.0%\n",
      "0_13_female - 0.0%\n",
      "raion_build_count_with_material_info - 16.0%\n",
      "build_count_block - 16.0%\n",
      "build_count_wood - 16.0%\n",
      "build_count_frame - 16.0%\n",
      "build_count_brick - 16.0%\n",
      "build_count_monolith - 16.0%\n",
      "build_count_panel - 16.0%\n",
      "build_count_foam - 16.0%\n",
      "build_count_slag - 16.0%\n",
      "build_count_mix - 16.0%\n",
      "raion_build_count_with_builddate_info - 16.0%\n",
      "build_count_before_1920 - 16.0%\n",
      "build_count_1921-1945 - 16.0%\n",
      "build_count_1946-1970 - 16.0%\n",
      "build_count_1971-1995 - 16.0%\n",
      "build_count_after_1995 - 16.0%\n",
      "ID_metro - 0.0%\n",
      "metro_min_avto - 0.0%\n",
      "metro_km_avto - 0.0%\n",
      "metro_min_walk - 0.0%\n",
      "metro_km_walk - 0.0%\n",
      "kindergarten_km - 0.0%\n",
      "school_km - 0.0%\n",
      "park_km - 0.0%\n",
      "green_zone_km - 0.0%\n",
      "industrial_km - 0.0%\n",
      "water_treatment_km - 0.0%\n",
      "cemetery_km - 0.0%\n",
      "incineration_km - 0.0%\n",
      "railroad_station_walk_km - 0.0%\n",
      "railroad_station_walk_min - 0.0%\n",
      "ID_railroad_station_walk - 0.0%\n",
      "railroad_station_avto_km - 0.0%\n",
      "railroad_station_avto_min - 0.0%\n",
      "ID_railroad_station_avto - 0.0%\n",
      "public_transport_station_km - 0.0%\n",
      "public_transport_station_min_walk - 0.0%\n",
      "water_km - 0.0%\n",
      "water_1line - 0.0%\n",
      "mkad_km - 0.0%\n",
      "ttk_km - 0.0%\n",
      "sadovoe_km - 0.0%\n",
      "bulvar_ring_km - 0.0%\n",
      "kremlin_km - 0.0%\n",
      "big_road1_km - 0.0%\n",
      "ID_big_road1 - 0.0%\n",
      "big_road1_1line - 0.0%\n",
      "big_road2_km - 0.0%\n",
      "ID_big_road2 - 0.0%\n",
      "railroad_km - 0.0%\n",
      "railroad_1line - 0.0%\n",
      "zd_vokzaly_avto_km - 0.0%\n",
      "ID_railroad_terminal - 0.0%\n",
      "bus_terminal_avto_km - 0.0%\n",
      "ID_bus_terminal - 0.0%\n",
      "oil_chemistry_km - 0.0%\n",
      "nuclear_reactor_km - 0.0%\n",
      "radiation_km - 0.0%\n",
      "power_transmission_line_km - 0.0%\n",
      "thermal_power_plant_km - 0.0%\n",
      "ts_km - 0.0%\n",
      "big_market_km - 0.0%\n",
      "market_shop_km - 0.0%\n",
      "fitness_km - 0.0%\n",
      "swim_pool_km - 0.0%\n",
      "ice_rink_km - 0.0%\n",
      "stadium_km - 0.0%\n",
      "basketball_km - 0.0%\n",
      "hospice_morgue_km - 0.0%\n",
      "detention_facility_km - 0.0%\n",
      "public_healthcare_km - 0.0%\n",
      "university_km - 0.0%\n",
      "workplaces_km - 0.0%\n",
      "shopping_centers_km - 0.0%\n",
      "office_km - 0.0%\n",
      "additional_education_km - 0.0%\n",
      "preschool_km - 0.0%\n",
      "big_church_km - 0.0%\n",
      "church_synagogue_km - 0.0%\n",
      "mosque_km - 0.0%\n",
      "theater_km - 0.0%\n",
      "museum_km - 0.0%\n",
      "exhibition_km - 0.0%\n",
      "catering_km - 0.0%\n",
      "ecology - 0.0%\n",
      "green_part_500 - 0.0%\n",
      "prom_part_500 - 0.0%\n",
      "office_count_500 - 0.0%\n",
      "office_sqm_500 - 0.0%\n",
      "trc_count_500 - 0.0%\n",
      "trc_sqm_500 - 0.0%\n",
      "cafe_count_500 - 0.0%\n",
      "cafe_sum_500_min_price_avg - 44.0%\n",
      "cafe_sum_500_max_price_avg - 44.0%\n",
      "cafe_avg_price_500 - 44.0%\n",
      "cafe_count_500_na_price - 0.0%\n",
      "cafe_count_500_price_500 - 0.0%\n",
      "cafe_count_500_price_1000 - 0.0%\n",
      "cafe_count_500_price_1500 - 0.0%\n",
      "cafe_count_500_price_2500 - 0.0%\n",
      "cafe_count_500_price_4000 - 0.0%\n",
      "cafe_count_500_price_high - 0.0%\n",
      "big_church_count_500 - 0.0%\n",
      "church_count_500 - 0.0%\n",
      "mosque_count_500 - 0.0%\n",
      "leisure_count_500 - 0.0%\n",
      "sport_count_500 - 0.0%\n",
      "market_count_500 - 0.0%\n",
      "green_part_1000 - 0.0%\n",
      "prom_part_1000 - 0.0%\n",
      "office_count_1000 - 0.0%\n",
      "office_sqm_1000 - 0.0%\n",
      "trc_count_1000 - 0.0%\n",
      "trc_sqm_1000 - 0.0%\n",
      "cafe_count_1000 - 0.0%\n",
      "cafe_sum_1000_min_price_avg - 21.0%\n",
      "cafe_sum_1000_max_price_avg - 21.0%\n",
      "cafe_avg_price_1000 - 21.0%\n",
      "cafe_count_1000_na_price - 0.0%\n",
      "cafe_count_1000_price_500 - 0.0%\n",
      "cafe_count_1000_price_1000 - 0.0%\n",
      "cafe_count_1000_price_1500 - 0.0%\n",
      "cafe_count_1000_price_2500 - 0.0%\n",
      "cafe_count_1000_price_4000 - 0.0%\n",
      "cafe_count_1000_price_high - 0.0%\n",
      "big_church_count_1000 - 0.0%\n",
      "church_count_1000 - 0.0%\n",
      "mosque_count_1000 - 0.0%\n",
      "leisure_count_1000 - 0.0%\n",
      "sport_count_1000 - 0.0%\n",
      "market_count_1000 - 0.0%\n",
      "green_part_1500 - 0.0%\n",
      "prom_part_1500 - 0.0%\n",
      "office_count_1500 - 0.0%\n",
      "office_sqm_1500 - 0.0%\n",
      "trc_count_1500 - 0.0%\n",
      "trc_sqm_1500 - 0.0%\n",
      "cafe_count_1500 - 0.0%\n",
      "cafe_sum_1500_min_price_avg - 14.0%\n",
      "cafe_sum_1500_max_price_avg - 14.0%\n",
      "cafe_avg_price_1500 - 14.0%\n",
      "cafe_count_1500_na_price - 0.0%\n",
      "cafe_count_1500_price_500 - 0.0%\n",
      "cafe_count_1500_price_1000 - 0.0%\n",
      "cafe_count_1500_price_1500 - 0.0%\n",
      "cafe_count_1500_price_2500 - 0.0%\n",
      "cafe_count_1500_price_4000 - 0.0%\n",
      "cafe_count_1500_price_high - 0.0%\n",
      "big_church_count_1500 - 0.0%\n",
      "church_count_1500 - 0.0%\n",
      "mosque_count_1500 - 0.0%\n",
      "leisure_count_1500 - 0.0%\n",
      "sport_count_1500 - 0.0%\n",
      "market_count_1500 - 0.0%\n",
      "green_part_2000 - 0.0%\n",
      "prom_part_2000 - 0.0%\n",
      "office_count_2000 - 0.0%\n",
      "office_sqm_2000 - 0.0%\n",
      "trc_count_2000 - 0.0%\n",
      "trc_sqm_2000 - 0.0%\n",
      "cafe_count_2000 - 0.0%\n",
      "cafe_sum_2000_min_price_avg - 6.0%\n",
      "cafe_sum_2000_max_price_avg - 6.0%\n",
      "cafe_avg_price_2000 - 6.0%\n",
      "cafe_count_2000_na_price - 0.0%\n",
      "cafe_count_2000_price_500 - 0.0%\n",
      "cafe_count_2000_price_1000 - 0.0%\n",
      "cafe_count_2000_price_1500 - 0.0%\n",
      "cafe_count_2000_price_2500 - 0.0%\n",
      "cafe_count_2000_price_4000 - 0.0%\n",
      "cafe_count_2000_price_high - 0.0%\n",
      "big_church_count_2000 - 0.0%\n",
      "church_count_2000 - 0.0%\n",
      "mosque_count_2000 - 0.0%\n",
      "leisure_count_2000 - 0.0%\n",
      "sport_count_2000 - 0.0%\n",
      "market_count_2000 - 0.0%\n",
      "green_part_3000 - 0.0%\n",
      "prom_part_3000 - 0.0%\n",
      "office_count_3000 - 0.0%\n",
      "office_sqm_3000 - 0.0%\n",
      "trc_count_3000 - 0.0%\n",
      "trc_sqm_3000 - 0.0%\n",
      "cafe_count_3000 - 0.0%\n",
      "cafe_sum_3000_min_price_avg - 3.0%\n",
      "cafe_sum_3000_max_price_avg - 3.0%\n",
      "cafe_avg_price_3000 - 3.0%\n",
      "cafe_count_3000_na_price - 0.0%\n",
      "cafe_count_3000_price_500 - 0.0%\n",
      "cafe_count_3000_price_1000 - 0.0%\n",
      "cafe_count_3000_price_1500 - 0.0%\n",
      "cafe_count_3000_price_2500 - 0.0%\n",
      "cafe_count_3000_price_4000 - 0.0%\n",
      "cafe_count_3000_price_high - 0.0%\n",
      "big_church_count_3000 - 0.0%\n",
      "church_count_3000 - 0.0%\n",
      "mosque_count_3000 - 0.0%\n",
      "leisure_count_3000 - 0.0%\n",
      "sport_count_3000 - 0.0%\n",
      "market_count_3000 - 0.0%\n",
      "green_part_5000 - 0.0%\n",
      "prom_part_5000 - 1.0%\n",
      "office_count_5000 - 0.0%\n",
      "office_sqm_5000 - 0.0%\n",
      "trc_count_5000 - 0.0%\n",
      "trc_sqm_5000 - 0.0%\n",
      "cafe_count_5000 - 0.0%\n",
      "cafe_sum_5000_min_price_avg - 1.0%\n",
      "cafe_sum_5000_max_price_avg - 1.0%\n",
      "cafe_avg_price_5000 - 1.0%\n",
      "cafe_count_5000_na_price - 0.0%\n",
      "cafe_count_5000_price_500 - 0.0%\n",
      "cafe_count_5000_price_1000 - 0.0%\n",
      "cafe_count_5000_price_1500 - 0.0%\n",
      "cafe_count_5000_price_2500 - 0.0%\n",
      "cafe_count_5000_price_4000 - 0.0%\n",
      "cafe_count_5000_price_high - 0.0%\n",
      "big_church_count_5000 - 0.0%\n",
      "church_count_5000 - 0.0%\n",
      "mosque_count_5000 - 0.0%\n",
      "leisure_count_5000 - 0.0%\n",
      "sport_count_5000 - 0.0%\n",
      "market_count_5000 - 0.0%\n",
      "price_doc - 0.0%\n"
     ]
    }
   ],
   "source": [
    "# 缺失数据百分比例表\n",
    "for col in df.columns:\n",
    "    pct_missing = np.mean(df[col].isnull())\n",
    "    print('{} - {}%'.format(col, round(pct_missing*100)))"
   ]
  },
  {
   "cell_type": "code",
   "execution_count": 11,
   "metadata": {},
   "outputs": [
    {
     "name": "stdout",
     "output_type": "stream",
     "text": [
      "created missing indicator for: life_sq\n",
      "created missing indicator for: floor\n",
      "created missing indicator for: max_floor\n",
      "created missing indicator for: material\n",
      "created missing indicator for: build_year\n",
      "created missing indicator for: num_room\n",
      "created missing indicator for: kitch_sq\n",
      "created missing indicator for: state\n",
      "created missing indicator for: preschool_quota\n",
      "created missing indicator for: school_quota\n",
      "created missing indicator for: hospital_beds_raion\n",
      "created missing indicator for: raion_build_count_with_material_info\n",
      "created missing indicator for: build_count_block\n",
      "created missing indicator for: build_count_wood\n",
      "created missing indicator for: build_count_frame\n",
      "created missing indicator for: build_count_brick\n",
      "created missing indicator for: build_count_monolith\n",
      "created missing indicator for: build_count_panel\n",
      "created missing indicator for: build_count_foam\n",
      "created missing indicator for: build_count_slag\n",
      "created missing indicator for: build_count_mix\n",
      "created missing indicator for: raion_build_count_with_builddate_info\n",
      "created missing indicator for: build_count_before_1920\n",
      "created missing indicator for: build_count_1921-1945\n",
      "created missing indicator for: build_count_1946-1970\n",
      "created missing indicator for: build_count_1971-1995\n",
      "created missing indicator for: build_count_after_1995\n",
      "created missing indicator for: metro_min_walk\n",
      "created missing indicator for: metro_km_walk\n",
      "created missing indicator for: railroad_station_walk_km\n",
      "created missing indicator for: railroad_station_walk_min\n",
      "created missing indicator for: ID_railroad_station_walk\n",
      "created missing indicator for: cafe_sum_500_min_price_avg\n",
      "created missing indicator for: cafe_sum_500_max_price_avg\n",
      "created missing indicator for: cafe_avg_price_500\n",
      "created missing indicator for: cafe_sum_1000_min_price_avg\n",
      "created missing indicator for: cafe_sum_1000_max_price_avg\n",
      "created missing indicator for: cafe_avg_price_1000\n",
      "created missing indicator for: cafe_sum_1500_min_price_avg\n",
      "created missing indicator for: cafe_sum_1500_max_price_avg\n",
      "created missing indicator for: cafe_avg_price_1500\n",
      "created missing indicator for: cafe_sum_2000_min_price_avg\n",
      "created missing indicator for: cafe_sum_2000_max_price_avg\n",
      "created missing indicator for: cafe_avg_price_2000\n",
      "created missing indicator for: cafe_sum_3000_min_price_avg\n",
      "created missing indicator for: cafe_sum_3000_max_price_avg\n",
      "created missing indicator for: cafe_avg_price_3000\n",
      "created missing indicator for: prom_part_5000\n",
      "created missing indicator for: cafe_sum_5000_min_price_avg\n",
      "created missing indicator for: cafe_sum_5000_max_price_avg\n",
      "created missing indicator for: cafe_avg_price_5000\n"
     ]
    },
    {
     "data": {
      "text/plain": [
       "<matplotlib.axes._subplots.AxesSubplot at 0x272610a5b38>"
      ]
     },
     "execution_count": 11,
     "metadata": {},
     "output_type": "execute_result"
    },
    {
     "data": {
      "image/png": "[encoded data removed]",
      "text/plain": [
       "<Figure size 864x576 with 1 Axes>"
      ]
     },
     "metadata": {
      "needs_background": "light"
     },
     "output_type": "display_data"
    }
   ],
   "source": [
    "for col in df.columns:\n",
    "    missing = df[col].isnull()\n",
    "    num_missing = np.sum(missing)\n",
    "\n",
    "    if num_missing > 0:  \n",
    "        print('created missing indicator for: {}'.format(col))\n",
    "        df['{}_ismissing'.format(col)] = missing\n",
    "\n",
    "\n",
    "# then based on the indicator, plot the histogram of missing values\n",
    "ismissing_cols = [col for col in df.columns if 'ismissing' in col]\n",
    "df['num_missing'] = df[ismissing_cols].sum(axis=1)\n",
    "\n",
    "df['num_missing'].value_counts().reset_index().sort_values(by='index').plot.bar(x='index', y='num_missing')"
   ]
  },
  {
   "cell_type": "code",
   "execution_count": 12,
   "metadata": {},
   "outputs": [],
   "source": [
    "# 丢弃观察值\n",
    "# drop rows with a lot of missing values.\n",
    "ind_missing = df[df['num_missing'] > 35].index\n",
    "df_less_missing_rows = df.drop(ind_missing, axis=0)"
   ]
  },
  {
   "cell_type": "code",
   "execution_count": 13,
   "metadata": {},
   "outputs": [],
   "source": [
    "# 丢弃特征\n",
    "\n",
    "# hospital_beds_raion has a lot of missing.\n",
    "# If we want to drop.\n",
    "cols_to_drop = ['hospital_beds_raion']\n",
    "df_less_hos_beds_raion = df.drop(cols_to_drop, axis=1)"
   ]
  },
  {
   "cell_type": "code",
   "execution_count": 14,
   "metadata": {},
   "outputs": [
    {
     "name": "stdout",
     "output_type": "stream",
     "text": [
      "30.0\n"
     ]
    }
   ],
   "source": [
    "# 填充缺失值\n",
    "\n",
    "# replace missing values with the median.\n",
    "med = df['life_sq'].median()\n",
    "print(med)\n",
    "df['life_sq'] = df['life_sq'].fillna(med)"
   ]
  },
  {
   "cell_type": "code",
   "execution_count": 15,
   "metadata": {},
   "outputs": [
    {
     "name": "stdout",
     "output_type": "stream",
     "text": [
      "imputing missing values for: floor\n",
      "imputing missing values for: max_floor\n",
      "imputing missing values for: material\n",
      "imputing missing values for: build_year\n",
      "imputing missing values for: num_room\n",
      "imputing missing values for: kitch_sq\n",
      "imputing missing values for: state\n",
      "imputing missing values for: preschool_quota\n",
      "imputing missing values for: school_quota\n",
      "imputing missing values for: hospital_beds_raion\n",
      "imputing missing values for: raion_build_count_with_material_info\n",
      "imputing missing values for: build_count_block\n",
      "imputing missing values for: build_count_wood\n",
      "imputing missing values for: build_count_frame\n",
      "imputing missing values for: build_count_brick\n",
      "imputing missing values for: build_count_monolith\n",
      "imputing missing values for: build_count_panel\n",
      "imputing missing values for: build_count_foam\n",
      "imputing missing values for: build_count_slag\n",
      "imputing missing values for: build_count_mix\n",
      "imputing missing values for: raion_build_count_with_builddate_info\n",
      "imputing missing values for: build_count_before_1920\n",
      "imputing missing values for: build_count_1921-1945\n",
      "imputing missing values for: build_count_1946-1970\n",
      "imputing missing values for: build_count_1971-1995\n",
      "imputing missing values for: build_count_after_1995\n",
      "imputing missing values for: metro_min_walk\n",
      "imputing missing values for: metro_km_walk\n",
      "imputing missing values for: railroad_station_walk_km\n",
      "imputing missing values for: railroad_station_walk_min\n",
      "imputing missing values for: ID_railroad_station_walk\n",
      "imputing missing values for: cafe_sum_500_min_price_avg\n",
      "imputing missing values for: cafe_sum_500_max_price_avg\n",
      "imputing missing values for: cafe_avg_price_500\n",
      "imputing missing values for: cafe_sum_1000_min_price_avg\n",
      "imputing missing values for: cafe_sum_1000_max_price_avg\n",
      "imputing missing values for: cafe_avg_price_1000\n",
      "imputing missing values for: cafe_sum_1500_min_price_avg\n",
      "imputing missing values for: cafe_sum_1500_max_price_avg\n",
      "imputing missing values for: cafe_avg_price_1500\n",
      "imputing missing values for: cafe_sum_2000_min_price_avg\n",
      "imputing missing values for: cafe_sum_2000_max_price_avg\n",
      "imputing missing values for: cafe_avg_price_2000\n",
      "imputing missing values for: cafe_sum_3000_min_price_avg\n",
      "imputing missing values for: cafe_sum_3000_max_price_avg\n",
      "imputing missing values for: cafe_avg_price_3000\n",
      "imputing missing values for: prom_part_5000\n",
      "imputing missing values for: cafe_sum_5000_min_price_avg\n",
      "imputing missing values for: cafe_sum_5000_max_price_avg\n",
      "imputing missing values for: cafe_avg_price_5000\n"
     ]
    }
   ],
   "source": [
    "# 对所有数值特征一次性应用同样的填充策略\n",
    "\n",
    "# impute the missing values and create the missing value indicator variables for each numeric column.\n",
    "df_numeric = df.select_dtypes(include=[np.number])\n",
    "numeric_cols = df_numeric.columns.values\n",
    "\n",
    "for col in numeric_cols:\n",
    "    missing = df[col].isnull()\n",
    "    num_missing = np.sum(missing)\n",
    "    \n",
    "    if num_missing > 0:\n",
    "        print('imputing missing values for: {}'.format(col))\n",
    "        df['{}_ismissing'.format(col)] = missing\n",
    "        med = df[col].median()\n",
    "        df[col] = df[col].fillna(med)"
   ]
  },
  {
   "cell_type": "code",
   "execution_count": 16,
   "metadata": {},
   "outputs": [],
   "source": [
    "\n",
    "# impute the missing values and create the missing value indicator variables for each non-numeric column.\n",
    "df_non_numeric = df.select_dtypes(exclude=[np.number])\n",
    "non_numeric_cols = df_non_numeric.columns.values\n",
    "\n",
    "for col in non_numeric_cols:\n",
    "    missing = df[col].isnull()\n",
    "    num_missing = np.sum(missing)\n",
    "    \n",
    "    if num_missing > 0:  # only do the imputation for the columns that have missing values.\n",
    "        print('imputing missing values for: {}'.format(col))\n",
    "        df['{}_ismissing'.format(col)] = missing\n",
    "        \n",
    "        top = df[col].describe()['top'] # impute with the most frequent value.\n",
    "        df[col] = df[col].fillna(top)"
   ]
  },
  {
   "cell_type": "code",
   "execution_count": 17,
   "metadata": {},
   "outputs": [],
   "source": [
    "# 替换缺失值\n",
    "# categorical\n",
    "df['sub_area'] = df['sub_area'].fillna('_MISSING_')\n",
    "# numeric\n",
    "df['life_sq'] = df['life_sq'].fillna(-999)"
   ]
  },
  {
   "cell_type": "code",
   "execution_count": 18,
   "metadata": {},
   "outputs": [
    {
     "data": {
      "text/plain": [
       "<matplotlib.axes._subplots.AxesSubplot at 0x2726113cdd8>"
      ]
     },
     "execution_count": 18,
     "metadata": {},
     "output_type": "execute_result"
    },
    {
     "data": {
      "image/png": "[encoded data removed]",
      "text/plain": [
       "<Figure size 864x576 with 1 Axes>"
      ]
     },
     "metadata": {
      "needs_background": "light"
     },
     "output_type": "display_data"
    }
   ],
   "source": [
    "# 不规则数据(异常值)\n",
    "# 直方图/箱形图\n",
    "df['life_sq'].hist(bins=100)"
   ]
  },
  {
   "cell_type": "code",
   "execution_count": 19,
   "metadata": {},
   "outputs": [
    {
     "data": {
      "text/plain": [
       "<matplotlib.axes._subplots.AxesSubplot at 0x27260a681d0>"
      ]
     },
     "execution_count": 19,
     "metadata": {},
     "output_type": "execute_result"
    },
    {
     "data": {
      "image/png": "[encoded data removed]",
      "text/plain": [
       "<Figure size 864x576 with 1 Axes>"
      ]
     },
     "metadata": {
      "needs_background": "light"
     },
     "output_type": "display_data"
    }
   ],
   "source": [
    "df.boxplot(column=['life_sq'])"
   ]
  },
  {
   "cell_type": "code",
   "execution_count": 20,
   "metadata": {},
   "outputs": [
    {
     "data": {
      "text/plain": [
       "count    30471.000000\n",
       "mean        33.480883\n",
       "std         46.522251\n",
       "min          0.000000\n",
       "25%         22.000000\n",
       "50%         30.000000\n",
       "75%         38.000000\n",
       "max       7478.000000\n",
       "Name: life_sq, dtype: float64"
      ]
     },
     "execution_count": 20,
     "metadata": {},
     "output_type": "execute_result"
    }
   ],
   "source": [
    "# 描述统计学\n",
    "df['life_sq'].describe()"
   ]
  },
  {
   "cell_type": "code",
   "execution_count": 22,
   "metadata": {},
   "outputs": [
    {
     "data": {
      "text/plain": [
       "<matplotlib.axes._subplots.AxesSubplot at 0x272637ccc88>"
      ]
     },
     "execution_count": 22,
     "metadata": {},
     "output_type": "execute_result"
    },
    {
     "data": {
      "image/png": "[encoded data removed]",
      "text/plain": [
       "<Figure size 864x576 with 1 Axes>"
      ]
     },
     "metadata": {
      "needs_background": "light"
     },
     "output_type": "display_data"
    }
   ],
   "source": [
    "# 条形图\n",
    "df['ecology'].value_counts().plot.bar()"
   ]
  },
  {
   "cell_type": "code",
   "execution_count": 24,
   "metadata": {},
   "outputs": [
    {
     "name": "stdout",
     "output_type": "stream",
     "text": [
      "oil_chemistry_raion: 99.02858%\n",
      "no     30175\n",
      "yes      296\n",
      "Name: oil_chemistry_raion, dtype: int64\n",
      "\n",
      "railroad_terminal_raion: 96.27187%\n",
      "no     29335\n",
      "yes     1136\n",
      "Name: railroad_terminal_raion, dtype: int64\n",
      "\n",
      "nuclear_reactor_raion: 97.16780%\n",
      "no     29608\n",
      "yes      863\n",
      "Name: nuclear_reactor_raion, dtype: int64\n",
      "\n",
      "build_count_foam: 95.35624%\n",
      "0.0     29056\n",
      "1.0       969\n",
      "11.0      262\n",
      "2.0       184\n",
      "Name: build_count_foam, dtype: int64\n",
      "\n",
      "big_road1_1line: 97.43691%\n",
      "no     29690\n",
      "yes      781\n",
      "Name: big_road1_1line, dtype: int64\n",
      "\n",
      "railroad_1line: 97.06934%\n",
      "no     29578\n",
      "yes      893\n",
      "Name: railroad_1line, dtype: int64\n",
      "\n",
      "cafe_count_500_price_high: 97.25641%\n",
      "0    29635\n",
      "1      787\n",
      "2       38\n",
      "3       11\n",
      "Name: cafe_count_500_price_high, dtype: int64\n",
      "\n",
      "mosque_count_500: 99.51101%\n",
      "0    30322\n",
      "1      149\n",
      "Name: mosque_count_500, dtype: int64\n",
      "\n",
      "cafe_count_1000_price_high: 95.52689%\n",
      "0    29108\n",
      "1     1104\n",
      "2      145\n",
      "3       51\n",
      "4       39\n",
      "5       15\n",
      "6        8\n",
      "7        1\n",
      "Name: cafe_count_1000_price_high, dtype: int64\n",
      "\n",
      "mosque_count_1000: 98.08342%\n",
      "0    29887\n",
      "1      584\n",
      "Name: mosque_count_1000, dtype: int64\n",
      "\n",
      "mosque_count_1500: 96.21936%\n",
      "0    29319\n",
      "1     1152\n",
      "Name: mosque_count_1500, dtype: int64\n",
      "\n",
      "floor_ismissing: 99.45194%\n",
      "False    30304\n",
      "True       167\n",
      "Name: floor_ismissing, dtype: int64\n",
      "\n",
      "metro_min_walk_ismissing: 99.91795%\n",
      "False    30446\n",
      "True        25\n",
      "Name: metro_min_walk_ismissing, dtype: int64\n",
      "\n",
      "metro_km_walk_ismissing: 99.91795%\n",
      "False    30446\n",
      "True        25\n",
      "Name: metro_km_walk_ismissing, dtype: int64\n",
      "\n",
      "railroad_station_walk_km_ismissing: 99.91795%\n",
      "False    30446\n",
      "True        25\n",
      "Name: railroad_station_walk_km_ismissing, dtype: int64\n",
      "\n",
      "railroad_station_walk_min_ismissing: 99.91795%\n",
      "False    30446\n",
      "True        25\n",
      "Name: railroad_station_walk_min_ismissing, dtype: int64\n",
      "\n",
      "ID_railroad_station_walk_ismissing: 99.91795%\n",
      "False    30446\n",
      "True        25\n",
      "Name: ID_railroad_station_walk_ismissing, dtype: int64\n",
      "\n",
      "cafe_sum_3000_min_price_avg_ismissing: 96.74773%\n",
      "False    29480\n",
      "True       991\n",
      "Name: cafe_sum_3000_min_price_avg_ismissing, dtype: int64\n",
      "\n",
      "cafe_sum_3000_max_price_avg_ismissing: 96.74773%\n",
      "False    29480\n",
      "True       991\n",
      "Name: cafe_sum_3000_max_price_avg_ismissing, dtype: int64\n",
      "\n",
      "cafe_avg_price_3000_ismissing: 96.74773%\n",
      "False    29480\n",
      "True       991\n",
      "Name: cafe_avg_price_3000_ismissing, dtype: int64\n",
      "\n",
      "prom_part_5000_ismissing: 99.41584%\n",
      "False    30293\n",
      "True       178\n",
      "Name: prom_part_5000_ismissing, dtype: int64\n",
      "\n",
      "cafe_sum_5000_min_price_avg_ismissing: 99.02530%\n",
      "False    30174\n",
      "True       297\n",
      "Name: cafe_sum_5000_min_price_avg_ismissing, dtype: int64\n",
      "\n",
      "cafe_sum_5000_max_price_avg_ismissing: 99.02530%\n",
      "False    30174\n",
      "True       297\n",
      "Name: cafe_sum_5000_max_price_avg_ismissing, dtype: int64\n",
      "\n",
      "cafe_avg_price_5000_ismissing: 99.02530%\n",
      "False    30174\n",
      "True       297\n",
      "Name: cafe_avg_price_5000_ismissing, dtype: int64\n",
      "\n"
     ]
    }
   ],
   "source": [
    "# 不必要数据类型1：信息不足/重复\n",
    "num_rows = len(df.index)\n",
    "low_information_cols = []\n",
    "for col in df.columns:\n",
    "    cnts = df[col].value_counts(dropna=False)\n",
    "    top_pct = (cnts/num_rows).iloc[0]\n",
    "    if top_pct > 0.95:\n",
    "        low_information_cols.append(col)\n",
    "        print('{0}: {1:.5f}%'.format(col, top_pct*100))\n",
    "        print(cnts)\n",
    "        print()"
   ]
  },
  {
   "cell_type": "code",
   "execution_count": 25,
   "metadata": {},
   "outputs": [],
   "source": [
    "# 不必要数据类型2：不相关\n",
    "# 不必要数据类型3：复制"
   ]
  },
  {
   "cell_type": "code",
   "execution_count": 26,
   "metadata": {},
   "outputs": [
    {
     "name": "stdout",
     "output_type": "stream",
     "text": [
      "(30471, 344)\n",
      "(30461, 343)\n"
     ]
    }
   ],
   "source": [
    "# 复制数据类型1：基于所有特征\n",
    "# we know that column 'id' is unique, but what if we drop it?\n",
    "df_dedupped = df.drop('id', axis=1).drop_duplicates()\n",
    "\n",
    "# there were duplicate rows\n",
    "print(df.shape)\n",
    "print(df_dedupped.shape)"
   ]
  },
  {
   "cell_type": "code",
   "execution_count": 27,
   "metadata": {},
   "outputs": [
    {
     "data": {
      "text/plain": [
       "timestamp   full_sq  life_sq  floor  build_year  num_room  price_doc\n",
       "2012-10-22  61       30.0     18.0   1979.0      2.0       8248500      2\n",
       "2014-12-17  62       30.0     9.0    1979.0      2.0       6552000      2\n",
       "2014-01-22  46       28.0     1.0    1968.0      2.0       3000000      2\n",
       "2013-04-03  42       30.0     2.0    1979.0      2.0       3444000      2\n",
       "2013-09-23  85       30.0     14.0   1979.0      3.0       7725974      2\n",
       "2012-08-27  59       30.0     6.0    1979.0      2.0       4506800      2\n",
       "2014-04-15  134      134.0    1.0    0.0         3.0       5798496      2\n",
       "2013-05-22  68       30.0     2.0    1979.0      2.0       5406690      2\n",
       "2013-12-05  40       30.0     5.0    1979.0      1.0       4414080      2\n",
       "2012-09-05  43       30.0     21.0   1979.0      2.0       6229540      2\n",
       "2015-03-30  41       41.0     11.0   2016.0      1.0       4114580      2\n",
       "2013-12-18  39       30.0     6.0    1979.0      1.0       3700946      2\n",
       "2013-06-24  40       30.0     12.0   1979.0      2.0       4112800      2\n",
       "2013-08-30  40       30.0     12.0   1979.0      1.0       4462000      2\n",
       "2014-12-09  40       30.0     17.0   1979.0      1.0       4607265      2\n",
       "2015-03-14  62       30.0     2.0    1979.0      2.0       6520500      2\n",
       "2013-08-29  60       60.0     11.0   0.0         2.0       6518400      1\n",
       "            56       41.0     2.0    1961.0      3.0       8380000      1\n",
       "            52       52.0     9.0    1979.0      2.0       5619060      1\n",
       "            58       58.0     13.0   2013.0      2.0       5764128      1\n",
       "Name: id, dtype: int64"
      ]
     },
     "execution_count": 27,
     "metadata": {},
     "output_type": "execute_result"
    }
   ],
   "source": [
    "# 复制数据类型2:基于关键特征\n",
    "\n",
    "key = ['timestamp', 'full_sq', 'life_sq', 'floor', 'build_year', 'num_room', 'price_doc']\n",
    "df.fillna(-999).groupby(key)['id'].count().sort_values(ascending=False).head(20)"
   ]
  },
  {
   "cell_type": "code",
   "execution_count": 28,
   "metadata": {},
   "outputs": [
    {
     "name": "stdout",
     "output_type": "stream",
     "text": [
      "(30471, 344)\n",
      "(30455, 344)\n"
     ]
    }
   ],
   "source": [
    "# 删除这些复制数据\n",
    "\n",
    "# drop duplicates based on an subset of variables.\n",
    "\n",
    "key = ['timestamp', 'full_sq', 'life_sq', 'floor', 'build_year', 'num_room', 'price_doc']\n",
    "df_dedupped2 = df.drop_duplicates(subset=key)\n",
    "\n",
    "print(df.shape)\n",
    "print(df_dedupped2.shape)"
   ]
  },
  {
   "cell_type": "code",
   "execution_count": 34,
   "metadata": {},
   "outputs": [],
   "source": [
    "# 不一致数据类型 1：大写\n",
    "# 不一致数据类型 2：格式"
   ]
  },
  {
   "cell_type": "code",
   "execution_count": 35,
   "metadata": {},
   "outputs": [],
   "source": [
    "# 不一致数据类型 3：类别值"
   ]
  },
  {
   "cell_type": "code",
   "execution_count": 30,
   "metadata": {},
   "outputs": [],
   "source": [
    "from nltk.metrics import edit_distance"
   ]
  },
  {
   "cell_type": "code",
   "execution_count": 31,
   "metadata": {},
   "outputs": [
    {
     "data": {
      "text/html": [
       "<div>\n",
       "<style scoped>\n",
       "    .dataframe tbody tr th:only-of-type {\n",
       "        vertical-align: middle;\n",
       "    }\n",
       "\n",
       "    .dataframe tbody tr th {\n",
       "        vertical-align: top;\n",
       "    }\n",
       "\n",
       "    .dataframe thead th {\n",
       "        text-align: right;\n",
       "    }\n",
       "</style>\n",
       "<table border=\"1\" class=\"dataframe\">\n",
       "  <thead>\n",
       "    <tr style=\"text-align: right;\">\n",
       "      <th></th>\n",
       "      <th>city</th>\n",
       "      <th>city_distance_toronto</th>\n",
       "      <th>city_distance_vancouver</th>\n",
       "    </tr>\n",
       "  </thead>\n",
       "  <tbody>\n",
       "    <tr>\n",
       "      <th>0</th>\n",
       "      <td>torontoo</td>\n",
       "      <td>1</td>\n",
       "      <td>8</td>\n",
       "    </tr>\n",
       "    <tr>\n",
       "      <th>1</th>\n",
       "      <td>toronto</td>\n",
       "      <td>0</td>\n",
       "      <td>8</td>\n",
       "    </tr>\n",
       "    <tr>\n",
       "      <th>2</th>\n",
       "      <td>tronto</td>\n",
       "      <td>1</td>\n",
       "      <td>8</td>\n",
       "    </tr>\n",
       "    <tr>\n",
       "      <th>3</th>\n",
       "      <td>vancouver</td>\n",
       "      <td>8</td>\n",
       "      <td>0</td>\n",
       "    </tr>\n",
       "    <tr>\n",
       "      <th>4</th>\n",
       "      <td>vancover</td>\n",
       "      <td>7</td>\n",
       "      <td>1</td>\n",
       "    </tr>\n",
       "    <tr>\n",
       "      <th>5</th>\n",
       "      <td>vancouvr</td>\n",
       "      <td>7</td>\n",
       "      <td>1</td>\n",
       "    </tr>\n",
       "    <tr>\n",
       "      <th>6</th>\n",
       "      <td>montreal</td>\n",
       "      <td>7</td>\n",
       "      <td>8</td>\n",
       "    </tr>\n",
       "    <tr>\n",
       "      <th>7</th>\n",
       "      <td>calgary</td>\n",
       "      <td>7</td>\n",
       "      <td>8</td>\n",
       "    </tr>\n",
       "  </tbody>\n",
       "</table>\n",
       "</div>"
      ],
      "text/plain": [
       "        city  city_distance_toronto  city_distance_vancouver\n",
       "0   torontoo                      1                        8\n",
       "1    toronto                      0                        8\n",
       "2     tronto                      1                        8\n",
       "3  vancouver                      8                        0\n",
       "4   vancover                      7                        1\n",
       "5   vancouvr                      7                        1\n",
       "6   montreal                      7                        8\n",
       "7    calgary                      7                        8"
      ]
     },
     "execution_count": 31,
     "metadata": {},
     "output_type": "execute_result"
    }
   ],
   "source": [
    "df_city_ex = pd.DataFrame(data={'city': ['torontoo', 'toronto', 'tronto', 'vancouver', 'vancover', 'vancouvr', 'montreal', 'calgary']})\n",
    "df_city_ex['city_distance_toronto'] = df_city_ex['city'].map(lambda x: edit_distance(x, 'toronto'))\n",
    "df_city_ex['city_distance_vancouver'] = df_city_ex['city'].map(lambda x: edit_distance(x, 'vancouver'))\n",
    "df_city_ex"
   ]
  },
  {
   "cell_type": "code",
   "execution_count": 36,
   "metadata": {},
   "outputs": [
    {
     "data": {
      "text/html": [
       "<div>\n",
       "<style scoped>\n",
       "    .dataframe tbody tr th:only-of-type {\n",
       "        vertical-align: middle;\n",
       "    }\n",
       "\n",
       "    .dataframe tbody tr th {\n",
       "        vertical-align: top;\n",
       "    }\n",
       "\n",
       "    .dataframe thead th {\n",
       "        text-align: right;\n",
       "    }\n",
       "</style>\n",
       "<table border=\"1\" class=\"dataframe\">\n",
       "  <thead>\n",
       "    <tr style=\"text-align: right;\">\n",
       "      <th></th>\n",
       "      <th>city</th>\n",
       "      <th>city_distance_toronto</th>\n",
       "      <th>city_distance_vancouver</th>\n",
       "    </tr>\n",
       "  </thead>\n",
       "  <tbody>\n",
       "    <tr>\n",
       "      <th>0</th>\n",
       "      <td>toronto</td>\n",
       "      <td>1</td>\n",
       "      <td>8</td>\n",
       "    </tr>\n",
       "    <tr>\n",
       "      <th>1</th>\n",
       "      <td>toronto</td>\n",
       "      <td>0</td>\n",
       "      <td>8</td>\n",
       "    </tr>\n",
       "    <tr>\n",
       "      <th>2</th>\n",
       "      <td>toronto</td>\n",
       "      <td>1</td>\n",
       "      <td>8</td>\n",
       "    </tr>\n",
       "    <tr>\n",
       "      <th>3</th>\n",
       "      <td>vancouver</td>\n",
       "      <td>8</td>\n",
       "      <td>0</td>\n",
       "    </tr>\n",
       "    <tr>\n",
       "      <th>4</th>\n",
       "      <td>vancouver</td>\n",
       "      <td>7</td>\n",
       "      <td>1</td>\n",
       "    </tr>\n",
       "    <tr>\n",
       "      <th>5</th>\n",
       "      <td>vancouver</td>\n",
       "      <td>7</td>\n",
       "      <td>1</td>\n",
       "    </tr>\n",
       "    <tr>\n",
       "      <th>6</th>\n",
       "      <td>montreal</td>\n",
       "      <td>7</td>\n",
       "      <td>8</td>\n",
       "    </tr>\n",
       "    <tr>\n",
       "      <th>7</th>\n",
       "      <td>calgary</td>\n",
       "      <td>7</td>\n",
       "      <td>8</td>\n",
       "    </tr>\n",
       "  </tbody>\n",
       "</table>\n",
       "</div>"
      ],
      "text/plain": [
       "        city  city_distance_toronto  city_distance_vancouver\n",
       "0    toronto                      1                        8\n",
       "1    toronto                      0                        8\n",
       "2    toronto                      1                        8\n",
       "3  vancouver                      8                        0\n",
       "4  vancouver                      7                        1\n",
       "5  vancouver                      7                        1\n",
       "6   montreal                      7                        8\n",
       "7    calgary                      7                        8"
      ]
     },
     "execution_count": 36,
     "metadata": {},
     "output_type": "execute_result"
    }
   ],
   "source": [
    "\n",
    "msk = df_city_ex['city_distance_toronto'] <= 2\n",
    "df_city_ex.loc[msk, 'city'] = 'toronto'\n",
    "\n",
    "msk = df_city_ex['city_distance_vancouver'] <= 2\n",
    "df_city_ex.loc[msk, 'city'] = 'vancouver'\n",
    "\n",
    "df_city_ex"
   ]
  },
  {
   "cell_type": "code",
   "execution_count": 37,
   "metadata": {},
   "outputs": [],
   "source": [
    "# 不一致数据类型 4：地址"
   ]
  },
  {
   "cell_type": "code",
   "execution_count": 38,
   "metadata": {},
   "outputs": [
    {
     "data": {
      "text/html": [
       "<div>\n",
       "<style scoped>\n",
       "    .dataframe tbody tr th:only-of-type {\n",
       "        vertical-align: middle;\n",
       "    }\n",
       "\n",
       "    .dataframe tbody tr th {\n",
       "        vertical-align: top;\n",
       "    }\n",
       "\n",
       "    .dataframe thead th {\n",
       "        text-align: right;\n",
       "    }\n",
       "</style>\n",
       "<table border=\"1\" class=\"dataframe\">\n",
       "  <thead>\n",
       "    <tr style=\"text-align: right;\">\n",
       "      <th></th>\n",
       "      <th>address</th>\n",
       "    </tr>\n",
       "  </thead>\n",
       "  <tbody>\n",
       "    <tr>\n",
       "      <th>0</th>\n",
       "      <td>123 MAIN St Apartment 15</td>\n",
       "    </tr>\n",
       "    <tr>\n",
       "      <th>1</th>\n",
       "      <td>123 Main Street Apt 12</td>\n",
       "    </tr>\n",
       "    <tr>\n",
       "      <th>2</th>\n",
       "      <td>543 FirSt Av</td>\n",
       "    </tr>\n",
       "    <tr>\n",
       "      <th>3</th>\n",
       "      <td>876 FIRst Ave.</td>\n",
       "    </tr>\n",
       "  </tbody>\n",
       "</table>\n",
       "</div>"
      ],
      "text/plain": [
       "                     address\n",
       "0   123 MAIN St Apartment 15\n",
       "1  123 Main Street Apt 12   \n",
       "2               543 FirSt Av\n",
       "3             876 FIRst Ave."
      ]
     },
     "execution_count": 38,
     "metadata": {},
     "output_type": "execute_result"
    }
   ],
   "source": [
    "\n",
    "# no address column in the housing dataset. So create one to show the code.\n",
    "df_add_ex = pd.DataFrame(['123 MAIN St Apartment 15', '123 Main Street Apt 12   ', '543 FirSt Av', '  876 FIRst Ave.'], columns=['address'])\n",
    "df_add_ex"
   ]
  },
  {
   "cell_type": "code",
   "execution_count": 39,
   "metadata": {},
   "outputs": [
    {
     "data": {
      "text/html": [
       "<div>\n",
       "<style scoped>\n",
       "    .dataframe tbody tr th:only-of-type {\n",
       "        vertical-align: middle;\n",
       "    }\n",
       "\n",
       "    .dataframe tbody tr th {\n",
       "        vertical-align: top;\n",
       "    }\n",
       "\n",
       "    .dataframe thead th {\n",
       "        text-align: right;\n",
       "    }\n",
       "</style>\n",
       "<table border=\"1\" class=\"dataframe\">\n",
       "  <thead>\n",
       "    <tr style=\"text-align: right;\">\n",
       "      <th></th>\n",
       "      <th>address</th>\n",
       "      <th>address_std</th>\n",
       "    </tr>\n",
       "  </thead>\n",
       "  <tbody>\n",
       "    <tr>\n",
       "      <th>0</th>\n",
       "      <td>123 MAIN St Apartment 15</td>\n",
       "      <td>123 main st apt 15</td>\n",
       "    </tr>\n",
       "    <tr>\n",
       "      <th>1</th>\n",
       "      <td>123 Main Street Apt 12</td>\n",
       "      <td>123 main st apt 12</td>\n",
       "    </tr>\n",
       "    <tr>\n",
       "      <th>2</th>\n",
       "      <td>543 FirSt Av</td>\n",
       "      <td>543 first ave</td>\n",
       "    </tr>\n",
       "    <tr>\n",
       "      <th>3</th>\n",
       "      <td>876 FIRst Ave.</td>\n",
       "      <td>876 first ave</td>\n",
       "    </tr>\n",
       "  </tbody>\n",
       "</table>\n",
       "</div>"
      ],
      "text/plain": [
       "                     address         address_std\n",
       "0   123 MAIN St Apartment 15  123 main st apt 15\n",
       "1  123 Main Street Apt 12     123 main st apt 12\n",
       "2               543 FirSt Av       543 first ave\n",
       "3             876 FIRst Ave.       876 first ave"
      ]
     },
     "execution_count": 39,
     "metadata": {},
     "output_type": "execute_result"
    }
   ],
   "source": [
    "\n",
    "df_add_ex['address_std'] = df_add_ex['address'].str.lower()\n",
    "df_add_ex['address_std'] = df_add_ex['address_std'].str.strip() # remove leading and trailing whitespace.\n",
    "df_add_ex['address_std'] = df_add_ex['address_std'].str.replace('\\\\.', '') # remove period.\n",
    "df_add_ex['address_std'] = df_add_ex['address_std'].str.replace('\\\\bstreet\\\\b', 'st') # replace street with st.\n",
    "df_add_ex['address_std'] = df_add_ex['address_std'].str.replace('\\\\bapartment\\\\b', 'apt') # replace apartment with apt.\n",
    "df_add_ex['address_std'] = df_add_ex['address_std'].str.replace('\\\\bav\\\\b', 'ave') # replace apartment with apt.\n",
    "\n",
    "df_add_ex"
   ]
  },
  {
   "cell_type": "code",
   "execution_count": null,
   "metadata": {},
   "outputs": [],
   "source": []
  }
 ],
 "metadata": {
  "kernelspec": {
   "display_name": "Python [conda env:root] *",
   "language": "python",
   "name": "conda-root-py"
  },
  "language_info": {
   "codemirror_mode": {
    "name": "ipython",
    "version": 3
   },
   "file_extension": ".py",
   "mimetype": "text/x-python",
   "name": "python",
   "nbconvert_exporter": "python",
   "pygments_lexer": "ipython3",
   "version": "3.6.5"
  }
 },
 "nbformat": 4,
 "nbformat_minor": 4
}
