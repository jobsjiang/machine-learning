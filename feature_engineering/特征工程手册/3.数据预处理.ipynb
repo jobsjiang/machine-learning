{
 "cells": [
  {
   "cell_type": "markdown",
   "metadata": {},
   "source": [
    "https://mp.weixin.qq.com/s?__biz=MzIwOTc2MTUyMg==&mid=2247496940&idx=3&sn=979a314b4902adf3ad7b5e81c5575762&chksm=976c5171a01bd867430a7648055da739063626c3625a7e67dcbf6ae98e9b461389d324a9c291&scene=21#wechat_redirect"
   ]
  },
  {
   "cell_type": "code",
   "execution_count": null,
   "metadata": {},
   "outputs": [],
   "source": []
  }
 ],
 "metadata": {
  "kernelspec": {
   "display_name": "Python [conda env:root] *",
   "language": "python",
   "name": "conda-root-py"
  },
  "language_info": {
   "name": ""
  }
 },
 "nbformat": 4,
 "nbformat_minor": 4
}
