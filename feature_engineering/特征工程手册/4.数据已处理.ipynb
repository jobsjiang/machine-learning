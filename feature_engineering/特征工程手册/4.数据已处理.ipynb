{
 "cells": [
  {
   "cell_type": "markdown",
   "metadata": {},
   "source": [
    "https://mp.weixin.qq.com/s?__biz=MzIwOTc2MTUyMg==&mid=2247497120&idx=3&sn=58199fa5d031693f0bc07d147b4eb42b&chksm=976c503da01bd92bf0deb91f34c825b94b304365fbf3617e571abe6025c4727e06e6b6faeecc&scene=126&sessionid=1583808939&key=ed700bf6fc97e8c83d982690a1935a2b192eea740ae0cc656a7011591c0c7f95e9127c0e3b1e7b2cc7c9dc2741bd84aaf7d13b6647d31b8a7a98b0652b676ac66aa81c960b4cabe723a34e5414c474dd&ascene=1&uin=MjA1MjAyODkxNg%3D%3D&devicetype=Windows+10&version=62080079&lang=zh_CN&exportkey=AU2P%2FsXYZCxlwQBRPRHj2eE%3D&pass_ticket=SLBvxW%2Fr8PzQGSCEmeicXgoeUQrszZgRnLiRrr1tRTxnKMF3vUQq370yrc8HLBWn"
   ]
  },
  {
   "cell_type": "code",
   "execution_count": null,
   "metadata": {},
   "outputs": [],
   "source": []
  }
 ],
 "metadata": {
  "kernelspec": {
   "display_name": "Python [conda env:root] *",
   "language": "python",
   "name": "conda-root-py"
  },
  "language_info": {
   "name": ""
  }
 },
 "nbformat": 4,
 "nbformat_minor": 4
}
