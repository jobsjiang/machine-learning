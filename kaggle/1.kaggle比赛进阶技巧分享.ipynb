{
 "cells": [
  {
   "cell_type": "markdown",
   "metadata": {},
   "source": [
    "https://mp.weixin.qq.com/s?__biz=MzIyNjM2MzQyNg==&mid=2247487590&idx=1&sn=ae9ebf3f718690240259daed54a4084e&chksm=e870c12bdf07483dc053f656ac01612db7c441b821cdff984c66b15bde23bd9a9305de14c30e&mpshare=1&scene=1&srcid=&sharer_sharetime=1575116098780&sharer_shareid=8724c7983f20914ec3c0c086bba89335&key=60c98917e5efc3b48e5e386f33f7a5debfafc84939f2011f4a3bfd1ac9ce1bb55707edde0b48acdb907eab657f904bfc8ba727999262dccd1b0423877a35f59745edff4ff8e74a15c28318361556e780&ascene=1&uin=MjA1MjAyODkxNg%3D%3D&devicetype=Windows+10&version=62070158&lang=zh_CN&pass_ticket=2CgdfBbF3ioM5xeft85Q5afjTIv7Kmsub0excgekwvm6Mceh1lRQftDaiCeQXN%2B9"
   ]
  },
  {
   "cell_type": "code",
   "execution_count": null,
   "metadata": {},
   "outputs": [],
   "source": []
  }
 ],
 "metadata": {
  "kernelspec": {
   "display_name": "Python [conda env:root] *",
   "language": "python",
   "name": "conda-root-py"
  },
  "language_info": {
   "codemirror_mode": {
    "name": "ipython",
    "version": 3
   },
   "file_extension": ".py",
   "mimetype": "text/x-python",
   "name": "python",
   "nbconvert_exporter": "python",
   "pygments_lexer": "ipython3",
   "version": "3.6.5"
  }
 },
 "nbformat": 4,
 "nbformat_minor": 2
}
