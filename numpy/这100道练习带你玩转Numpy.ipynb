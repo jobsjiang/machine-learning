{
 "cells": [
  {
   "cell_type": "markdown",
   "metadata": {},
   "source": [
    "https://mp.weixin.qq.com/s?__biz=MzIyNjM2MzQyNg==&mid=2247488333&idx=1&sn=e4f01dede683d04b16d7fe8dd3955c5a&chksm=e870c200df074b16e5179840e8580b149a83375de9b98c07ad8eaf6df844c3b5f95b9a45a5c0&mpshare=1&scene=24&srcid=&sharer_sharetime=1579006304071&sharer_shareid=8724c7983f20914ec3c0c086bba89335&key=80835432ad7ecc2cc82467275e1dcf0e121b57774f1728a8b1191a1f361f6d237b9b6536f81de0fe973cfeca789b196b7a9699755d5c8a5a04f2deb568aeda0818fa8ea98cf79543fddbe94e0396840c&ascene=1&uin=MjA1MjAyODkxNg%3D%3D&devicetype=Windows+10&version=62070158&lang=zh_CN&exportkey=AeP75vGqunACPRscVyYUTQI%3D&pass_ticket=k34VrpsGILr2bMgBCQnP21XCGZXU5TKfv87hAEw68Zjhe1xlt9pI82jqE2wZg7Vy"
   ]
  },
  {
   "cell_type": "code",
   "execution_count": null,
   "metadata": {},
   "outputs": [],
   "source": []
  }
 ],
 "metadata": {
  "kernelspec": {
   "display_name": "Python [conda env:root] *",
   "language": "python",
   "name": "conda-root-py"
  },
  "language_info": {
   "codemirror_mode": {
    "name": "ipython",
    "version": 3
   },
   "file_extension": ".py",
   "mimetype": "text/x-python",
   "name": "python",
   "nbconvert_exporter": "python",
   "pygments_lexer": "ipython3",
   "version": "3.6.5"
  }
 },
 "nbformat": 4,
 "nbformat_minor": 2
}
