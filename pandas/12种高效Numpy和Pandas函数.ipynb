{
 "cells": [
  {
   "cell_type": "markdown",
   "metadata": {},
   "source": [
    "https://mp.weixin.qq.com/s?__biz=MzA3MzI4MjgzMw==&mid=2650783208&idx=4&sn=38049b72bb84bd08634e96fb51a559e0&chksm=871a7996b06df0802143a640225bb8f12944ae102d793bc931f6b0eca224dc0e553815d505ce&scene=126&sessionid=1585041530&key=219890234390cddfb80a2a90da6e387de434336ed74b2a81402ca79011825df6a08e88b0112cc08517dbda1b9a2d3db69f4c5bf4b1f81a6789a011336fe8e8f2130a2136c76279c8472bd2f8593a7165&ascene=1&uin=MjA1MjAyODkxNg%3D%3D&devicetype=Windows+10&version=62080079&lang=zh_CN&exportkey=AYBN%2BUl9q7NEcinDvkanDn0%3D&pass_ticket=WOBDdJvSyUcUQkLxFpZ6xpwCN2Hf%2BuN124%2BOGO2O0FYbURt7mznOhprqo3T4fR8l"
   ]
  },
  {
   "cell_type": "code",
   "execution_count": 1,
   "metadata": {},
   "outputs": [],
   "source": [
    "import numpy as np\n",
    "import pandas as pd"
   ]
  },
  {
   "cell_type": "code",
   "execution_count": 2,
   "metadata": {},
   "outputs": [
    {
     "name": "stdout",
     "output_type": "stream",
     "text": [
      "[1 8 2 0]\n",
      "[10 12 12 16]\n"
     ]
    }
   ],
   "source": [
    "#借助于 argpartition()，Numpy 可以找出 N 个最大数值的索引，也会将找到的这些索引输出。然后我们根据需要对数值进行排序。\n",
    "x = np.array([12, 10, 12, 0, 6, 8, 9, 1, 16, 4, 6, 0])\n",
    "index_val = np.argpartition(x,-4)[-4:]\n",
    "print(index_val)\n",
    "print(np.sort(x[index_val]))"
   ]
  },
  {
   "cell_type": "code",
   "execution_count": 4,
   "metadata": {},
   "outputs": [
    {
     "name": "stdout",
     "output_type": "stream",
     "text": [
      "False\n",
      "True\n"
     ]
    }
   ],
   "source": [
    "# allclose() 用于匹配两个数组，并得到布尔值表示的输出。如果在一个公差范围内（within a tolerance）两个数组不等同，则 allclose() 返回 False。该函数对于检查两个数组是否相似非常有用。\n",
    "array1 = np.array([0.12,0.17,0.24,0.29])\n",
    "array2 = np.array([0.13,0.19,0.26,0.31])# with a tolerance of 0.1, it should return False:\n",
    "print(np.allclose(array1,array2,0.1))\n",
    "print(np.allclose(array1,array2,0.2))"
   ]
  },
  {
   "cell_type": "code",
   "execution_count": 5,
   "metadata": {},
   "outputs": [
    {
     "name": "stdout",
     "output_type": "stream",
     "text": [
      "[3 5 5 5 2 2 5 5 2 2 5 2]\n"
     ]
    }
   ],
   "source": [
    "# Clip() 使得一个数组中的数值保持在一个区间内。有时，我们需要保证数值在上下限范围内。为此，我们可以借助 Numpy 的 clip() 函数实现该目的。给定一个区间，则区间外的数值被剪切至区间上下限（interval edge\n",
    "x = np.array([3, 17, 14, 23, 2, 2, 6, 8, 1, 2, 16, 0])\n",
    "print(np.clip(x,2,5))"
   ]
  },
  {
   "cell_type": "code",
   "execution_count": 7,
   "metadata": {},
   "outputs": [
    {
     "name": "stdout",
     "output_type": "stream",
     "text": [
      "[ 7 15 17 13 19]\n",
      "[ 2 16  2 18 17 19  2]\n"
     ]
    }
   ],
   "source": [
    "# 顾名思义，extract() 是在特定条件下从一个数组中提取特定元素。借助于 extract()，我们还可以使用 and 和 or 等条件\n",
    "array = np.random.randint(20,size=12)\n",
    "cond = np.mod(array,2) == 1\n",
    "print(np.extract(cond,array))\n",
    "print(np.extract(((array < 3) | (array > 15)),array))"
   ]
  },
  {
   "cell_type": "code",
   "execution_count": 9,
   "metadata": {},
   "outputs": [
    {
     "name": "stdout",
     "output_type": "stream",
     "text": [
      "(array([2, 3, 5, 7, 8], dtype=int64),)\n",
      "['Miss' 'Miss' 'Hit' 'Hit' 'Miss' 'Hit' 'Miss' 'Hit' 'Hit']\n"
     ]
    }
   ],
   "source": [
    "# Where() 用于从一个数组中返回满足特定条件的元素。比如，它会返回满足特定条件的数值的索引位置。Where() 与 SQL 中使用的 where condition 类似\n",
    "y = np.array([1,5,6,8,1,7,3,6,9])\n",
    "print(np.where(y>5))\n",
    "print(np.where(y>5,\"Hit\",'Miss'))"
   ]
  },
  {
   "cell_type": "code",
   "execution_count": 11,
   "metadata": {},
   "outputs": [
    {
     "name": "stdout",
     "output_type": "stream",
     "text": [
      "50th Percentile of a, axis = 0 :  6.0\n",
      "30th Percentile of b, axis = 0 :  [5.1 3.5 1.9]\n"
     ]
    }
   ],
   "source": [
    "# Percentile() 用于计算特定轴方向上数组元素的第 n 个百分位数\n",
    "a = np.array([1,5,6,8,1,7,3,6,9])\n",
    "print(\"50th Percentile of a, axis = 0 : \",np.percentile(a, 50, axis =0))\n",
    "b = np.array([[10, 7, 4], [3, 2, 1]])\n",
    "print(\"30th Percentile of b, axis = 0 : \",np.percentile(b, 30, axis =0))"
   ]
  },
  {
   "cell_type": "markdown",
   "metadata": {},
   "source": [
    "#### Pandas 数据统计包的 6 种高效函数"
   ]
  },
  {
   "cell_type": "code",
   "execution_count": 12,
   "metadata": {},
   "outputs": [],
   "source": [
    "# read_csv(nrows=n)"
   ]
  },
  {
   "cell_type": "code",
   "execution_count": 13,
   "metadata": {},
   "outputs": [],
   "source": [
    "# map()"
   ]
  },
  {
   "cell_type": "code",
   "execution_count": 14,
   "metadata": {},
   "outputs": [],
   "source": [
    "# apply()"
   ]
  },
  {
   "cell_type": "code",
   "execution_count": 15,
   "metadata": {},
   "outputs": [],
   "source": [
    "# isin()"
   ]
  },
  {
   "cell_type": "code",
   "execution_count": 16,
   "metadata": {},
   "outputs": [],
   "source": [
    "# copy()"
   ]
  },
  {
   "cell_type": "code",
   "execution_count": 17,
   "metadata": {},
   "outputs": [],
   "source": [
    "# select_types()"
   ]
  },
  {
   "cell_type": "code",
   "execution_count": null,
   "metadata": {},
   "outputs": [],
   "source": []
  }
 ],
 "metadata": {
  "kernelspec": {
   "display_name": "Python [conda env:root] *",
   "language": "python",
   "name": "conda-root-py"
  },
  "language_info": {
   "codemirror_mode": {
    "name": "ipython",
    "version": 3
   },
   "file_extension": ".py",
   "mimetype": "text/x-python",
   "name": "python",
   "nbconvert_exporter": "python",
   "pygments_lexer": "ipython3",
   "version": "3.6.5"
  }
 },
 "nbformat": 4,
 "nbformat_minor": 4
}
