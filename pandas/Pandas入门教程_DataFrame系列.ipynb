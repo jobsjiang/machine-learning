{
 "cells": [
  {
   "cell_type": "markdown",
   "metadata": {},
   "source": [
    "1. 如何从csv文件只读取前几行的数据"
   ]
  },
  {
   "cell_type": "code",
   "execution_count": null,
   "metadata": {},
   "outputs": [],
   "source": [
    "import numpy as np\n",
    "import pandas as pd"
   ]
  },
  {
   "cell_type": "code",
   "execution_count": null,
   "metadata": {},
   "outputs": [],
   "source": [
    "# 只读取前2行和指定列的数据\n",
    "df = pd.read_csv('https://raw.githubusercontent.com/selva86/datasets/master/Cars93_miss.csv',\n",
    "                 nrows=2, usecols=['Model', 'Length'])\n",
    "df"
   ]
  },
  {
   "cell_type": "markdown",
   "metadata": {},
   "source": [
    "2. 如何从csv文件中每隔n行来创建dataframe"
   ]
  },
  {
   "cell_type": "code",
   "execution_count": null,
   "metadata": {},
   "outputs": [],
   "source": [
    "# 每隔50行读取一行数据\n",
    "df = pd.read_csv('https://raw.githubusercontent.com/selva86/datasets/master/BostonHousing.csv', chunksize=50)\n",
    "df2 = pd.DataFrame()\n",
    "for chunk in df:\n",
    "    # 获取series\n",
    "    df2 = df2.append(chunk.iloc[0,:])\n",
    "#显示前5行\n",
    "print(df2.head())\n"
   ]
  },
  {
   "cell_type": "markdown",
   "metadata": {},
   "source": [
    "3. 如何改变导入csv文件的列值"
   ]
  },
  {
   "cell_type": "code",
   "execution_count": null,
   "metadata": {},
   "outputs": [],
   "source": [
    "# 使用converters参数，改变medv列的值\n",
    "df = pd.read_csv('https://raw.githubusercontent.com/selva86/datasets/master/BostonHousing.csv',\n",
    "                 converters={'medv': lambda x: 'High' if float(x) > 25 else 'Low'})\n",
    "print(df.head())"
   ]
  },
  {
   "cell_type": "markdown",
   "metadata": {},
   "source": [
    "4. 如何从csv文件导入指定的列"
   ]
  },
  {
   "cell_type": "code",
   "execution_count": null,
   "metadata": {},
   "outputs": [],
   "source": [
    "# 导入指定的列：crim和medv\n",
    "df = pd.read_csv(\n",
    "    'https://raw.githubusercontent.com/selva86/datasets/master/BostonHousing.csv', usecols=['crim', 'medv'])\n",
    "# 打印前四行dataframe信息\n",
    "print(df.head())"
   ]
  },
  {
   "cell_type": "markdown",
   "metadata": {},
   "source": [
    "5. 如何得到dataframe的行，列，每一列的类型和相应的描述统计信息"
   ]
  },
  {
   "cell_type": "code",
   "execution_count": null,
   "metadata": {},
   "outputs": [],
   "source": [
    "df = pd.read_csv('https://raw.githubusercontent.com/selva86/datasets/master/Cars93_miss.csv')\n",
    "#  打印dataframe的行和列\n",
    "print(df.shape)\n",
    "# 打印dataframe每列元素的类型显示前5行\n",
    "print(df.dtypes.head())\n",
    "# 统计各类型的数目,方法1\n",
    "print(df.get_dtype_counts())\n",
    "# 统计各类型的数目,方法2\n",
    "# print(df.dtypes.value_counts())\n",
    "# 描述每列的统计信息，如std，四分位数等\n",
    "df_stats = df.describe()\n",
    "# dataframe转化数组\n",
    "df_arr = df.values\n",
    "# 数组转化为列表\n",
    "df_list = df.values.tolist()"
   ]
  },
  {
   "cell_type": "markdown",
   "metadata": {},
   "source": [
    "6. 如何获取给定条件的行和列"
   ]
  },
  {
   "cell_type": "code",
   "execution_count": null,
   "metadata": {},
   "outputs": [],
   "source": [
    "df = pd.read_csv('https://raw.githubusercontent.com/selva86/datasets/master/Cars93_miss.csv')\n",
    "print(df.head())\n",
    "# 获取最大值的行和列\n",
    "row, col = np.where(df.values == np.max(df.Price))\n",
    "# 行和列获取最大值\n",
    "print(df.iat[row[0], col[0]])\n",
    "df.iloc[row[0], col[0]]\n",
    "# 行索引和列名获取最大值\n",
    "df.at[row[0], 'Price']\n",
    "df.get_value(row[0], 'Price')"
   ]
  },
  {
   "cell_type": "markdown",
   "metadata": {},
   "source": [
    "7. 如何重命名dataframe的特定列"
   ]
  },
  {
   "cell_type": "code",
   "execution_count": null,
   "metadata": {},
   "outputs": [],
   "source": [
    "df1 = pd.DataFrame(data=np.array([[18,50],[19,51],[20,55]]),index=['man1','man2','man3'],columns=['age','weight'])\n",
    "print(df1)\n",
    "# 修改列名\n",
    "print(\"\\nchange columns :\\n\")\n",
    "#方法1\n",
    "df1.rename(columns={'weight':'stress'})\n",
    "#方法2\n",
    "df1.columns.values[1] = 'stress'\n",
    "print(df1)"
   ]
  },
  {
   "cell_type": "markdown",
   "metadata": {},
   "source": [
    "8. 如何检查dataframe中是否有缺失值"
   ]
  },
  {
   "cell_type": "code",
   "execution_count": null,
   "metadata": {},
   "outputs": [],
   "source": [
    "df = pd.read_csv('https://raw.githubusercontent.com/selva86/datasets/master/Cars93_miss.csv')\n",
    "# 若有缺失值，则为Ture\n",
    "df.isnull().values.any()"
   ]
  },
  {
   "cell_type": "markdown",
   "metadata": {},
   "source": [
    "9. 如何统计dataframe的每列中缺失值的个数"
   ]
  },
  {
   "cell_type": "code",
   "execution_count": null,
   "metadata": {},
   "outputs": [],
   "source": [
    "df = pd.read_csv('https://raw.githubusercontent.com/selva86/datasets/master/Cars93_miss.csv')\n",
    "# 获取每列的缺失值个数\n",
    "n_missings_each_col = df.apply(lambda x: x.isnull().sum())\n",
    "print(n_missings_each_col.head())"
   ]
  },
  {
   "cell_type": "markdown",
   "metadata": {},
   "source": [
    "10. 如何用平均值替换相应列的缺失值"
   ]
  },
  {
   "cell_type": "code",
   "execution_count": null,
   "metadata": {},
   "outputs": [],
   "source": [
    "df = pd.read_csv('https://raw.githubusercontent.com/selva86/datasets/master/Cars93_miss.csv',nrows=10)\n",
    "print(df[['Min.Price','Max.Price']].head())\n",
    "# 平均值替换缺失值\n",
    "df_out = df[['Min.Price', 'Max.Price']] = df[['Min.Price', 'Max.Price']].apply(lambda x: x.fillna(x.mean()))\n",
    "print(df_out.head())"
   ]
  },
  {
   "cell_type": "markdown",
   "metadata": {},
   "source": [
    "11. 如何用全局变量作为apply函数的附加参数处理指定的列"
   ]
  },
  {
   "cell_type": "code",
   "execution_count": null,
   "metadata": {},
   "outputs": [],
   "source": [
    "df = pd.read_csv(\n",
    "    'https://raw.githubusercontent.com/selva86/datasets/master/Cars93_miss.csv')\n",
    "print(df[['Min.Price', 'Max.Price']].head())\n",
    "# 全局变量\n",
    "d = {'Min.Price': np.nanmean, 'Max.Price': np.nanmedian}\n",
    "# 列名Min.Price的缺失值用平均值代替，Max.Price的缺失值用中值代替\n",
    "df[['Min.Price', 'Max.Price']] = df[['Min.Price', 'Max.Price']].apply(\n",
    "    lambda x, d: x.fillna(d[x.name](x)), args=(d, ))\n",
    "print(df[['Min.Price', 'Max.Price']].head())"
   ]
  },
  {
   "cell_type": "markdown",
   "metadata": {},
   "source": [
    "12. 如何以dataframe的形式选择特定的列"
   ]
  },
  {
   "cell_type": "code",
   "execution_count": null,
   "metadata": {},
   "outputs": [],
   "source": [
    "df = pd.DataFrame(np.arange(20).reshape(-1, 5), columns=list('abcde'))\n",
    "# print(df)\n",
    "# 以dataframe的形式选择特定的列\n",
    "type(df[['a']])\n",
    "type(df.loc[:, ['a']])\n",
    "print(type(df.iloc[:, [0]]))\n",
    "# 以series的形式选择特定的列\n",
    "type(df.a)\n",
    "type(df['a'])\n",
    "type(df.loc[:, 'a'])\n",
    "print(type(df.iloc[:, 1]))"
   ]
  },
  {
   "cell_type": "markdown",
   "metadata": {},
   "source": [
    "13. 如何改变dataframe中的列顺序"
   ]
  },
  {
   "cell_type": "code",
   "execution_count": null,
   "metadata": {},
   "outputs": [],
   "source": [
    "df = pd.DataFrame(np.arange(20).reshape(-1, 5), columns=list('abcde'))\n",
    "print(df)\n",
    "# 交换col1和col2\n",
    "def switch_columns(df, col1=None, col2=None):\n",
    "    colnames = df.columns.tolist()\n",
    "    i1, i2 = colnames.index(col1), colnames.index(col2)\n",
    "    colnames[i2], colnames[i1] = colnames[i1], colnames[i2]\n",
    "    return df[colnames]\n",
    "\n",
    "df1 = switch_columns(df, 'a', 'c')\n",
    "print(df1)"
   ]
  },
  {
   "cell_type": "markdown",
   "metadata": {},
   "source": [
    "14. 如何格式化dataframe的值"
   ]
  },
  {
   "cell_type": "code",
   "execution_count": null,
   "metadata": {},
   "outputs": [],
   "source": [
    "df = pd.DataFrame(np.random.random(4)**10, columns=['random'])\n",
    "print(df)\n",
    "# 显示小数点后四位\n",
    "df.apply(lambda x: '%.4f' % x, axis=1)\n",
    "print(df)"
   ]
  },
  {
   "cell_type": "markdown",
   "metadata": {},
   "source": [
    "15. 如何将dataframe中的所有值以百分数的格式表示"
   ]
  },
  {
   "cell_type": "code",
   "execution_count": null,
   "metadata": {},
   "outputs": [],
   "source": [
    "df = pd.DataFrame(np.random.random(4), columns=['random'])\n",
    "# 格式化为小数点后两位的百分数\n",
    "out = df.style.format({'random': '{0:.2%}'.format,})\n",
    "out"
   ]
  },
  {
   "cell_type": "markdown",
   "metadata": {},
   "source": [
    "16.如何从dataframe中每隔n行构建dataframe"
   ]
  },
  {
   "cell_type": "code",
   "execution_count": null,
   "metadata": {},
   "outputs": [],
   "source": [
    "df = pd.read_csv('https://raw.githubusercontent.com/selva86/datasets/master/Cars93_miss.csv')\n",
    "# 每隔20行读dataframe数据\n",
    "print(df.iloc[::20, :][['Manufacturer', 'Model', 'Type']])"
   ]
  },
  {
   "cell_type": "markdown",
   "metadata": {},
   "source": [
    "17. 如何得到列中前n个最大值对应的索引"
   ]
  },
  {
   "cell_type": "code",
   "execution_count": null,
   "metadata": {},
   "outputs": [],
   "source": [
    "df = pd.DataFrame(np.random.randint(1, 15, 15).reshape(5,-1), columns=list('abc'))\n",
    "print(df)\n",
    "# 取'a'列前3个最大值对应的行\n",
    "n = 5\n",
    "df['a'].argsort()[::-1].iloc[:3]\n"
   ]
  },
  {
   "cell_type": "markdown",
   "metadata": {},
   "source": [
    "18.  如何获得dataframe行的和大于100的最末n行索引"
   ]
  },
  {
   "cell_type": "code",
   "execution_count": null,
   "metadata": {},
   "outputs": [],
   "source": [
    "df = pd.DataFrame(np.random.randint(10, 40, 16).reshape(-1, 4))\n",
    "print(df)\n",
    "# dataframe每行的和\n",
    "rowsums = df.apply(np.sum, axis=1)\n",
    "# 选取大于100的最末两行索引\n",
    "# last_two_rows = df.iloc[np.where(rowsums > 100)[0][-2:], :]\n",
    "nline = np.where(rowsums > 100)[0][-2:]\n",
    "nline"
   ]
  },
  {
   "cell_type": "markdown",
   "metadata": {},
   "source": [
    "19. 如何从series中查找异常值并赋值"
   ]
  },
  {
   "cell_type": "code",
   "execution_count": null,
   "metadata": {},
   "outputs": [],
   "source": [
    "ser = pd.Series(np.logspace(-2, 2, 30))\n",
    "# 小于low_per分位的数赋值为low，大于low_per分位的数赋值为high\n",
    "def cap_outliers(ser, low_perc, high_perc):\n",
    "    low, high = ser.quantile([low_perc, high_perc])\n",
    "    print(low_perc, '%ile: ', low, '|', high_perc, '%ile: ', high)\n",
    "    ser[ser < low] = low\n",
    "    ser[ser > high] = high\n",
    "    return(ser)\n",
    "capped_ser = cap_outliers(ser, .05, .95)"
   ]
  },
  {
   "cell_type": "markdown",
   "metadata": {},
   "source": [
    "20. 如何交换dataframe的两行"
   ]
  },
  {
   "cell_type": "code",
   "execution_count": null,
   "metadata": {},
   "outputs": [],
   "source": [
    "df = pd.DataFrame(np.arange(9).reshape(3, -1))\n",
    "print(df)\n",
    "# 函数\n",
    "def swap_rows(df, i1, i2):\n",
    "    a, b = df.iloc[i1, :].copy(), df.iloc[i2, :].copy()\n",
    "    # 通过iloc换行\n",
    "    df.iloc[i1, :], df.iloc[i2, :] = b, a\n",
    "    return df\n",
    "# 2和3行互换\n",
    "print(swap_rows(df, 1, 2))"
   ]
  },
  {
   "cell_type": "markdown",
   "metadata": {},
   "source": [
    "21. 如何倒转dataframe的行"
   ]
  },
  {
   "cell_type": "code",
   "execution_count": null,
   "metadata": {},
   "outputs": [],
   "source": [
    "df = pd.DataFrame(np.arange(9).reshape(3, -1))\n",
    "print(df)\n",
    "# 方法 1\n",
    "df.iloc[::-1, :]\n",
    "# 方法 2\n",
    "print(df.loc[df.index[::-1], :])"
   ]
  },
  {
   "cell_type": "markdown",
   "metadata": {},
   "source": [
    "22. 如何对分类变量进行one-hot编码"
   ]
  },
  {
   "cell_type": "code",
   "execution_count": null,
   "metadata": {},
   "outputs": [],
   "source": [
    "df = pd.DataFrame(np.arange(25).reshape(5,-1), columns=list('abcde'))\n",
    "print(df)\n",
    "# 对列'a'进行onehot编码\n",
    "df_onehot = pd.concat([pd.get_dummies(df['a']), df[list('bcde')]], axis=1)\n",
    "print(df_onehot)"
   ]
  },
  {
   "cell_type": "markdown",
   "metadata": {},
   "source": [
    "23. 如何获取dataframe行方向上最大值个数最多的列"
   ]
  },
  {
   "cell_type": "code",
   "execution_count": null,
   "metadata": {},
   "outputs": [],
   "source": [
    "df = pd.DataFrame(np.random.randint(1,100, 9).reshape(3, -1))\n",
    "print(df)\n",
    "# 获取每列包含行方向上最大值的个数\n",
    "count_series = df.apply(np.argmax, axis=1).value_counts()\n",
    "print(count_series)\n",
    "# 输出行方向最大值个数最多的列的索引\n",
    "print('Column with highest row maxes: ', count_series.index[0])"
   ]
  },
  {
   "cell_type": "markdown",
   "metadata": {},
   "source": [
    "24. 如何得到列之间最大的相关系数"
   ]
  },
  {
   "cell_type": "code",
   "execution_count": null,
   "metadata": {},
   "outputs": [],
   "source": [
    "df = pd.DataFrame(np.random.randint(1,100, 16).reshape(4, -1), columns=list('pqrs'), index=list('abcd'))\n",
    "# df\n",
    "print(df)\n",
    "# 得到四个列的相关系数\n",
    "abs_corrmat = np.abs(df.corr())\n",
    "print(abs_corrmat)\n",
    "# 得到每个列名与其他列的最大相关系数\n",
    "max_corr = abs_corrmat.apply(lambda x: sorted(x)[-2])\n",
    "# 显示每列与其他列的相关系数\n",
    "print('Maximum Correlation possible for each column: ', np.round(max_corr.tolist(), 2))"
   ]
  },
  {
   "cell_type": "markdown",
   "metadata": {},
   "source": [
    "25. 如何创建包含每行最小值与最大值比例的列"
   ]
  },
  {
   "cell_type": "code",
   "execution_count": null,
   "metadata": {},
   "outputs": [],
   "source": [
    "df = pd.DataFrame(np.random.randint(1,100, 9).reshape(3, -1))\n",
    "print(df)\n",
    "# 方法1：axis=1表示行方向，\n",
    "min_by_max = df.apply(lambda x: np.min(x)/np.max(x), axis=1)\n",
    "# 方法2\n",
    "min_by_max = np.min(df, axis=1)/np.max(df, axis=1)\n",
    "min_by_max"
   ]
  },
  {
   "cell_type": "markdown",
   "metadata": {},
   "source": [
    "26. 如何创建包含每行第二大值的列"
   ]
  },
  {
   "cell_type": "code",
   "execution_count": null,
   "metadata": {},
   "outputs": [],
   "source": [
    "df = pd.DataFrame(np.random.randint(1,100, 9).reshape(3, -1))\n",
    "print(df)\n",
    "# 行方向上取第二大的值组成series\n",
    "out = df.apply(lambda x: x.sort_values().unique()[-2], axis=1)\n",
    "# 构建dataframe新的列\n",
    "df['penultimate'] = out\n",
    "print(df)"
   ]
  },
  {
   "cell_type": "markdown",
   "metadata": {},
   "source": [
    "27. 如何归一化dataframe的所有列"
   ]
  },
  {
   "cell_type": "code",
   "execution_count": null,
   "metadata": {},
   "outputs": [],
   "source": [
    "df = pd.DataFrame(np.random.randint(1,100, 80).reshape(8, -1))\n",
    "# 正态分布归一化\n",
    "out1 = df.apply(lambda x: ((x - x.mean())/x.std()).round(2))\n",
    "print('Solution Q1\\n',out1)\n",
    "# 线性归一化\n",
    "out2 = df.apply(lambda x: ((x.max() - x)/(x.max() - x.min())).round(2))\n",
    "print('Solution Q2\\n', out2)"
   ]
  },
  {
   "cell_type": "markdown",
   "metadata": {},
   "source": [
    "28. 如何计算每一行与下一行的相关性"
   ]
  },
  {
   "cell_type": "code",
   "execution_count": null,
   "metadata": {},
   "outputs": [],
   "source": [
    "df = pd.DataFrame(np.random.randint(1,100, 25).reshape(5, -1))\n",
    "# 行与行之间的相关性\n",
    "[df.iloc[i].corr(df.iloc[i+1]).round(2) for i in range(df.shape[0])[:-1]]"
   ]
  },
  {
   "cell_type": "markdown",
   "metadata": {},
   "source": [
    "29. 如何用0赋值dataframe的主对角线和副对角线"
   ]
  },
  {
   "cell_type": "code",
   "execution_count": null,
   "metadata": {},
   "outputs": [],
   "source": [
    "df = pd.DataFrame(np.random.randint(1,100, 25).reshape(5, -1))\n",
    "print(df)\n",
    "for i in range(df.shape[0]):\n",
    "    df.iat[i, i] = 0\n",
    "    df.iat[df.shape[0]-i-1, i] = 0\n",
    "print(df)\n"
   ]
  },
  {
   "cell_type": "markdown",
   "metadata": {},
   "source": [
    "30.如何得到按列分组的dataframe的平均值和标准差"
   ]
  },
  {
   "cell_type": "code",
   "execution_count": null,
   "metadata": {},
   "outputs": [],
   "source": [
    "df = pd.DataFrame({'col1': ['apple', 'banana', 'orange'] * 2,\n",
    "                   'col2': np.random.randint(0, 15, 6), 'col3': np.random.randint(0, 15, 6)})\n",
    "print(df)\n",
    "# 按列col1分组后的平均值\n",
    "df_grouped_mean = df.groupby(['col1']).mean()\n",
    "print(df_grouped_mean)\n",
    "# 按列col1分组后的标准差\n",
    "df_grouped_std = df.groupby(['col1']).mean()\n",
    "print(df_grouped_std)"
   ]
  },
  {
   "cell_type": "markdown",
   "metadata": {},
   "source": [
    "31. 如何得到按列分组后另一列的第n大的值"
   ]
  },
  {
   "cell_type": "code",
   "execution_count": null,
   "metadata": {},
   "outputs": [],
   "source": [
    "df = pd.DataFrame({'fruit': ['apple', 'banana', 'orange'] * 2,\n",
    "                   'taste': np.random.rand(6), 'price': np.random.randint(0, 15, 6)})\n",
    "print(df)\n",
    "# teste列按fruit分组\n",
    "df_grpd = df['taste'].groupby(df.fruit)\n",
    "# teste列中banana元素的信息\n",
    "x = df_grpd.get_group('banana')\n",
    "# 排序并找第2大的值\n",
    "s = x.sort_values().iloc[-2]\n",
    "print(s)"
   ]
  },
  {
   "cell_type": "markdown",
   "metadata": {},
   "source": [
    "32. 如何计算分组dataframe的平均值，并将分组列保留为另一列"
   ]
  },
  {
   "cell_type": "code",
   "execution_count": null,
   "metadata": {},
   "outputs": [],
   "source": [
    "df = pd.DataFrame({'fruit': ['apple', 'banana', 'orange'] * 2,\n",
    "                   'rating': np.random.rand(6), 'price': np.random.randint(0, 15, 6)})\n",
    "# 按fruit分组后，price列的平均值，并将分组置为一列\n",
    "out = df.groupby('fruit', as_index=False)['price'].mean()\n",
    "print(out)"
   ]
  },
  {
   "cell_type": "markdown",
   "metadata": {},
   "source": [
    "33.如何获取两列值元素相等的位置（并非索引）"
   ]
  },
  {
   "cell_type": "code",
   "execution_count": null,
   "metadata": {},
   "outputs": [],
   "source": [
    "df = pd.DataFrame({'fruit1': np.random.choice(\n",
    "    ['apple', 'orange', 'banana'], 3), 'fruit2': np.random.choice(['apple', 'orange', 'banana'], 3)})\n",
    "print(df)\n",
    "# 获取两列元素相等的行\n",
    "np.where(df.fruit1 == df.fruit2)"
   ]
  },
  {
   "cell_type": "markdown",
   "metadata": {},
   "source": [
    "34. 如何创建指定列偏移后的新列"
   ]
  },
  {
   "cell_type": "code",
   "execution_count": null,
   "metadata": {},
   "outputs": [],
   "source": [
    "df = pd.DataFrame(np.random.randint(1, 100, 20).reshape(-1, 4), columns = list('abcd'))\n",
    "# 创建往下偏移后的列\n",
    "df['a_lag1'] = df['a'].shift(1)\n",
    "# 创建往上偏移后的列\n",
    "df['b_lead1'] = df['b'].shift(-1)\n",
    "print(df)"
   ]
  },
  {
   "cell_type": "markdown",
   "metadata": {},
   "source": [
    "35. 如何获得dataframe中单一值的频数"
   ]
  },
  {
   "cell_type": "code",
   "execution_count": null,
   "metadata": {},
   "outputs": [],
   "source": [
    "df = pd.DataFrame(np.random.randint(1, 10, 20).reshape(-1, 4), columns = list('abcd'))\n",
    "# 统计元素值的个数\n",
    "pd.value_counts(df.values.ravel())"
   ]
  },
  {
   "cell_type": "markdown",
   "metadata": {},
   "source": [
    "36. 如何将文本拆分为两个单独的列"
   ]
  },
  {
   "cell_type": "code",
   "execution_count": null,
   "metadata": {},
   "outputs": [],
   "source": [
    "df = pd.DataFrame([\"STD, City    State\",\n",
    "                   \"33, Kolkata    West Bengal\",\n",
    "                   \"44, Chennai    Tamil Nadu\",\n",
    "                   \"40, Hyderabad    Telengana\",\n",
    "                   \"80, Bangalore    Karnataka\"], columns=['row'])\n",
    "print(df)\n",
    "# expand=True表示以分割符把字符串分成两列\n",
    "df_out = df.row.str.split(',|\\t', expand=True)\n",
    "# 获取新的列\n",
    "new_header = df_out.iloc[0]\n",
    "# 重新赋值\n",
    "df_out = df_out[1:]\n",
    "df_out.columns = new_header\n",
    "print(df_out)"
   ]
  },
  {
   "cell_type": "markdown",
   "metadata": {},
   "source": [
    "37.如何构建多级索引的dataframe"
   ]
  },
  {
   "cell_type": "code",
   "execution_count": null,
   "metadata": {},
   "outputs": [],
   "source": [
    "# 如何构建多级索引的dataframe\n",
    "# 先通过元组方式构建多级索引\n",
    "import numpy as np\n",
    "outside = ['A','A','A','B','B','B']\n",
    "inside =[1,2,3,1,2,3]\n",
    "my_index = list(zip(outside,inside))\n",
    "# my_index\n",
    "# 转化为pd格式的索引\n",
    "my_index = pd.MultiIndex.from_tuples(my_index)\n",
    "# my_index\n",
    "# 构建多级索引dataframe\n",
    "df = pd.DataFrame(np.random.randn(6,2),index =my_index,columns=['fea1','fea2'])\n",
    "df"
   ]
  },
  {
   "cell_type": "code",
   "execution_count": null,
   "metadata": {},
   "outputs": [],
   "source": [
    "# 获取多索引dataframe的数据：\n",
    "df.loc['A'].iloc[1]\n",
    "df.loc['A'].iloc[1]['fea1']"
   ]
  },
  {
   "cell_type": "code",
   "execution_count": null,
   "metadata": {},
   "outputs": [],
   "source": []
  }
 ],
 "metadata": {
  "kernelspec": {
   "display_name": "Python 3",
   "language": "python",
   "name": "python3"
  },
  "language_info": {
   "codemirror_mode": {
    "name": "ipython",
    "version": 3
   },
   "file_extension": ".py",
   "mimetype": "text/x-python",
   "name": "python",
   "nbconvert_exporter": "python",
   "pygments_lexer": "ipython3",
   "version": "3.7.1"
  },
  "toc": {
   "base_numbering": 1,
   "nav_menu": {},
   "number_sections": true,
   "sideBar": true,
   "skip_h1_title": false,
   "title_cell": "Table of Contents",
   "title_sidebar": "Contents",
   "toc_cell": false,
   "toc_position": {},
   "toc_section_display": true,
   "toc_window_display": false
  },
  "varInspector": {
   "cols": {
    "lenName": 16,
    "lenType": 16,
    "lenVar": 40
   },
   "kernels_config": {
    "python": {
     "delete_cmd_postfix": "",
     "delete_cmd_prefix": "del ",
     "library": "var_list.py",
     "varRefreshCmd": "print(var_dic_list())"
    },
    "r": {
     "delete_cmd_postfix": ") ",
     "delete_cmd_prefix": "rm(",
     "library": "var_list.r",
     "varRefreshCmd": "cat(var_dic_list()) "
    }
   },
   "types_to_exclude": [
    "module",
    "function",
    "builtin_function_or_method",
    "instance",
    "_Feature"
   ],
   "window_display": false
  }
 },
 "nbformat": 4,
 "nbformat_minor": 2
}
