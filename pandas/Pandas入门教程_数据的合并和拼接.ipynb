{
 "cells": [
  {
   "cell_type": "markdown",
   "metadata": {},
   "source": [
    "Merge方法"
   ]
  },
  {
   "cell_type": "markdown",
   "metadata": {},
   "source": [
    "1. 内连接"
   ]
  },
  {
   "cell_type": "code",
   "execution_count": null,
   "metadata": {},
   "outputs": [],
   "source": [
    "import pandas as pd\n",
    "import numpy as np"
   ]
  },
  {
   "cell_type": "code",
   "execution_count": null,
   "metadata": {},
   "outputs": [],
   "source": [
    "# 单列的内连接\n",
    "# 定义df1\n",
    "df1 = pd.DataFrame({'alpha': ['A', 'B', 'B', 'C', 'D', 'E'], 'feature1': [1, 1, 2, 3, 3, 1],\n",
    "\n",
    "                    'feature2': ['low', 'medium', 'medium', 'high', 'low', 'high']})\n",
    "\n",
    "# 定义df2\n",
    "df2 = pd.DataFrame({'alpha': ['A', 'A', 'B', 'F'], 'pazham': ['apple', 'orange', 'pine', 'pear'],\n",
    "\n",
    "                    'kilo': ['high', 'low', 'high', 'medium'], 'price': np.array([5, 6, 5, 7])})\n",
    "\n",
    "# print(df1)\n",
    "# print(df2)\n",
    "# 基于共同列alpha的内连接\n",
    "df3 = pd.merge(df1, df2, how='inner', on='alpha')\n",
    "df3"
   ]
  },
  {
   "cell_type": "markdown",
   "metadata": {},
   "source": [
    "2. 外连接"
   ]
  },
  {
   "cell_type": "code",
   "execution_count": null,
   "metadata": {},
   "outputs": [],
   "source": [
    "# 单列的外连接\n",
    "# 定义df1\n",
    "df1 = pd.DataFrame({'alpha': ['A', 'B', 'B', 'C', 'D', 'E'], 'feature1': [1, 1, 2, 3, 3, 1],\n",
    "\n",
    "                    'feature2': ['low', 'medium', 'medium', 'high', 'low', 'high']})\n",
    "\n",
    "# 定义df2\n",
    "df2 = pd.DataFrame({'alpha': ['A', 'A', 'B', 'F'], 'pazham': ['apple', 'orange', 'pine', 'pear'],\n",
    "                    'kilo': ['high', 'low', 'high', 'medium'], 'price': np.array([5, 6, 5, 7])})\n",
    "# 基于共同列alpha的内连接\n",
    "df4 = pd.merge(df1, df2, how='outer', on='alpha')\n",
    "df4"
   ]
  },
  {
   "cell_type": "markdown",
   "metadata": {},
   "source": [
    "3. 左连接"
   ]
  },
  {
   "cell_type": "code",
   "execution_count": null,
   "metadata": {},
   "outputs": [],
   "source": [
    "# 单列的左连接\n",
    "# 定义df1\n",
    "df1 = pd.DataFrame({'alpha':['A','B','B','C','D','E'],'feature1':[1,1,2,3,3,1],\n",
    "\n",
    "    'feature2':['low','medium','medium','high','low','high']})\n",
    "\n",
    "# 定义df2\n",
    "df2 = pd.DataFrame({'alpha':['A','A','B','F'],'pazham':['apple','orange','pine','pear'],\n",
    "                        'kilo':['high','low','high','medium'],'price':np.array([5,6,5,7])})\n",
    "# 基于共同列alpha的左连接\n",
    "df5 = pd.merge(df1,df2,how='left',on='alpha')\n",
    "df5"
   ]
  },
  {
   "cell_type": "markdown",
   "metadata": {},
   "source": [
    "4. 右连接"
   ]
  },
  {
   "cell_type": "code",
   "execution_count": null,
   "metadata": {},
   "outputs": [],
   "source": [
    "# 单列的右连接\n",
    "# 定义df1\n",
    "df1 = pd.DataFrame({'alpha': ['A', 'B', 'B', 'C', 'D', 'E'], 'feature1': [1, 1, 2, 3, 3, 1],\n",
    "                    'feature2': ['low', 'medium', 'medium', 'high', 'low', 'high']})\n",
    "# 定义df2\n",
    "df2 = pd.DataFrame({'alpha': ['A', 'A', 'B', 'F'], 'pazham': ['apple', 'orange', 'pine', 'pear'],\n",
    "                    'kilo': ['high', 'low', 'high', 'medium'], 'price': np.array([5, 6, 5, 7])})\n",
    "# 基于共同列alpha的右连接\n",
    "df6 = pd.merge(df1, df2, how='right', on='alpha')\n",
    "df6"
   ]
  },
  {
   "cell_type": "markdown",
   "metadata": {},
   "source": [
    "5. 基于多列的连接算法"
   ]
  },
  {
   "cell_type": "code",
   "execution_count": null,
   "metadata": {},
   "outputs": [],
   "source": [
    "# 多列的内连接\n",
    "# 定义df1\n",
    "df1 = pd.DataFrame({'alpha': ['A', 'B', 'B', 'C', 'D', 'E'], 'beta': ['a', 'a', 'b', 'c', 'c', 'e'],\n",
    "                    'feature1': [1, 1, 2, 3, 3, 1], 'feature2': ['low', 'medium', 'medium', 'high', 'low', 'high']})\n",
    "# 定义df2\n",
    "df2 = pd.DataFrame({'alpha': ['A', 'A', 'B', 'F'], 'beta': ['d', 'd', 'b', 'f'], 'pazham': ['apple', 'orange', 'pine', 'pear'],\n",
    "                    'kilo': ['high', 'low', 'high', 'medium'], 'price': np.array([5, 6, 5, 7])})\n",
    "# 基于共同列alpha和beta的内连接\n",
    "df7 = pd.merge(df1, df2, on=['alpha', 'beta'], how='inner')\n",
    "df7"
   ]
  },
  {
   "cell_type": "markdown",
   "metadata": {},
   "source": [
    "6. 基于index的连接方法"
   ]
  },
  {
   "cell_type": "code",
   "execution_count": null,
   "metadata": {},
   "outputs": [],
   "source": [
    "# 基于column和index的右连接\n",
    "# 定义df1\n",
    "df1 = pd.DataFrame({'alpha': ['A', 'B', 'B', 'C', 'D', 'E'], 'beta': ['a', 'a', 'b', 'c', 'c', 'e'],\n",
    "                    'feature1': [1, 1, 2, 3, 3, 1], 'feature2': ['low', 'medium', 'medium', 'high', 'low', 'high']})\n",
    "# 定义df2\n",
    "df2 = pd.DataFrame({'alpha': ['A', 'A', 'B', 'F'], 'pazham': ['apple', 'orange', 'pine', 'pear'],\n",
    "                    'kilo': ['high', 'low', 'high', 'medium'], 'price': np.array([5, 6, 5, 7])}, index=['d', 'd', 'b', 'f'])\n",
    "# 基于df1的beta列和df2的index连接\n",
    "df9 = pd.merge(df1, df2, how='inner', left_on='beta', right_index=True)\n",
    "df9"
   ]
  },
  {
   "cell_type": "markdown",
   "metadata": {},
   "source": [
    "join方法"
   ]
  },
  {
   "cell_type": "markdown",
   "metadata": {},
   "source": [
    "1. index与index的连接"
   ]
  },
  {
   "cell_type": "code",
   "execution_count": null,
   "metadata": {},
   "outputs": [],
   "source": [
    "caller = pd.DataFrame({'key': ['K0', 'K1', 'K2', 'K3', 'K4', 'K5'], 'A': [\n",
    "                      'A0', 'A1', 'A2', 'A3', 'A4', 'A5']})\n",
    "other = pd.DataFrame({'key': ['K0', 'K1', 'K2'], 'B': ['B0', 'B1', 'B2']})\n",
    "# lsuffix和rsuffix设置连接的后缀名\n",
    "caller.join(other, lsuffix='_caller', rsuffix='_other', how='inner')"
   ]
  },
  {
   "cell_type": "markdown",
   "metadata": {},
   "source": [
    "2. 基于列进行连接"
   ]
  },
  {
   "cell_type": "code",
   "execution_count": null,
   "metadata": {},
   "outputs": [],
   "source": [
    "caller = pd.DataFrame({'key': ['K0', 'K1', 'K2', 'K3', 'K4', 'K5'], 'A': [\n",
    "                      'A0', 'A1', 'A2', 'A3', 'A4', 'A5']})\n",
    "other = pd.DataFrame({'key': ['K0', 'K1', 'K2'], 'B': ['B0', 'B1', 'B2']})\n",
    "# 基于key列进行连接\n",
    "caller.set_index('key').join(other.set_index('key'), how='inner')"
   ]
  },
  {
   "cell_type": "markdown",
   "metadata": {},
   "source": [
    "concat方法"
   ]
  },
  {
   "cell_type": "markdown",
   "metadata": {},
   "source": [
    "1. series类型的拼接方法"
   ]
  },
  {
   "cell_type": "code",
   "execution_count": null,
   "metadata": {},
   "outputs": [],
   "source": [
    "df1 = pd.Series([1.1, 2.2, 3.3], index=['i1', 'i2', 'i3'])\n",
    "df2 = pd.Series([4.4, 5.5, 6.6], index=['i2', 'i3', 'i4'])\n",
    "\n",
    "# 行拼接\n",
    "pd.concat([df1, df2])"
   ]
  },
  {
   "cell_type": "markdown",
   "metadata": {},
   "source": [
    "2. dataframe类型的拼接方法"
   ]
  },
  {
   "cell_type": "code",
   "execution_count": null,
   "metadata": {},
   "outputs": [],
   "source": [
    "df1 = pd.DataFrame({'key': ['K0', 'K1', 'K2', 'K3', 'K4', 'K5'], 'A': [\n",
    "                   'A0', 'A1', 'A2', 'A3', 'A4', 'A5']})\n",
    "df2 = pd.DataFrame({'key': ['K0', 'K1', 'K2'], 'B': ['B0', 'B1', 'B2']})\n",
    "# 行拼接\n",
    "pd.concat([df1, df2])"
   ]
  },
  {
   "cell_type": "code",
   "execution_count": null,
   "metadata": {},
   "outputs": [],
   "source": []
  }
 ],
 "metadata": {
  "kernelspec": {
   "display_name": "Python 3",
   "language": "python",
   "name": "python3"
  },
  "language_info": {
   "codemirror_mode": {
    "name": "ipython",
    "version": 3
   },
   "file_extension": ".py",
   "mimetype": "text/x-python",
   "name": "python",
   "nbconvert_exporter": "python",
   "pygments_lexer": "ipython3",
   "version": "3.6.5"
  }
 },
 "nbformat": 4,
 "nbformat_minor": 2
}
