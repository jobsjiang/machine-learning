{
 "cells": [
  {
   "cell_type": "markdown",
   "metadata": {},
   "source": [
    "https://mp.weixin.qq.com/s/booCXT9niGMIO6ktITW7Wg"
   ]
  },
  {
   "cell_type": "code",
   "execution_count": 3,
   "metadata": {},
   "outputs": [],
   "source": [
    "import numpy as np\n",
    "import pandas as pd\n",
    "import random"
   ]
  },
  {
   "cell_type": "code",
   "execution_count": 4,
   "metadata": {},
   "outputs": [],
   "source": [
    "n = 10\n",
    "df = pd.DataFrame(\n",
    "    {\n",
    "        'col1':np.random.random_sample(n),\n",
    "        'col2':np.random.random_sample(n),\n",
    "        'col3':[[random.randint(0,10) for _ in range(random.randint(3,5))] for _ in range(n)]\n",
    "    }\n",
    ")"
   ]
  },
  {
   "cell_type": "code",
   "execution_count": 5,
   "metadata": {},
   "outputs": [],
   "source": [
    "# DataFrame转HTML\n",
    "df_html = df.to_html()\n",
    "with open('../../dataset/analysis.html','w') as f:\n",
    "    f.write(df_html)"
   ]
  },
  {
   "cell_type": "code",
   "execution_count": 6,
   "metadata": {},
   "outputs": [
    {
     "data": {
      "text/plain": [
       "'\\\\begin{tabular}{lrrl}\\n\\\\toprule\\n{} &      col1 &      col2 &              col3 \\\\\\\\\\n\\\\midrule\\n0 &  0.262228 &  0.442291 &   [0, 7, 9, 8, 0] \\\\\\\\\\n1 &  0.879808 &  0.957679 &  [10, 1, 9, 3, 4] \\\\\\\\\\n2 &  0.522041 &  0.102300 &         [8, 5, 1] \\\\\\\\\\n3 &  0.294297 &  0.588724 &         [0, 7, 8] \\\\\\\\\\n4 &  0.210464 &  0.764451 &        [10, 7, 6] \\\\\\\\\\n5 &  0.756236 &  0.509593 &   [3, 6, 2, 6, 0] \\\\\\\\\\n6 &  0.175187 &  0.727818 &   [7, 5, 1, 0, 0] \\\\\\\\\\n7 &  0.680686 &  0.406378 &      [9, 0, 2, 0] \\\\\\\\\\n8 &  0.279673 &  0.588930 &  [9, 10, 7, 5, 5] \\\\\\\\\\n9 &  0.026371 &  0.298294 &    [9, 10, 10, 9] \\\\\\\\\\n\\\\bottomrule\\n\\\\end{tabular}\\n'"
      ]
     },
     "execution_count": 6,
     "metadata": {},
     "output_type": "execute_result"
    }
   ],
   "source": [
    "# DataFrame转LaTeX\n",
    "df.to_latex()"
   ]
  },
  {
   "cell_type": "code",
   "execution_count": 7,
   "metadata": {},
   "outputs": [
    {
     "name": "stdout",
     "output_type": "stream",
     "text": [
      "|    |      col1 |     col2 | col3             |\n",
      "|---:|----------:|---------:|:-----------------|\n",
      "|  0 | 0.262228  | 0.442291 | [0, 7, 9, 8, 0]  |\n",
      "|  1 | 0.879808  | 0.957679 | [10, 1, 9, 3, 4] |\n",
      "|  2 | 0.522041  | 0.1023   | [8, 5, 1]        |\n",
      "|  3 | 0.294297  | 0.588724 | [0, 7, 8]        |\n",
      "|  4 | 0.210464  | 0.764451 | [10, 7, 6]       |\n",
      "|  5 | 0.756236  | 0.509593 | [3, 6, 2, 6, 0]  |\n",
      "|  6 | 0.175187  | 0.727818 | [7, 5, 1, 0, 0]  |\n",
      "|  7 | 0.680686  | 0.406378 | [9, 0, 2, 0]     |\n",
      "|  8 | 0.279673  | 0.58893  | [9, 10, 7, 5, 5] |\n",
      "|  9 | 0.0263706 | 0.298294 | [9, 10, 10, 9]   |\n"
     ]
    }
   ],
   "source": [
    "# DataFrame转Markdown\n",
    "print(df.to_markdown())"
   ]
  },
  {
   "cell_type": "code",
   "execution_count": 8,
   "metadata": {},
   "outputs": [],
   "source": [
    "# DataFrame转Excel\n",
    "df.to_excel('../../dataset/analysis.xlsx')"
   ]
  },
  {
   "cell_type": "code",
   "execution_count": 9,
   "metadata": {},
   "outputs": [
    {
     "name": "stdout",
     "output_type": "stream",
     "text": [
      "<bound method DataFrame.to_string of        col1      col2              col3\n",
      "0  0.262228  0.442291   [0, 7, 9, 8, 0]\n",
      "1  0.879808  0.957679  [10, 1, 9, 3, 4]\n",
      "2  0.522041  0.102300         [8, 5, 1]\n",
      "3  0.294297  0.588724         [0, 7, 8]\n",
      "4  0.210464  0.764451        [10, 7, 6]\n",
      "5  0.756236  0.509593   [3, 6, 2, 6, 0]\n",
      "6  0.175187  0.727818   [7, 5, 1, 0, 0]\n",
      "7  0.680686  0.406378      [9, 0, 2, 0]\n",
      "8  0.279673  0.588930  [9, 10, 7, 5, 5]\n",
      "9  0.026371  0.298294    [9, 10, 10, 9]>\n"
     ]
    }
   ],
   "source": [
    "# 转成字符串\n",
    "print(df.to_string)"
   ]
  },
  {
   "cell_type": "code",
   "execution_count": 10,
   "metadata": {},
   "outputs": [
    {
     "name": "stdout",
     "output_type": "stream",
     "text": [
      "DatetimeIndex(['2019-01-01', '2019-01-02', '2019-01-03', '2019-01-04',\n",
      "               '2019-01-05', '2019-01-06', '2019-01-07', '2019-01-08',\n",
      "               '2019-01-09', '2019-01-10', '2019-01-11', '2019-01-12'],\n",
      "              dtype='datetime64[ns]', freq='D')\n"
     ]
    }
   ],
   "source": [
    "# 1.date_range\n",
    "date_from = '2019-01-01'\n",
    "date_to = '2019-01-12'\n",
    "date_range = pd.date_range(date_from, date_to, freq='D')\n",
    "print(date_range)"
   ]
  },
  {
   "cell_type": "code",
   "execution_count": 11,
   "metadata": {},
   "outputs": [],
   "source": [
    "# 2.合并数据"
   ]
  },
  {
   "cell_type": "code",
   "execution_count": 12,
   "metadata": {},
   "outputs": [],
   "source": [
    "# 3.最近合并（nearest merge）功能merge_asof"
   ]
  },
  {
   "cell_type": "code",
   "execution_count": 13,
   "metadata": {},
   "outputs": [],
   "source": [
    "# 4.创建Excel报告"
   ]
  },
  {
   "cell_type": "code",
   "execution_count": 14,
   "metadata": {},
   "outputs": [],
   "source": [
    "# 5.节省磁盘空间"
   ]
  },
  {
   "cell_type": "code",
   "execution_count": null,
   "metadata": {},
   "outputs": [],
   "source": []
  }
 ],
 "metadata": {
  "kernelspec": {
   "display_name": "Python [conda env:root] *",
   "language": "python",
   "name": "conda-root-py"
  },
  "language_info": {
   "codemirror_mode": {
    "name": "ipython",
    "version": 3
   },
   "file_extension": ".py",
   "mimetype": "text/x-python",
   "name": "python",
   "nbconvert_exporter": "python",
   "pygments_lexer": "ipython3",
   "version": "3.6.5"
  }
 },
 "nbformat": 4,
 "nbformat_minor": 4
}
