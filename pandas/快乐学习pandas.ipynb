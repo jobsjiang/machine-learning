{
 "cells": [
  {
   "cell_type": "markdown",
   "metadata": {},
   "source": [
    "https://mp.weixin.qq.com/s?__biz=MzIyNjM2MzQyNg==&mid=2247490409&idx=1&sn=f8b76b3f0d3884d351f4395b18d5481b&chksm=e870ca24df074332391e70e2c5def34129111baa76eba79df6ee90aea50aaa3d82b6bf142789&mpshare=1&scene=1&srcid=&sharer_sharetime=1587385401442&sharer_shareid=8724c7983f20914ec3c0c086bba89335&key=f7d311462f93f24d7413522e223d7981eea9d538434db52aa8e7082ed1aea891d00a48868f3deca53c0d89d8a89a956e641963603061a81283a3702e56c0fdcb43a79c5ed17cb6f734987dd2dee81a86&ascene=1&uin=MjA1MjAyODkxNg%3D%3D&devicetype=Windows+10&version=62090045&lang=zh_CN&exportkey=AQwb0LyKY%2BNqPUoWykeRuGk%3D&pass_ticket=92hCyFAvq8QJSZ4oejdFRaFJabGXuPW9Tj8FPvBk%2Bao4Re6Oqxsl37LM4G5D3brd"
   ]
  },
  {
   "cell_type": "markdown",
   "metadata": {},
   "source": [
    "https://github.com/datawhalechina/joyful-pandas"
   ]
  },
  {
   "cell_type": "code",
   "execution_count": null,
   "metadata": {},
   "outputs": [],
   "source": []
  }
 ],
 "metadata": {
  "kernelspec": {
   "display_name": "Python [conda env:root] *",
   "language": "python",
   "name": "conda-root-py"
  },
  "language_info": {
   "codemirror_mode": {
    "name": "ipython",
    "version": 3
   },
   "file_extension": ".py",
   "mimetype": "text/x-python",
   "name": "python",
   "nbconvert_exporter": "python",
   "pygments_lexer": "ipython3",
   "version": "3.6.5"
  }
 },
 "nbformat": 4,
 "nbformat_minor": 4
}
