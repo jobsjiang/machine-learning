{
 "cells": [
  {
   "cell_type": "markdown",
   "metadata": {},
   "source": [
    "https://mp.weixin.qq.com/s?__biz=MzIwODI2NDkxNQ==&mid=2247490154&idx=3&sn=6e3960a00e4c5f6e908b1e56da3cc421&chksm=970491d6a07318c0d5ac85dca708797bd595a342c816f0242a7f45c626463520a34529dabcb0&scene=126&sessionid=1597114695&key=827f3335bef33e4533c6ab366a5d63fd68a72fc478b4b9955a1ebb02386da21d0fa988ad7b6b21e1ac8535c40f0a132331579e0274b5d5cb715ec7716a664c44abbe4089d5b3b324cc8882ff1d3f7e38&ascene=1&uin=MjA1MjAyODkxNg%3D%3D&devicetype=Windows+10+x64&version=62090529&lang=zh_CN&exportkey=Ad5YU7ApFEdZYWNj7t0sp08%3D&pass_ticket=oL991qQ%2BPwxN01wWri%2BnFsf7WjTdsbC%2B75hYZfxsEq%2Bt6QZQKOpvnN2XEKQ9fuFi"
   ]
  },
  {
   "cell_type": "code",
   "execution_count": null,
   "metadata": {},
   "outputs": [],
   "source": []
  }
 ],
 "metadata": {
  "kernelspec": {
   "display_name": "Python [conda env:root]",
   "language": "python",
   "name": "conda-root-py"
  },
  "language_info": {
   "codemirror_mode": {
    "name": "ipython",
    "version": 3
   },
   "file_extension": ".py",
   "mimetype": "text/x-python",
   "name": "python",
   "nbconvert_exporter": "python",
   "pygments_lexer": "ipython3",
   "version": "3.6.5"
  },
  "toc": {
   "base_numbering": 1,
   "nav_menu": {},
   "number_sections": true,
   "sideBar": true,
   "skip_h1_title": false,
   "title_cell": "Table of Contents",
   "title_sidebar": "Contents",
   "toc_cell": false,
   "toc_position": {},
   "toc_section_display": true,
   "toc_window_display": false
  }
 },
 "nbformat": 4,
 "nbformat_minor": 2
}
