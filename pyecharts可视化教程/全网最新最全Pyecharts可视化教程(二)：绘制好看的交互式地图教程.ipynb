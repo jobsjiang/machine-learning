{
 "cells": [
  {
   "cell_type": "markdown",
   "metadata": {},
   "source": [
    "https://mp.weixin.qq.com/s?__biz=MzIwODI2NDkxNQ==&mid=2247489985&idx=2&sn=aa1bd419e67bbfd315d5b1cb726fc4ce&chksm=9704927da0731b6b18446e0940cb7f54d8372493ef35cff6194a4b2466ba9a3d794c5b8b54fe&scene=126&sessionid=1597038471&key=827f3335bef33e459223a33453175d1adcd1db68f8430c4acb81606be2e2725b1bd8a08e4c1304f5e8a85f33afb7beab7653eedf28590dbc03dcfe549508799e3f70d54ffce7a86ee272c978c43855bf&ascene=1&uin=MjA1MjAyODkxNg%3D%3D&devicetype=Windows+10+x64&version=62090529&lang=zh_CN&exportkey=Ab1Zgy1s3TXwbDinUjOMXq4%3D&pass_ticket=oL991qQ%2BPwxN01wWri%2BnFsf7WjTdsbC%2B75hYZfxsEq%2Bt6QZQKOpvnN2XEKQ9fuFi"
   ]
  },
  {
   "cell_type": "code",
   "execution_count": null,
   "metadata": {},
   "outputs": [],
   "source": []
  }
 ],
 "metadata": {
  "kernelspec": {
   "display_name": "Python [conda env:root]",
   "language": "python",
   "name": "conda-root-py"
  },
  "language_info": {
   "codemirror_mode": {
    "name": "ipython",
    "version": 3
   },
   "file_extension": ".py",
   "mimetype": "text/x-python",
   "name": "python",
   "nbconvert_exporter": "python",
   "pygments_lexer": "ipython3",
   "version": "3.6.5"
  },
  "toc": {
   "base_numbering": 1,
   "nav_menu": {},
   "number_sections": true,
   "sideBar": true,
   "skip_h1_title": false,
   "title_cell": "Table of Contents",
   "title_sidebar": "Contents",
   "toc_cell": false,
   "toc_position": {},
   "toc_section_display": true,
   "toc_window_display": false
  }
 },
 "nbformat": 4,
 "nbformat_minor": 2
}
