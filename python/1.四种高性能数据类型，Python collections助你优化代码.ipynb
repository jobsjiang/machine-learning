{
 "cells": [
  {
   "cell_type": "markdown",
   "metadata": {},
   "source": [
    "https://mp.weixin.qq.com/s/O9zYbQLbhTLap_fWu9vDBg"
   ]
  },
  {
   "cell_type": "code",
   "execution_count": 1,
   "metadata": {},
   "outputs": [],
   "source": [
    "from collections import Counter"
   ]
  },
  {
   "cell_type": "code",
   "execution_count": 2,
   "metadata": {},
   "outputs": [
    {
     "name": "stdout",
     "output_type": "stream",
     "text": [
      "Counter({1: 7, 2: 5, 3: 3})\n"
     ]
    }
   ],
   "source": [
    "lst = [1, 2, 3, 3, 2, 1, 1, 1, 2, 2, 3, 1, 2, 1, 1]\n",
    "counter = Counter(lst)\n",
    "print(counter)"
   ]
  },
  {
   "cell_type": "code",
   "execution_count": 3,
   "metadata": {},
   "outputs": [
    {
     "name": "stdout",
     "output_type": "stream",
     "text": [
      "7\n"
     ]
    }
   ],
   "source": [
    "print(counter[1])"
   ]
  },
  {
   "cell_type": "code",
   "execution_count": 4,
   "metadata": {},
   "outputs": [
    {
     "name": "stdout",
     "output_type": "stream",
     "text": [
      "[(1, 7), (2, 5)]\n"
     ]
    }
   ],
   "source": [
    "# most_common函数 \n",
    "print(counter.most_common(2))"
   ]
  },
  {
   "cell_type": "code",
   "execution_count": 5,
   "metadata": {},
   "outputs": [
    {
     "name": "stdout",
     "output_type": "stream",
     "text": [
      "defaultdict(<class 'int'>, {'Bob': 1, 'Katie': 2, 'Sara': 0})\n"
     ]
    }
   ],
   "source": [
    "# defaultdict\n",
    "from collections import defaultdict\n",
    "names_dict = defaultdict(int)\n",
    "names_dict[\"Bob\"] = 1\n",
    "names_dict[\"Katie\"] = 2\n",
    "sara_number = names_dict[\"Sara\"]\n",
    "print(names_dict)"
   ]
  },
  {
   "cell_type": "code",
   "execution_count": 6,
   "metadata": {},
   "outputs": [
    {
     "name": "stdout",
     "output_type": "stream",
     "text": [
      "defaultdict(<class 'list'>, {'Bob': 1, 'Katie': 2, 'Sara': []})\n"
     ]
    }
   ],
   "source": [
    "# 改用list来初始化defaultdict\n",
    "names_dict = defaultdict(list)\n",
    "names_dict[\"Bob\"] = 1\n",
    "names_dict[\"Katie\"] = 2\n",
    "sara_number = names_dict[\"Sara\"]\n",
    "print(names_dict)"
   ]
  },
  {
   "cell_type": "code",
   "execution_count": 7,
   "metadata": {},
   "outputs": [
    {
     "name": "stdout",
     "output_type": "stream",
     "text": [
      "deque([1, 2, 3, 4, 5, 6, 7, 8, 9, 10], maxlen=10)\n"
     ]
    }
   ],
   "source": [
    "# deque\n",
    "from collections import deque\n",
    "my_queue = deque(maxlen=10)\n",
    "for i in range(10):\n",
    "    my_queue.append(i + 1)\n",
    "print(my_queue)"
   ]
  },
  {
   "cell_type": "code",
   "execution_count": 8,
   "metadata": {},
   "outputs": [
    {
     "name": "stdout",
     "output_type": "stream",
     "text": [
      "deque([6, 7, 8, 9, 10, 11, 12, 13, 14, 15], maxlen=10)\n"
     ]
    }
   ],
   "source": [
    "# 继续向里添加数字\n",
    "for i in range(10,15):\n",
    "    my_queue.append(i + 1)\n",
    "print(my_queue)"
   ]
  },
  {
   "cell_type": "code",
   "execution_count": 9,
   "metadata": {},
   "outputs": [
    {
     "name": "stdout",
     "output_type": "stream",
     "text": [
      "Person(name='Mike', age=30, job='Data Scientist')\n",
      "Person(name='Kate', age=28, job='Project Manager')\n"
     ]
    }
   ],
   "source": [
    "# namedtuple 可以返回一个tuple，该tuple中的每个位置都有固定名称\n",
    "from collections import namedtuple\n",
    "Person = namedtuple('Person', 'name age job')\n",
    "Mike = Person(name='Mike', age=30, job='Data Scientist')\n",
    "Kate = Person(name=\"Kate\", age=28, job='Project Manager')\n",
    "print(Mike)\n",
    "print(Kate)"
   ]
  },
  {
   "cell_type": "code",
   "execution_count": null,
   "metadata": {},
   "outputs": [],
   "source": []
  }
 ],
 "metadata": {
  "kernelspec": {
   "display_name": "Python [conda env:root] *",
   "language": "python",
   "name": "conda-root-py"
  },
  "language_info": {
   "codemirror_mode": {
    "name": "ipython",
    "version": 3
   },
   "file_extension": ".py",
   "mimetype": "text/x-python",
   "name": "python",
   "nbconvert_exporter": "python",
   "pygments_lexer": "ipython3",
   "version": "3.6.5"
  }
 },
 "nbformat": 4,
 "nbformat_minor": 2
}
