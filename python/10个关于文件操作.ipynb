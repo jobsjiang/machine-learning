{
 "cells": [
  {
   "cell_type": "markdown",
   "metadata": {},
   "source": [
    "https://mp.weixin.qq.com/s/BV30o5fdc7p9VhONI8QPBw"
   ]
  },
  {
   "cell_type": "code",
   "execution_count": 1,
   "metadata": {},
   "outputs": [
    {
     "name": "stdout",
     "output_type": "stream",
     "text": [
      "./data/py/test .py\n"
     ]
    }
   ],
   "source": [
    "# 1.优雅的获取文件后缀名\n",
    "import os \n",
    "file_ext = os.path.splitext('./data/py/test.py')\n",
    "front,ext = file_ext\n",
    "print(front,ext)"
   ]
  },
  {
   "cell_type": "code",
   "execution_count": 2,
   "metadata": {},
   "outputs": [],
   "source": [
    "# 2.批量修改文件后缀\n",
    "import argparse\n",
    "# 定义脚本参数"
   ]
  },
  {
   "cell_type": "code",
   "execution_count": 3,
   "metadata": {},
   "outputs": [],
   "source": [
    "def get_parser():\n",
    "    parser = argparse.ArgumentParser(description='工作目录中文件后缀名修改')\n",
    "    parser.add_argument('work_dir',metavar='WORK_DIR',type=str,nargs=1,help='修改后缀名的文件目录')\n",
    "    parser.add_argument('old_ext',metavar='OLD_EXT',type=str,nargs=1,help='原来的后缀')\n",
    "    parser.add_argument('new_ext',metavar='NEW_EXT',type=str,nargs=1,help='新的后缀')\n",
    "    return parser"
   ]
  },
  {
   "cell_type": "code",
   "execution_count": 4,
   "metadata": {},
   "outputs": [],
   "source": [
    "# 后缀名批量修改\n",
    "def batch_rename(work_dir,old_ext,new_ext):\n",
    "    \"\"\"\n",
    "    传递当前目录，原来后缀名，新的后缀名后，批量重命名后缀\n",
    "    \"\"\"\n",
    "    for filename in os.listdir(work_dir):\n",
    "        # 获取得到文件后缀\n",
    "        split_file = os.path.splitext(filename)\n",
    "        file_ext = split_file[1]\n",
    "        # 定位后缀名为old_ext的文件\n",
    "        if old_ext == file_ext:\n",
    "            # 修改后文件的完整名称\n",
    "            newfile = split_file[0] + new_ext\n",
    "            # 实现重命名操作\n",
    "            os.rename(\n",
    "                os.path.join(work_dir,filename),\n",
    "                os.path.join(work_dir,newfile)\n",
    "            )\n",
    "    print('完成重命名')\n",
    "    print(os.listdir(work_dir))"
   ]
  },
  {
   "cell_type": "code",
   "execution_count": 5,
   "metadata": {},
   "outputs": [],
   "source": [
    "# 实现main\n",
    "def main():\n",
    "    \"\"\"\n",
    "    main函数\n",
    "    \"\"\"\n",
    "    # 命令行参数\n",
    "    parser = get_parser()\n",
    "    args = vars(parser.parser_args())\n",
    "    # 从命令行参数中依次解析出参数\n",
    "    work_dir = args['work_dir'][0]\n",
    "    old_ext = args['old_ext'][0]\n",
    "    if old_ext[0] != '.':\n",
    "        old_ext = '.' + old_ext\n",
    "    new_ext = args['new_ext'][0]\n",
    "    if new_ext[0] != '.':\n",
    "        new_ext = '.' + new_ext\n",
    "\n",
    "    batch_rename(work_dir, old_ext, new_ext)"
   ]
  },
  {
   "cell_type": "code",
   "execution_count": 6,
   "metadata": {},
   "outputs": [
    {
     "name": "stdout",
     "output_type": "stream",
     "text": [
      "./data/py test.py\n"
     ]
    }
   ],
   "source": [
    "# 3.从路径中提取文件\n",
    "file_ext = os.path.split('./data/py/test.py')\n",
    "ipath,ifile = file_ext\n",
    "print(ipath,ifile)"
   ]
  },
  {
   "cell_type": "code",
   "execution_count": 7,
   "metadata": {},
   "outputs": [
    {
     "name": "stdout",
     "output_type": "stream",
     "text": [
      ".ipynb_checkpoints\n",
      "[]\n"
     ]
    }
   ],
   "source": [
    "# 4.查找指定后缀名的文件\n",
    "def find_file(work_dir,extension='jpg'):\n",
    "    lst = []\n",
    "    for filename in os.listdir(work_dir):\n",
    "        print(filename)\n",
    "        splits = os.path.splitext(filename)\n",
    "        # 获取后缀名\n",
    "        ext = splits[1]\n",
    "        if ext == '.'+extension:\n",
    "            lst.append(filename)\n",
    "        return lst\n",
    "r = find_file('.','md')\n",
    "print(r)"
   ]
  },
  {
   "cell_type": "code",
   "execution_count": null,
   "metadata": {},
   "outputs": [],
   "source": [
    "# 5.批量转换xls文件为xlsx\n",
    "import win32com.client as win32\n",
    "import os.path\n",
    "import os\n",
    "\n",
    "\n",
    "def xls2xlsx():\n",
    "    rootdir = r\"C:\\Users\\CQ375\\Desktop\\temp1\"  # 需要转换的xls文件存放处\n",
    "    rootdir1 = r\"C:\\Users\\CQ375\\Desktop\\ex\"  # 转换好的xlsx文件存放处\n",
    "    files = os.listdir(rootdir)  # 列出xls文件夹下的所有文件\n",
    "    num = len(files)  # 列出所有文件的个数\n",
    "    for i in range(num):  # 按文件个数执行次数\n",
    "        # 分离文件名与扩展名，返回(f_name, f_extension)元组\n",
    "        kname = os.path.splitext(files[i])[1]\n",
    "        if kname == '.xls':  # 判定扩展名是否为xls,屏蔽其它文件\n",
    "            fname = rootdir + '\\\\' + files[i]  # 合成需要转换的路径与文件名\n",
    "            fname1 = rootdir1 + '\\\\' + files[i]  # 合成准备存放转换好的路径与文件名\n",
    "            excel = win32.gencache.EnsureDispatch(\n",
    "                'Excel.Application')  # 调用win32模块\n",
    "            wb = excel.Workbooks.Open(fname)  # 打开需要转换的文件\n",
    "            wb.SaveAs(fname1+\"x\", FileFormat=51)  # 文件另存为xlsx扩展名的文件\n",
    "            wb.Close()\n",
    "            excel.Application.Quit()\n",
    "\n",
    "\n",
    "if __name__ == '__main__':\n",
    "    xls2xlsx()"
   ]
  },
  {
   "cell_type": "code",
   "execution_count": null,
   "metadata": {},
   "outputs": [],
   "source": [
    "# 6.目录下所有文件的修改时间\n",
    "import os\n",
    "import datetime\n",
    "print(f\"当前时间：{datetime.datetime.now().strftime('%Y-%m-%d %H:%M:%S')}\")\n",
    "for root, dirs, files in os.walk(r\"D:\\works\"):  # 循环D:\\works目录和子目录\n",
    "    for file in files:\n",
    "        absPathFile = os.path.join(root, file)\n",
    "        modefiedTime = datetime.datetime.fromtimestamp(\n",
    "            os.path.getmtime(absPathFile))\n",
    "        now = datetime.datetime.now()\n",
    "        diffTime = now-modefiedTime\n",
    "        if diffTime.days < 20:  # 条件筛选超过指定时间的文件\n",
    "            print(f\"{absPathFile:<27s}修改时间[{modefiedTime.strftime('%Y-%m-%d %H:%M:%S')}]\\\n",
    "距今[{diffTime.days:3d}天{diffTime.seconds//3600:2d}时{diffTime.seconds%3600//60:2d}]\")  # 打印相关信息"
   ]
  },
  {
   "cell_type": "code",
   "execution_count": null,
   "metadata": {},
   "outputs": [],
   "source": [
    "# 7.批量压缩文件夹和文件\n",
    "import zipfile  # 导入zipfile,这个是用来做压缩和解压的Python模块；\n",
    "import os\n",
    "import time\n",
    "\n",
    "\n",
    "def batch_zip(start_dir):\n",
    "    start_dir = start_dir  # 要压缩的文件夹路径\n",
    "    file_news = start_dir + '.zip'  # 压缩后文件夹的名字\n",
    "\n",
    "    z = zipfile.ZipFile(file_news, 'w', zipfile.ZIP_DEFLATED)\n",
    "    for dir_path, dir_names, file_names in os.walk(start_dir):\n",
    "        # 这一句很重要，不replace的话，就从根目录开始复制\n",
    "        f_path = dir_path.replace(start_dir, '')\n",
    "        f_path = f_path and f_path + os.sep  # 实现当前文件夹以及包含的所有文件的压缩\n",
    "        for filename in file_names:\n",
    "            z.write(os.path.join(dir_path, filename), f_path + filename)\n",
    "    z.close()\n",
    "    return file_news\n",
    "\n",
    "\n",
    "batch_zip('./data/ziptest')"
   ]
  },
  {
   "cell_type": "code",
   "execution_count": null,
   "metadata": {},
   "outputs": [],
   "source": [
    "# 8.文件读操作\n",
    "import os\n",
    "# 创建文件夹\n",
    "\n",
    "\n",
    "def mkdir(path):\n",
    "    isexists = os.path.exists(path)\n",
    "    if not isexists:\n",
    "        os.mkdir(path)\n",
    "# 读取文件信息\n",
    "\n",
    "\n",
    "def openfile(filename):\n",
    "    f = open(filename)\n",
    "    fllist = f.read()\n",
    "    f.close()\n",
    "    return fllist  # 返回读取内容"
   ]
  },
  {
   "cell_type": "code",
   "execution_count": null,
   "metadata": {},
   "outputs": [],
   "source": [
    "# 9.文件写操作\n",
    "# 写入文件信息\n",
    "# example1\n",
    "# w写入，如果文件存在，则清空内容后写入，不存在则创建\n",
    "f = open(r\"./data/test.txt\", \"w\", encoding=\"utf-8\")\n",
    "print(f.write(\"测试文件写入\"))\n",
    "f.close\n",
    "\n",
    "# example2\n",
    "# a写入，文件存在，则在文件内容后追加写入，不存在则创建\n",
    "f = open(r\"./data/test.txt\", \"a\", encoding=\"utf-8\")\n",
    "print(f.write(\"测试文件写入\"))\n",
    "f.close\n",
    "\n",
    "# example3\n",
    "# with关键字系统会自动关闭文件和处理异常\n",
    "with open(r\"./data/test.txt\", \"w\") as f:\n",
    "    f.write(\"hello world!\")"
   ]
  },
  {
   "cell_type": "code",
   "execution_count": null,
   "metadata": {},
   "outputs": [],
   "source": [
    "# 10.分词并保存文件\n",
    "mystr = \"\"\"Python 语言参考 描述了 Python 语言的具体语法和语义，\n",
    "这份库参考则介绍了与 Python 一同发行的标准库。\n",
    "它还描述了通常包含在 Python 发行版中的一些可选组件。\n",
    "Python 标准库非常庞大，所提供的组件涉及范围十分广泛，\n",
    "正如以下内容目录所显示的。这个库包含了多个内置模块 (以 C 编写)，\n",
    "Python 程序员必须依靠它们来实现系统级功能，\n",
    "例如文件 I/O，此外还有大量以 Python 编写的模块，\n",
    "提供了日常编程中许多问题的标准解决方案。\n",
    "其中有些模块经过专门设计，\n",
    "通过将特定平台功能抽象化为平台中立的 API 来鼓励和加强 Python 程序的可移植性。\n",
    "Windows 版本的 Python 安装程序通常包含整个标准库，\n",
    "往往还包含许多额外组件。对于类 Unix 操作系统，\n",
    "Python 通常会分成一系列的软件包，\n",
    "因此可能需要使用操作系统所提供的包管理工具来获取部分或全部可选组件。\"\"\"\n",
    "from pkuseg import pkuseg\n",
    "from collections import Counter\n",
    "seg = pkuseg()\n",
    "words = seg.cut(mystr)\n",
    "frequency_sort = Counter(words).most_common()\n",
    "with open('../../dataset/cut_words.csv','w') as f:\n",
    "    for line in frequency_sort:\n",
    "        f.wirte(str(line[0])+','+str(line[1])+'\\n')\n",
    "print('writing done')"
   ]
  }
 ],
 "metadata": {
  "kernelspec": {
   "display_name": "Python [conda env:root] *",
   "language": "python",
   "name": "conda-root-py"
  },
  "language_info": {
   "codemirror_mode": {
    "name": "ipython",
    "version": 3
   },
   "file_extension": ".py",
   "mimetype": "text/x-python",
   "name": "python",
   "nbconvert_exporter": "python",
   "pygments_lexer": "ipython3",
   "version": "3.6.5"
  },
  "toc": {
   "base_numbering": 1,
   "nav_menu": {},
   "number_sections": true,
   "sideBar": true,
   "skip_h1_title": false,
   "title_cell": "Table of Contents",
   "title_sidebar": "Contents",
   "toc_cell": false,
   "toc_position": {},
   "toc_section_display": true,
   "toc_window_display": false
  }
 },
 "nbformat": 4,
 "nbformat_minor": 2
}
