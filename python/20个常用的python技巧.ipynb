{
 "cells": [
  {
   "cell_type": "code",
   "execution_count": 1,
   "metadata": {},
   "outputs": [
    {
     "name": "stdout",
     "output_type": "stream",
     "text": [
      "EDCBA\n"
     ]
    }
   ],
   "source": [
    "# 1.字符串反转\n",
    "my_string = \"ABCDE\"\n",
    "reversed_string = my_string[::-1]\n",
    "print(reversed_string)"
   ]
  },
  {
   "cell_type": "code",
   "execution_count": 2,
   "metadata": {},
   "outputs": [
    {
     "name": "stdout",
     "output_type": "stream",
     "text": [
      "My Name Is Chaitanya Baweja\n"
     ]
    }
   ],
   "source": [
    "# 每个单词的第一个字母大写\n",
    "my_string = \"my name is chaitanya baweja\"\n",
    "new_string = my_string.title()\n",
    "print(new_string)"
   ]
  },
  {
   "cell_type": "code",
   "execution_count": 3,
   "metadata": {},
   "outputs": [
    {
     "name": "stdout",
     "output_type": "stream",
     "text": [
      "{'v', 'd', 'c', 'e', 'a'}\n",
      "vdcea\n"
     ]
    }
   ],
   "source": [
    "# 字符串查找唯一元素\n",
    "my_string = \"aavvccccddddeee\"\n",
    "temp_set = set(my_string)\n",
    "print(temp_set)\n",
    "new_string = ''.join(temp_set)\n",
    "print(new_string)"
   ]
  },
  {
   "cell_type": "code",
   "execution_count": 4,
   "metadata": {},
   "outputs": [
    {
     "name": "stdout",
     "output_type": "stream",
     "text": [
      "abcdabcdabcd\n",
      "[1, 2, 3, 1, 2, 3, 1, 2, 3]\n"
     ]
    }
   ],
   "source": [
    "# 重复打印字符串和列表n次\n",
    "n = 3\n",
    "my_string = \"abcd\"\n",
    "my_list = [1,2,3]\n",
    "print(my_string*n)\n",
    "print(my_list*n)"
   ]
  },
  {
   "cell_type": "code",
   "execution_count": 6,
   "metadata": {},
   "outputs": [
    {
     "name": "stdout",
     "output_type": "stream",
     "text": [
      "[2, 4, 6, 8]\n"
     ]
    }
   ],
   "source": [
    "# 列表生成\n",
    "original_list = [1,2,3,4]\n",
    "new_list = [2*x for x in original_list]\n",
    "print(new_list)"
   ]
  },
  {
   "cell_type": "code",
   "execution_count": 7,
   "metadata": {},
   "outputs": [
    {
     "name": "stdout",
     "output_type": "stream",
     "text": [
      "2\n",
      "1\n"
     ]
    }
   ],
   "source": [
    "# 变量变换\n",
    "a = 1\n",
    "b = 2\n",
    "a, b = b, a\n",
    "print(a) # 2\n",
    "print(b) # 1"
   ]
  },
  {
   "cell_type": "code",
   "execution_count": 8,
   "metadata": {},
   "outputs": [
    {
     "name": "stdout",
     "output_type": "stream",
     "text": [
      "My,name,is,Chaitanya,Baweja\n"
     ]
    }
   ],
   "source": [
    "# 字符串拆分为字符串列表\n",
    "list_of_strings = ['My', 'name', 'is', 'Chaitanya', 'Baweja']\n",
    "print(','.join(list_of_strings))"
   ]
  },
  {
   "cell_type": "code",
   "execution_count": 9,
   "metadata": {},
   "outputs": [
    {
     "name": "stdout",
     "output_type": "stream",
     "text": [
      "palindrome\n"
     ]
    }
   ],
   "source": [
    "# 检查字符串是否有回文\n",
    "my_string = \"abcba\"\n",
    "\n",
    "if my_string == my_string[::-1]:\n",
    "    print(\"palindrome\")\n",
    "else:\n",
    "    print(\"not palindrome\")"
   ]
  },
  {
   "cell_type": "code",
   "execution_count": 10,
   "metadata": {},
   "outputs": [
    {
     "name": "stdout",
     "output_type": "stream",
     "text": [
      "Counter({'d': 5, 'b': 3, 'a': 2, 'c': 1})\n",
      "3\n",
      "[('d', 5)]\n"
     ]
    }
   ],
   "source": [
    "# 统计列表中元素的次数\n",
    "from collections import Counter\n",
    "\n",
    "my_list = ['a','a','b','b','b','c','d','d','d','d','d']\n",
    "count = Counter(my_list) # defining a counter object\n",
    "\n",
    "print(count) # Of all elements\n",
    "# Counter({'d': 5, 'b': 3, 'a': 2, 'c': 1})\n",
    "\n",
    "print(count['b']) # of individual element\n",
    "# 3\n",
    "\n",
    "print(count.most_common(1)) # most frequent element\n",
    "# [('d', 5)]"
   ]
  },
  {
   "cell_type": "code",
   "execution_count": 11,
   "metadata": {},
   "outputs": [
    {
     "name": "stdout",
     "output_type": "stream",
     "text": [
      "1 and 2 anagram\n"
     ]
    }
   ],
   "source": [
    "# 判断两个字符串是否为Anagrams\n",
    "from collections import Counter\n",
    "\n",
    "str_1, str_2, str_3 = \"acbde\", \"abced\", \"abcda\"\n",
    "cnt_1, cnt_2, cnt_3  = Counter(str_1), Counter(str_2), Counter(str_3)\n",
    "\n",
    "if cnt_1 == cnt_2:\n",
    "    print('1 and 2 anagram')\n",
    "if cnt_1 == cnt_3:\n",
    "    print('1 and 3 anagram')"
   ]
  },
  {
   "cell_type": "code",
   "execution_count": 12,
   "metadata": {},
   "outputs": [
    {
     "name": "stdout",
     "output_type": "stream",
     "text": [
      "division by zero\n",
      "Run this always\n"
     ]
    }
   ],
   "source": [
    "# 使用try-except-else-block模块\n",
    "a, b = 1,0\n",
    "\n",
    "try:\n",
    "    print(a/b)\n",
    "    # exception raised when b is 0\n",
    "except ZeroDivisionError:\n",
    "    print(\"division by zero\")\n",
    "else:\n",
    "    print(\"no exceptions raised\")\n",
    "finally:\n",
    "    print(\"Run this always\")"
   ]
  },
  {
   "cell_type": "code",
   "execution_count": 13,
   "metadata": {},
   "outputs": [
    {
     "name": "stdout",
     "output_type": "stream",
     "text": [
      "0: a\n",
      "1: b\n",
      "2: c\n",
      "3: d\n",
      "4: e\n"
     ]
    }
   ],
   "source": [
    "#  使用枚举函数得到key/value对\n",
    "my_list = ['a', 'b', 'c', 'd', 'e']\n",
    "\n",
    "for index, value in enumerate(my_list):\n",
    "    print('{0}: {1}'.format(index, value))"
   ]
  },
  {
   "cell_type": "code",
   "execution_count": 14,
   "metadata": {},
   "outputs": [
    {
     "name": "stdout",
     "output_type": "stream",
     "text": [
      "28\n"
     ]
    }
   ],
   "source": [
    "# 检查对象的内存使用情况\n",
    "import sys\n",
    "num = 21\n",
    "print(sys.getsizeof(num))"
   ]
  },
  {
   "cell_type": "code",
   "execution_count": 17,
   "metadata": {},
   "outputs": [
    {
     "name": "stdout",
     "output_type": "stream",
     "text": [
      "{'apple': 9, 'banana': 4, 'orange': 8}\n"
     ]
    }
   ],
   "source": [
    "# 合并字典\n",
    "dict_1 = {'apple': 9, 'banana': 6}\n",
    "dict_2 = {'banana': 4, 'orange': 8}\n",
    "combined_dict = {**dict_1,**dict_2}\n",
    "print(combined_dict)"
   ]
  },
  {
   "cell_type": "code",
   "execution_count": 18,
   "metadata": {},
   "outputs": [
    {
     "name": "stdout",
     "output_type": "stream",
     "text": [
      "8997.440338134766\n"
     ]
    }
   ],
   "source": [
    "# 计算执行一段代码所花费的时间\n",
    "import time\n",
    "\n",
    "start_time = time.time()\n",
    "# Code to check follows\n",
    "for i in range(10**5):\n",
    "    a, b = 1,2\n",
    "    c = a+ b\n",
    "# Code to check ends\n",
    "end_time = time.time()\n",
    "time_taken_in_micro = (end_time- start_time)*(10**6)\n",
    "\n",
    "print(time_taken_in_micro)"
   ]
  },
  {
   "cell_type": "code",
   "execution_count": 20,
   "metadata": {},
   "outputs": [
    {
     "name": "stdout",
     "output_type": "stream",
     "text": [
      "[1, 2, 3, 3]\n",
      "[1, 2, 3, 4, 5, 6, 7, 8, 9, 10]\n"
     ]
    }
   ],
   "source": [
    "# 列表展开\n",
    "from iteration_utilities import deepflatten\n",
    "# if you only have one depth nested_list, use this\n",
    "\n",
    "\n",
    "def flatten(l):\n",
    "    return [item for sublist in l for item in sublist]\n",
    "\n",
    "\n",
    "l = [[1, 2, 3], [3]]\n",
    "print(flatten(l))\n",
    "\n",
    "l = [[1,2,3],[4,[5],[6,7]],[8,[9,[10]]]]\n",
    "\n",
    "print(list(deepflatten(l, depth=3)))"
   ]
  },
  {
   "cell_type": "code",
   "execution_count": 21,
   "metadata": {},
   "outputs": [
    {
     "name": "stdout",
     "output_type": "stream",
     "text": [
      "['d', 'b']\n"
     ]
    }
   ],
   "source": [
    "# 列表采样\n",
    "import random\n",
    "my_list = ['a', 'b', 'c', 'd', 'e']\n",
    "num_samples = 2\n",
    "samples = random.sample(my_list,num_samples)\n",
    "print(samples)"
   ]
  },
  {
   "cell_type": "code",
   "execution_count": 22,
   "metadata": {},
   "outputs": [
    {
     "name": "stdout",
     "output_type": "stream",
     "text": [
      "[1, 2, 3, 4, 5, 6]\n",
      "[1, 2, 3, 4, 5, 6]\n"
     ]
    }
   ],
   "source": [
    "# 数字化\n",
    "num = 123456\n",
    "list_of_digits = list(map(int,str(num)))\n",
    "print(list_of_digits)\n",
    "list_of_digits = [int(x) for x in str(num)]\n",
    "print(list_of_digits)"
   ]
  },
  {
   "cell_type": "code",
   "execution_count": 23,
   "metadata": {},
   "outputs": [
    {
     "name": "stdout",
     "output_type": "stream",
     "text": [
      "All elements are unique\n",
      "List has duplicates\n"
     ]
    }
   ],
   "source": [
    "# 检查列表元素的唯一性\n",
    "def unique(l):\n",
    "    if len(l) == len(set(l)):\n",
    "        print(\"All elements are unique\")\n",
    "    else:\n",
    "        print(\"List has duplicates\")\n",
    "\n",
    "unique([1,2,3,4])\n",
    "# All elements are unique\n",
    "\n",
    "unique([1,1,2,3])\n",
    "# List has duplicates"
   ]
  },
  {
   "cell_type": "code",
   "execution_count": null,
   "metadata": {},
   "outputs": [],
   "source": []
  }
 ],
 "metadata": {
  "kernelspec": {
   "display_name": "Python [conda env:root] *",
   "language": "python",
   "name": "conda-root-py"
  },
  "language_info": {
   "codemirror_mode": {
    "name": "ipython",
    "version": 3
   },
   "file_extension": ".py",
   "mimetype": "text/x-python",
   "name": "python",
   "nbconvert_exporter": "python",
   "pygments_lexer": "ipython3",
   "version": "3.6.5"
  },
  "toc": {
   "base_numbering": 1,
   "nav_menu": {},
   "number_sections": true,
   "sideBar": true,
   "skip_h1_title": false,
   "title_cell": "Table of Contents",
   "title_sidebar": "Contents",
   "toc_cell": false,
   "toc_position": {},
   "toc_section_display": true,
   "toc_window_display": false
  }
 },
 "nbformat": 4,
 "nbformat_minor": 2
}
