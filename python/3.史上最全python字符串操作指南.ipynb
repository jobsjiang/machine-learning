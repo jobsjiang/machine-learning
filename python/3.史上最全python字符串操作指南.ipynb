{
 "cells": [
  {
   "cell_type": "markdown",
   "metadata": {},
   "source": [
    "https://mp.weixin.qq.com/s?__biz=MzIwODI2NDkxNQ==&mid=2247486926&idx=4&sn=0ece0b7ca8b980b6ca2e5995abe1e638&chksm=97048672a0730f6468af90fc9700e90e10210a9045edc1f9e3f371e8a07216ff452b65e4dfa9&scene=0&xtrack=1&key=61861437c792af761f24b43c08f517f4d1e8ae8419dcbcb66cc0be565ed971c722a7e0ec39f82274a810c23de77774f69889ee0f810f0d2b4c41bdc04262d9f0fe2b25d7ae12b1c4cd3b7e08f5620e5d&ascene=1&uin=MjA1MjAyODkxNg%3D%3D&devicetype=Windows+10&version=62070158&lang=zh_CN&exportkey=Aens7DsXPF32tV2XEqGHLyA%3D&pass_ticket=%2FbQZynO%2BMSGdC82SFYn8yPGJNXhtnuuMrj2vzvRWoctgRfX%2FfkE2CK7PjM4Lrnec"
   ]
  },
  {
   "cell_type": "code",
   "execution_count": null,
   "metadata": {},
   "outputs": [],
   "source": []
  }
 ],
 "metadata": {
  "kernelspec": {
   "display_name": "Python [conda env:root] *",
   "language": "python",
   "name": "conda-root-py"
  },
  "language_info": {
   "codemirror_mode": {
    "name": "ipython",
    "version": 3
   },
   "file_extension": ".py",
   "mimetype": "text/x-python",
   "name": "python",
   "nbconvert_exporter": "python",
   "pygments_lexer": "ipython3",
   "version": "3.6.5"
  }
 },
 "nbformat": 4,
 "nbformat_minor": 2
}
