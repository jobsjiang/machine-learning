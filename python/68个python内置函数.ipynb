{
 "cells": [
  {
   "cell_type": "markdown",
   "metadata": {},
   "source": [
    "https://mp.weixin.qq.com/s/h3YF6C_2L52GfdH_riCAvA"
   ]
  },
  {
   "cell_type": "code",
   "execution_count": 1,
   "metadata": {},
   "outputs": [
    {
     "name": "stdout",
     "output_type": "stream",
     "text": [
      "0b1010\n",
      "0xa\n",
      "0o12\n"
     ]
    }
   ],
   "source": [
    "print(bin(10))\n",
    "print(hex(10))\n",
    "print(oct(10))"
   ]
  },
  {
   "cell_type": "code",
   "execution_count": 2,
   "metadata": {},
   "outputs": [
    {
     "name": "stdout",
     "output_type": "stream",
     "text": [
      "2\n",
      "(6, 2)\n",
      "4\n",
      "5\n",
      "1\n",
      "55\n",
      "2\n",
      "15\n"
     ]
    }
   ],
   "source": [
    "print(abs(-2))  # 绝对值:2\n",
    "print(divmod(20,3)) # 求商和余数:(6,2)\n",
    "print(round(4.50))   # 五舍六入:4\n",
    "print(round(4.51))   #5\n",
    "print(pow(10,2,3))  # 如果给了第三个参数. 表示最后取余:1\n",
    "print(sum([1,2,3,4,5,6,7,8,9,10]))  # 求和:55\n",
    "print(min(5,3,9,12,7,2))  #求最小值:2\n",
    "print(max(7,3,15,9,4,13))  #求最大值:15"
   ]
  },
  {
   "cell_type": "code",
   "execution_count": 3,
   "metadata": {},
   "outputs": [
    {
     "name": "stdout",
     "output_type": "stream",
     "text": [
      "[1, 2, 3, 4, 5, 6]\n",
      "(1, 2, 3, 4, 5, 6)\n"
     ]
    }
   ],
   "source": [
    "print(list((1,2,3,4,5,6)))  #[1, 2, 3, 4, 5, 6]\n",
    "print(tuple([1,2,3,4,5,6]))  #(1, 2, 3, 4, 5, 6)"
   ]
  },
  {
   "cell_type": "code",
   "execution_count": 5,
   "metadata": {},
   "outputs": [
    {
     "name": "stdout",
     "output_type": "stream",
     "text": [
      "['啊', '好', '你']\n",
      "[2, 3]\n",
      "[2, 3]\n"
     ]
    }
   ],
   "source": [
    "lst = \"你好啊\"\n",
    "it = reversed(lst)\n",
    "print(list(it))\n",
    "lst = [1, 2, 3, 4, 5, 6, 7]\n",
    "print(lst[1:3:1])  #[2,3]\n",
    "s = slice(1, 3, 1)  #  切片用的\n",
    "print(lst[s])  #[2,3]"
   ]
  },
  {
   "cell_type": "code",
   "execution_count": 6,
   "metadata": {},
   "outputs": [
    {
     "name": "stdout",
     "output_type": "stream",
     "text": [
      "123456\n"
     ]
    }
   ],
   "source": [
    "print(str(123)+'456')  #123456"
   ]
  },
  {
   "cell_type": "code",
   "execution_count": 7,
   "metadata": {},
   "outputs": [
    {
     "name": "stdout",
     "output_type": "stream",
     "text": [
      "    hello world!    \n",
      "hello world!        \n",
      "        hello world!\n",
      "11\n",
      "a\n",
      "11\n",
      "13\n",
      "b\n",
      "B\n",
      "11\n",
      "11\n",
      "1.234568e+08\n",
      "1.23e+08\n",
      "1.23E+08\n",
      "1.234568\n",
      "1.23\n",
      "1.2345678900\n",
      "1234.567890\n"
     ]
    }
   ],
   "source": [
    "s = \"hello world!\"\n",
    "print(format(s, \"^20\"))  #剧中\n",
    "print(format(s, \"<20\"))  #左对齐\n",
    "print(format(s, \">20\"))  #右对齐\n",
    "#     hello world!    \n",
    "# hello world!        \n",
    "#         hello world!\n",
    "print(format(3, 'b' ))    # 二进制:11\n",
    "print(format(97, 'c' ))   # 转换成unicode字符:a\n",
    "print(format(11, 'd' ))   # ⼗进制:11\n",
    "print(format(11, 'o' ))   # 八进制:13 \n",
    "print(format(11, 'x' ))   # 十六进制(⼩写字母):b\n",
    "print(format(11, 'X' ))   # 十六进制(大写字母):B\n",
    "print(format(11, 'n' ))   # 和d⼀样:11\n",
    "print(format(11))         # 和d⼀样:11\n",
    "print(format(123456789, 'e' ))      # 科学计数法. 默认保留6位小数:1.234568e+08\n",
    "print(format(123456789, '0.2e' ))   # 科学计数法. 保留2位小数(小写):1.23e+08\n",
    "print(format(123456789, '0.2E' ))   # 科学计数法. 保留2位小数(大写):1.23E+08\n",
    "print(format(1.23456789, 'f' ))     # 小数点计数法. 保留6位小数:1.234568\n",
    "print(format(1.23456789, '0.2f' ))  # 小数点计数法. 保留2位小数:1.23\n",
    "print(format(1.23456789, '0.10f'))  # 小数点计数法. 保留10位小数:1.2345678900\n",
    "print(format(1.23456789e+3, 'F'))   # 小数点计数法. 很大的时候输出INF:1234.567890"
   ]
  },
  {
   "cell_type": "code",
   "execution_count": 9,
   "metadata": {},
   "outputs": [
    {
     "name": "stdout",
     "output_type": "stream",
     "text": [
      "b'\\xe4\\xbb\\x8a\\xe5\\xa4\\xa9\\xe5\\x90\\x83\\xe9\\xa5\\xad\\xe4\\xba\\x86\\xe5\\x90\\x97'\n"
     ]
    }
   ],
   "source": [
    "bs = bytes(\"今天吃饭了吗\",encoding=\"utf-8\")\n",
    "print(bs)"
   ]
  },
  {
   "cell_type": "code",
   "execution_count": 10,
   "metadata": {},
   "outputs": [
    {
     "name": "stdout",
     "output_type": "stream",
     "text": [
      "97\n",
      "bytearray(b'alex')\n",
      "bytearray(b'Alex')\n"
     ]
    }
   ],
   "source": [
    "ret = bytearray(\"alex\" ,encoding ='utf-8')\n",
    "print(ret[0])  #97\n",
    "print(ret)  #bytearray(b'alex')\n",
    "ret[0] = 65  #把65的位置A赋值给ret[0]\n",
    "print(str(ret))  #bytearray(b'Alex')"
   ]
  },
  {
   "cell_type": "code",
   "execution_count": 12,
   "metadata": {},
   "outputs": [
    {
     "name": "stdout",
     "output_type": "stream",
     "text": [
      "97\n",
      "20013\n",
      "A\n",
      "丟\n",
      "'@'\n"
     ]
    }
   ],
   "source": [
    "print(ord('a'))  # 字母a在编码表中的码位:97\n",
    "print(ord('中'))  # '中'字在编码表中的位置:20013\n",
    "print(chr(65))  # 已知码位,求字符是什么:A\n",
    "print(chr(19999))  #丟\n",
    "\n",
    "# for i in range(65536):  #打印出0到65535的字符\n",
    "#     print(chr(i), end=\" \")\n",
    "\n",
    "print(ascii(\"@\"))  #'@'"
   ]
  },
  {
   "cell_type": "code",
   "execution_count": 13,
   "metadata": {},
   "outputs": [
    {
     "name": "stdout",
     "output_type": "stream",
     "text": [
      "今天\n",
      "吃了3顿\t饭\n",
      "'今天\\n吃了3顿\\t饭'\n"
     ]
    }
   ],
   "source": [
    "s = \"今天\\n吃了%s顿\\t饭\" % 3\n",
    "print(s)#今天# 吃了3顿    饭\n",
    "print(repr(s))   # 原样输出,过滤掉转义字符 \\n \\t \\r 不管百分号%\n",
    "#'今天\\n吃了3顿\\t饭'"
   ]
  },
  {
   "cell_type": "code",
   "execution_count": 14,
   "metadata": {},
   "outputs": [
    {
     "name": "stdout",
     "output_type": "stream",
     "text": [
      "[1, 5, 5, 6, 7, 9, 12, 13, 18]\n",
      "[1, 5, 5, 6, 7, 9, 12, 13, 18]\n",
      "[18, 13, 12, 9, 7, 6, 5, 5, 1]\n"
     ]
    }
   ],
   "source": [
    "lst = [5,7,6,12,1,13,9,18,5]\n",
    "lst.sort()  # sort是list里面的一个方法\n",
    "print(lst)  #[1, 5, 5, 6, 7, 9, 12, 13, 18]\n",
    "\n",
    "ll = sorted(lst) # 内置函数. 返回给你一个新列表  新列表是被排序的\n",
    "print(ll)  #[1, 5, 5, 6, 7, 9, 12, 13, 18]\n",
    "\n",
    "l2 = sorted(lst,reverse=True)  #倒序\n",
    "print(l2)  #[18, 13, 12, 9, 7, 6, 5, 5, 1]"
   ]
  },
  {
   "cell_type": "code",
   "execution_count": 15,
   "metadata": {},
   "outputs": [
    {
     "name": "stdout",
     "output_type": "stream",
     "text": [
      "['one', 'two', 'six', 'four', 'five', 'three']\n"
     ]
    }
   ],
   "source": [
    "#根据字符串长度给列表排序\n",
    "lst = ['one', 'two', 'three', 'four', 'five', 'six']\n",
    "def f(s):\n",
    "    return len(s)\n",
    "l1 = sorted(lst, key=f, )\n",
    "print(l1)  #['one', 'two', 'six', 'four', 'five', 'three']"
   ]
  },
  {
   "cell_type": "code",
   "execution_count": 16,
   "metadata": {},
   "outputs": [
    {
     "name": "stdout",
     "output_type": "stream",
     "text": [
      "1\n",
      "one\n",
      "2\n",
      "two\n",
      "3\n",
      "three\n",
      "4\n",
      "four\n",
      "5\n",
      "five\n"
     ]
    }
   ],
   "source": [
    "lst = ['one','two','three','four','five']\n",
    "for index, el in enumerate(lst,1):    # 把索引和元素一起获取,索引默认从0开始. 可以更改\n",
    "    print(index)\n",
    "    print(el)"
   ]
  },
  {
   "cell_type": "code",
   "execution_count": 17,
   "metadata": {},
   "outputs": [
    {
     "name": "stdout",
     "output_type": "stream",
     "text": [
      "True\n",
      "True\n"
     ]
    }
   ],
   "source": [
    "print(all([1,'hello',True,9]))  #True\n",
    "print(any([0,0,0,False,1,'good']))  #True"
   ]
  },
  {
   "cell_type": "code",
   "execution_count": 18,
   "metadata": {},
   "outputs": [
    {
     "name": "stdout",
     "output_type": "stream",
     "text": [
      "<zip object at 0x00000271FD4E1488>\n",
      "(1, '醉乡民谣', '美国')\n",
      "(2, '驴得水', '中国')\n",
      "(3, '放牛班的春天', '法国')\n",
      "(4, '美丽人生', '意大利')\n",
      "(5, '辩护人', '韩国')\n",
      "(6, '被嫌弃的松子的一生', '日本')\n"
     ]
    }
   ],
   "source": [
    "lst1 = [1, 2, 3, 4, 5, 6]\n",
    "lst2 = ['醉乡民谣', '驴得水', '放牛班的春天', '美丽人生', '辩护人', '被嫌弃的松子的一生']\n",
    "lst3 = ['美国', '中国', '法国', '意大利', '韩国', '日本']\n",
    "print(zip(lst1, lst1, lst3))  #<zip object at 0x00000256CA6C7A88>\n",
    "for el in zip(lst1, lst2, lst3):\n",
    "    print(el)\n",
    "# (1, '醉乡民谣', "
   ]
  },
  {
   "cell_type": "code",
   "execution_count": 19,
   "metadata": {},
   "outputs": [
    {
     "name": "stdout",
     "output_type": "stream",
     "text": [
      "<filter object at 0x00000271FD2CD4A8>\n",
      "[1, 3, 5, 7, 9]\n"
     ]
    }
   ],
   "source": [
    "def func(i):    # 判断奇数\n",
    "    return i % 2 == 1\n",
    "lst = [1,2,3,4,5,6,7,8,9]\n",
    "l1 = filter(func, lst)  #l1是迭代器\n",
    "print(l1)  #<filter object at 0x000001CE3CA98AC8>\n",
    "print(list(l1))"
   ]
  },
  {
   "cell_type": "code",
   "execution_count": 21,
   "metadata": {},
   "outputs": [],
   "source": [
    "def f(i):    \n",
    "    return i\n",
    "lst = [1,2,3,4,5,6,7,]\n",
    "it = map(f, lst) # 把可迭代对象中的每一个元素传递给前面的函数进行处理. 处理的结果会返回成迭代器print(list(it))  #[1, 2, 3, 4, 5, 6, 7]"
   ]
  },
  {
   "cell_type": "code",
   "execution_count": null,
   "metadata": {},
   "outputs": [],
   "source": [
    "def func():\n",
    "    a = 10\n",
    "    print(locals())  # 当前作用域中的内容\n",
    "    print(globals())  # 全局作用域中的内容\n",
    "    print(\"今天内容很多\")\n",
    "func()"
   ]
  },
  {
   "cell_type": "code",
   "execution_count": 23,
   "metadata": {},
   "outputs": [
    {
     "name": "stdin",
     "output_type": "stream",
     "text": [
      "请输入a+b: 8+9\n"
     ]
    }
   ],
   "source": [
    "s1 = input(\"请输入a+b:\")  #输入:8+9"
   ]
  },
  {
   "cell_type": "code",
   "execution_count": 25,
   "metadata": {},
   "outputs": [
    {
     "name": "stdout",
     "output_type": "stream",
     "text": [
      "17\n"
     ]
    }
   ],
   "source": [
    "print(eval(s1))"
   ]
  },
  {
   "cell_type": "code",
   "execution_count": 26,
   "metadata": {},
   "outputs": [
    {
     "name": "stdout",
     "output_type": "stream",
     "text": [
      "0\n",
      "1\n",
      "2\n",
      "3\n",
      "4\n"
     ]
    }
   ],
   "source": [
    "s2 = \"for i in range(5): print(i)\"\n",
    "a = exec(s2)"
   ]
  },
  {
   "cell_type": "code",
   "execution_count": 28,
   "metadata": {},
   "outputs": [
    {
     "name": "stdout",
     "output_type": "stream",
     "text": [
      "None\n"
     ]
    }
   ],
   "source": [
    "print(a)"
   ]
  },
  {
   "cell_type": "code",
   "execution_count": 29,
   "metadata": {},
   "outputs": [
    {
     "name": "stdout",
     "output_type": "stream",
     "text": [
      " 我是周杰伦\n"
     ]
    }
   ],
   "source": [
    "# 动态执行代码\n",
    "exec(\"\"\"\n",
    "def func():\n",
    "    print(\" 我是周杰伦\")\n",
    "\"\"\" )\n",
    "func()  #我是周杰伦"
   ]
  },
  {
   "cell_type": "code",
   "execution_count": 30,
   "metadata": {},
   "outputs": [
    {
     "name": "stdout",
     "output_type": "stream",
     "text": [
      "0\n",
      "1\n",
      "2\n"
     ]
    }
   ],
   "source": [
    "code1 = \"for i in range(3): print(i)\"\n",
    "com = compile(code1, \"\", mode=\"exec\")   # compile并不会执行你的代码.只是编译\n",
    "exec(com)   # 执行编译的结果"
   ]
  },
  {
   "cell_type": "code",
   "execution_count": 31,
   "metadata": {},
   "outputs": [
    {
     "name": "stdout",
     "output_type": "stream",
     "text": [
      "18\n"
     ]
    },
    {
     "name": "stdin",
     "output_type": "stream",
     "text": [
      "请输入你的名字: hello\n"
     ]
    },
    {
     "name": "stdout",
     "output_type": "stream",
     "text": [
      "hello\n"
     ]
    }
   ],
   "source": [
    "code2 = \"5+6+7\"\n",
    "com2 = compile(code2, \"\", mode=\"eval\")\n",
    "print(eval(com2))  # 18\n",
    "\n",
    "code3 = \"name = input('请输入你的名字:')\"  #输入:hello\n",
    "com3 = compile(code3, \"\", mode=\"single\")\n",
    "exec(com3)\n",
    "print(name)  #hello"
   ]
  },
  {
   "cell_type": "code",
   "execution_count": 33,
   "metadata": {},
   "outputs": [
    {
     "name": "stdout",
     "output_type": "stream",
     "text": [
      "-3430680834499512827\n",
      "2688598618552\n"
     ]
    }
   ],
   "source": [
    "s = 'alex'\n",
    "print(hash(s))  #-168324845050430382\n",
    "lst = [1, 2, 3, 4, 5]\n",
    "# print(hash(lst))  #报错,列表是不可哈希的\n",
    "#   id() :  获取到对象的内存地址\n",
    "s = 'alex'\n",
    "print(id(s))  #2278345368944"
   ]
  },
  {
   "cell_type": "code",
   "execution_count": 34,
   "metadata": {},
   "outputs": [
    {
     "name": "stdout",
     "output_type": "stream",
     "text": [
      "False\n"
     ]
    }
   ],
   "source": [
    "a = 10\n",
    "print(callable(a))  #False  变量a不能被调用\n",
    "#\n",
    "def f():\n",
    "    print(\"hello\")\n",
    "    print(callable(f))   # True 函数是可以被调用的"
   ]
  },
  {
   "cell_type": "code",
   "execution_count": 35,
   "metadata": {},
   "outputs": [
    {
     "name": "stdout",
     "output_type": "stream",
     "text": [
      "['__add__', '__class__', '__contains__', '__delattr__', '__dir__', '__doc__', '__eq__', '__format__', '__ge__', '__getattribute__', '__getitem__', '__getnewargs__', '__gt__', '__hash__', '__init__', '__init_subclass__', '__iter__', '__le__', '__len__', '__lt__', '__mul__', '__ne__', '__new__', '__reduce__', '__reduce_ex__', '__repr__', '__rmul__', '__setattr__', '__sizeof__', '__str__', '__subclasshook__', 'count', 'index']\n"
     ]
    }
   ],
   "source": [
    "print(dir(tuple))"
   ]
  },
  {
   "cell_type": "code",
   "execution_count": null,
   "metadata": {},
   "outputs": [],
   "source": []
  }
 ],
 "metadata": {
  "kernelspec": {
   "display_name": "Python [conda env:root]",
   "language": "python",
   "name": "conda-root-py"
  },
  "language_info": {
   "codemirror_mode": {
    "name": "ipython",
    "version": 3
   },
   "file_extension": ".py",
   "mimetype": "text/x-python",
   "name": "python",
   "nbconvert_exporter": "python",
   "pygments_lexer": "ipython3",
   "version": "3.6.5"
  }
 },
 "nbformat": 4,
 "nbformat_minor": 4
}
