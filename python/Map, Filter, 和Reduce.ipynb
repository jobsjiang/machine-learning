{
 "cells": [
  {
   "cell_type": "code",
   "execution_count": 1,
   "metadata": {},
   "outputs": [],
   "source": [
    "numbers = [1, 2, 3, 4, 5, 6]\n",
    "odd_numbers = []\n",
    "squared_odd_numbers = []\n",
    "total = 0\n",
    "# filter for odd numbers\n",
    "for number in numbers:\n",
    "    if number % 2 == 1:\n",
    "        odd_numbers.append(number)\n",
    "# square all odd numbers\n",
    "for number in odd_numbers:\n",
    "    squared_odd_numbers.append(number * number)\n",
    "# calculate total\n",
    "for number in squared_odd_numbers:\n",
    "    total += number\n",
    "# calculate average"
   ]
  },
  {
   "cell_type": "code",
   "execution_count": 2,
   "metadata": {},
   "outputs": [
    {
     "data": {
      "text/plain": [
       "35"
      ]
     },
     "execution_count": 2,
     "metadata": {},
     "output_type": "execute_result"
    }
   ],
   "source": [
    "total"
   ]
  },
  {
   "cell_type": "code",
   "execution_count": 3,
   "metadata": {},
   "outputs": [],
   "source": [
    "# 每一步转换为一个函数\n",
    "from functools import reduce\n",
    "numbers = [1,2,3,4,5,6]\n",
    "odd_numbers = filter(lambda n: n % 2 == 1, numbers)\n",
    "squared_odd_numbers = map(lambda n: n * n, odd_numbers)\n",
    "total = reduce(lambda acc, n: acc + n, squared_odd_numbers)"
   ]
  },
  {
   "cell_type": "code",
   "execution_count": 4,
   "metadata": {},
   "outputs": [
    {
     "data": {
      "text/plain": [
       "35"
      ]
     },
     "execution_count": 4,
     "metadata": {},
     "output_type": "execute_result"
    }
   ],
   "source": [
    "total"
   ]
  },
  {
   "cell_type": "code",
   "execution_count": null,
   "metadata": {},
   "outputs": [],
   "source": []
  }
 ],
 "metadata": {
  "kernelspec": {
   "display_name": "Python [conda env:root] *",
   "language": "python",
   "name": "conda-root-py"
  },
  "language_info": {
   "codemirror_mode": {
    "name": "ipython",
    "version": 3
   },
   "file_extension": ".py",
   "mimetype": "text/x-python",
   "name": "python",
   "nbconvert_exporter": "python",
   "pygments_lexer": "ipython3",
   "version": "3.6.5"
  }
 },
 "nbformat": 4,
 "nbformat_minor": 2
}
