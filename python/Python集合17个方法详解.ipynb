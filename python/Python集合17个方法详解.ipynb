{
 "cells": [
  {
   "cell_type": "markdown",
   "metadata": {},
   "source": [
    "https://mp.weixin.qq.com/s?__biz=MzIwODI2NDkxNQ==&mid=2247488339&idx=3&sn=6477d9b6183e90424e8662bbbd31850a&chksm=970498efa07311f9d20335fce2288f0ad804a5bf9deb5664f2fd0d4b514b4f530eaa46305d6d&scene=126&sessionid=1588824048&key=86794a6e80bbe802696920b7f502301e49f5d1fc6aab909ce3eb8732746579c3a46746498d066d725665936100040c935b78e6a34b494db3f9867df964aba6e89115738571db3abd3f746e370feb9fe0&ascene=1&uin=MjA1MjAyODkxNg%3D%3D&devicetype=Windows+10+x64&version=62090070&lang=zh_CN&exportkey=ATemewvAF9w1b8x4HknaeVk%3D&pass_ticket=if99NA2FuvB9LyrYcG%2BpskZ8hRDz0%2FcRaTwewl%2FgFrqZfnwVIbAXXhj512Q%2BQGn3"
   ]
  },
  {
   "cell_type": "code",
   "execution_count": null,
   "metadata": {},
   "outputs": [],
   "source": []
  }
 ],
 "metadata": {
  "kernelspec": {
   "display_name": "Python [conda env:root]",
   "language": "python",
   "name": "conda-root-py"
  },
  "language_info": {
   "codemirror_mode": {
    "name": "ipython",
    "version": 3
   },
   "file_extension": ".py",
   "mimetype": "text/x-python",
   "name": "python",
   "nbconvert_exporter": "python",
   "pygments_lexer": "ipython3",
   "version": "3.6.5"
  }
 },
 "nbformat": 4,
 "nbformat_minor": 4
}
