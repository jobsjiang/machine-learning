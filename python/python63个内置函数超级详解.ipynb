{
 "cells": [
  {
   "cell_type": "markdown",
   "metadata": {},
   "source": [
    "https://mp.weixin.qq.com/s?__biz=MzIwODI2NDkxNQ==&mid=2247488334&idx=2&sn=e30f3b1ec3b6eb4a00b7c6a2d79a98fb&chksm=970498f2a07311e4a81ef9846a67a7a744f515f2e7d03468679902e44f617acebd87552d9406&scene=126&sessionid=1588735927&key=4bc1bbadb5ce2652f06d973ab89bb1146e842fbd1d6f4602c0d75500eb245a2274ba48f4ae72ef6b11b90a169bed7779514b3fd3bd4c5e3961032dff6cd4c79aa9f51e245a519e2b17ce50e1a134dc9f&ascene=1&uin=MjA1MjAyODkxNg%3D%3D&devicetype=Windows+10+x64&version=62090070&lang=zh_CN&exportkey=AaoJlUuwSZUtbC3xEniBv3I%3D&pass_ticket=if99NA2FuvB9LyrYcG%2BpskZ8hRDz0%2FcRaTwewl%2FgFrqZfnwVIbAXXhj512Q%2BQGn3"
   ]
  },
  {
   "cell_type": "code",
   "execution_count": null,
   "metadata": {},
   "outputs": [],
   "source": []
  }
 ],
 "metadata": {
  "kernelspec": {
   "display_name": "Python [conda env:root]",
   "language": "python",
   "name": "conda-root-py"
  },
  "language_info": {
   "codemirror_mode": {
    "name": "ipython",
    "version": 3
   },
   "file_extension": ".py",
   "mimetype": "text/x-python",
   "name": "python",
   "nbconvert_exporter": "python",
   "pygments_lexer": "ipython3",
   "version": "3.6.5"
  }
 },
 "nbformat": 4,
 "nbformat_minor": 4
}
