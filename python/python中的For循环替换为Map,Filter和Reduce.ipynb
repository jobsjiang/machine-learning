{
 "cells": [
  {
   "cell_type": "code",
   "execution_count": 1,
   "metadata": {},
   "outputs": [],
   "source": [
    "numbers = [1,2,3,4,5,6]\n",
    "odd_numbers = []\n",
    "squared_odd_numbers = []\n",
    "total = 0"
   ]
  },
  {
   "cell_type": "code",
   "execution_count": 2,
   "metadata": {},
   "outputs": [],
   "source": [
    "# filter for odd numbers\n",
    "for number in numbers:\n",
    "    if number % 2 == 1:\n",
    "        odd_numbers.append(number)\n",
    "# square all odd numbers\n",
    "for number in odd_numbers:\n",
    "    squared_odd_numbers.append(number * number)\n",
    "# calculater total\n",
    "for number in squared_odd_numbers:\n",
    "    total += number"
   ]
  },
  {
   "cell_type": "code",
   "execution_count": 3,
   "metadata": {},
   "outputs": [],
   "source": [
    "# 让我们将上面的代码都转换为一个函数\n",
    "from functools import reduce\n",
    "numbers = [1,2,3,4,5,6]\n",
    "odd_numbers = filter(lambda n: n % 2 == 1,numbers)\n",
    "squared_odd_numbers = map(lambda n:n*n,odd_numbers)\n",
    "total = reduce(lambda acc,n:acc + n,squared_odd_numbers)"
   ]
  },
  {
   "cell_type": "code",
   "execution_count": null,
   "metadata": {},
   "outputs": [],
   "source": []
  }
 ],
 "metadata": {
  "kernelspec": {
   "display_name": "Python [conda env:root] *",
   "language": "python",
   "name": "conda-root-py"
  },
  "language_info": {
   "codemirror_mode": {
    "name": "ipython",
    "version": 3
   },
   "file_extension": ".py",
   "mimetype": "text/x-python",
   "name": "python",
   "nbconvert_exporter": "python",
   "pygments_lexer": "ipython3",
   "version": "3.6.5"
  },
  "toc": {
   "base_numbering": 1,
   "nav_menu": {},
   "number_sections": true,
   "sideBar": true,
   "skip_h1_title": false,
   "title_cell": "Table of Contents",
   "title_sidebar": "Contents",
   "toc_cell": false,
   "toc_position": {},
   "toc_section_display": true,
   "toc_window_display": false
  }
 },
 "nbformat": 4,
 "nbformat_minor": 2
}
