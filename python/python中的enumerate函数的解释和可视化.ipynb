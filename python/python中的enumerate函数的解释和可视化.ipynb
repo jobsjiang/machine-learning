{
 "cells": [
  {
   "cell_type": "code",
   "execution_count": 1,
   "metadata": {},
   "outputs": [
    {
     "name": "stdout",
     "output_type": "stream",
     "text": [
      "The index is '0' and the character value is 'S'\n",
      "The index is '1' and the character value is 'p'\n",
      "The index is '2' and the character value is 'e'\n",
      "The index is '3' and the character value is 'e'\n",
      "The index is '4' and the character value is 'd'\n"
     ]
    }
   ],
   "source": [
    "# 枚举字符串\n",
    "word = 'Speed'\n",
    "for index,char in enumerate(word):\n",
    "    print(f\"The index is '{index}' and the character value is '{char}'\")"
   ]
  },
  {
   "cell_type": "code",
   "execution_count": 2,
   "metadata": {},
   "outputs": [
    {
     "name": "stdout",
     "output_type": "stream",
     "text": [
      "The item's index is 0 and its value is 'soccer'\n",
      "The item's index is 1 and its value is 'basketball'\n",
      "The item's index is 2 and its value is 't`  ennis'\n"
     ]
    }
   ],
   "source": [
    "# 列举列表\n",
    "sports = ['soccer', 'basketball', 't`  ennis']\n",
    "for index, value in enumerate(sports):\n",
    "    print(f\"The item's index is {index} and its value is '{value}'\")"
   ]
  },
  {
   "cell_type": "code",
   "execution_count": 3,
   "metadata": {},
   "outputs": [
    {
     "name": "stdout",
     "output_type": "stream",
     "text": [
      "The index is 1 and the list element is 'John'\n",
      "The index is 2 and the list element is 'Jane'\n",
      "The index is 3 and the list element is 'J-Bot 137'\n"
     ]
    }
   ],
   "source": [
    "# 自定义起始索引\n",
    "students = ['John', 'Jane', 'J-Bot 137']\n",
    "for index, item in enumerate(students, start=1):\n",
    "    print(f\"The index is {index} and the list element is '{item}'\")"
   ]
  },
  {
   "cell_type": "code",
   "execution_count": 4,
   "metadata": {},
   "outputs": [
    {
     "name": "stdout",
     "output_type": "stream",
     "text": [
      "The item's index is 0 and its value is 'red'\n",
      "The item's index is 1 and its value is 'green'\n",
      "The item's index is 2 and its value is 'blue'\n"
     ]
    }
   ],
   "source": [
    "# 枚举元组\n",
    "colors = ('red', 'green', 'blue')\n",
    "for index, value in enumerate(colors):\n",
    "    print(f\"The item's index is {index} and its value is '{value}'\")"
   ]
  },
  {
   "cell_type": "code",
   "execution_count": 5,
   "metadata": {},
   "outputs": [
    {
     "name": "stdout",
     "output_type": "stream",
     "text": [
      "Index '0' refers to the letters 'a' and 'A'\n",
      "Index '1' refers to the letters 'b' and 'B'\n",
      "Index '2' refers to the letters 'c' and 'C'\n"
     ]
    }
   ],
   "source": [
    "# 枚举列表中的元组\n",
    "letters = [('a', 'A'), ('b', 'B'), ('c', 'C')]\n",
    "for i, (lowercase, uppercase) in enumerate(letters):\n",
    "    print(f\"Index '{i}' refers to the letters '{lowercase}' and '{uppercase}'\")"
   ]
  },
  {
   "cell_type": "code",
   "execution_count": 6,
   "metadata": {},
   "outputs": [
    {
     "name": "stdout",
     "output_type": "stream",
     "text": [
      "cat 3\n",
      "dog 6\n",
      "bird 9\n"
     ]
    }
   ],
   "source": [
    "# 枚举字典\n",
    "animals = {'cat': 3, 'dog': 6, 'bird': 9}\n",
    "for key, value in animals.items():\n",
    "    print(key, value)"
   ]
  },
  {
   "cell_type": "code",
   "execution_count": null,
   "metadata": {},
   "outputs": [],
   "source": []
  }
 ],
 "metadata": {
  "kernelspec": {
   "display_name": "Python [conda env:root] *",
   "language": "python",
   "name": "conda-root-py"
  },
  "language_info": {
   "codemirror_mode": {
    "name": "ipython",
    "version": 3
   },
   "file_extension": ".py",
   "mimetype": "text/x-python",
   "name": "python",
   "nbconvert_exporter": "python",
   "pygments_lexer": "ipython3",
   "version": "3.6.5"
  },
  "toc": {
   "base_numbering": 1,
   "nav_menu": {},
   "number_sections": true,
   "sideBar": true,
   "skip_h1_title": false,
   "title_cell": "Table of Contents",
   "title_sidebar": "Contents",
   "toc_cell": false,
   "toc_position": {},
   "toc_section_display": true,
   "toc_window_display": false
  }
 },
 "nbformat": 4,
 "nbformat_minor": 2
}
