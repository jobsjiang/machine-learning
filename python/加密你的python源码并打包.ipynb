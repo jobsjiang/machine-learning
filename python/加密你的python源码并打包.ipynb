{
 "cells": [
  {
   "cell_type": "markdown",
   "metadata": {},
   "source": [
    "https://mp.weixin.qq.com/s?__biz=MzIwODI2NDkxNQ==&mid=2247490354&idx=4&sn=485f65df70383a0a42b3aa2d7b740481&chksm=9704908ea0731998881fd19939bab126917c7505ea9b05f8d08c33fd384b3cbfc89bb054268c&scene=126&sessionid=1598410816&key=e5059de1c2a6cb5482d0c6c665cd20d9a83509597e3288432ac11493f21f6605a8e650413e6cba7f04df95a2d1f1c2b1c0513b05ae620885a6f977e42d00596163e6e5afa27951b625839f4f67787d7bdfcc1394452a6c245baf126da3888f20cdad70c00ba56063e70c989ab28383b5d04dd7863b52c47a266e7a31fda71713&ascene=1&uin=MjA1MjAyODkxNg%3D%3D&devicetype=Windows+10+x64&version=62090529&lang=zh_CN&exportkey=AVdQ70r%2Bo4L9sIg%2FTjrF334%3D&pass_ticket=s7OkzsO20unBYU6cSTvLzI6Nq%2BpqPT1FwrQacpWsiY19v9zLJhNHwcsXT9HfdXkQ"
   ]
  },
  {
   "cell_type": "code",
   "execution_count": null,
   "metadata": {},
   "outputs": [],
   "source": []
  }
 ],
 "metadata": {
  "kernelspec": {
   "display_name": "Python [conda env:root]",
   "language": "python",
   "name": "conda-root-py"
  },
  "language_info": {
   "codemirror_mode": {
    "name": "ipython",
    "version": 3
   },
   "file_extension": ".py",
   "mimetype": "text/x-python",
   "name": "python",
   "nbconvert_exporter": "python",
   "pygments_lexer": "ipython3",
   "version": "3.6.5"
  },
  "toc": {
   "base_numbering": 1,
   "nav_menu": {},
   "number_sections": true,
   "sideBar": true,
   "skip_h1_title": false,
   "title_cell": "Table of Contents",
   "title_sidebar": "Contents",
   "toc_cell": false,
   "toc_position": {},
   "toc_section_display": true,
   "toc_window_display": false
  }
 },
 "nbformat": 4,
 "nbformat_minor": 2
}
