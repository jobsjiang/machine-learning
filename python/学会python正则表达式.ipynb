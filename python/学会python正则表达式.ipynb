{
 "cells": [
  {
   "cell_type": "markdown",
   "metadata": {},
   "source": [
    "https://mp.weixin.qq.com/s?__biz=MzIwODI2NDkxNQ==&mid=2247487305&idx=2&sn=d54348b02c90c805c9d41138d65576dc&chksm=970484f5a0730de313642fdb88072bb88a2e41ff18716c379c18fc7a16b110d8953d6da36e63&scene=0&xtrack=1&key=2621e3a1ddcf4b44eb8507e3e255325da557e2a0218dceb54e19747b9bf181792fa0f96a53562762d3a80db9f1152b5291e1d05341cf5b4343364fd334de7b912dee46115adc31d3f2cbe5b3d5456f39&ascene=1&uin=MjA1MjAyODkxNg%3D%3D&devicetype=Windows+10&version=62070158&lang=zh_CN&exportkey=AeAZHxlC%2FX0uKnsf4m2FDVM%3D&pass_ticket=GXrBJi0nz9UhZr%2FyDAdscthAns1aqkYznChhGEbLQDgnebxFtlp3OfyBfsb%2BYIAf"
   ]
  },
  {
   "cell_type": "code",
   "execution_count": 1,
   "metadata": {},
   "outputs": [],
   "source": [
    "import re"
   ]
  },
  {
   "cell_type": "code",
   "execution_count": 3,
   "metadata": {},
   "outputs": [
    {
     "name": "stdout",
     "output_type": "stream",
     "text": [
      "(7, 13)\n"
     ]
    }
   ],
   "source": [
    "# 查找第一个匹配串\n",
    "s = 'i love python very much'\n",
    "pat = 'python'\n",
    "r = re.search(pat,s)\n",
    "print(r.span())"
   ]
  },
  {
   "cell_type": "code",
   "execution_count": 4,
   "metadata": {},
   "outputs": [
    {
     "name": "stdout",
     "output_type": "stream",
     "text": [
      "<_sre.SRE_Match object; span=(9, 10), match='1'>\n",
      "<_sre.SRE_Match object; span=(14, 15), match='1'>\n"
     ]
    }
   ],
   "source": [
    "# 查找所有1\n",
    "s = '山东省潍坊市青州第1中学高三1班'\n",
    "pat = '1'\n",
    "r = re.finditer(pat,s)\n",
    "for i in r:\n",
    "    print(i)"
   ]
  },
  {
   "cell_type": "code",
   "execution_count": 5,
   "metadata": {},
   "outputs": [
    {
     "name": "stdout",
     "output_type": "stream",
     "text": [
      "['20', '13', '59']\n"
     ]
    }
   ],
   "source": [
    "# \\d匹配数字[0-9]\n",
    "s = '一共20行代码运行时间13.59s'\n",
    "pat = r'\\d+' # +表示匹配数字(\\d表示数字的通用字符)1次或多次\n",
    "r = re.findall(pat,s)\n",
    "print(r)"
   ]
  },
  {
   "cell_type": "code",
   "execution_count": null,
   "metadata": {},
   "outputs": [],
   "source": []
  }
 ],
 "metadata": {
  "kernelspec": {
   "display_name": "Python [conda env:root] *",
   "language": "python",
   "name": "conda-root-py"
  },
  "language_info": {
   "codemirror_mode": {
    "name": "ipython",
    "version": 3
   },
   "file_extension": ".py",
   "mimetype": "text/x-python",
   "name": "python",
   "nbconvert_exporter": "python",
   "pygments_lexer": "ipython3",
   "version": "3.6.5"
  }
 },
 "nbformat": 4,
 "nbformat_minor": 2
}
