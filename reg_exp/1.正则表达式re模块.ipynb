{
 "cells": [
  {
   "cell_type": "markdown",
   "metadata": {},
   "source": [
    "https://mp.weixin.qq.com/s/8M_xiHMNB1a93ZunpxMsLg"
   ]
  },
  {
   "cell_type": "markdown",
   "metadata": {},
   "source": [
    "compile 函数\n",
    "match 函数\n",
    "search 函数\n",
    "findall 函数\n",
    "finditer 函数\n",
    "split 函数\n",
    "sub 函数\n",
    "subn 函数"
   ]
  },
  {
   "cell_type": "code",
   "execution_count": 1,
   "metadata": {},
   "outputs": [],
   "source": [
    "import re"
   ]
  },
  {
   "cell_type": "code",
   "execution_count": 2,
   "metadata": {},
   "outputs": [
    {
     "name": "stdout",
     "output_type": "stream",
     "text": [
      "None\n"
     ]
    }
   ],
   "source": [
    "pattern = re.compile(r'\\d+')\n",
    "m = pattern.match('one12twothree34four')\n",
    "print(m)"
   ]
  },
  {
   "cell_type": "markdown",
   "metadata": {},
   "source": [
    "match 方法用于查找字符串的头部（也可以指定起始位置），它是一次匹配，只要找到了一个匹配的结果就返回，而不是查找所有匹配的结果，当你不指定 pos 和 endpos 时，match 方法默认匹配字符串的头部。"
   ]
  },
  {
   "cell_type": "code",
   "execution_count": 3,
   "metadata": {},
   "outputs": [
    {
     "name": "stdout",
     "output_type": "stream",
     "text": [
      "None\n"
     ]
    }
   ],
   "source": [
    "m = pattern.match('one12twothree34four',2,10) # 从'e'的位置开始匹配，没有匹配\n",
    "print(m)"
   ]
  },
  {
   "cell_type": "code",
   "execution_count": 4,
   "metadata": {},
   "outputs": [
    {
     "name": "stdout",
     "output_type": "stream",
     "text": [
      "<_sre.SRE_Match object; span=(3, 5), match='12'>\n",
      "12\n",
      "3\n",
      "5\n",
      "(3, 5)\n"
     ]
    }
   ],
   "source": [
    "m = pattern.match('one12twothree34four', 3, 10)\n",
    "print(m)\n",
    "# 0 可省略\n",
    "print(m.group(0))\n",
    "print(m.start(0))\n",
    "print(m.end(0))\n",
    "print(m.span(0))"
   ]
  },
  {
   "cell_type": "markdown",
   "metadata": {},
   "source": [
    "search 方法用于查找字符串的任何位置，它也是一次匹配，只要找到了一个匹配的结果就返回，而不是查找所有匹配的结果"
   ]
  },
  {
   "cell_type": "code",
   "execution_count": 5,
   "metadata": {},
   "outputs": [
    {
     "name": "stdout",
     "output_type": "stream",
     "text": [
      "<_sre.SRE_Match object; span=(3, 5), match='12'>\n"
     ]
    }
   ],
   "source": [
    "pattern = re.compile('\\d+')\n",
    "m = pattern.search('one12twothree34four')  # 这里如果使用 match 方法则不匹配\n",
    "print(m)"
   ]
  },
  {
   "cell_type": "code",
   "execution_count": 7,
   "metadata": {},
   "outputs": [
    {
     "name": "stdout",
     "output_type": "stream",
     "text": [
      "<_sre.SRE_Match object; span=(13, 15), match='34'>\n"
     ]
    }
   ],
   "source": [
    " m = pattern.search('one12twothree34four', 10, 30)  # 指定字符串区间\n",
    "print(m)"
   ]
  },
  {
   "cell_type": "markdown",
   "metadata": {},
   "source": [
    "findall以列表形式返回全部能匹配的子串，如果没有匹配，则返回一个空列表。"
   ]
  },
  {
   "cell_type": "code",
   "execution_count": 8,
   "metadata": {},
   "outputs": [
    {
     "name": "stdout",
     "output_type": "stream",
     "text": [
      "['123456', '789']\n",
      "['1', '2']\n"
     ]
    }
   ],
   "source": [
    "pattern = re.compile(r'\\d+')   # 查找数字\n",
    "result1 = pattern.findall('hello 123456 789')\n",
    "result2 = pattern.findall('one1two2three3four4', 0, 10)\n",
    "print(result1)\n",
    "print(result2)"
   ]
  },
  {
   "cell_type": "markdown",
   "metadata": {},
   "source": [
    "finditer 方法的行为跟 findall 的行为类似，也是搜索整个字符串，获得所有匹配的结果。但它返回一个顺序访问每一个匹配结果（Match 对象）的迭代器。"
   ]
  },
  {
   "cell_type": "code",
   "execution_count": 10,
   "metadata": {},
   "outputs": [
    {
     "name": "stdout",
     "output_type": "stream",
     "text": [
      "<class 'callable_iterator'>\n",
      "<class 'callable_iterator'>\n",
      "result1...\n",
      "matching string:123456,position:(6, 12)\n",
      "matching string:789,position:(13, 16)\n",
      "result2...\n",
      "matching string:1,position:(3, 4)\n",
      "matching string:2,position:(7, 8)\n"
     ]
    }
   ],
   "source": [
    "pattern = re.compile(r'\\d+')\n",
    "result_iter1 = pattern.finditer('hello 123456 789')\n",
    "result_iter2 = pattern.finditer('one1two2three3four4', 0, 10)\n",
    "print(type(result_iter1))\n",
    "print(type(result_iter2))\n",
    "print('result1...')\n",
    "for m1 in result_iter1:\n",
    "    print('matching string:{},position:{}'.format(m1.group(),m1.span()))\n",
    "print('result2...')\n",
    "for m2 in result_iter2:\n",
    "    print('matching string:{},position:{}'.format(m2.group(),m2.span()))"
   ]
  },
  {
   "cell_type": "markdown",
   "metadata": {},
   "source": [
    "split 方法按照能够匹配的子串将字符串分割后返回列表"
   ]
  },
  {
   "cell_type": "code",
   "execution_count": 11,
   "metadata": {},
   "outputs": [
    {
     "name": "stdout",
     "output_type": "stream",
     "text": [
      "['a', 'b', 'c', 'd']\n"
     ]
    }
   ],
   "source": [
    "p = re.compile(r'[\\s\\,\\;]+')\n",
    "print(p.split('a,b;; c   d'))"
   ]
  },
  {
   "cell_type": "markdown",
   "metadata": {},
   "source": [
    "sub方法用于替换"
   ]
  },
  {
   "cell_type": "code",
   "execution_count": 15,
   "metadata": {
    "scrolled": true
   },
   "outputs": [
    {
     "name": "stdout",
     "output_type": "stream",
     "text": [
      "hello world, hello world\n",
      "123 hello, 456 hello\n",
      "hi 123, hi 456\n",
      "hi 123, hello 456\n"
     ]
    }
   ],
   "source": [
    "p = re.compile(r'(\\w+) (\\w+)')\n",
    "s = 'hello 123, hello 456'\n",
    "def func(m):\n",
    "    return 'hi' + ' ' + m.group(2)\n",
    "print(p.sub(r'hello world', s))  # 使用 'hello world' 替换 'hello 123' 和 'hello 456'\n",
    "print(p.sub(r'\\2 \\1',s)) # 引用分组\n",
    "print(p.sub(func,s))\n",
    "print(p.sub(func,s,1))"
   ]
  },
  {
   "cell_type": "markdown",
   "metadata": {},
   "source": [
    "subn方法跟sub方法的行为类似，它返回一个元组，元组有两个元素，第一个元素是使用sub方法的结果，第二个元素返回原字符串被替换的次数"
   ]
  },
  {
   "cell_type": "code",
   "execution_count": 16,
   "metadata": {},
   "outputs": [
    {
     "name": "stdout",
     "output_type": "stream",
     "text": [
      "('hello world, hello world', 2)\n",
      "('123 hello, 456 hello', 2)\n",
      "('hi 123, hi 456', 2)\n",
      "('hi 123, hello 456', 1)\n"
     ]
    }
   ],
   "source": [
    "p = re.compile(r'(\\w+) (\\w+)')\n",
    "s = 'hello 123, hello 456'\n",
    "\n",
    "def func(m):\n",
    "    return 'hi' + ' ' + m.group(2)\n",
    "\n",
    "print(p.subn(r'hello world', s))\n",
    "print(p.subn(r'\\2 \\1', s))\n",
    "print(p.subn(func, s))\n",
    "print(p.subn(func, s, 1))"
   ]
  },
  {
   "cell_type": "code",
   "execution_count": 19,
   "metadata": {},
   "outputs": [
    {
     "name": "stdout",
     "output_type": "stream",
     "text": [
      "['你好', '世界']\n"
     ]
    }
   ],
   "source": [
    "# 匹配中文\n",
    "title = u'你好，hello，世界' # 其中 r 表示使用原始字符串，u 表示是 unicode 字符串。\n",
    "pattern = re.compile(r'[\\u4e00-\\u9fa5]+')\n",
    "result = pattern.findall(title)\n",
    "print(result)"
   ]
  },
  {
   "cell_type": "code",
   "execution_count": null,
   "metadata": {},
   "outputs": [],
   "source": []
  }
 ],
 "metadata": {
  "kernelspec": {
   "display_name": "Python [conda env:root] *",
   "language": "python",
   "name": "conda-root-py"
  },
  "language_info": {
   "codemirror_mode": {
    "name": "ipython",
    "version": 3
   },
   "file_extension": ".py",
   "mimetype": "text/x-python",
   "name": "python",
   "nbconvert_exporter": "python",
   "pygments_lexer": "ipython3",
   "version": "3.6.5"
  }
 },
 "nbformat": 4,
 "nbformat_minor": 2
}
