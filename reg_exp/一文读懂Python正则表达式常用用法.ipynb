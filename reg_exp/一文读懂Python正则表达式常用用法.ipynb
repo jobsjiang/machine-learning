{
 "cells": [
  {
   "cell_type": "markdown",
   "metadata": {},
   "source": [
    "https://mp.weixin.qq.com/s?__biz=MzI3ODgwODA2MA==&mid=2247488304&idx=5&sn=2aa38f3472564d8395359aaec8aa442e&chksm=eb5007a3dc278eb5f1069453b4efb338c169409d6bbf0047d1c28d74c6a6b1d1a56e0eecd715&scene=126&sessionid=1583808909&key=31fb57371192e556b1253be962fae22b9afda2d4524f0d08bf7073ed5a51c58b332aa944c6c6c189184e16777574eea222e846ff694dd38939d0ccd5e213d17e6396d2851b5ac31e39c68b87aeaaeff1&ascene=1&uin=MjA1MjAyODkxNg%3D%3D&devicetype=Windows+10&version=62080079&lang=zh_CN&exportkey=AW5ZoSGpt5nNwt%2FbSFBFAE8%3D&pass_ticket=SLBvxW%2Fr8PzQGSCEmeicXgoeUQrszZgRnLiRrr1tRTxnKMF3vUQq370yrc8HLBWn"
   ]
  },
  {
   "cell_type": "code",
   "execution_count": null,
   "metadata": {},
   "outputs": [],
   "source": []
  }
 ],
 "metadata": {
  "kernelspec": {
   "display_name": "Python [conda env:root] *",
   "language": "python",
   "name": "conda-root-py"
  },
  "language_info": {
   "codemirror_mode": {
    "name": "ipython",
    "version": 3
   },
   "file_extension": ".py",
   "mimetype": "text/x-python",
   "name": "python",
   "nbconvert_exporter": "python",
   "pygments_lexer": "ipython3",
   "version": "3.6.5"
  }
 },
 "nbformat": 4,
 "nbformat_minor": 4
}
