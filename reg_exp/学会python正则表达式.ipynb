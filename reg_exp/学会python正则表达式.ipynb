{
 "cells": [
  {
   "cell_type": "markdown",
   "metadata": {},
   "source": [
    "https://mp.weixin.qq.com/s?__biz=MzIwODI2NDkxNQ==&mid=2247487305&idx=2&sn=d54348b02c90c805c9d41138d65576dc&chksm=970484f5a0730de313642fdb88072bb88a2e41ff18716c379c18fc7a16b110d8953d6da36e63&scene=0&xtrack=1&key=2621e3a1ddcf4b44eb8507e3e255325da557e2a0218dceb54e19747b9bf181792fa0f96a53562762d3a80db9f1152b5291e1d05341cf5b4343364fd334de7b912dee46115adc31d3f2cbe5b3d5456f39&ascene=1&uin=MjA1MjAyODkxNg%3D%3D&devicetype=Windows+10&version=62070158&lang=zh_CN&exportkey=AeAZHxlC%2FX0uKnsf4m2FDVM%3D&pass_ticket=GXrBJi0nz9UhZr%2FyDAdscthAns1aqkYznChhGEbLQDgnebxFtlp3OfyBfsb%2BYIAf"
   ]
  },
  {
   "cell_type": "code",
   "execution_count": 2,
   "metadata": {},
   "outputs": [],
   "source": [
    "import re"
   ]
  },
  {
   "cell_type": "code",
   "execution_count": 3,
   "metadata": {},
   "outputs": [
    {
     "name": "stdout",
     "output_type": "stream",
     "text": [
      "(7, 13)\n"
     ]
    }
   ],
   "source": [
    "# 1.查找第一个匹配串\n",
    "s = 'i love python very much'\n",
    "pat = 'python'\n",
    "r = re.search(pat,s)\n",
    "print(r.span())"
   ]
  },
  {
   "cell_type": "code",
   "execution_count": 4,
   "metadata": {},
   "outputs": [
    {
     "name": "stdout",
     "output_type": "stream",
     "text": [
      "<_sre.SRE_Match object; span=(9, 10), match='1'>\n",
      "<_sre.SRE_Match object; span=(14, 15), match='1'>\n"
     ]
    }
   ],
   "source": [
    "# 2.查找所有1\n",
    "s = '山东省潍坊市青州第1中学高三1班'\n",
    "pat = '1'\n",
    "r = re.finditer(pat,s)\n",
    "for i in r:\n",
    "    print(i)"
   ]
  },
  {
   "cell_type": "code",
   "execution_count": 5,
   "metadata": {},
   "outputs": [
    {
     "name": "stdout",
     "output_type": "stream",
     "text": [
      "['20', '13', '59']\n"
     ]
    }
   ],
   "source": [
    "# 3.\\d匹配数字[0-9]\n",
    "s = '一共20行代码运行时间13.59s'\n",
    "pat = r'\\d+' # +表示匹配数字(\\d表示数字的通用字符)1次或多次\n",
    "r = re.findall(pat,s)\n",
    "print(r)"
   ]
  },
  {
   "cell_type": "code",
   "execution_count": 6,
   "metadata": {},
   "outputs": [
    {
     "name": "stdout",
     "output_type": "stream",
     "text": [
      "['20', '13.59']\n"
     ]
    }
   ],
   "source": [
    "# 4.?表示前一个字符匹配0或1次\n",
    "s = '一共20行代码运行时间13.59s'\n",
    "pat = r'\\d+\\.?\\d+' # ?表示匹配小数点(\\.)0次或1次\n",
    "r = re.findall(pat,s)\n",
    "print(r)"
   ]
  },
  {
   "cell_type": "code",
   "execution_count": 7,
   "metadata": {},
   "outputs": [
    {
     "name": "stdout",
     "output_type": "stream",
     "text": [
      "[]\n"
     ]
    }
   ],
   "source": [
    "# 5.^匹配字符串的开头\n",
    "s = 'This module provides regular expression matching operations similar to those found in Perl'\n",
    "pat = r'^[emrt]' # 查找以\n",
    "r = re.findall(pat,s)\n",
    "print(r)\n",
    "# [],因为字符串的开头是字符`T`，不在emrt匹配范围内，所以返回为空"
   ]
  },
  {
   "cell_type": "code",
   "execution_count": 8,
   "metadata": {},
   "outputs": [
    {
     "name": "stdout",
     "output_type": "stream",
     "text": [
      "<_sre.SRE_Match object; span=(0, 1), match='T'>\n"
     ]
    }
   ],
   "source": [
    "# 6.re.l忽略大小写\n",
    "s = 'This module provides regular expression matching operations similar to those found in Perl'\n",
    "pat = r'^[emrt]' # 查找以\n",
    "r = re.compile(pat,re.I).search(s)\n",
    "print(r)\n",
    "# <re.Match object; span=(0, 1), match='T'> 表明字符串的开头在匹配列表中"
   ]
  },
  {
   "cell_type": "code",
   "execution_count": 6,
   "metadata": {},
   "outputs": [
    {
     "name": "stdout",
     "output_type": "stream",
     "text": [
      "[' module', ' provides', ' regular', ' expression', ' matching', ' operations', ' similar', ' to', ' those', ' found', ' in', ' Perl']\n"
     ]
    }
   ],
   "source": [
    "# 使用正则提取单词 这是不准确版本，请参看第9个\n",
    "s = 'This module provides regular expression matching operations similar to those found in Perl'\n",
    "pat = r'\\s[a-zA-Z]+'  \n",
    "r = re.findall(pat,s)\n",
    "print(r)"
   ]
  },
  {
   "cell_type": "code",
   "execution_count": 7,
   "metadata": {},
   "outputs": [
    {
     "name": "stdout",
     "output_type": "stream",
     "text": [
      "['module', 'provides', 'regular', 'expression', 'matching', 'operations', 'similar', 'to', 'those', 'found', 'in', 'Perl']\n"
     ]
    }
   ],
   "source": [
    "# 8.只捕获单词，去掉空格 使用（）捕获，这是不准确版本，请参看第9个\n",
    "s = 'This module provides regular expression matching operations similar to those found in Perl'\n",
    "pat = r'\\s([a-zA-Z]+)'  \n",
    "r = re.findall(pat,s)\n",
    "print(r)"
   ]
  },
  {
   "cell_type": "code",
   "execution_count": 8,
   "metadata": {},
   "outputs": [
    {
     "name": "stdout",
     "output_type": "stream",
     "text": [
      "['This', 'module', 'provides', 'regular', 'expression', 'matching', 'operations', 'similar', 'to', 'those', 'found', 'in', 'Perl']\n"
     ]
    }
   ],
   "source": [
    "# 9.补充上第一个单词，上面第8，看到提取单词中未包括第一个单词，使用?表示前面字符出现0次或1次，但是此字符还有表示贪心或非贪心匹配含义，使用时要谨慎。\n",
    "s = 'This module provides regular expression matching operations similar to those found in Perl'\n",
    "pat = r'\\s?([a-zA-Z]+)'  \n",
    "r = re.findall(pat,s)\n",
    "print(r)"
   ]
  },
  {
   "cell_type": "code",
   "execution_count": 4,
   "metadata": {},
   "outputs": [
    {
     "name": "stdout",
     "output_type": "stream",
     "text": [
      "['This', 'module', 'provides', 'regular', 'expression', 'matching', 'operations', 'similar', 'to', 'those', 'found', 'in', 'Perl']\n"
     ]
    }
   ],
   "source": [
    "# 10.使用split函数直接分割单词\n",
    "s = 'This module provides regular expression matching operations similar to those found in Perl'\n",
    "pat = r'\\s+'  \n",
    "r = re.split(pat,s)\n",
    "print(r)"
   ]
  },
  {
   "cell_type": "code",
   "execution_count": 5,
   "metadata": {},
   "outputs": [
    {
     "name": "stdout",
     "output_type": "stream",
     "text": [
      "['module', 'matching', 'tions', 'milar', 'to', 'those']\n"
     ]
    }
   ],
   "source": [
    "# 11.提取以m或t开头的单词，忽略大小写 下面出现的结果不是我们想要的，原因出在 ?上！\n",
    "s = 'This module provides regular expression matching operations similar to those found in Perl'\n",
    "pat = r'\\s?([mt][a-zA-Z]*)' # 查找以\n",
    "r = re.findall(pat,s)\n",
    "print(r) "
   ]
  },
  {
   "cell_type": "code",
   "execution_count": 9,
   "metadata": {},
   "outputs": [
    {
     "name": "stdout",
     "output_type": "stream",
     "text": [
      "['This']\n"
     ]
    }
   ],
   "source": [
    "# 12.使用^查找字符串开头的单词 综合11和12得到所有以m或t开头的单词\n",
    "s = 'This module provides regular expression matching operations similar to those found in Perl'\n",
    "pat = r'^([mt][a-zA-Z]*)\\s' # 查找以\n",
    "r = re.compile(pat,re.I).findall(s)\n",
    "print(r)"
   ]
  },
  {
   "cell_type": "code",
   "execution_count": 10,
   "metadata": {},
   "outputs": [
    {
     "name": "stdout",
     "output_type": "stream",
     "text": [
      "['This', 'module', 'matching', 'to', 'those']\n"
     ]
    }
   ],
   "source": [
    "# 13.先分割，再查找满足要求的单词 使用match表示是否匹配\n",
    "s = 'This module provides regular expression matching operations similar to those found in Perl'\n",
    "pat = r'\\s+'  \n",
    "r = re.split(pat,s)\n",
    "res = [i for i in r if re.match(r'[mMtT]',i)] \n",
    "print(res)"
   ]
  },
  {
   "cell_type": "code",
   "execution_count": 11,
   "metadata": {},
   "outputs": [
    {
     "name": "stdout",
     "output_type": "stream",
     "text": [
      "['graph</div>bb<div>math']\n"
     ]
    }
   ],
   "source": [
    "# 14.贪心匹配 尽可能多的匹配字符\n",
    "content='<h>ddedadsad</h><div>graph</div>bb<div>math</div>cc'\n",
    "pat=re.compile(r\"<div>(.*)</div>\")  #贪婪模式\n",
    "m=pat.findall(content)\n",
    "print(m)"
   ]
  },
  {
   "cell_type": "code",
   "execution_count": 16,
   "metadata": {},
   "outputs": [
    {
     "name": "stdout",
     "output_type": "stream",
     "text": [
      "['graph', 'math']\n"
     ]
    }
   ],
   "source": [
    "# 15.非贪心匹配 与14相比，仅仅多了一个问号(?)，得到结果完全不同。\n",
    "content='<h>ddedadsad</h><div>graph</div>bb<div>math</div>cc'\n",
    "pat=re.compile(r\"<div>(.*?)</div>\")  #贪婪模式\n",
    "m=pat.findall(content)\n",
    "print(m) \n",
    "# 与14比较可知，贪心匹配和非贪心匹配的区别，后者是字符串匹配后立即返回，见好就收。"
   ]
  },
  {
   "cell_type": "code",
   "execution_count": 17,
   "metadata": {},
   "outputs": [
    {
     "name": "stdout",
     "output_type": "stream",
     "text": [
      "['graph', 'math', 'english', 'chemistry']\n"
     ]
    }
   ],
   "source": [
    "# 16.含有多种分割符\n",
    "content = 'graph math,,english;chemistry' # 这种\n",
    "pat=re.compile(r\"[\\s\\,\\;]+\")  #贪婪模式\n",
    "m=pat.split(content)\n",
    "print(m)"
   ]
  },
  {
   "cell_type": "code",
   "execution_count": 18,
   "metadata": {},
   "outputs": [
    {
     "name": "stdout",
     "output_type": "stream",
     "text": [
      "hello 666, hello 666\n"
     ]
    }
   ],
   "source": [
    "# 17.替换匹配的子串 sub函数实现对匹配子串的替换\n",
    "content=\"hello 12345, hello 456321\"    \n",
    "pat=re.compile(r'\\d+') #要替换的部分\n",
    "m=pat.sub(\"666\",content)\n",
    "print(m)"
   ]
  },
  {
   "cell_type": "code",
   "execution_count": 20,
   "metadata": {},
   "outputs": [
    {
     "name": "stdout",
     "output_type": "stream",
     "text": [
      "<_sre.SRE_Match object; span=(1389, 1413), match='<title>百度一下，你就知道</title>'>\n"
     ]
    },
    {
     "data": {
      "text/plain": [
       "'<title>百度一下，你就知道</title>'"
      ]
     },
     "execution_count": 20,
     "metadata": {},
     "output_type": "execute_result"
    }
   ],
   "source": [
    "# 18.爬取百度首页标题\n",
    "from urllib import request\n",
    "\n",
    "#爬虫爬取百度首页内容\n",
    "data=request.urlopen(\"http://www.baidu.com/\").read().decode()\n",
    "\n",
    "#分析网页,确定正则表达式\n",
    "pat=r'<title>(.*?)</title>'\n",
    "\n",
    "result=re.search(pat,data)\n",
    "print(result) # <re.Match object; span=(1358, 1382), match='<title>百度一下，你就知道</title>'>\n",
    "\n",
    "result.group() # 百度一下，你就知道"
   ]
  },
  {
   "cell_type": "code",
   "execution_count": null,
   "metadata": {},
   "outputs": [],
   "source": [
    "# 19.常用元字符总结\n",
    ". 匹配任意字符  \n",
    "^ 匹配字符串始位置 \n",
    "$ 匹配字符串中结束的位置 \n",
    "* 前面的原子重复0次1次多次 \n",
    "? 前面的原子重复一次或者0次 \n",
    "+ 前面的原子重复一次或多次\n",
    "{n} 前面的原子出现了 n 次\n",
    "{n,} 前面的原子至少出现 n 次\n",
    "{n,m} 前面的原子出现次数介于 n-m 之间\n",
    "( ) 分组,需要输出的部分"
   ]
  },
  {
   "cell_type": "code",
   "execution_count": null,
   "metadata": {},
   "outputs": [],
   "source": [
    "# 常用通用字符总结\n",
    "\\s  匹配空白字符 \n",
    "\\w  匹配任意字母/数字/下划线 \n",
    "\\W  和小写 w 相反，匹配任意字母/数字/下划线以外的字符\n",
    "\\d  匹配十进制数字\n",
    "\\D  匹配除了十进制数以外的值 \n",
    "[0-9]  匹配一个0-9之间的数字\n",
    "[a-z]  匹配小写英文字母\n",
    "[A-Z]  匹配大写英文字母"
   ]
  }
 ],
 "metadata": {
  "kernelspec": {
   "display_name": "Python [conda env:root] *",
   "language": "python",
   "name": "conda-root-py"
  },
  "language_info": {
   "codemirror_mode": {
    "name": "ipython",
    "version": 3
   },
   "file_extension": ".py",
   "mimetype": "text/x-python",
   "name": "python",
   "nbconvert_exporter": "python",
   "pygments_lexer": "ipython3",
   "version": "3.6.5"
  }
 },
 "nbformat": 4,
 "nbformat_minor": 2
}
