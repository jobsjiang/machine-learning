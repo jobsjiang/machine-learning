{
 "cells": [
  {
   "cell_type": "markdown",
   "metadata": {},
   "source": [
    "https://mp.weixin.qq.com/s?__biz=MzIwOTc2MTUyMg==&mid=2247498208&idx=4&sn=89652b7f63ab3fa36edda2f5eacf9062&chksm=976c5c7da01bd56b70d25db5b95421c6195c80c40e47499d968571f5c10699cbc16471bdffaa&scene=126&sessionid=1587096844&key=86794a6e80bbe8022f2e9ce917e84c11d675e20308ce6dd855bacfe1dc0e034284d23b631b95763c04348c3ddd0ab615c6f5aca52d39c6ad0e0f53648c8715a29b3f33485e83d9955f3a321e251bffe9&ascene=1&uin=MjA1MjAyODkxNg%3D%3D&devicetype=Windows+10&version=62090045&lang=zh_CN&exportkey=AWzfcsIvvtxaTT8ksx99V0I%3D&pass_ticket=UEn4vJBYx480uYDH2wpgn4h20eJvIQoX3iIJL9diKYUYojoncHv0w%2FMi50Bv1f2v"
   ]
  },
  {
   "cell_type": "code",
   "execution_count": null,
   "metadata": {},
   "outputs": [],
   "source": [
    "import seaborn as sns"
   ]
  },
  {
   "cell_type": "code",
   "execution_count": null,
   "metadata": {},
   "outputs": [],
   "source": [
    "sns.get_dataset_names()"
   ]
  },
  {
   "cell_type": "code",
   "execution_count": null,
   "metadata": {},
   "outputs": [],
   "source": [
    "data = sns.load_dataset('iris')\n",
    "data.head()"
   ]
  },
  {
   "cell_type": "code",
   "execution_count": null,
   "metadata": {},
   "outputs": [],
   "source": []
  }
 ],
 "metadata": {
  "kernelspec": {
   "display_name": "Python [conda env:root] *",
   "language": "python",
   "name": "conda-root-py"
  },
  "language_info": {
   "codemirror_mode": {
    "name": "ipython",
    "version": 3
   },
   "file_extension": ".py",
   "mimetype": "text/x-python",
   "name": "python",
   "nbconvert_exporter": "python",
   "pygments_lexer": "ipython3",
   "version": "3.6.5"
  }
 },
 "nbformat": 4,
 "nbformat_minor": 4
}
