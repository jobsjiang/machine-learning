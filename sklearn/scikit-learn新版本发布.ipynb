{
 "cells": [
  {
   "cell_type": "markdown",
   "metadata": {},
   "source": [
    "https://mp.weixin.qq.com/s?__biz=MzIzNjc1NzUzMw==&mid=2247534319&idx=5&sn=6dbbb66cf6bb0dd8a8904d3419471380&chksm=e8d0f19ddfa7788b808c326914ceb45db3f822f2f949e8489e4039f4eaa17008710bcc9b70cc&scene=0&xtrack=1&key=8516e5840c1da08e15e562b4b39275a9f1d7021a19f961c8d54b65747107d8d620f7b1754e935299f1f595af3e74f13136c0c8fef0ccb0b8821a306f895e22d2d221b1364ea9f95c84943bd4aa47c1d6&ascene=1&uin=MjA1MjAyODkxNg%3D%3D&devicetype=Windows+10&version=62070158&lang=zh_CN&exportkey=AdSeeoNMWDJRiurFdWu3Vrs%3D&pass_ticket=%2FbQZynO%2BMSGdC82SFYn8yPGJNXhtnuuMrj2vzvRWoctgRfX%2FfkE2CK7PjM4Lrnec"
   ]
  },
  {
   "cell_type": "code",
   "execution_count": null,
   "metadata": {},
   "outputs": [],
   "source": []
  }
 ],
 "metadata": {
  "kernelspec": {
   "display_name": "Python [conda env:root] *",
   "language": "python",
   "name": "conda-root-py"
  },
  "language_info": {
   "codemirror_mode": {
    "name": "ipython",
    "version": 3
   },
   "file_extension": ".py",
   "mimetype": "text/x-python",
   "name": "python",
   "nbconvert_exporter": "python",
   "pygments_lexer": "ipython3",
   "version": "3.6.5"
  },
  "toc": {
   "base_numbering": 1,
   "nav_menu": {},
   "number_sections": true,
   "sideBar": true,
   "skip_h1_title": false,
   "title_cell": "Table of Contents",
   "title_sidebar": "Contents",
   "toc_cell": false,
   "toc_position": {},
   "toc_section_display": true,
   "toc_window_display": false
  }
 },
 "nbformat": 4,
 "nbformat_minor": 2
}
