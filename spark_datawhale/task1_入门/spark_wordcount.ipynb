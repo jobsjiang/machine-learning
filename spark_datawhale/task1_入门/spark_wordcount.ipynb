{
 "cells": [
  {
   "cell_type": "code",
   "execution_count": 1,
   "metadata": {},
   "outputs": [],
   "source": [
    "from pyspark import SparkContext"
   ]
  },
  {
   "cell_type": "code",
   "execution_count": 2,
   "metadata": {},
   "outputs": [],
   "source": [
    "sc = SparkContext('local','test')"
   ]
  },
  {
   "cell_type": "code",
   "execution_count": 3,
   "metadata": {},
   "outputs": [],
   "source": [
    "textFile = sc.textFile('../../../dataset/word.txt')"
   ]
  },
  {
   "cell_type": "code",
   "execution_count": 14,
   "metadata": {},
   "outputs": [],
   "source": [
    "wordCount = textFile.flatMap(lambda line: line.split(\" \")).map(lambda word: (word,1)).reduceByKey(lambda a, b : a + b)"
   ]
  },
  {
   "cell_type": "code",
   "execution_count": 18,
   "metadata": {},
   "outputs": [
    {
     "data": {
      "text/plain": [
       "[('When', 1),\n",
       " ('you', 1),\n",
       " ('are', 1),\n",
       " ('old', 1),\n",
       " ('and', 4),\n",
       " ('grey', 1),\n",
       " ('full', 1),\n",
       " ('of', 4),\n",
       " ('sleep', 1),\n",
       " ('And', 3),\n",
       " ('nodding', 1),\n",
       " ('by', 1),\n",
       " ('the', 2),\n",
       " ('fire,', 1),\n",
       " ('take', 1),\n",
       " ('down', 1),\n",
       " ('this', 1),\n",
       " ('book', 1),\n",
       " ('slowly', 1),\n",
       " ('read,', 1),\n",
       " ('dream', 1),\n",
       " ('soft', 1),\n",
       " ('look', 1),\n",
       " ('Your', 1),\n",
       " ('eyes', 1),\n",
       " ('had', 1),\n",
       " ('once,', 1),\n",
       " ('their', 1),\n",
       " ('shadows', 1),\n",
       " ('deep', 1),\n",
       " ('How', 1),\n",
       " ('many', 1),\n",
       " ('loved', 2),\n",
       " ('your', 2),\n",
       " ('moments', 1),\n",
       " ('glad', 1),\n",
       " ('grace', 1),\n",
       " ('beauty', 1),\n",
       " ('with', 1),\n",
       " ('love', 1),\n",
       " ('false', 1),\n",
       " ('or', 1),\n",
       " ('true', 1)]"
      ]
     },
     "execution_count": 18,
     "metadata": {},
     "output_type": "execute_result"
    }
   ],
   "source": [
    "wordCount.collect()"
   ]
  },
  {
   "cell_type": "code",
   "execution_count": null,
   "metadata": {},
   "outputs": [],
   "source": []
  }
 ],
 "metadata": {
  "kernelspec": {
   "display_name": "Python [conda env:root] *",
   "language": "python",
   "name": "conda-root-py"
  },
  "language_info": {
   "codemirror_mode": {
    "name": "ipython",
    "version": 3
   },
   "file_extension": ".py",
   "mimetype": "text/x-python",
   "name": "python",
   "nbconvert_exporter": "python",
   "pygments_lexer": "ipython3",
   "version": "3.6.5"
  }
 },
 "nbformat": 4,
 "nbformat_minor": 2
}
