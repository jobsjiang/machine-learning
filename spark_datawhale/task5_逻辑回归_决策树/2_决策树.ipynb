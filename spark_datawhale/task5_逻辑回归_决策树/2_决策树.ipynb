{
 "cells": [
  {
   "cell_type": "code",
   "execution_count": 1,
   "metadata": {},
   "outputs": [],
   "source": [
    "from pyspark.ml.linalg import Vector,Vectors\n",
    "from pyspark.sql import Row\n",
    "from pyspark.ml import Pipeline\n",
    "from pyspark.ml.feature import IndexToString,StringIndexer,VectorIndexer"
   ]
  },
  {
   "cell_type": "code",
   "execution_count": 2,
   "metadata": {},
   "outputs": [],
   "source": [
    "from pyspark.sql import SparkSession"
   ]
  },
  {
   "cell_type": "code",
   "execution_count": 3,
   "metadata": {},
   "outputs": [],
   "source": [
    "spark = SparkSession.builder.getOrCreate()"
   ]
  },
  {
   "cell_type": "code",
   "execution_count": 4,
   "metadata": {},
   "outputs": [],
   "source": [
    "def f(x):\n",
    "    rel = {}\n",
    "    rel['features'] = Vectors.dense(\n",
    "        float(x[0]), float(x[1]), float(x[2]), float(x[3]))\n",
    "    rel['label'] = str(x[4])\n",
    "    return rel"
   ]
  },
  {
   "cell_type": "code",
   "execution_count": 5,
   "metadata": {},
   "outputs": [
    {
     "name": "stderr",
     "output_type": "stream",
     "text": [
      "C:\\Users\\jianghaitao1\\AppData\\Local\\Continuum\\anaconda3\\lib\\importlib\\_bootstrap.py:219: RuntimeWarning: numpy.ufunc size changed, may indicate binary incompatibility. Expected 216, got 192\n",
      "  return f(*args, **kwds)\n",
      "C:\\Users\\jianghaitao1\\AppData\\Local\\Continuum\\anaconda3\\lib\\importlib\\_bootstrap.py:219: RuntimeWarning: numpy.ufunc size changed, may indicate binary incompatibility. Expected 216, got 192\n",
      "  return f(*args, **kwds)\n"
     ]
    }
   ],
   "source": [
    "data = spark.sparkContext.textFile(\"../../../dataset/iris.txt\").map(\n",
    "    lambda line: line.split(',')).map(lambda p: Row(**f(p))).toDF()"
   ]
  },
  {
   "cell_type": "code",
   "execution_count": 6,
   "metadata": {},
   "outputs": [],
   "source": [
    "data.createOrReplaceTempView(\"iris\")\n",
    "df = spark.sql(\"select * from iris\")\n",
    "rel = df.rdd.map(lambda t : str(t[1])+\":\"+str(t[0])).collect()"
   ]
  },
  {
   "cell_type": "code",
   "execution_count": 7,
   "metadata": {},
   "outputs": [
    {
     "name": "stdout",
     "output_type": "stream",
     "text": [
      "Iris-setosa:[5.1,3.5,1.4,0.2]\n",
      "Iris-setosa:[4.9,3.0,1.4,0.2]\n",
      "Iris-setosa:[4.7,3.2,1.3,0.2]\n",
      "Iris-setosa:[4.6,3.1,1.5,0.2]\n",
      "Iris-setosa:[5.0,3.6,1.4,0.2]\n",
      "Iris-setosa:[5.4,3.9,1.7,0.4]\n",
      "Iris-setosa:[4.6,3.4,1.4,0.3]\n",
      "Iris-setosa:[5.0,3.4,1.5,0.2]\n",
      "Iris-setosa:[4.4,2.9,1.4,0.2]\n",
      "Iris-setosa:[4.9,3.1,1.5,0.1]\n",
      "Iris-setosa:[5.4,3.7,1.5,0.2]\n",
      "Iris-setosa:[4.8,3.4,1.6,0.2]\n",
      "Iris-setosa:[4.8,3.0,1.4,0.1]\n",
      "Iris-setosa:[4.3,3.0,1.1,0.1]\n",
      "Iris-setosa:[5.8,4.0,1.2,0.2]\n",
      "Iris-setosa:[5.7,4.4,1.5,0.4]\n",
      "Iris-setosa:[5.4,3.9,1.3,0.4]\n",
      "Iris-setosa:[5.1,3.5,1.4,0.3]\n",
      "Iris-setosa:[5.7,3.8,1.7,0.3]\n",
      "Iris-setosa:[5.1,3.8,1.5,0.3]\n",
      "Iris-setosa:[5.4,3.4,1.7,0.2]\n",
      "Iris-setosa:[5.1,3.7,1.5,0.4]\n",
      "Iris-setosa:[4.6,3.6,1.0,0.2]\n",
      "Iris-setosa:[5.1,3.3,1.7,0.5]\n",
      "Iris-setosa:[4.8,3.4,1.9,0.2]\n",
      "Iris-setosa:[5.0,3.0,1.6,0.2]\n",
      "Iris-setosa:[5.0,3.4,1.6,0.4]\n",
      "Iris-setosa:[5.2,3.5,1.5,0.2]\n",
      "Iris-setosa:[5.2,3.4,1.4,0.2]\n",
      "Iris-setosa:[4.7,3.2,1.6,0.2]\n",
      "Iris-setosa:[4.8,3.1,1.6,0.2]\n",
      "Iris-setosa:[5.4,3.4,1.5,0.4]\n",
      "Iris-setosa:[5.2,4.1,1.5,0.1]\n",
      "Iris-setosa:[5.5,4.2,1.4,0.2]\n",
      "Iris-setosa:[4.9,3.1,1.5,0.1]\n",
      "Iris-setosa:[5.0,3.2,1.2,0.2]\n",
      "Iris-setosa:[5.5,3.5,1.3,0.2]\n",
      "Iris-setosa:[4.9,3.1,1.5,0.1]\n",
      "Iris-setosa:[4.4,3.0,1.3,0.2]\n",
      "Iris-setosa:[5.1,3.4,1.5,0.2]\n",
      "Iris-setosa:[5.0,3.5,1.3,0.3]\n",
      "Iris-setosa:[4.5,2.3,1.3,0.3]\n",
      "Iris-setosa:[4.4,3.2,1.3,0.2]\n",
      "Iris-setosa:[5.0,3.5,1.6,0.6]\n",
      "Iris-setosa:[5.1,3.8,1.9,0.4]\n",
      "Iris-setosa:[4.8,3.0,1.4,0.3]\n",
      "Iris-setosa:[5.1,3.8,1.6,0.2]\n",
      "Iris-setosa:[4.6,3.2,1.4,0.2]\n",
      "Iris-setosa:[5.3,3.7,1.5,0.2]\n",
      "Iris-setosa:[5.0,3.3,1.4,0.2]\n",
      "Iris-versicolor:[7.0,3.2,4.7,1.4]\n",
      "Iris-versicolor:[6.4,3.2,4.5,1.5]\n",
      "Iris-versicolor:[6.9,3.1,4.9,1.5]\n",
      "Iris-versicolor:[5.5,2.3,4.0,1.3]\n",
      "Iris-versicolor:[6.5,2.8,4.6,1.5]\n",
      "Iris-versicolor:[5.7,2.8,4.5,1.3]\n",
      "Iris-versicolor:[6.3,3.3,4.7,1.6]\n",
      "Iris-versicolor:[4.9,2.4,3.3,1.0]\n",
      "Iris-versicolor:[6.6,2.9,4.6,1.3]\n",
      "Iris-versicolor:[5.2,2.7,3.9,1.4]\n",
      "Iris-versicolor:[5.0,2.0,3.5,1.0]\n",
      "Iris-versicolor:[5.9,3.0,4.2,1.5]\n",
      "Iris-versicolor:[6.0,2.2,4.0,1.0]\n",
      "Iris-versicolor:[6.1,2.9,4.7,1.4]\n",
      "Iris-versicolor:[5.6,2.9,3.6,1.3]\n",
      "Iris-versicolor:[6.7,3.1,4.4,1.4]\n",
      "Iris-versicolor:[5.6,3.0,4.5,1.5]\n",
      "Iris-versicolor:[5.8,2.7,4.1,1.0]\n",
      "Iris-versicolor:[6.2,2.2,4.5,1.5]\n",
      "Iris-versicolor:[5.6,2.5,3.9,1.1]\n",
      "Iris-versicolor:[5.9,3.2,4.8,1.8]\n",
      "Iris-versicolor:[6.1,2.8,4.0,1.3]\n",
      "Iris-versicolor:[6.3,2.5,4.9,1.5]\n",
      "Iris-versicolor:[6.1,2.8,4.7,1.2]\n",
      "Iris-versicolor:[6.4,2.9,4.3,1.3]\n",
      "Iris-versicolor:[6.6,3.0,4.4,1.4]\n",
      "Iris-versicolor:[6.8,2.8,4.8,1.4]\n",
      "Iris-versicolor:[6.7,3.0,5.0,1.7]\n",
      "Iris-versicolor:[6.0,2.9,4.5,1.5]\n",
      "Iris-versicolor:[5.7,2.6,3.5,1.0]\n",
      "Iris-versicolor:[5.5,2.4,3.8,1.1]\n",
      "Iris-versicolor:[5.5,2.4,3.7,1.0]\n",
      "Iris-versicolor:[5.8,2.7,3.9,1.2]\n",
      "Iris-versicolor:[6.0,2.7,5.1,1.6]\n",
      "Iris-versicolor:[5.4,3.0,4.5,1.5]\n",
      "Iris-versicolor:[6.0,3.4,4.5,1.6]\n",
      "Iris-versicolor:[6.7,3.1,4.7,1.5]\n",
      "Iris-versicolor:[6.3,2.3,4.4,1.3]\n",
      "Iris-versicolor:[5.6,3.0,4.1,1.3]\n",
      "Iris-versicolor:[5.5,2.5,4.0,1.3]\n",
      "Iris-versicolor:[5.5,2.6,4.4,1.2]\n",
      "Iris-versicolor:[6.1,3.0,4.6,1.4]\n",
      "Iris-versicolor:[5.8,2.6,4.0,1.2]\n",
      "Iris-versicolor:[5.0,2.3,3.3,1.0]\n",
      "Iris-versicolor:[5.6,2.7,4.2,1.3]\n",
      "Iris-versicolor:[5.7,3.0,4.2,1.2]\n",
      "Iris-versicolor:[5.7,2.9,4.2,1.3]\n",
      "Iris-versicolor:[6.2,2.9,4.3,1.3]\n",
      "Iris-versicolor:[5.1,2.5,3.0,1.1]\n",
      "Iris-versicolor:[5.7,2.8,4.1,1.3]\n",
      "Iris-virginica:[6.3,3.3,6.0,2.5]\n",
      "Iris-virginica:[5.8,2.7,5.1,1.9]\n",
      "Iris-virginica:[7.1,3.0,5.9,2.1]\n",
      "Iris-virginica:[6.3,2.9,5.6,1.8]\n",
      "Iris-virginica:[6.5,3.0,5.8,2.2]\n",
      "Iris-virginica:[7.6,3.0,6.6,2.1]\n",
      "Iris-virginica:[4.9,2.5,4.5,1.7]\n",
      "Iris-virginica:[7.3,2.9,6.3,1.8]\n",
      "Iris-virginica:[6.7,2.5,5.8,1.8]\n",
      "Iris-virginica:[7.2,3.6,6.1,2.5]\n",
      "Iris-virginica:[6.5,3.2,5.1,2.0]\n",
      "Iris-virginica:[6.4,2.7,5.3,1.9]\n",
      "Iris-virginica:[6.8,3.0,5.5,2.1]\n",
      "Iris-virginica:[5.7,2.5,5.0,2.0]\n",
      "Iris-virginica:[5.8,2.8,5.1,2.4]\n",
      "Iris-virginica:[6.4,3.2,5.3,2.3]\n",
      "Iris-virginica:[6.5,3.0,5.5,1.8]\n",
      "Iris-virginica:[7.7,3.8,6.7,2.2]\n",
      "Iris-virginica:[7.7,2.6,6.9,2.3]\n",
      "Iris-virginica:[6.0,2.2,5.0,1.5]\n",
      "Iris-virginica:[6.9,3.2,5.7,2.3]\n",
      "Iris-virginica:[5.6,2.8,4.9,2.0]\n",
      "Iris-virginica:[7.7,2.8,6.7,2.0]\n",
      "Iris-virginica:[6.3,2.7,4.9,1.8]\n",
      "Iris-virginica:[6.7,3.3,5.7,2.1]\n",
      "Iris-virginica:[7.2,3.2,6.0,1.8]\n",
      "Iris-virginica:[6.2,2.8,4.8,1.8]\n",
      "Iris-virginica:[6.1,3.0,4.9,1.8]\n",
      "Iris-virginica:[6.4,2.8,5.6,2.1]\n",
      "Iris-virginica:[7.2,3.0,5.8,1.6]\n",
      "Iris-virginica:[7.4,2.8,6.1,1.9]\n",
      "Iris-virginica:[7.9,3.8,6.4,2.0]\n",
      "Iris-virginica:[6.4,2.8,5.6,2.2]\n",
      "Iris-virginica:[6.3,2.8,5.1,1.5]\n",
      "Iris-virginica:[6.1,2.6,5.6,1.4]\n",
      "Iris-virginica:[7.7,3.0,6.1,2.3]\n",
      "Iris-virginica:[6.3,3.4,5.6,2.4]\n",
      "Iris-virginica:[6.4,3.1,5.5,1.8]\n",
      "Iris-virginica:[6.0,3.0,4.8,1.8]\n",
      "Iris-virginica:[6.9,3.1,5.4,2.1]\n",
      "Iris-virginica:[6.7,3.1,5.6,2.4]\n",
      "Iris-virginica:[6.9,3.1,5.1,2.3]\n",
      "Iris-virginica:[5.8,2.7,5.1,1.9]\n",
      "Iris-virginica:[6.8,3.2,5.9,2.3]\n",
      "Iris-virginica:[6.7,3.3,5.7,2.5]\n",
      "Iris-virginica:[6.7,3.0,5.2,2.3]\n",
      "Iris-virginica:[6.3,2.5,5.0,1.9]\n",
      "Iris-virginica:[6.5,3.0,5.2,2.0]\n",
      "Iris-virginica:[6.2,3.4,5.4,2.3]\n",
      "Iris-virginica:[5.9,3.0,5.1,1.8]\n"
     ]
    }
   ],
   "source": [
    "for item in rel:\n",
    "    print(item)"
   ]
  },
  {
   "cell_type": "code",
   "execution_count": 8,
   "metadata": {},
   "outputs": [],
   "source": [
    "# 进一步处理特征和标签，以及数据分组\n",
    "# 分别获取标签列和特征列，进行索引，并进行了重命名。\n",
    "labelIndexer = StringIndexer().setInputCol(\"label\").setOutputCol(\"indexedLabel\").fit(df)\n",
    "\n",
    "featureIndexer = VectorIndexer().setInputCol(\"features\").setOutputCol(\"indexedFeatures\").setMaxCategories(4).fit(df)\n",
    " \n",
    "# 这里我们设置一个labelConverter，目的是把预测的类别重新转化成字符型的。\n",
    "labelConverter = IndexToString().setInputCol(\"prediction\").setOutputCol(\"predictedLabel\").setLabels(labelIndexer.labels)\n",
    "# 接下来，我们把数据集随机分成训练集和测试集，其中训练集占70%。\n",
    "trainingData, testData = data.randomSplit([0.7, 0.3])"
   ]
  },
  {
   "cell_type": "code",
   "execution_count": 9,
   "metadata": {},
   "outputs": [
    {
     "name": "stdout",
     "output_type": "stream",
     "text": [
      "+---------------+---------------+-----------------+\n",
      "| predictedLabel|          label|         features|\n",
      "+---------------+---------------+-----------------+\n",
      "|    Iris-setosa|    Iris-setosa|[4.3,3.0,1.1,0.1]|\n",
      "|    Iris-setosa|    Iris-setosa|[4.4,3.2,1.3,0.2]|\n",
      "|    Iris-setosa|    Iris-setosa|[5.0,3.2,1.2,0.2]|\n",
      "|    Iris-setosa|    Iris-setosa|[5.2,4.1,1.5,0.1]|\n",
      "|    Iris-setosa|    Iris-setosa|[5.3,3.7,1.5,0.2]|\n",
      "|    Iris-setosa|    Iris-setosa|[5.4,3.4,1.5,0.4]|\n",
      "|    Iris-setosa|    Iris-setosa|[5.4,3.4,1.7,0.2]|\n",
      "|Iris-versicolor|Iris-versicolor|[5.8,2.7,4.1,1.0]|\n",
      "|    Iris-setosa|    Iris-setosa|[5.8,4.0,1.2,0.2]|\n",
      "|Iris-versicolor|Iris-versicolor|[5.9,3.0,4.2,1.5]|\n",
      "| Iris-virginica|Iris-versicolor|[5.9,3.2,4.8,1.8]|\n",
      "|Iris-versicolor|Iris-versicolor|[6.1,2.8,4.7,1.2]|\n",
      "|Iris-versicolor|Iris-versicolor|[6.1,2.9,4.7,1.4]|\n",
      "| Iris-virginica|Iris-versicolor|[6.3,2.5,4.9,1.5]|\n",
      "|Iris-versicolor|Iris-versicolor|[6.4,3.2,4.5,1.5]|\n",
      "|Iris-versicolor|Iris-versicolor|[6.6,2.9,4.6,1.3]|\n",
      "| Iris-virginica|Iris-versicolor|[6.7,3.0,5.0,1.7]|\n",
      "|Iris-versicolor|Iris-versicolor|[5.0,2.3,3.3,1.0]|\n",
      "|Iris-versicolor|Iris-versicolor|[5.5,2.6,4.4,1.2]|\n",
      "| Iris-virginica| Iris-virginica|[5.6,2.8,4.9,2.0]|\n",
      "+---------------+---------------+-----------------+\n",
      "only showing top 20 rows\n",
      "\n"
     ]
    }
   ],
   "source": [
    "# 构建决策树分类模型\n",
    "# 导入所需要的包\n",
    "from pyspark.ml.classification import DecisionTreeClassificationModel,DecisionTreeClassifier\n",
    "from pyspark.ml.evaluation import MulticlassClassificationEvaluator\n",
    "# 训练决策树模型,这里我们可以通过setter的方法来设置决策树的参数，也可以用ParamMap来设置（具体的可以查看spark mllib的官网）。具体的可以设置的参数可以通过explainParams()来获取。\n",
    "dtClassifier = DecisionTreeClassifier().setLabelCol(\"indexedLabel\").setFeaturesCol(\"indexedFeatures\")\n",
    "# 在pipeline中进行设置\n",
    "pipelinedClassifier = Pipeline().setStages([labelIndexer, featureIndexer, dtClassifier, labelConverter])\n",
    "# 训练决策树模型\n",
    "modelClassifier = pipelinedClassifier.fit(trainingData)\n",
    "# 进行预测\n",
    "predictionsClassifier = modelClassifier.transform(testData)\n",
    "# 查看部分预测的结果\n",
    "predictionsClassifier.select(\"predictedLabel\", \"label\", \"features\").show(20)"
   ]
  },
  {
   "cell_type": "code",
   "execution_count": 12,
   "metadata": {},
   "outputs": [
    {
     "name": "stdout",
     "output_type": "stream",
     "text": [
      "Test Error = 0.07894736842105265\n",
      "Learned classification tree model:\n",
      "DecisionTreeClassificationModel (uid=DecisionTreeClassifier_d8a31a27586f) of depth 5 with 11 nodes\n",
      "  If (feature 2 <= 2.45)\n",
      "   Predict: 2.0\n",
      "  Else (feature 2 > 2.45)\n",
      "   If (feature 3 <= 1.65)\n",
      "    If (feature 2 <= 4.85)\n",
      "     Predict: 0.0\n",
      "    Else (feature 2 > 4.85)\n",
      "     If (feature 1 <= 3.05)\n",
      "      If (feature 0 <= 6.05)\n",
      "       Predict: 0.0\n",
      "      Else (feature 0 > 6.05)\n",
      "       Predict: 1.0\n",
      "     Else (feature 1 > 3.05)\n",
      "      Predict: 0.0\n",
      "   Else (feature 3 > 1.65)\n",
      "    Predict: 1.0\n",
      "\n"
     ]
    }
   ],
   "source": [
    "# 评估决策树分类模型\n",
    "evaluatorClassifier = MulticlassClassificationEvaluator().setLabelCol(\"indexedLabel\").setPredictionCol(\"prediction\").setMetricName(\"accuracy\")\n",
    " \n",
    "accuracy = evaluatorClassifier.evaluate(predictionsClassifier)\n",
    " \n",
    "print(\"Test Error = \" + str(1.0 - accuracy))\n",
    " \n",
    "treeModelClassifier = modelClassifier.stages[2]\n",
    " \n",
    "print(\"Learned classification tree model:\\n\" + str(treeModelClassifier.toDebugString))"
   ]
  },
  {
   "cell_type": "markdown",
   "metadata": {},
   "source": [
    "#### 构建决策树回归模型"
   ]
  },
  {
   "cell_type": "code",
   "execution_count": 13,
   "metadata": {},
   "outputs": [
    {
     "name": "stdout",
     "output_type": "stream",
     "text": [
      "+---------------+---------------+-----------------+\n",
      "| predictedLabel|          label|         features|\n",
      "+---------------+---------------+-----------------+\n",
      "|    Iris-setosa|    Iris-setosa|[4.3,3.0,1.1,0.1]|\n",
      "|    Iris-setosa|    Iris-setosa|[4.4,3.2,1.3,0.2]|\n",
      "|    Iris-setosa|    Iris-setosa|[5.0,3.2,1.2,0.2]|\n",
      "|    Iris-setosa|    Iris-setosa|[5.2,4.1,1.5,0.1]|\n",
      "|    Iris-setosa|    Iris-setosa|[5.3,3.7,1.5,0.2]|\n",
      "|    Iris-setosa|    Iris-setosa|[5.4,3.4,1.5,0.4]|\n",
      "|    Iris-setosa|    Iris-setosa|[5.4,3.4,1.7,0.2]|\n",
      "|Iris-versicolor|Iris-versicolor|[5.8,2.7,4.1,1.0]|\n",
      "|    Iris-setosa|    Iris-setosa|[5.8,4.0,1.2,0.2]|\n",
      "|Iris-versicolor|Iris-versicolor|[5.9,3.0,4.2,1.5]|\n",
      "| Iris-virginica|Iris-versicolor|[5.9,3.2,4.8,1.8]|\n",
      "|Iris-versicolor|Iris-versicolor|[6.1,2.8,4.7,1.2]|\n",
      "|Iris-versicolor|Iris-versicolor|[6.1,2.9,4.7,1.4]|\n",
      "| Iris-virginica|Iris-versicolor|[6.3,2.5,4.9,1.5]|\n",
      "|Iris-versicolor|Iris-versicolor|[6.4,3.2,4.5,1.5]|\n",
      "|Iris-versicolor|Iris-versicolor|[6.6,2.9,4.6,1.3]|\n",
      "| Iris-virginica|Iris-versicolor|[6.7,3.0,5.0,1.7]|\n",
      "|Iris-versicolor|Iris-versicolor|[5.0,2.3,3.3,1.0]|\n",
      "|Iris-versicolor|Iris-versicolor|[5.5,2.6,4.4,1.2]|\n",
      "| Iris-virginica| Iris-virginica|[5.6,2.8,4.9,2.0]|\n",
      "+---------------+---------------+-----------------+\n",
      "only showing top 20 rows\n",
      "\n"
     ]
    }
   ],
   "source": [
    "# 导入所需要的包\n",
    "from pyspark.ml.regression import DecisionTreeRegressionModel,DecisionTreeRegressor\n",
    "from pyspark.ml.evaluation import RegressionEvaluator\n",
    "# 训练决策树模型\n",
    "dtRegressor = DecisionTreeRegressor().setLabelCol(\"indexedLabel\").setFeaturesCol(\"indexedFeatures\")\n",
    "# 在pipeline中进行设置\n",
    "pipelineRegressor = Pipeline().setStages([labelIndexer, featureIndexer, dtRegressor, labelConverter])\n",
    "# 训练决策树模型\n",
    "modelRegressor = pipelineRegressor.fit(trainingData)\n",
    "# 进行预测\n",
    "predictionsRegressor = modelRegressor.transform(testData)\n",
    "# 查看部分预测结果\n",
    "predictionsRegressor.select(\"predictedLabel\", \"label\", \"features\").show(20)"
   ]
  },
  {
   "cell_type": "code",
   "execution_count": 14,
   "metadata": {},
   "outputs": [
    {
     "name": "stdout",
     "output_type": "stream",
     "text": [
      "Root Mean Squared Error (RMSE) on test data = 0.28097574347450816\n",
      "Learned regression tree model:\n",
      "DecisionTreeRegressionModel (uid=DecisionTreeRegressor_f714cd151b86) of depth 5 with 11 nodes\n",
      "  If (feature 2 <= 2.45)\n",
      "   Predict: 2.0\n",
      "  Else (feature 2 > 2.45)\n",
      "   If (feature 3 <= 1.65)\n",
      "    If (feature 2 <= 4.85)\n",
      "     Predict: 0.0\n",
      "    Else (feature 2 > 4.85)\n",
      "     If (feature 1 <= 3.05)\n",
      "      If (feature 0 <= 6.05)\n",
      "       Predict: 0.5\n",
      "      Else (feature 0 > 6.05)\n",
      "       Predict: 1.0\n",
      "     Else (feature 1 > 3.05)\n",
      "      Predict: 0.0\n",
      "   Else (feature 3 > 1.65)\n",
      "    Predict: 1.0\n",
      "\n"
     ]
    }
   ],
   "source": [
    "# 评估决策树回归模型\n",
    "evaluatorRegressor = RegressionEvaluator().setLabelCol(\"indexedLabel\").setPredictionCol(\"prediction\").setMetricName(\"rmse\")\n",
    " \n",
    "rmse = evaluatorRegressor.evaluate(predictionsRegressor)\n",
    " \n",
    "print(\"Root Mean Squared Error (RMSE) on test data = \" +str(rmse))\n",
    " \n",
    "treeModelRegressor = modelRegressor.stages[2]\n",
    " \n",
    "print(\"Learned regression tree model:\\n\" + str(treeModelRegressor.toDebugString))"
   ]
  },
  {
   "cell_type": "code",
   "execution_count": null,
   "metadata": {},
   "outputs": [],
   "source": []
  }
 ],
 "metadata": {
  "kernelspec": {
   "display_name": "Python [conda env:root] *",
   "language": "python",
   "name": "conda-root-py"
  },
  "language_info": {
   "codemirror_mode": {
    "name": "ipython",
    "version": 3
   },
   "file_extension": ".py",
   "mimetype": "text/x-python",
   "name": "python",
   "nbconvert_exporter": "python",
   "pygments_lexer": "ipython3",
   "version": "3.6.5"
  }
 },
 "nbformat": 4,
 "nbformat_minor": 2
}
