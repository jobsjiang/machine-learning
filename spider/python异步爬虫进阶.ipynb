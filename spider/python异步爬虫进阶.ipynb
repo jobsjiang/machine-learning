{
 "cells": [
  {
   "cell_type": "markdown",
   "metadata": {},
   "source": [
    "https://mp.weixin.qq.com/s/UcL9iJCvzHw4agVRjGggng"
   ]
  },
  {
   "cell_type": "code",
   "execution_count": 1,
   "metadata": {},
   "outputs": [],
   "source": [
    "import asyncio"
   ]
  },
  {
   "cell_type": "code",
   "execution_count": null,
   "metadata": {},
   "outputs": [],
   "source": [
    "async def execute(x):\n",
    "    print(\"Number:\",x)\n",
    "coroutine = execute(666)\n",
    "print('Coroutine：', coroutine)\n",
    "print('After calling execute')\n",
    "loop = asyncio.get_event_loop()\n",
    "loop.run_until_complete(coroutine)\n",
    "print('After calling loop')"
   ]
  },
  {
   "cell_type": "code",
   "execution_count": null,
   "metadata": {},
   "outputs": [],
   "source": [
    "import asyncio\n",
    "async def execute(x):\n",
    "    print(\"Number\",x)\n",
    "coroutine = execute(666)\n",
    "print('Coroutine：', coroutine)\n",
    "print('After calling execute')\n",
    "loop = asyncio.get_event_loop()\n",
    "task  = loop.create_task(coroutine)\n",
    "print('Task：', task)\n",
    "loop.run_until_complete(task)\n",
    "print('Task：', task)\n",
    "print('After calling loop')"
   ]
  },
  {
   "cell_type": "code",
   "execution_count": null,
   "metadata": {},
   "outputs": [],
   "source": []
  }
 ],
 "metadata": {
  "kernelspec": {
   "display_name": "Python [conda env:root]",
   "language": "python",
   "name": "conda-root-py"
  },
  "language_info": {
   "codemirror_mode": {
    "name": "ipython",
    "version": 3
   },
   "file_extension": ".py",
   "mimetype": "text/x-python",
   "name": "python",
   "nbconvert_exporter": "python",
   "pygments_lexer": "ipython3",
   "version": "3.6.5"
  }
 },
 "nbformat": 4,
 "nbformat_minor": 4
}
