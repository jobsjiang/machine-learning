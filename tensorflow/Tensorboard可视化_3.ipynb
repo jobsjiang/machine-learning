{
 "cells": [
  {
   "cell_type": "code",
   "execution_count": 1,
   "metadata": {},
   "outputs": [
    {
     "name": "stderr",
     "output_type": "stream",
     "text": [
      "C:\\Users\\jianghaitao1\\AppData\\Local\\Continuum\\anaconda3\\lib\\site-packages\\h5py\\__init__.py:36: FutureWarning: Conversion of the second argument of issubdtype from `float` to `np.floating` is deprecated. In future, it will be treated as `np.float64 == np.dtype(float).type`.\n",
      "  from ._conv import register_converters as _register_converters\n"
     ]
    }
   ],
   "source": [
    "import tensorflow as tf"
   ]
  },
  {
   "cell_type": "code",
   "execution_count": 2,
   "metadata": {},
   "outputs": [],
   "source": [
    "# 简单卷积层，为方便本章教程叙述，固定部分参数\n",
    "\n",
    "\n",
    "def conv_layer(input,\n",
    "               channels_in,    # 输入通道数\n",
    "               channels_out,   # 输出通道数\n",
    "               name='conv'):   # 名称\n",
    "    with tf.name_scope(name):\n",
    "        weights = tf.Variable(tf.truncated_normal([5, 5, channels_in, channels_out],\n",
    "                                                  stddev=0.05), name='W')\n",
    "        biases = tf.Variable(tf.constant(0.05, shape=[channels_out]), name='B')\n",
    "        conv = tf.nn.conv2d(input, filter=weights, strides=[\n",
    "                            1, 1, 1, 1], padding='SAME')\n",
    "        act = tf.nn.relu(conv + biases)\n",
    "\n",
    "        # 收集以下三个信息，统计直方图\n",
    "        tf.summary.histogram('weights', weights)\n",
    "        tf.summary.histogram('biases', biases)\n",
    "        tf.summary.histogram('activations', act)\n",
    "        return act\n",
    "\n",
    "\n",
    "# 简化全连接层\n",
    "def fc_layer(input, num_inputs, num_outputs, use_relu=True, name='fc'):\n",
    "    with tf.name_scope(name):   # 在该名称作用域下的子变量\n",
    "        weights = tf.Variable(tf.truncated_normal([num_inputs, num_outputs],\n",
    "                                                  stddev=0.05), name='W')\n",
    "        biases = tf.Variable(tf.constant(0.05, shape=[num_outputs]), name='B')\n",
    "        act = tf.matmul(input, weights) + biases\n",
    "\n",
    "        if use_relu:\n",
    "            act = tf.nn.relu(act)\n",
    "        return act\n",
    "\n",
    "# max pooling 层\n",
    "\n",
    "\n",
    "def max_pool(input):\n",
    "    return tf.nn.max_pool(input, ksize=[1, 2, 2, 1], strides=[1, 2, 2, 1], padding='SAME')"
   ]
  },
  {
   "cell_type": "code",
   "execution_count": 3,
   "metadata": {},
   "outputs": [
    {
     "name": "stdout",
     "output_type": "stream",
     "text": [
      "WARNING:tensorflow:From <ipython-input-3-8be814a178ac>:2: read_data_sets (from tensorflow.contrib.learn.python.learn.datasets.mnist) is deprecated and will be removed in a future version.\n",
      "Instructions for updating:\n",
      "Please use alternatives such as official/mnist/dataset.py from tensorflow/models.\n",
      "WARNING:tensorflow:From C:\\Users\\jianghaitao1\\AppData\\Local\\Continuum\\anaconda3\\lib\\site-packages\\tensorflow\\contrib\\learn\\python\\learn\\datasets\\mnist.py:260: maybe_download (from tensorflow.contrib.learn.python.learn.datasets.base) is deprecated and will be removed in a future version.\n",
      "Instructions for updating:\n",
      "Please write your own downloading logic.\n",
      "WARNING:tensorflow:From C:\\Users\\jianghaitao1\\AppData\\Local\\Continuum\\anaconda3\\lib\\site-packages\\tensorflow\\contrib\\learn\\python\\learn\\datasets\\mnist.py:262: extract_images (from tensorflow.contrib.learn.python.learn.datasets.mnist) is deprecated and will be removed in a future version.\n",
      "Instructions for updating:\n",
      "Please use tf.data to implement this functionality.\n",
      "Extracting data/MNIST\\train-images-idx3-ubyte.gz\n",
      "WARNING:tensorflow:From C:\\Users\\jianghaitao1\\AppData\\Local\\Continuum\\anaconda3\\lib\\site-packages\\tensorflow\\contrib\\learn\\python\\learn\\datasets\\mnist.py:267: extract_labels (from tensorflow.contrib.learn.python.learn.datasets.mnist) is deprecated and will be removed in a future version.\n",
      "Instructions for updating:\n",
      "Please use tf.data to implement this functionality.\n",
      "Extracting data/MNIST\\train-labels-idx1-ubyte.gz\n",
      "WARNING:tensorflow:From C:\\Users\\jianghaitao1\\AppData\\Local\\Continuum\\anaconda3\\lib\\site-packages\\tensorflow\\contrib\\learn\\python\\learn\\datasets\\mnist.py:110: dense_to_one_hot (from tensorflow.contrib.learn.python.learn.datasets.mnist) is deprecated and will be removed in a future version.\n",
      "Instructions for updating:\n",
      "Please use tf.one_hot on tensors.\n",
      "Extracting data/MNIST\\t10k-images-idx3-ubyte.gz\n",
      "Extracting data/MNIST\\t10k-labels-idx1-ubyte.gz\n",
      "WARNING:tensorflow:From C:\\Users\\jianghaitao1\\AppData\\Local\\Continuum\\anaconda3\\lib\\site-packages\\tensorflow\\contrib\\learn\\python\\learn\\datasets\\mnist.py:290: DataSet.__init__ (from tensorflow.contrib.learn.python.learn.datasets.mnist) is deprecated and will be removed in a future version.\n",
      "Instructions for updating:\n",
      "Please use alternatives such as official/mnist/dataset.py from tensorflow/models.\n",
      "WARNING:tensorflow:From <ipython-input-3-8be814a178ac>:22: softmax_cross_entropy_with_logits (from tensorflow.python.ops.nn_ops) is deprecated and will be removed in a future version.\n",
      "Instructions for updating:\n",
      "\n",
      "Future major versions of TensorFlow will allow gradients to flow\n",
      "into the labels input on backprop by default.\n",
      "\n",
      "See `tf.nn.softmax_cross_entropy_with_logits_v2`.\n",
      "\n"
     ]
    },
    {
     "data": {
      "text/plain": [
       "<tf.Tensor 'input:0' shape=() dtype=string>"
      ]
     },
     "execution_count": 3,
     "metadata": {},
     "output_type": "execute_result"
    }
   ],
   "source": [
    "from tensorflow.examples.tutorials.mnist import input_data\n",
    "data = input_data.read_data_sets('data/MNIST', one_hot=True)\n",
    "x = tf.placeholder(tf.float32, shape=[None, 784], name='x')\n",
    "y = tf.placeholder(tf.float32, shape=[None, 10], name='labels')\n",
    "x_image = tf.reshape(x, [-1, 28, 28, 1])\n",
    "\n",
    "conv1 = conv_layer(x_image, 1, 32, 'conv1')\n",
    "pool1 = max_pool(conv1)\n",
    "\n",
    "conv2 = conv_layer(pool1, 32, 64, 'conv2')\n",
    "pool2 = max_pool(conv2)\n",
    "\n",
    "flat_shape = pool2.get_shape()[1:4].num_elements()\n",
    "flattened = tf.reshape(pool2, [-1, flat_shape])\n",
    "\n",
    "fc1 = fc_layer(flattened, flat_shape, 1024, name='fc1')\n",
    "logits = fc_layer(fc1, 1024, 10, use_relu=False, name='fc2')\n",
    "\n",
    "# 计算交叉熵\n",
    "with tf.name_scope(\"xent\"):\n",
    "    cross_entropy = tf.reduce_mean(\n",
    "        tf.nn.softmax_cross_entropy_with_logits(labels=y, logits=logits))\n",
    "\n",
    "# 使用Adam优化器来训练\n",
    "with tf.name_scope('optimizer'):\n",
    "    optimizer = tf.train.AdamOptimizer(\n",
    "        learning_rate=1e-4).minimize(cross_entropy)\n",
    "\n",
    "# 计算准确率\n",
    "with tf.name_scope('accuracy'):\n",
    "    correct_prediction = tf.equal(\n",
    "        tf.argmax(y, axis=1), tf.argmax(logits, axis=1))\n",
    "    accuracy = tf.reduce_mean(tf.cast(correct_prediction, tf.float32))\n",
    "tf.summary.scalar('cross_entropy', cross_entropy)\n",
    "tf.summary.scalar('accuracy', accuracy)\n",
    "tf.summary.image('input', x_image, 3)"
   ]
  },
  {
   "cell_type": "code",
   "execution_count": 4,
   "metadata": {},
   "outputs": [],
   "source": [
    "session = tf.Session()\n",
    "session.run(tf.global_variables_initializer())"
   ]
  },
  {
   "cell_type": "code",
   "execution_count": 5,
   "metadata": {},
   "outputs": [],
   "source": [
    "import os"
   ]
  },
  {
   "cell_type": "code",
   "execution_count": 6,
   "metadata": {},
   "outputs": [],
   "source": [
    "tensorboard_dir = 'tensorboard/mnist3'   # 保存到新的目录\n",
    "if not os.path.exists(tensorboard_dir):\n",
    "    os.makedirs(tensorboard_dir)\n",
    "\n",
    "# 使用tf.summary.merge_all()，可以收集以上定义的所有信息\n",
    "merged_summary = tf.summary.merge_all()\n",
    "writer = tf.summary.FileWriter(tensorboard_dir)\n",
    "writer.add_graph(session.graph)"
   ]
  },
  {
   "cell_type": "code",
   "execution_count": 7,
   "metadata": {},
   "outputs": [
    {
     "name": "stdout",
     "output_type": "stream",
     "text": [
      "迭代轮次:      0, 训练准确率: 5.0000%\n",
      "迭代轮次:    500, 训练准确率: 94.0000%\n",
      "迭代轮次:   1000, 训练准确率: 97.0000%\n",
      "迭代轮次:   1500, 训练准确率: 98.0000%\n",
      "迭代轮次:   2000, 训练准确率: 100.0000%\n"
     ]
    }
   ],
   "source": [
    "train_batch_size = 100\n",
    "\n",
    "for i in range(2001):\n",
    "    x_batch, y_batch = data.train.next_batch(train_batch_size)\n",
    "\n",
    "    feed_dict = {x: x_batch, y: y_batch}\n",
    "\n",
    "    if i % 5 == 0:   # 运行merger_summary，使用add_summary写入数据\n",
    "        # 这里的feed_dict应该使用验证集，但是当前仅作为演示目的，在此不做修改\n",
    "        s = session.run(merged_summary, feed_dict=feed_dict)\n",
    "        writer.add_summary(s, i)\n",
    "\n",
    "    if i % 500 == 0:\n",
    "        train_accuracy = session.run(accuracy, feed_dict=feed_dict)\n",
    "        print(\"迭代轮次: {0:>6}, 训练准确率: {1:>6.4%}\".format(i, train_accuracy))\n",
    "\n",
    "    session.run(optimizer, feed_dict=feed_dict)"
   ]
  },
  {
   "cell_type": "code",
   "execution_count": null,
   "metadata": {},
   "outputs": [],
   "source": []
  }
 ],
 "metadata": {
  "kernelspec": {
   "display_name": "Python 3",
   "language": "python",
   "name": "python3"
  },
  "language_info": {
   "codemirror_mode": {
    "name": "ipython",
    "version": 3
   },
   "file_extension": ".py",
   "mimetype": "text/x-python",
   "name": "python",
   "nbconvert_exporter": "python",
   "pygments_lexer": "ipython3",
   "version": "3.6.5"
  }
 },
 "nbformat": 4,
 "nbformat_minor": 2
}
