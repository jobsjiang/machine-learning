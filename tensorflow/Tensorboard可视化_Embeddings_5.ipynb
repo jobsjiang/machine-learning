{
 "cells": [
  {
   "cell_type": "code",
   "execution_count": 2,
   "metadata": {},
   "outputs": [],
   "source": [
    "import os"
   ]
  },
  {
   "cell_type": "code",
   "execution_count": 5,
   "metadata": {},
   "outputs": [],
   "source": [
    "LABELS = os.path.join(os.getcwd(), \"data\\\\labels_1024.tsv\")\n",
    "SPRITES = os.path.join(os.getcwd(), \"data\\\\sprite_1024.png\")"
   ]
  },
  {
   "cell_type": "code",
   "execution_count": 6,
   "metadata": {},
   "outputs": [
    {
     "data": {
      "text/plain": [
       "'E:\\\\git_code\\\\machine-learning\\\\deep learning\\\\data\\\\labels_1024.tsv'"
      ]
     },
     "execution_count": 6,
     "metadata": {},
     "output_type": "execute_result"
    }
   ],
   "source": [
    "LABELS"
   ]
  },
  {
   "cell_type": "code",
   "execution_count": 7,
   "metadata": {},
   "outputs": [],
   "source": [
    "def mnist_model(learning_rate, use_two_fc, use_two_conv, hparam):\n",
    "    tf.reset_default_graph()    # 重置计算图\n",
    "    sess = tf.Session()\n",
    "\n",
    "    x = tf.placeholder(tf.float32, shape=[None, 784], name=\"x\")\n",
    "    x_image = tf.reshape(x, [-1, 28, 28, 1])\n",
    "    tf.summary.image('input', x_image, 3)\n",
    "    y = tf.placeholder(tf.float32, shape=[None, 10], name=\"labels\")\n",
    "\n",
    "    if use_two_conv:    # 是否使用两个卷积\n",
    "        conv1 = conv_layer(x_image, 1, 32, \"conv1\")\n",
    "        conv_out = conv_layer(conv1, 32, 64, \"conv2\")\n",
    "    else:\n",
    "        # 如果使用一个卷积，则再添加一个max_pooling保证维度相通\n",
    "        conv1 = conv_layer(x_image, 1, 64, \"conv\")\n",
    "        conv_out = tf.nn.max_pool(conv1, ksize=[1, 2, 2, 1], strides=[\n",
    "                                  1, 2, 2, 1], padding=\"SAME\")\n",
    "\n",
    "    flattened = tf.reshape(conv_out, [-1, 7 * 7 * 64])\n",
    "\n",
    "    if use_two_fc:    # 是否使用两个全连接\n",
    "        fc1 = fc_layer(flattened, 7 * 7 * 64, 1024, \"fc1\")\n",
    "        relu = tf.nn.relu(fc1)\n",
    "        embedding_input = relu\n",
    "        tf.summary.histogram(\"fc1/relu\", relu)\n",
    "        embedding_size = 1024\n",
    "        logits = fc_layer(fc1, 1024, 10, \"fc2\")\n",
    "    else:\n",
    "        embedding_input = flattened   # 新添加的embedding_input和embedding_size\n",
    "        embedding_size = 7*7*64\n",
    "        logits = fc_layer(flattened, 7*7*64, 10, \"fc\")\n",
    "\n",
    "    with tf.name_scope(\"xent\"):\n",
    "        xent = tf.reduce_mean(\n",
    "            tf.nn.softmax_cross_entropy_with_logits(\n",
    "                logits=logits, labels=y), name=\"xent\")\n",
    "        tf.summary.scalar(\"xent\", xent)\n",
    "\n",
    "    with tf.name_scope(\"train\"):\n",
    "        train_step = tf.train.AdamOptimizer(learning_rate).minimize(xent)\n",
    "\n",
    "    with tf.name_scope(\"accuracy\"):\n",
    "        correct_prediction = tf.equal(tf.argmax(logits, 1), tf.argmax(y, 1))\n",
    "        accuracy = tf.reduce_mean(tf.cast(correct_prediction, tf.float32))\n",
    "        tf.summary.scalar(\"accuracy\", accuracy)\n",
    "\n",
    "    summ = tf.summary.merge_all()    # 收集所有的summary\n",
    "\n",
    "    # 添加embedding变量\n",
    "    embedding = tf.Variable(\n",
    "        tf.zeros([1024, embedding_size]), name=\"test_embedding\")\n",
    "    assignment = embedding.assign(embedding_input)\n",
    "    saver = tf.train.Saver()     # 保存训练过程\n",
    "\n",
    "    sess.run(tf.global_variables_initializer())\n",
    "    writer = tf.summary.FileWriter(tensorboard_dir + hparam)\n",
    "    writer.add_graph(sess.graph)\n",
    "\n",
    "    # embedding的配置，详见官方文档\n",
    "    config = tf.contrib.tensorboard.plugins.projector.ProjectorConfig()\n",
    "    embedding_config = config.embeddings.add()\n",
    "    embedding_config.tensor_name = embedding.name\n",
    "    embedding_config.sprite.image_path = SPRITES\n",
    "    embedding_config.metadata_path = LABELS\n",
    "    # Specify the width and height of a single thumbnail.\n",
    "    embedding_config.sprite.single_image_dim.extend([28, 28])\n",
    "    tf.contrib.tensorboard.plugins.projector.visualize_embeddings(\n",
    "        writer, config)\n",
    "\n",
    "    for i in range(2001):\n",
    "        batch = data.train.next_batch(100)\n",
    "        if i % 5 == 0:   # 每5轮写入一次\n",
    "            # 同样，最好使用验证集\n",
    "            [train_accuracy, s] = sess.run([accuracy, summ], feed_dict={\n",
    "                                           x: batch[0], y: batch[1]})\n",
    "            writer.add_summary(s, i)\n",
    "\n",
    "        if i % 100 == 0:    # 每100轮保存依存训练过程\n",
    "            sess.run(assignment, feed_dict={\n",
    "                     x: data.test.images[:1024], y: data.test.labels[:1024]})\n",
    "            train_accuracy = sess.run(\n",
    "                accuracy, feed_dict={x: batch[0], y: batch[1]})\n",
    "            saver.save(sess, os.path.join(tensorboard_dir, \"model.ckpt\"), i)\n",
    "\n",
    "            print(\"迭代轮次: {0:>6}, 训练准确率: {1:>6.4%}\".format(i, train_accuracy))\n",
    "\n",
    "        sess.run(train_step, feed_dict={x: batch[0], y: batch[1]})"
   ]
  },
  {
   "cell_type": "code",
   "execution_count": null,
   "metadata": {},
   "outputs": [],
   "source": []
  }
 ],
 "metadata": {
  "kernelspec": {
   "display_name": "Python 3",
   "language": "python",
   "name": "python3"
  },
  "language_info": {
   "codemirror_mode": {
    "name": "ipython",
    "version": 3
   },
   "file_extension": ".py",
   "mimetype": "text/x-python",
   "name": "python",
   "nbconvert_exporter": "python",
   "pygments_lexer": "ipython3",
   "version": "3.6.5"
  }
 },
 "nbformat": 4,
 "nbformat_minor": 2
}
