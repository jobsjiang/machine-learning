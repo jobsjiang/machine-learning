{
 "cells": [
  {
   "cell_type": "markdown",
   "metadata": {},
   "source": [
    "https://mp.weixin.qq.com/s?__biz=MzIwODI2NDkxNQ==&mid=2247486130&idx=3&sn=877e4c3ae03cd08a1c08c51181b330ba&chksm=9704810ea073081818fe2de3dae5bbc1010a0eec0dec4b04252a71ae2ee81083c9217c9c7a92&scene=0&xtrack=1&key=9ca3a05ed5363188ea3c84492b2f882b1e39da468df9ab590b08e56a65bfb215ed491f6f3db34cb47fee7cd6fd164c8e551c38e6df3152e4d575e4b0288bc32fd128a85abf495e8ebefdd7746910e44c&ascene=1&uin=MjA1MjAyODkxNg%3D%3D&devicetype=Windows+10&version=62070158&lang=zh_CN&pass_ticket=myvE78D4ifEjZ05L9q6EbEMeZvqHKHfj297d5Sa%2Bai5Jga0i%2FN4mLhufn%2FGC2Ttg"
   ]
  },
  {
   "cell_type": "code",
   "execution_count": null,
   "metadata": {},
   "outputs": [],
   "source": []
  }
 ],
 "metadata": {
  "kernelspec": {
   "display_name": "Python [conda env:root]",
   "language": "python",
   "name": "conda-root-py"
  },
  "language_info": {
   "codemirror_mode": {
    "name": "ipython",
    "version": 3
   },
   "file_extension": ".py",
   "mimetype": "text/x-python",
   "name": "python",
   "nbconvert_exporter": "python",
   "pygments_lexer": "ipython3",
   "version": "3.6.5"
  },
  "toc": {
   "base_numbering": 1,
   "nav_menu": {},
   "number_sections": true,
   "sideBar": true,
   "skip_h1_title": false,
   "title_cell": "Table of Contents",
   "title_sidebar": "Contents",
   "toc_cell": false,
   "toc_position": {},
   "toc_section_display": true,
   "toc_window_display": false
  }
 },
 "nbformat": 4,
 "nbformat_minor": 2
}
