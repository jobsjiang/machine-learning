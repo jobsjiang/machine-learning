{
 "cells": [
  {
   "cell_type": "markdown",
   "metadata": {},
   "source": [
    "https://mp.weixin.qq.com/s?__biz=MzIwODI2NDkxNQ==&mid=2247486130&idx=5&sn=cc0665891f36544479b7884d098412b5&chksm=9704810ea07308180c56ea3b55481abcd99d270211ea5bc2e4566fa6be8b71a7541931a01f20&scene=0&xtrack=1&key=93ca2180f7d1d59a8f2e72a77b819f4277dcba7002abde05d3ba8f30670f0d147dd54a219ff7c3c2bee9ae5e11e77350080a8ee22e9f2378f971bfe6b54e6bc64900da468070ec56da360e9dac2910eb&ascene=1&uin=MjA1MjAyODkxNg%3D%3D&devicetype=Windows+10&version=62070158&lang=zh_CN&pass_ticket=Yl%2F8WSfFMkAqWNv%2FI2cOfS5iNANGEW9h8iOypsBoQtCYjs76wCoY9LvmozV6r1Xi"
   ]
  },
  {
   "cell_type": "code",
   "execution_count": null,
   "metadata": {},
   "outputs": [],
   "source": []
  }
 ],
 "metadata": {
  "kernelspec": {
   "display_name": "Python [conda env:root]",
   "language": "python",
   "name": "conda-root-py"
  },
  "language_info": {
   "codemirror_mode": {
    "name": "ipython",
    "version": 3
   },
   "file_extension": ".py",
   "mimetype": "text/x-python",
   "name": "python",
   "nbconvert_exporter": "python",
   "pygments_lexer": "ipython3",
   "version": "3.6.5"
  },
  "toc": {
   "base_numbering": 1,
   "nav_menu": {},
   "number_sections": true,
   "sideBar": true,
   "skip_h1_title": false,
   "title_cell": "Table of Contents",
   "title_sidebar": "Contents",
   "toc_cell": false,
   "toc_position": {},
   "toc_section_display": true,
   "toc_window_display": false
  }
 },
 "nbformat": 4,
 "nbformat_minor": 2
}
