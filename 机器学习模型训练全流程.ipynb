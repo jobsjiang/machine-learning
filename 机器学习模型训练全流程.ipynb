{
 "cells": [
  {
   "cell_type": "markdown",
   "metadata": {},
   "source": [
    "https://mp.weixin.qq.com/s?__biz=MzIyNjM2MzQyNg==&mid=2247525980&idx=1&sn=8130bb4d1a450bf9a199c919bf48a1a4&chksm=e873b711df043e073f402441cac9f4a9b28b51d0d3195a783ee9ea9a34319fd2809070c34526&mpshare=1&scene=1&srcid=0809H1dDC5kAN7F3Ju8VnyZS&sharer_sharetime=1596974514316&sharer_shareid=8724c7983f20914ec3c0c086bba89335&key=14beeba64fb9d287523b83df3ba781f873505f1788f77fabeb9eeeb1e312cb9a33bb0cf9b18b27698609d1080d6e3bd2db6602ab6b65016761652d1864596a353f2abc51303702e1790bb56420531944&ascene=1&uin=MjA1MjAyODkxNg%3D%3D&devicetype=Windows+10+x64&version=62090529&lang=zh_CN&exportkey=AT0HzR%2BT%2FhcVrtHc591jySs%3D&pass_ticket=ltW%2BAyiYjN%2FU0LTaq7veqgpRamGpyU0NfnU%2B3YEtSxKGmVK1ymzUydfsoGyLCrQN"
   ]
  },
  {
   "cell_type": "code",
   "execution_count": null,
   "metadata": {},
   "outputs": [],
   "source": []
  }
 ],
 "metadata": {
  "kernelspec": {
   "display_name": "Python [conda env:root]",
   "language": "python",
   "name": "conda-root-py"
  },
  "language_info": {
   "codemirror_mode": {
    "name": "ipython",
    "version": 3
   },
   "file_extension": ".py",
   "mimetype": "text/x-python",
   "name": "python",
   "nbconvert_exporter": "python",
   "pygments_lexer": "ipython3",
   "version": "3.6.5"
  },
  "toc": {
   "base_numbering": 1,
   "nav_menu": {},
   "number_sections": true,
   "sideBar": true,
   "skip_h1_title": false,
   "title_cell": "Table of Contents",
   "title_sidebar": "Contents",
   "toc_cell": false,
   "toc_position": {},
   "toc_section_display": true,
   "toc_window_display": false
  }
 },
 "nbformat": 4,
 "nbformat_minor": 2
}
